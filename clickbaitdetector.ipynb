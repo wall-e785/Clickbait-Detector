{
  "metadata": {
    "kernelspec": {
      "display_name": "Python 3",
      "name": "python3"
    },
    "language_info": {
      "name": "python",
      "version": "3.7.12",
      "mimetype": "text/x-python",
      "codemirror_mode": {
        "name": "ipython",
        "version": 3
      },
      "pygments_lexer": "ipython3",
      "nbconvert_exporter": "python",
      "file_extension": ".py"
    },
    "colab": {
      "provenance": [],
      "gpuType": "T4",
      "include_colab_link": true
    },
    "accelerator": "GPU",
    "widgets": {
      "application/vnd.jupyter.widget-state+json": {
        "061261a700eb4804b8834131ba70e4c2": {
          "model_module": "@jupyter-widgets/controls",
          "model_name": "HBoxModel",
          "model_module_version": "1.5.0",
          "state": {
            "_dom_classes": [],
            "_model_module": "@jupyter-widgets/controls",
            "_model_module_version": "1.5.0",
            "_model_name": "HBoxModel",
            "_view_count": null,
            "_view_module": "@jupyter-widgets/controls",
            "_view_module_version": "1.5.0",
            "_view_name": "HBoxView",
            "box_style": "",
            "children": [
              "IPY_MODEL_53f4afe37a834ef7a8e458e0350dcd5a",
              "IPY_MODEL_c8e1fcbbd12849638169299784901f7d",
              "IPY_MODEL_c3417e925d384655813f34a644f69049"
            ],
            "layout": "IPY_MODEL_ea5d7f84a85d4f7a91082d06fc086d89"
          }
        },
        "53f4afe37a834ef7a8e458e0350dcd5a": {
          "model_module": "@jupyter-widgets/controls",
          "model_name": "HTMLModel",
          "model_module_version": "1.5.0",
          "state": {
            "_dom_classes": [],
            "_model_module": "@jupyter-widgets/controls",
            "_model_module_version": "1.5.0",
            "_model_name": "HTMLModel",
            "_view_count": null,
            "_view_module": "@jupyter-widgets/controls",
            "_view_module_version": "1.5.0",
            "_view_name": "HTMLView",
            "description": "",
            "description_tooltip": null,
            "layout": "IPY_MODEL_505773e37e5547c285888c929d557ec6",
            "placeholder": "​",
            "style": "IPY_MODEL_273e67ac629a4edf9d4e16cb51dffa15",
            "value": "Downloading builder script: 100%"
          }
        },
        "c8e1fcbbd12849638169299784901f7d": {
          "model_module": "@jupyter-widgets/controls",
          "model_name": "FloatProgressModel",
          "model_module_version": "1.5.0",
          "state": {
            "_dom_classes": [],
            "_model_module": "@jupyter-widgets/controls",
            "_model_module_version": "1.5.0",
            "_model_name": "FloatProgressModel",
            "_view_count": null,
            "_view_module": "@jupyter-widgets/controls",
            "_view_module_version": "1.5.0",
            "_view_name": "ProgressView",
            "bar_style": "success",
            "description": "",
            "description_tooltip": null,
            "layout": "IPY_MODEL_cb3aed7aee6e4a1db81c90da9d8c9e50",
            "max": 4203,
            "min": 0,
            "orientation": "horizontal",
            "style": "IPY_MODEL_a8033270cf4e47018d8e4e0ae4461cdd",
            "value": 4203
          }
        },
        "c3417e925d384655813f34a644f69049": {
          "model_module": "@jupyter-widgets/controls",
          "model_name": "HTMLModel",
          "model_module_version": "1.5.0",
          "state": {
            "_dom_classes": [],
            "_model_module": "@jupyter-widgets/controls",
            "_model_module_version": "1.5.0",
            "_model_name": "HTMLModel",
            "_view_count": null,
            "_view_module": "@jupyter-widgets/controls",
            "_view_module_version": "1.5.0",
            "_view_name": "HTMLView",
            "description": "",
            "description_tooltip": null,
            "layout": "IPY_MODEL_80ed9505d1a64d328c4a0f7a7210d3a2",
            "placeholder": "​",
            "style": "IPY_MODEL_a509989a6ecb456db67f527f0db1af35",
            "value": " 4.20k/4.20k [00:00&lt;00:00, 254kB/s]"
          }
        },
        "ea5d7f84a85d4f7a91082d06fc086d89": {
          "model_module": "@jupyter-widgets/base",
          "model_name": "LayoutModel",
          "model_module_version": "1.2.0",
          "state": {
            "_model_module": "@jupyter-widgets/base",
            "_model_module_version": "1.2.0",
            "_model_name": "LayoutModel",
            "_view_count": null,
            "_view_module": "@jupyter-widgets/base",
            "_view_module_version": "1.2.0",
            "_view_name": "LayoutView",
            "align_content": null,
            "align_items": null,
            "align_self": null,
            "border": null,
            "bottom": null,
            "display": null,
            "flex": null,
            "flex_flow": null,
            "grid_area": null,
            "grid_auto_columns": null,
            "grid_auto_flow": null,
            "grid_auto_rows": null,
            "grid_column": null,
            "grid_gap": null,
            "grid_row": null,
            "grid_template_areas": null,
            "grid_template_columns": null,
            "grid_template_rows": null,
            "height": null,
            "justify_content": null,
            "justify_items": null,
            "left": null,
            "margin": null,
            "max_height": null,
            "max_width": null,
            "min_height": null,
            "min_width": null,
            "object_fit": null,
            "object_position": null,
            "order": null,
            "overflow": null,
            "overflow_x": null,
            "overflow_y": null,
            "padding": null,
            "right": null,
            "top": null,
            "visibility": null,
            "width": null
          }
        },
        "505773e37e5547c285888c929d557ec6": {
          "model_module": "@jupyter-widgets/base",
          "model_name": "LayoutModel",
          "model_module_version": "1.2.0",
          "state": {
            "_model_module": "@jupyter-widgets/base",
            "_model_module_version": "1.2.0",
            "_model_name": "LayoutModel",
            "_view_count": null,
            "_view_module": "@jupyter-widgets/base",
            "_view_module_version": "1.2.0",
            "_view_name": "LayoutView",
            "align_content": null,
            "align_items": null,
            "align_self": null,
            "border": null,
            "bottom": null,
            "display": null,
            "flex": null,
            "flex_flow": null,
            "grid_area": null,
            "grid_auto_columns": null,
            "grid_auto_flow": null,
            "grid_auto_rows": null,
            "grid_column": null,
            "grid_gap": null,
            "grid_row": null,
            "grid_template_areas": null,
            "grid_template_columns": null,
            "grid_template_rows": null,
            "height": null,
            "justify_content": null,
            "justify_items": null,
            "left": null,
            "margin": null,
            "max_height": null,
            "max_width": null,
            "min_height": null,
            "min_width": null,
            "object_fit": null,
            "object_position": null,
            "order": null,
            "overflow": null,
            "overflow_x": null,
            "overflow_y": null,
            "padding": null,
            "right": null,
            "top": null,
            "visibility": null,
            "width": null
          }
        },
        "273e67ac629a4edf9d4e16cb51dffa15": {
          "model_module": "@jupyter-widgets/controls",
          "model_name": "DescriptionStyleModel",
          "model_module_version": "1.5.0",
          "state": {
            "_model_module": "@jupyter-widgets/controls",
            "_model_module_version": "1.5.0",
            "_model_name": "DescriptionStyleModel",
            "_view_count": null,
            "_view_module": "@jupyter-widgets/base",
            "_view_module_version": "1.2.0",
            "_view_name": "StyleView",
            "description_width": ""
          }
        },
        "cb3aed7aee6e4a1db81c90da9d8c9e50": {
          "model_module": "@jupyter-widgets/base",
          "model_name": "LayoutModel",
          "model_module_version": "1.2.0",
          "state": {
            "_model_module": "@jupyter-widgets/base",
            "_model_module_version": "1.2.0",
            "_model_name": "LayoutModel",
            "_view_count": null,
            "_view_module": "@jupyter-widgets/base",
            "_view_module_version": "1.2.0",
            "_view_name": "LayoutView",
            "align_content": null,
            "align_items": null,
            "align_self": null,
            "border": null,
            "bottom": null,
            "display": null,
            "flex": null,
            "flex_flow": null,
            "grid_area": null,
            "grid_auto_columns": null,
            "grid_auto_flow": null,
            "grid_auto_rows": null,
            "grid_column": null,
            "grid_gap": null,
            "grid_row": null,
            "grid_template_areas": null,
            "grid_template_columns": null,
            "grid_template_rows": null,
            "height": null,
            "justify_content": null,
            "justify_items": null,
            "left": null,
            "margin": null,
            "max_height": null,
            "max_width": null,
            "min_height": null,
            "min_width": null,
            "object_fit": null,
            "object_position": null,
            "order": null,
            "overflow": null,
            "overflow_x": null,
            "overflow_y": null,
            "padding": null,
            "right": null,
            "top": null,
            "visibility": null,
            "width": null
          }
        },
        "a8033270cf4e47018d8e4e0ae4461cdd": {
          "model_module": "@jupyter-widgets/controls",
          "model_name": "ProgressStyleModel",
          "model_module_version": "1.5.0",
          "state": {
            "_model_module": "@jupyter-widgets/controls",
            "_model_module_version": "1.5.0",
            "_model_name": "ProgressStyleModel",
            "_view_count": null,
            "_view_module": "@jupyter-widgets/base",
            "_view_module_version": "1.2.0",
            "_view_name": "StyleView",
            "bar_color": null,
            "description_width": ""
          }
        },
        "80ed9505d1a64d328c4a0f7a7210d3a2": {
          "model_module": "@jupyter-widgets/base",
          "model_name": "LayoutModel",
          "model_module_version": "1.2.0",
          "state": {
            "_model_module": "@jupyter-widgets/base",
            "_model_module_version": "1.2.0",
            "_model_name": "LayoutModel",
            "_view_count": null,
            "_view_module": "@jupyter-widgets/base",
            "_view_module_version": "1.2.0",
            "_view_name": "LayoutView",
            "align_content": null,
            "align_items": null,
            "align_self": null,
            "border": null,
            "bottom": null,
            "display": null,
            "flex": null,
            "flex_flow": null,
            "grid_area": null,
            "grid_auto_columns": null,
            "grid_auto_flow": null,
            "grid_auto_rows": null,
            "grid_column": null,
            "grid_gap": null,
            "grid_row": null,
            "grid_template_areas": null,
            "grid_template_columns": null,
            "grid_template_rows": null,
            "height": null,
            "justify_content": null,
            "justify_items": null,
            "left": null,
            "margin": null,
            "max_height": null,
            "max_width": null,
            "min_height": null,
            "min_width": null,
            "object_fit": null,
            "object_position": null,
            "order": null,
            "overflow": null,
            "overflow_x": null,
            "overflow_y": null,
            "padding": null,
            "right": null,
            "top": null,
            "visibility": null,
            "width": null
          }
        },
        "a509989a6ecb456db67f527f0db1af35": {
          "model_module": "@jupyter-widgets/controls",
          "model_name": "DescriptionStyleModel",
          "model_module_version": "1.5.0",
          "state": {
            "_model_module": "@jupyter-widgets/controls",
            "_model_module_version": "1.5.0",
            "_model_name": "DescriptionStyleModel",
            "_view_count": null,
            "_view_module": "@jupyter-widgets/base",
            "_view_module_version": "1.2.0",
            "_view_name": "StyleView",
            "description_width": ""
          }
        },
        "cc1ba75ad93f46d7ac15f3adddc4a1b3": {
          "model_module": "@jupyter-widgets/controls",
          "model_name": "HBoxModel",
          "model_module_version": "1.5.0",
          "state": {
            "_dom_classes": [],
            "_model_module": "@jupyter-widgets/controls",
            "_model_module_version": "1.5.0",
            "_model_name": "HBoxModel",
            "_view_count": null,
            "_view_module": "@jupyter-widgets/controls",
            "_view_module_version": "1.5.0",
            "_view_name": "HBoxView",
            "box_style": "",
            "children": [
              "IPY_MODEL_0147055e766e41e6bf01ab5429c95de6",
              "IPY_MODEL_dc0585a4835942299472b9b1b8aaccb7",
              "IPY_MODEL_4879c760fffe46f3bc660f1266447e1e"
            ],
            "layout": "IPY_MODEL_726c6e647bec41558cf0a4e90064fde0"
          }
        },
        "0147055e766e41e6bf01ab5429c95de6": {
          "model_module": "@jupyter-widgets/controls",
          "model_name": "HTMLModel",
          "model_module_version": "1.5.0",
          "state": {
            "_dom_classes": [],
            "_model_module": "@jupyter-widgets/controls",
            "_model_module_version": "1.5.0",
            "_model_name": "HTMLModel",
            "_view_count": null,
            "_view_module": "@jupyter-widgets/controls",
            "_view_module_version": "1.5.0",
            "_view_name": "HTMLView",
            "description": "",
            "description_tooltip": null,
            "layout": "IPY_MODEL_7b77f3dfc2044000bea36de4356ea078",
            "placeholder": "​",
            "style": "IPY_MODEL_888c2df2daf641899cd0df9fabee6054",
            "value": "Downloading builder script: 100%"
          }
        },
        "dc0585a4835942299472b9b1b8aaccb7": {
          "model_module": "@jupyter-widgets/controls",
          "model_name": "FloatProgressModel",
          "model_module_version": "1.5.0",
          "state": {
            "_dom_classes": [],
            "_model_module": "@jupyter-widgets/controls",
            "_model_module_version": "1.5.0",
            "_model_name": "FloatProgressModel",
            "_view_count": null,
            "_view_module": "@jupyter-widgets/controls",
            "_view_module_version": "1.5.0",
            "_view_name": "ProgressView",
            "bar_style": "success",
            "description": "",
            "description_tooltip": null,
            "layout": "IPY_MODEL_39f2473cf37445028a1d6d3e3121d235",
            "max": 6771,
            "min": 0,
            "orientation": "horizontal",
            "style": "IPY_MODEL_bad16f80c70b4a9e920f22f7df292555",
            "value": 6771
          }
        },
        "4879c760fffe46f3bc660f1266447e1e": {
          "model_module": "@jupyter-widgets/controls",
          "model_name": "HTMLModel",
          "model_module_version": "1.5.0",
          "state": {
            "_dom_classes": [],
            "_model_module": "@jupyter-widgets/controls",
            "_model_module_version": "1.5.0",
            "_model_name": "HTMLModel",
            "_view_count": null,
            "_view_module": "@jupyter-widgets/controls",
            "_view_module_version": "1.5.0",
            "_view_name": "HTMLView",
            "description": "",
            "description_tooltip": null,
            "layout": "IPY_MODEL_dbe092bb07834adaaa1e840d0b572c09",
            "placeholder": "​",
            "style": "IPY_MODEL_e0779dd77f5c4978bd126985b92a7954",
            "value": " 6.77k/6.77k [00:00&lt;00:00, 328kB/s]"
          }
        },
        "726c6e647bec41558cf0a4e90064fde0": {
          "model_module": "@jupyter-widgets/base",
          "model_name": "LayoutModel",
          "model_module_version": "1.2.0",
          "state": {
            "_model_module": "@jupyter-widgets/base",
            "_model_module_version": "1.2.0",
            "_model_name": "LayoutModel",
            "_view_count": null,
            "_view_module": "@jupyter-widgets/base",
            "_view_module_version": "1.2.0",
            "_view_name": "LayoutView",
            "align_content": null,
            "align_items": null,
            "align_self": null,
            "border": null,
            "bottom": null,
            "display": null,
            "flex": null,
            "flex_flow": null,
            "grid_area": null,
            "grid_auto_columns": null,
            "grid_auto_flow": null,
            "grid_auto_rows": null,
            "grid_column": null,
            "grid_gap": null,
            "grid_row": null,
            "grid_template_areas": null,
            "grid_template_columns": null,
            "grid_template_rows": null,
            "height": null,
            "justify_content": null,
            "justify_items": null,
            "left": null,
            "margin": null,
            "max_height": null,
            "max_width": null,
            "min_height": null,
            "min_width": null,
            "object_fit": null,
            "object_position": null,
            "order": null,
            "overflow": null,
            "overflow_x": null,
            "overflow_y": null,
            "padding": null,
            "right": null,
            "top": null,
            "visibility": null,
            "width": null
          }
        },
        "7b77f3dfc2044000bea36de4356ea078": {
          "model_module": "@jupyter-widgets/base",
          "model_name": "LayoutModel",
          "model_module_version": "1.2.0",
          "state": {
            "_model_module": "@jupyter-widgets/base",
            "_model_module_version": "1.2.0",
            "_model_name": "LayoutModel",
            "_view_count": null,
            "_view_module": "@jupyter-widgets/base",
            "_view_module_version": "1.2.0",
            "_view_name": "LayoutView",
            "align_content": null,
            "align_items": null,
            "align_self": null,
            "border": null,
            "bottom": null,
            "display": null,
            "flex": null,
            "flex_flow": null,
            "grid_area": null,
            "grid_auto_columns": null,
            "grid_auto_flow": null,
            "grid_auto_rows": null,
            "grid_column": null,
            "grid_gap": null,
            "grid_row": null,
            "grid_template_areas": null,
            "grid_template_columns": null,
            "grid_template_rows": null,
            "height": null,
            "justify_content": null,
            "justify_items": null,
            "left": null,
            "margin": null,
            "max_height": null,
            "max_width": null,
            "min_height": null,
            "min_width": null,
            "object_fit": null,
            "object_position": null,
            "order": null,
            "overflow": null,
            "overflow_x": null,
            "overflow_y": null,
            "padding": null,
            "right": null,
            "top": null,
            "visibility": null,
            "width": null
          }
        },
        "888c2df2daf641899cd0df9fabee6054": {
          "model_module": "@jupyter-widgets/controls",
          "model_name": "DescriptionStyleModel",
          "model_module_version": "1.5.0",
          "state": {
            "_model_module": "@jupyter-widgets/controls",
            "_model_module_version": "1.5.0",
            "_model_name": "DescriptionStyleModel",
            "_view_count": null,
            "_view_module": "@jupyter-widgets/base",
            "_view_module_version": "1.2.0",
            "_view_name": "StyleView",
            "description_width": ""
          }
        },
        "39f2473cf37445028a1d6d3e3121d235": {
          "model_module": "@jupyter-widgets/base",
          "model_name": "LayoutModel",
          "model_module_version": "1.2.0",
          "state": {
            "_model_module": "@jupyter-widgets/base",
            "_model_module_version": "1.2.0",
            "_model_name": "LayoutModel",
            "_view_count": null,
            "_view_module": "@jupyter-widgets/base",
            "_view_module_version": "1.2.0",
            "_view_name": "LayoutView",
            "align_content": null,
            "align_items": null,
            "align_self": null,
            "border": null,
            "bottom": null,
            "display": null,
            "flex": null,
            "flex_flow": null,
            "grid_area": null,
            "grid_auto_columns": null,
            "grid_auto_flow": null,
            "grid_auto_rows": null,
            "grid_column": null,
            "grid_gap": null,
            "grid_row": null,
            "grid_template_areas": null,
            "grid_template_columns": null,
            "grid_template_rows": null,
            "height": null,
            "justify_content": null,
            "justify_items": null,
            "left": null,
            "margin": null,
            "max_height": null,
            "max_width": null,
            "min_height": null,
            "min_width": null,
            "object_fit": null,
            "object_position": null,
            "order": null,
            "overflow": null,
            "overflow_x": null,
            "overflow_y": null,
            "padding": null,
            "right": null,
            "top": null,
            "visibility": null,
            "width": null
          }
        },
        "bad16f80c70b4a9e920f22f7df292555": {
          "model_module": "@jupyter-widgets/controls",
          "model_name": "ProgressStyleModel",
          "model_module_version": "1.5.0",
          "state": {
            "_model_module": "@jupyter-widgets/controls",
            "_model_module_version": "1.5.0",
            "_model_name": "ProgressStyleModel",
            "_view_count": null,
            "_view_module": "@jupyter-widgets/base",
            "_view_module_version": "1.2.0",
            "_view_name": "StyleView",
            "bar_color": null,
            "description_width": ""
          }
        },
        "dbe092bb07834adaaa1e840d0b572c09": {
          "model_module": "@jupyter-widgets/base",
          "model_name": "LayoutModel",
          "model_module_version": "1.2.0",
          "state": {
            "_model_module": "@jupyter-widgets/base",
            "_model_module_version": "1.2.0",
            "_model_name": "LayoutModel",
            "_view_count": null,
            "_view_module": "@jupyter-widgets/base",
            "_view_module_version": "1.2.0",
            "_view_name": "LayoutView",
            "align_content": null,
            "align_items": null,
            "align_self": null,
            "border": null,
            "bottom": null,
            "display": null,
            "flex": null,
            "flex_flow": null,
            "grid_area": null,
            "grid_auto_columns": null,
            "grid_auto_flow": null,
            "grid_auto_rows": null,
            "grid_column": null,
            "grid_gap": null,
            "grid_row": null,
            "grid_template_areas": null,
            "grid_template_columns": null,
            "grid_template_rows": null,
            "height": null,
            "justify_content": null,
            "justify_items": null,
            "left": null,
            "margin": null,
            "max_height": null,
            "max_width": null,
            "min_height": null,
            "min_width": null,
            "object_fit": null,
            "object_position": null,
            "order": null,
            "overflow": null,
            "overflow_x": null,
            "overflow_y": null,
            "padding": null,
            "right": null,
            "top": null,
            "visibility": null,
            "width": null
          }
        },
        "e0779dd77f5c4978bd126985b92a7954": {
          "model_module": "@jupyter-widgets/controls",
          "model_name": "DescriptionStyleModel",
          "model_module_version": "1.5.0",
          "state": {
            "_model_module": "@jupyter-widgets/controls",
            "_model_module_version": "1.5.0",
            "_model_name": "DescriptionStyleModel",
            "_view_count": null,
            "_view_module": "@jupyter-widgets/base",
            "_view_module_version": "1.2.0",
            "_view_name": "StyleView",
            "description_width": ""
          }
        },
        "dbd57a2cca544fc986b3ce2ba92092ba": {
          "model_module": "@jupyter-widgets/controls",
          "model_name": "HBoxModel",
          "model_module_version": "1.5.0",
          "state": {
            "_dom_classes": [],
            "_model_module": "@jupyter-widgets/controls",
            "_model_module_version": "1.5.0",
            "_model_name": "HBoxModel",
            "_view_count": null,
            "_view_module": "@jupyter-widgets/controls",
            "_view_module_version": "1.5.0",
            "_view_name": "HBoxView",
            "box_style": "",
            "children": [
              "IPY_MODEL_0b420c3580d546f9a2bba3aa42e5f0de",
              "IPY_MODEL_a956a706e655416abee70537ad8a85b2",
              "IPY_MODEL_2522ee167a124bd0990de297d2c50aec"
            ],
            "layout": "IPY_MODEL_d57d38db6ba5490798a865d839f55ed8"
          }
        },
        "0b420c3580d546f9a2bba3aa42e5f0de": {
          "model_module": "@jupyter-widgets/controls",
          "model_name": "HTMLModel",
          "model_module_version": "1.5.0",
          "state": {
            "_dom_classes": [],
            "_model_module": "@jupyter-widgets/controls",
            "_model_module_version": "1.5.0",
            "_model_name": "HTMLModel",
            "_view_count": null,
            "_view_module": "@jupyter-widgets/controls",
            "_view_module_version": "1.5.0",
            "_view_name": "HTMLView",
            "description": "",
            "description_tooltip": null,
            "layout": "IPY_MODEL_890f6e1445bb4c449a17646cc17dcea2",
            "placeholder": "​",
            "style": "IPY_MODEL_903c819da39b4f0c96799a90a84ccd32",
            "value": "README.md: 100%"
          }
        },
        "a956a706e655416abee70537ad8a85b2": {
          "model_module": "@jupyter-widgets/controls",
          "model_name": "FloatProgressModel",
          "model_module_version": "1.5.0",
          "state": {
            "_dom_classes": [],
            "_model_module": "@jupyter-widgets/controls",
            "_model_module_version": "1.5.0",
            "_model_name": "FloatProgressModel",
            "_view_count": null,
            "_view_module": "@jupyter-widgets/controls",
            "_view_module_version": "1.5.0",
            "_view_name": "ProgressView",
            "bar_style": "success",
            "description": "",
            "description_tooltip": null,
            "layout": "IPY_MODEL_69131ea7ea1741b9ab91cace9cff85c7",
            "max": 1182,
            "min": 0,
            "orientation": "horizontal",
            "style": "IPY_MODEL_066d4df99c7d42c9ba069668e6ca6b51",
            "value": 1182
          }
        },
        "2522ee167a124bd0990de297d2c50aec": {
          "model_module": "@jupyter-widgets/controls",
          "model_name": "HTMLModel",
          "model_module_version": "1.5.0",
          "state": {
            "_dom_classes": [],
            "_model_module": "@jupyter-widgets/controls",
            "_model_module_version": "1.5.0",
            "_model_name": "HTMLModel",
            "_view_count": null,
            "_view_module": "@jupyter-widgets/controls",
            "_view_module_version": "1.5.0",
            "_view_name": "HTMLView",
            "description": "",
            "description_tooltip": null,
            "layout": "IPY_MODEL_fe7c0b36f7c5418bb64dfc5712397a38",
            "placeholder": "​",
            "style": "IPY_MODEL_ef6676744c1b45c8afee9ce78ab3225f",
            "value": " 1.18k/1.18k [00:00&lt;00:00, 78.8kB/s]"
          }
        },
        "d57d38db6ba5490798a865d839f55ed8": {
          "model_module": "@jupyter-widgets/base",
          "model_name": "LayoutModel",
          "model_module_version": "1.2.0",
          "state": {
            "_model_module": "@jupyter-widgets/base",
            "_model_module_version": "1.2.0",
            "_model_name": "LayoutModel",
            "_view_count": null,
            "_view_module": "@jupyter-widgets/base",
            "_view_module_version": "1.2.0",
            "_view_name": "LayoutView",
            "align_content": null,
            "align_items": null,
            "align_self": null,
            "border": null,
            "bottom": null,
            "display": null,
            "flex": null,
            "flex_flow": null,
            "grid_area": null,
            "grid_auto_columns": null,
            "grid_auto_flow": null,
            "grid_auto_rows": null,
            "grid_column": null,
            "grid_gap": null,
            "grid_row": null,
            "grid_template_areas": null,
            "grid_template_columns": null,
            "grid_template_rows": null,
            "height": null,
            "justify_content": null,
            "justify_items": null,
            "left": null,
            "margin": null,
            "max_height": null,
            "max_width": null,
            "min_height": null,
            "min_width": null,
            "object_fit": null,
            "object_position": null,
            "order": null,
            "overflow": null,
            "overflow_x": null,
            "overflow_y": null,
            "padding": null,
            "right": null,
            "top": null,
            "visibility": null,
            "width": null
          }
        },
        "890f6e1445bb4c449a17646cc17dcea2": {
          "model_module": "@jupyter-widgets/base",
          "model_name": "LayoutModel",
          "model_module_version": "1.2.0",
          "state": {
            "_model_module": "@jupyter-widgets/base",
            "_model_module_version": "1.2.0",
            "_model_name": "LayoutModel",
            "_view_count": null,
            "_view_module": "@jupyter-widgets/base",
            "_view_module_version": "1.2.0",
            "_view_name": "LayoutView",
            "align_content": null,
            "align_items": null,
            "align_self": null,
            "border": null,
            "bottom": null,
            "display": null,
            "flex": null,
            "flex_flow": null,
            "grid_area": null,
            "grid_auto_columns": null,
            "grid_auto_flow": null,
            "grid_auto_rows": null,
            "grid_column": null,
            "grid_gap": null,
            "grid_row": null,
            "grid_template_areas": null,
            "grid_template_columns": null,
            "grid_template_rows": null,
            "height": null,
            "justify_content": null,
            "justify_items": null,
            "left": null,
            "margin": null,
            "max_height": null,
            "max_width": null,
            "min_height": null,
            "min_width": null,
            "object_fit": null,
            "object_position": null,
            "order": null,
            "overflow": null,
            "overflow_x": null,
            "overflow_y": null,
            "padding": null,
            "right": null,
            "top": null,
            "visibility": null,
            "width": null
          }
        },
        "903c819da39b4f0c96799a90a84ccd32": {
          "model_module": "@jupyter-widgets/controls",
          "model_name": "DescriptionStyleModel",
          "model_module_version": "1.5.0",
          "state": {
            "_model_module": "@jupyter-widgets/controls",
            "_model_module_version": "1.5.0",
            "_model_name": "DescriptionStyleModel",
            "_view_count": null,
            "_view_module": "@jupyter-widgets/base",
            "_view_module_version": "1.2.0",
            "_view_name": "StyleView",
            "description_width": ""
          }
        },
        "69131ea7ea1741b9ab91cace9cff85c7": {
          "model_module": "@jupyter-widgets/base",
          "model_name": "LayoutModel",
          "model_module_version": "1.2.0",
          "state": {
            "_model_module": "@jupyter-widgets/base",
            "_model_module_version": "1.2.0",
            "_model_name": "LayoutModel",
            "_view_count": null,
            "_view_module": "@jupyter-widgets/base",
            "_view_module_version": "1.2.0",
            "_view_name": "LayoutView",
            "align_content": null,
            "align_items": null,
            "align_self": null,
            "border": null,
            "bottom": null,
            "display": null,
            "flex": null,
            "flex_flow": null,
            "grid_area": null,
            "grid_auto_columns": null,
            "grid_auto_flow": null,
            "grid_auto_rows": null,
            "grid_column": null,
            "grid_gap": null,
            "grid_row": null,
            "grid_template_areas": null,
            "grid_template_columns": null,
            "grid_template_rows": null,
            "height": null,
            "justify_content": null,
            "justify_items": null,
            "left": null,
            "margin": null,
            "max_height": null,
            "max_width": null,
            "min_height": null,
            "min_width": null,
            "object_fit": null,
            "object_position": null,
            "order": null,
            "overflow": null,
            "overflow_x": null,
            "overflow_y": null,
            "padding": null,
            "right": null,
            "top": null,
            "visibility": null,
            "width": null
          }
        },
        "066d4df99c7d42c9ba069668e6ca6b51": {
          "model_module": "@jupyter-widgets/controls",
          "model_name": "ProgressStyleModel",
          "model_module_version": "1.5.0",
          "state": {
            "_model_module": "@jupyter-widgets/controls",
            "_model_module_version": "1.5.0",
            "_model_name": "ProgressStyleModel",
            "_view_count": null,
            "_view_module": "@jupyter-widgets/base",
            "_view_module_version": "1.2.0",
            "_view_name": "StyleView",
            "bar_color": null,
            "description_width": ""
          }
        },
        "fe7c0b36f7c5418bb64dfc5712397a38": {
          "model_module": "@jupyter-widgets/base",
          "model_name": "LayoutModel",
          "model_module_version": "1.2.0",
          "state": {
            "_model_module": "@jupyter-widgets/base",
            "_model_module_version": "1.2.0",
            "_model_name": "LayoutModel",
            "_view_count": null,
            "_view_module": "@jupyter-widgets/base",
            "_view_module_version": "1.2.0",
            "_view_name": "LayoutView",
            "align_content": null,
            "align_items": null,
            "align_self": null,
            "border": null,
            "bottom": null,
            "display": null,
            "flex": null,
            "flex_flow": null,
            "grid_area": null,
            "grid_auto_columns": null,
            "grid_auto_flow": null,
            "grid_auto_rows": null,
            "grid_column": null,
            "grid_gap": null,
            "grid_row": null,
            "grid_template_areas": null,
            "grid_template_columns": null,
            "grid_template_rows": null,
            "height": null,
            "justify_content": null,
            "justify_items": null,
            "left": null,
            "margin": null,
            "max_height": null,
            "max_width": null,
            "min_height": null,
            "min_width": null,
            "object_fit": null,
            "object_position": null,
            "order": null,
            "overflow": null,
            "overflow_x": null,
            "overflow_y": null,
            "padding": null,
            "right": null,
            "top": null,
            "visibility": null,
            "width": null
          }
        },
        "ef6676744c1b45c8afee9ce78ab3225f": {
          "model_module": "@jupyter-widgets/controls",
          "model_name": "DescriptionStyleModel",
          "model_module_version": "1.5.0",
          "state": {
            "_model_module": "@jupyter-widgets/controls",
            "_model_module_version": "1.5.0",
            "_model_name": "DescriptionStyleModel",
            "_view_count": null,
            "_view_module": "@jupyter-widgets/base",
            "_view_module_version": "1.2.0",
            "_view_name": "StyleView",
            "description_width": ""
          }
        },
        "5ac9eae3e1574b6287a8e23523562a86": {
          "model_module": "@jupyter-widgets/controls",
          "model_name": "HBoxModel",
          "model_module_version": "1.5.0",
          "state": {
            "_dom_classes": [],
            "_model_module": "@jupyter-widgets/controls",
            "_model_module_version": "1.5.0",
            "_model_name": "HBoxModel",
            "_view_count": null,
            "_view_module": "@jupyter-widgets/controls",
            "_view_module_version": "1.5.0",
            "_view_name": "HBoxView",
            "box_style": "",
            "children": [
              "IPY_MODEL_050097577a214fd3b947e3c642e56039",
              "IPY_MODEL_78f518c39644491cb65b2e340d7ba5b2",
              "IPY_MODEL_2c44e9b1794b45e1b81f87f8a722e664"
            ],
            "layout": "IPY_MODEL_a42d81df36904d77aa85aedb13dcd477"
          }
        },
        "050097577a214fd3b947e3c642e56039": {
          "model_module": "@jupyter-widgets/controls",
          "model_name": "HTMLModel",
          "model_module_version": "1.5.0",
          "state": {
            "_dom_classes": [],
            "_model_module": "@jupyter-widgets/controls",
            "_model_module_version": "1.5.0",
            "_model_name": "HTMLModel",
            "_view_count": null,
            "_view_module": "@jupyter-widgets/controls",
            "_view_module_version": "1.5.0",
            "_view_name": "HTMLView",
            "description": "",
            "description_tooltip": null,
            "layout": "IPY_MODEL_73b538121f4b479890782324312870b7",
            "placeholder": "​",
            "style": "IPY_MODEL_31f7566611b24c228c1806f92ac5b0d2",
            "value": "train.json: 100%"
          }
        },
        "78f518c39644491cb65b2e340d7ba5b2": {
          "model_module": "@jupyter-widgets/controls",
          "model_name": "FloatProgressModel",
          "model_module_version": "1.5.0",
          "state": {
            "_dom_classes": [],
            "_model_module": "@jupyter-widgets/controls",
            "_model_module_version": "1.5.0",
            "_model_name": "FloatProgressModel",
            "_view_count": null,
            "_view_module": "@jupyter-widgets/controls",
            "_view_module_version": "1.5.0",
            "_view_name": "ProgressView",
            "bar_style": "success",
            "description": "",
            "description_tooltip": null,
            "layout": "IPY_MODEL_035cd53302e9462eb90c41e977ffd761",
            "max": 2987860,
            "min": 0,
            "orientation": "horizontal",
            "style": "IPY_MODEL_fdd242ec4675438eba746eb28d4dfd77",
            "value": 2987860
          }
        },
        "2c44e9b1794b45e1b81f87f8a722e664": {
          "model_module": "@jupyter-widgets/controls",
          "model_name": "HTMLModel",
          "model_module_version": "1.5.0",
          "state": {
            "_dom_classes": [],
            "_model_module": "@jupyter-widgets/controls",
            "_model_module_version": "1.5.0",
            "_model_name": "HTMLModel",
            "_view_count": null,
            "_view_module": "@jupyter-widgets/controls",
            "_view_module_version": "1.5.0",
            "_view_name": "HTMLView",
            "description": "",
            "description_tooltip": null,
            "layout": "IPY_MODEL_9ffbeb3f8c534a1d866b5e366a45f24e",
            "placeholder": "​",
            "style": "IPY_MODEL_f0f1c08c0203470cbad86c5aa024c512",
            "value": " 2.99M/2.99M [00:00&lt;00:00, 8.69MB/s]"
          }
        },
        "a42d81df36904d77aa85aedb13dcd477": {
          "model_module": "@jupyter-widgets/base",
          "model_name": "LayoutModel",
          "model_module_version": "1.2.0",
          "state": {
            "_model_module": "@jupyter-widgets/base",
            "_model_module_version": "1.2.0",
            "_model_name": "LayoutModel",
            "_view_count": null,
            "_view_module": "@jupyter-widgets/base",
            "_view_module_version": "1.2.0",
            "_view_name": "LayoutView",
            "align_content": null,
            "align_items": null,
            "align_self": null,
            "border": null,
            "bottom": null,
            "display": null,
            "flex": null,
            "flex_flow": null,
            "grid_area": null,
            "grid_auto_columns": null,
            "grid_auto_flow": null,
            "grid_auto_rows": null,
            "grid_column": null,
            "grid_gap": null,
            "grid_row": null,
            "grid_template_areas": null,
            "grid_template_columns": null,
            "grid_template_rows": null,
            "height": null,
            "justify_content": null,
            "justify_items": null,
            "left": null,
            "margin": null,
            "max_height": null,
            "max_width": null,
            "min_height": null,
            "min_width": null,
            "object_fit": null,
            "object_position": null,
            "order": null,
            "overflow": null,
            "overflow_x": null,
            "overflow_y": null,
            "padding": null,
            "right": null,
            "top": null,
            "visibility": null,
            "width": null
          }
        },
        "73b538121f4b479890782324312870b7": {
          "model_module": "@jupyter-widgets/base",
          "model_name": "LayoutModel",
          "model_module_version": "1.2.0",
          "state": {
            "_model_module": "@jupyter-widgets/base",
            "_model_module_version": "1.2.0",
            "_model_name": "LayoutModel",
            "_view_count": null,
            "_view_module": "@jupyter-widgets/base",
            "_view_module_version": "1.2.0",
            "_view_name": "LayoutView",
            "align_content": null,
            "align_items": null,
            "align_self": null,
            "border": null,
            "bottom": null,
            "display": null,
            "flex": null,
            "flex_flow": null,
            "grid_area": null,
            "grid_auto_columns": null,
            "grid_auto_flow": null,
            "grid_auto_rows": null,
            "grid_column": null,
            "grid_gap": null,
            "grid_row": null,
            "grid_template_areas": null,
            "grid_template_columns": null,
            "grid_template_rows": null,
            "height": null,
            "justify_content": null,
            "justify_items": null,
            "left": null,
            "margin": null,
            "max_height": null,
            "max_width": null,
            "min_height": null,
            "min_width": null,
            "object_fit": null,
            "object_position": null,
            "order": null,
            "overflow": null,
            "overflow_x": null,
            "overflow_y": null,
            "padding": null,
            "right": null,
            "top": null,
            "visibility": null,
            "width": null
          }
        },
        "31f7566611b24c228c1806f92ac5b0d2": {
          "model_module": "@jupyter-widgets/controls",
          "model_name": "DescriptionStyleModel",
          "model_module_version": "1.5.0",
          "state": {
            "_model_module": "@jupyter-widgets/controls",
            "_model_module_version": "1.5.0",
            "_model_name": "DescriptionStyleModel",
            "_view_count": null,
            "_view_module": "@jupyter-widgets/base",
            "_view_module_version": "1.2.0",
            "_view_name": "StyleView",
            "description_width": ""
          }
        },
        "035cd53302e9462eb90c41e977ffd761": {
          "model_module": "@jupyter-widgets/base",
          "model_name": "LayoutModel",
          "model_module_version": "1.2.0",
          "state": {
            "_model_module": "@jupyter-widgets/base",
            "_model_module_version": "1.2.0",
            "_model_name": "LayoutModel",
            "_view_count": null,
            "_view_module": "@jupyter-widgets/base",
            "_view_module_version": "1.2.0",
            "_view_name": "LayoutView",
            "align_content": null,
            "align_items": null,
            "align_self": null,
            "border": null,
            "bottom": null,
            "display": null,
            "flex": null,
            "flex_flow": null,
            "grid_area": null,
            "grid_auto_columns": null,
            "grid_auto_flow": null,
            "grid_auto_rows": null,
            "grid_column": null,
            "grid_gap": null,
            "grid_row": null,
            "grid_template_areas": null,
            "grid_template_columns": null,
            "grid_template_rows": null,
            "height": null,
            "justify_content": null,
            "justify_items": null,
            "left": null,
            "margin": null,
            "max_height": null,
            "max_width": null,
            "min_height": null,
            "min_width": null,
            "object_fit": null,
            "object_position": null,
            "order": null,
            "overflow": null,
            "overflow_x": null,
            "overflow_y": null,
            "padding": null,
            "right": null,
            "top": null,
            "visibility": null,
            "width": null
          }
        },
        "fdd242ec4675438eba746eb28d4dfd77": {
          "model_module": "@jupyter-widgets/controls",
          "model_name": "ProgressStyleModel",
          "model_module_version": "1.5.0",
          "state": {
            "_model_module": "@jupyter-widgets/controls",
            "_model_module_version": "1.5.0",
            "_model_name": "ProgressStyleModel",
            "_view_count": null,
            "_view_module": "@jupyter-widgets/base",
            "_view_module_version": "1.2.0",
            "_view_name": "StyleView",
            "bar_color": null,
            "description_width": ""
          }
        },
        "9ffbeb3f8c534a1d866b5e366a45f24e": {
          "model_module": "@jupyter-widgets/base",
          "model_name": "LayoutModel",
          "model_module_version": "1.2.0",
          "state": {
            "_model_module": "@jupyter-widgets/base",
            "_model_module_version": "1.2.0",
            "_model_name": "LayoutModel",
            "_view_count": null,
            "_view_module": "@jupyter-widgets/base",
            "_view_module_version": "1.2.0",
            "_view_name": "LayoutView",
            "align_content": null,
            "align_items": null,
            "align_self": null,
            "border": null,
            "bottom": null,
            "display": null,
            "flex": null,
            "flex_flow": null,
            "grid_area": null,
            "grid_auto_columns": null,
            "grid_auto_flow": null,
            "grid_auto_rows": null,
            "grid_column": null,
            "grid_gap": null,
            "grid_row": null,
            "grid_template_areas": null,
            "grid_template_columns": null,
            "grid_template_rows": null,
            "height": null,
            "justify_content": null,
            "justify_items": null,
            "left": null,
            "margin": null,
            "max_height": null,
            "max_width": null,
            "min_height": null,
            "min_width": null,
            "object_fit": null,
            "object_position": null,
            "order": null,
            "overflow": null,
            "overflow_x": null,
            "overflow_y": null,
            "padding": null,
            "right": null,
            "top": null,
            "visibility": null,
            "width": null
          }
        },
        "f0f1c08c0203470cbad86c5aa024c512": {
          "model_module": "@jupyter-widgets/controls",
          "model_name": "DescriptionStyleModel",
          "model_module_version": "1.5.0",
          "state": {
            "_model_module": "@jupyter-widgets/controls",
            "_model_module_version": "1.5.0",
            "_model_name": "DescriptionStyleModel",
            "_view_count": null,
            "_view_module": "@jupyter-widgets/base",
            "_view_module_version": "1.2.0",
            "_view_name": "StyleView",
            "description_width": ""
          }
        },
        "ad13dced6e824261aeccaf7894d392be": {
          "model_module": "@jupyter-widgets/controls",
          "model_name": "HBoxModel",
          "model_module_version": "1.5.0",
          "state": {
            "_dom_classes": [],
            "_model_module": "@jupyter-widgets/controls",
            "_model_module_version": "1.5.0",
            "_model_name": "HBoxModel",
            "_view_count": null,
            "_view_module": "@jupyter-widgets/controls",
            "_view_module_version": "1.5.0",
            "_view_name": "HBoxView",
            "box_style": "",
            "children": [
              "IPY_MODEL_3397d9ce71184fbd91e879c2e8bc0f84",
              "IPY_MODEL_64773afe02c54f0196d864715b9f3182",
              "IPY_MODEL_622ec9d800e1485aa350060571613e1b"
            ],
            "layout": "IPY_MODEL_c1bcfef09c9c4971a6db32798ac7c4c0"
          }
        },
        "3397d9ce71184fbd91e879c2e8bc0f84": {
          "model_module": "@jupyter-widgets/controls",
          "model_name": "HTMLModel",
          "model_module_version": "1.5.0",
          "state": {
            "_dom_classes": [],
            "_model_module": "@jupyter-widgets/controls",
            "_model_module_version": "1.5.0",
            "_model_name": "HTMLModel",
            "_view_count": null,
            "_view_module": "@jupyter-widgets/controls",
            "_view_module_version": "1.5.0",
            "_view_name": "HTMLView",
            "description": "",
            "description_tooltip": null,
            "layout": "IPY_MODEL_61025b08cd174ff59e0a086658bc9502",
            "placeholder": "​",
            "style": "IPY_MODEL_7a041e7615294592b8a92ab1d2e4ecc8",
            "value": "val.json: 100%"
          }
        },
        "64773afe02c54f0196d864715b9f3182": {
          "model_module": "@jupyter-widgets/controls",
          "model_name": "FloatProgressModel",
          "model_module_version": "1.5.0",
          "state": {
            "_dom_classes": [],
            "_model_module": "@jupyter-widgets/controls",
            "_model_module_version": "1.5.0",
            "_model_name": "FloatProgressModel",
            "_view_count": null,
            "_view_module": "@jupyter-widgets/controls",
            "_view_module_version": "1.5.0",
            "_view_name": "ProgressView",
            "bar_style": "success",
            "description": "",
            "description_tooltip": null,
            "layout": "IPY_MODEL_4f31e7a66060444484555414263cb4bc",
            "max": 374898,
            "min": 0,
            "orientation": "horizontal",
            "style": "IPY_MODEL_5db4b7f719b249d3b0244fe627715507",
            "value": 374898
          }
        },
        "622ec9d800e1485aa350060571613e1b": {
          "model_module": "@jupyter-widgets/controls",
          "model_name": "HTMLModel",
          "model_module_version": "1.5.0",
          "state": {
            "_dom_classes": [],
            "_model_module": "@jupyter-widgets/controls",
            "_model_module_version": "1.5.0",
            "_model_name": "HTMLModel",
            "_view_count": null,
            "_view_module": "@jupyter-widgets/controls",
            "_view_module_version": "1.5.0",
            "_view_name": "HTMLView",
            "description": "",
            "description_tooltip": null,
            "layout": "IPY_MODEL_7de9cff8ade841fa8de1ebaa3dc1caf7",
            "placeholder": "​",
            "style": "IPY_MODEL_07302a1e4c0840169d24a6200fb64ed0",
            "value": " 375k/375k [00:00&lt;00:00, 2.81MB/s]"
          }
        },
        "c1bcfef09c9c4971a6db32798ac7c4c0": {
          "model_module": "@jupyter-widgets/base",
          "model_name": "LayoutModel",
          "model_module_version": "1.2.0",
          "state": {
            "_model_module": "@jupyter-widgets/base",
            "_model_module_version": "1.2.0",
            "_model_name": "LayoutModel",
            "_view_count": null,
            "_view_module": "@jupyter-widgets/base",
            "_view_module_version": "1.2.0",
            "_view_name": "LayoutView",
            "align_content": null,
            "align_items": null,
            "align_self": null,
            "border": null,
            "bottom": null,
            "display": null,
            "flex": null,
            "flex_flow": null,
            "grid_area": null,
            "grid_auto_columns": null,
            "grid_auto_flow": null,
            "grid_auto_rows": null,
            "grid_column": null,
            "grid_gap": null,
            "grid_row": null,
            "grid_template_areas": null,
            "grid_template_columns": null,
            "grid_template_rows": null,
            "height": null,
            "justify_content": null,
            "justify_items": null,
            "left": null,
            "margin": null,
            "max_height": null,
            "max_width": null,
            "min_height": null,
            "min_width": null,
            "object_fit": null,
            "object_position": null,
            "order": null,
            "overflow": null,
            "overflow_x": null,
            "overflow_y": null,
            "padding": null,
            "right": null,
            "top": null,
            "visibility": null,
            "width": null
          }
        },
        "61025b08cd174ff59e0a086658bc9502": {
          "model_module": "@jupyter-widgets/base",
          "model_name": "LayoutModel",
          "model_module_version": "1.2.0",
          "state": {
            "_model_module": "@jupyter-widgets/base",
            "_model_module_version": "1.2.0",
            "_model_name": "LayoutModel",
            "_view_count": null,
            "_view_module": "@jupyter-widgets/base",
            "_view_module_version": "1.2.0",
            "_view_name": "LayoutView",
            "align_content": null,
            "align_items": null,
            "align_self": null,
            "border": null,
            "bottom": null,
            "display": null,
            "flex": null,
            "flex_flow": null,
            "grid_area": null,
            "grid_auto_columns": null,
            "grid_auto_flow": null,
            "grid_auto_rows": null,
            "grid_column": null,
            "grid_gap": null,
            "grid_row": null,
            "grid_template_areas": null,
            "grid_template_columns": null,
            "grid_template_rows": null,
            "height": null,
            "justify_content": null,
            "justify_items": null,
            "left": null,
            "margin": null,
            "max_height": null,
            "max_width": null,
            "min_height": null,
            "min_width": null,
            "object_fit": null,
            "object_position": null,
            "order": null,
            "overflow": null,
            "overflow_x": null,
            "overflow_y": null,
            "padding": null,
            "right": null,
            "top": null,
            "visibility": null,
            "width": null
          }
        },
        "7a041e7615294592b8a92ab1d2e4ecc8": {
          "model_module": "@jupyter-widgets/controls",
          "model_name": "DescriptionStyleModel",
          "model_module_version": "1.5.0",
          "state": {
            "_model_module": "@jupyter-widgets/controls",
            "_model_module_version": "1.5.0",
            "_model_name": "DescriptionStyleModel",
            "_view_count": null,
            "_view_module": "@jupyter-widgets/base",
            "_view_module_version": "1.2.0",
            "_view_name": "StyleView",
            "description_width": ""
          }
        },
        "4f31e7a66060444484555414263cb4bc": {
          "model_module": "@jupyter-widgets/base",
          "model_name": "LayoutModel",
          "model_module_version": "1.2.0",
          "state": {
            "_model_module": "@jupyter-widgets/base",
            "_model_module_version": "1.2.0",
            "_model_name": "LayoutModel",
            "_view_count": null,
            "_view_module": "@jupyter-widgets/base",
            "_view_module_version": "1.2.0",
            "_view_name": "LayoutView",
            "align_content": null,
            "align_items": null,
            "align_self": null,
            "border": null,
            "bottom": null,
            "display": null,
            "flex": null,
            "flex_flow": null,
            "grid_area": null,
            "grid_auto_columns": null,
            "grid_auto_flow": null,
            "grid_auto_rows": null,
            "grid_column": null,
            "grid_gap": null,
            "grid_row": null,
            "grid_template_areas": null,
            "grid_template_columns": null,
            "grid_template_rows": null,
            "height": null,
            "justify_content": null,
            "justify_items": null,
            "left": null,
            "margin": null,
            "max_height": null,
            "max_width": null,
            "min_height": null,
            "min_width": null,
            "object_fit": null,
            "object_position": null,
            "order": null,
            "overflow": null,
            "overflow_x": null,
            "overflow_y": null,
            "padding": null,
            "right": null,
            "top": null,
            "visibility": null,
            "width": null
          }
        },
        "5db4b7f719b249d3b0244fe627715507": {
          "model_module": "@jupyter-widgets/controls",
          "model_name": "ProgressStyleModel",
          "model_module_version": "1.5.0",
          "state": {
            "_model_module": "@jupyter-widgets/controls",
            "_model_module_version": "1.5.0",
            "_model_name": "ProgressStyleModel",
            "_view_count": null,
            "_view_module": "@jupyter-widgets/base",
            "_view_module_version": "1.2.0",
            "_view_name": "StyleView",
            "bar_color": null,
            "description_width": ""
          }
        },
        "7de9cff8ade841fa8de1ebaa3dc1caf7": {
          "model_module": "@jupyter-widgets/base",
          "model_name": "LayoutModel",
          "model_module_version": "1.2.0",
          "state": {
            "_model_module": "@jupyter-widgets/base",
            "_model_module_version": "1.2.0",
            "_model_name": "LayoutModel",
            "_view_count": null,
            "_view_module": "@jupyter-widgets/base",
            "_view_module_version": "1.2.0",
            "_view_name": "LayoutView",
            "align_content": null,
            "align_items": null,
            "align_self": null,
            "border": null,
            "bottom": null,
            "display": null,
            "flex": null,
            "flex_flow": null,
            "grid_area": null,
            "grid_auto_columns": null,
            "grid_auto_flow": null,
            "grid_auto_rows": null,
            "grid_column": null,
            "grid_gap": null,
            "grid_row": null,
            "grid_template_areas": null,
            "grid_template_columns": null,
            "grid_template_rows": null,
            "height": null,
            "justify_content": null,
            "justify_items": null,
            "left": null,
            "margin": null,
            "max_height": null,
            "max_width": null,
            "min_height": null,
            "min_width": null,
            "object_fit": null,
            "object_position": null,
            "order": null,
            "overflow": null,
            "overflow_x": null,
            "overflow_y": null,
            "padding": null,
            "right": null,
            "top": null,
            "visibility": null,
            "width": null
          }
        },
        "07302a1e4c0840169d24a6200fb64ed0": {
          "model_module": "@jupyter-widgets/controls",
          "model_name": "DescriptionStyleModel",
          "model_module_version": "1.5.0",
          "state": {
            "_model_module": "@jupyter-widgets/controls",
            "_model_module_version": "1.5.0",
            "_model_name": "DescriptionStyleModel",
            "_view_count": null,
            "_view_module": "@jupyter-widgets/base",
            "_view_module_version": "1.2.0",
            "_view_name": "StyleView",
            "description_width": ""
          }
        },
        "eda2058dfec14308883152d17a72d4e6": {
          "model_module": "@jupyter-widgets/controls",
          "model_name": "HBoxModel",
          "model_module_version": "1.5.0",
          "state": {
            "_dom_classes": [],
            "_model_module": "@jupyter-widgets/controls",
            "_model_module_version": "1.5.0",
            "_model_name": "HBoxModel",
            "_view_count": null,
            "_view_module": "@jupyter-widgets/controls",
            "_view_module_version": "1.5.0",
            "_view_name": "HBoxView",
            "box_style": "",
            "children": [
              "IPY_MODEL_093828a799624e9ab3cff707fc99ed8c",
              "IPY_MODEL_07e56f1a30ad4fa9b72c52db55151c48",
              "IPY_MODEL_343ad128c50f40608ed801c8628d240a"
            ],
            "layout": "IPY_MODEL_64986f9bd2ec4fe18f5d8dfe8490efba"
          }
        },
        "093828a799624e9ab3cff707fc99ed8c": {
          "model_module": "@jupyter-widgets/controls",
          "model_name": "HTMLModel",
          "model_module_version": "1.5.0",
          "state": {
            "_dom_classes": [],
            "_model_module": "@jupyter-widgets/controls",
            "_model_module_version": "1.5.0",
            "_model_name": "HTMLModel",
            "_view_count": null,
            "_view_module": "@jupyter-widgets/controls",
            "_view_module_version": "1.5.0",
            "_view_name": "HTMLView",
            "description": "",
            "description_tooltip": null,
            "layout": "IPY_MODEL_541a2202d43048ec820f44c0c5720ecf",
            "placeholder": "​",
            "style": "IPY_MODEL_937514e24a86446da774999ea8513e76",
            "value": "test.json: 100%"
          }
        },
        "07e56f1a30ad4fa9b72c52db55151c48": {
          "model_module": "@jupyter-widgets/controls",
          "model_name": "FloatProgressModel",
          "model_module_version": "1.5.0",
          "state": {
            "_dom_classes": [],
            "_model_module": "@jupyter-widgets/controls",
            "_model_module_version": "1.5.0",
            "_model_name": "FloatProgressModel",
            "_view_count": null,
            "_view_module": "@jupyter-widgets/controls",
            "_view_module_version": "1.5.0",
            "_view_name": "ProgressView",
            "bar_style": "success",
            "description": "",
            "description_tooltip": null,
            "layout": "IPY_MODEL_3b6f97f6a0e44a1b9d314b9c4e454169",
            "max": 372789,
            "min": 0,
            "orientation": "horizontal",
            "style": "IPY_MODEL_471c559672de4ad89779c6f5302e89b2",
            "value": 372789
          }
        },
        "343ad128c50f40608ed801c8628d240a": {
          "model_module": "@jupyter-widgets/controls",
          "model_name": "HTMLModel",
          "model_module_version": "1.5.0",
          "state": {
            "_dom_classes": [],
            "_model_module": "@jupyter-widgets/controls",
            "_model_module_version": "1.5.0",
            "_model_name": "HTMLModel",
            "_view_count": null,
            "_view_module": "@jupyter-widgets/controls",
            "_view_module_version": "1.5.0",
            "_view_name": "HTMLView",
            "description": "",
            "description_tooltip": null,
            "layout": "IPY_MODEL_9af2cd34b99843c488f6cc31b6488e0a",
            "placeholder": "​",
            "style": "IPY_MODEL_4b261d6fcfe34f759e8906990627dba9",
            "value": " 373k/373k [00:00&lt;00:00, 5.39MB/s]"
          }
        },
        "64986f9bd2ec4fe18f5d8dfe8490efba": {
          "model_module": "@jupyter-widgets/base",
          "model_name": "LayoutModel",
          "model_module_version": "1.2.0",
          "state": {
            "_model_module": "@jupyter-widgets/base",
            "_model_module_version": "1.2.0",
            "_model_name": "LayoutModel",
            "_view_count": null,
            "_view_module": "@jupyter-widgets/base",
            "_view_module_version": "1.2.0",
            "_view_name": "LayoutView",
            "align_content": null,
            "align_items": null,
            "align_self": null,
            "border": null,
            "bottom": null,
            "display": null,
            "flex": null,
            "flex_flow": null,
            "grid_area": null,
            "grid_auto_columns": null,
            "grid_auto_flow": null,
            "grid_auto_rows": null,
            "grid_column": null,
            "grid_gap": null,
            "grid_row": null,
            "grid_template_areas": null,
            "grid_template_columns": null,
            "grid_template_rows": null,
            "height": null,
            "justify_content": null,
            "justify_items": null,
            "left": null,
            "margin": null,
            "max_height": null,
            "max_width": null,
            "min_height": null,
            "min_width": null,
            "object_fit": null,
            "object_position": null,
            "order": null,
            "overflow": null,
            "overflow_x": null,
            "overflow_y": null,
            "padding": null,
            "right": null,
            "top": null,
            "visibility": null,
            "width": null
          }
        },
        "541a2202d43048ec820f44c0c5720ecf": {
          "model_module": "@jupyter-widgets/base",
          "model_name": "LayoutModel",
          "model_module_version": "1.2.0",
          "state": {
            "_model_module": "@jupyter-widgets/base",
            "_model_module_version": "1.2.0",
            "_model_name": "LayoutModel",
            "_view_count": null,
            "_view_module": "@jupyter-widgets/base",
            "_view_module_version": "1.2.0",
            "_view_name": "LayoutView",
            "align_content": null,
            "align_items": null,
            "align_self": null,
            "border": null,
            "bottom": null,
            "display": null,
            "flex": null,
            "flex_flow": null,
            "grid_area": null,
            "grid_auto_columns": null,
            "grid_auto_flow": null,
            "grid_auto_rows": null,
            "grid_column": null,
            "grid_gap": null,
            "grid_row": null,
            "grid_template_areas": null,
            "grid_template_columns": null,
            "grid_template_rows": null,
            "height": null,
            "justify_content": null,
            "justify_items": null,
            "left": null,
            "margin": null,
            "max_height": null,
            "max_width": null,
            "min_height": null,
            "min_width": null,
            "object_fit": null,
            "object_position": null,
            "order": null,
            "overflow": null,
            "overflow_x": null,
            "overflow_y": null,
            "padding": null,
            "right": null,
            "top": null,
            "visibility": null,
            "width": null
          }
        },
        "937514e24a86446da774999ea8513e76": {
          "model_module": "@jupyter-widgets/controls",
          "model_name": "DescriptionStyleModel",
          "model_module_version": "1.5.0",
          "state": {
            "_model_module": "@jupyter-widgets/controls",
            "_model_module_version": "1.5.0",
            "_model_name": "DescriptionStyleModel",
            "_view_count": null,
            "_view_module": "@jupyter-widgets/base",
            "_view_module_version": "1.2.0",
            "_view_name": "StyleView",
            "description_width": ""
          }
        },
        "3b6f97f6a0e44a1b9d314b9c4e454169": {
          "model_module": "@jupyter-widgets/base",
          "model_name": "LayoutModel",
          "model_module_version": "1.2.0",
          "state": {
            "_model_module": "@jupyter-widgets/base",
            "_model_module_version": "1.2.0",
            "_model_name": "LayoutModel",
            "_view_count": null,
            "_view_module": "@jupyter-widgets/base",
            "_view_module_version": "1.2.0",
            "_view_name": "LayoutView",
            "align_content": null,
            "align_items": null,
            "align_self": null,
            "border": null,
            "bottom": null,
            "display": null,
            "flex": null,
            "flex_flow": null,
            "grid_area": null,
            "grid_auto_columns": null,
            "grid_auto_flow": null,
            "grid_auto_rows": null,
            "grid_column": null,
            "grid_gap": null,
            "grid_row": null,
            "grid_template_areas": null,
            "grid_template_columns": null,
            "grid_template_rows": null,
            "height": null,
            "justify_content": null,
            "justify_items": null,
            "left": null,
            "margin": null,
            "max_height": null,
            "max_width": null,
            "min_height": null,
            "min_width": null,
            "object_fit": null,
            "object_position": null,
            "order": null,
            "overflow": null,
            "overflow_x": null,
            "overflow_y": null,
            "padding": null,
            "right": null,
            "top": null,
            "visibility": null,
            "width": null
          }
        },
        "471c559672de4ad89779c6f5302e89b2": {
          "model_module": "@jupyter-widgets/controls",
          "model_name": "ProgressStyleModel",
          "model_module_version": "1.5.0",
          "state": {
            "_model_module": "@jupyter-widgets/controls",
            "_model_module_version": "1.5.0",
            "_model_name": "ProgressStyleModel",
            "_view_count": null,
            "_view_module": "@jupyter-widgets/base",
            "_view_module_version": "1.2.0",
            "_view_name": "StyleView",
            "bar_color": null,
            "description_width": ""
          }
        },
        "9af2cd34b99843c488f6cc31b6488e0a": {
          "model_module": "@jupyter-widgets/base",
          "model_name": "LayoutModel",
          "model_module_version": "1.2.0",
          "state": {
            "_model_module": "@jupyter-widgets/base",
            "_model_module_version": "1.2.0",
            "_model_name": "LayoutModel",
            "_view_count": null,
            "_view_module": "@jupyter-widgets/base",
            "_view_module_version": "1.2.0",
            "_view_name": "LayoutView",
            "align_content": null,
            "align_items": null,
            "align_self": null,
            "border": null,
            "bottom": null,
            "display": null,
            "flex": null,
            "flex_flow": null,
            "grid_area": null,
            "grid_auto_columns": null,
            "grid_auto_flow": null,
            "grid_auto_rows": null,
            "grid_column": null,
            "grid_gap": null,
            "grid_row": null,
            "grid_template_areas": null,
            "grid_template_columns": null,
            "grid_template_rows": null,
            "height": null,
            "justify_content": null,
            "justify_items": null,
            "left": null,
            "margin": null,
            "max_height": null,
            "max_width": null,
            "min_height": null,
            "min_width": null,
            "object_fit": null,
            "object_position": null,
            "order": null,
            "overflow": null,
            "overflow_x": null,
            "overflow_y": null,
            "padding": null,
            "right": null,
            "top": null,
            "visibility": null,
            "width": null
          }
        },
        "4b261d6fcfe34f759e8906990627dba9": {
          "model_module": "@jupyter-widgets/controls",
          "model_name": "DescriptionStyleModel",
          "model_module_version": "1.5.0",
          "state": {
            "_model_module": "@jupyter-widgets/controls",
            "_model_module_version": "1.5.0",
            "_model_name": "DescriptionStyleModel",
            "_view_count": null,
            "_view_module": "@jupyter-widgets/base",
            "_view_module_version": "1.2.0",
            "_view_name": "StyleView",
            "description_width": ""
          }
        },
        "b6cb751001084e51b884fcb528ef71d9": {
          "model_module": "@jupyter-widgets/controls",
          "model_name": "HBoxModel",
          "model_module_version": "1.5.0",
          "state": {
            "_dom_classes": [],
            "_model_module": "@jupyter-widgets/controls",
            "_model_module_version": "1.5.0",
            "_model_name": "HBoxModel",
            "_view_count": null,
            "_view_module": "@jupyter-widgets/controls",
            "_view_module_version": "1.5.0",
            "_view_name": "HBoxView",
            "box_style": "",
            "children": [
              "IPY_MODEL_f515ec760c094d9aab70d7860c4931f1",
              "IPY_MODEL_aaec497373de45be9c2d7c48edde8014",
              "IPY_MODEL_92e2c733d0274a96b2a285a5a5db600a"
            ],
            "layout": "IPY_MODEL_f3867f05aa8e4c5f8eaf84fc6b365cce"
          }
        },
        "f515ec760c094d9aab70d7860c4931f1": {
          "model_module": "@jupyter-widgets/controls",
          "model_name": "HTMLModel",
          "model_module_version": "1.5.0",
          "state": {
            "_dom_classes": [],
            "_model_module": "@jupyter-widgets/controls",
            "_model_module_version": "1.5.0",
            "_model_name": "HTMLModel",
            "_view_count": null,
            "_view_module": "@jupyter-widgets/controls",
            "_view_module_version": "1.5.0",
            "_view_name": "HTMLView",
            "description": "",
            "description_tooltip": null,
            "layout": "IPY_MODEL_512dcaf5fd52413b83d998347795a9de",
            "placeholder": "​",
            "style": "IPY_MODEL_0fefa4b19fac45a8ac31cff1ae3a573a",
            "value": "Generating train split: 100%"
          }
        },
        "aaec497373de45be9c2d7c48edde8014": {
          "model_module": "@jupyter-widgets/controls",
          "model_name": "FloatProgressModel",
          "model_module_version": "1.5.0",
          "state": {
            "_dom_classes": [],
            "_model_module": "@jupyter-widgets/controls",
            "_model_module_version": "1.5.0",
            "_model_name": "FloatProgressModel",
            "_view_count": null,
            "_view_module": "@jupyter-widgets/controls",
            "_view_module_version": "1.5.0",
            "_view_name": "ProgressView",
            "bar_style": "success",
            "description": "",
            "description_tooltip": null,
            "layout": "IPY_MODEL_db4d58079ae846d39eb8a740f9976b2d",
            "max": 30296,
            "min": 0,
            "orientation": "horizontal",
            "style": "IPY_MODEL_af2ce8077e6a47069dc0052051ab2bfd",
            "value": 30296
          }
        },
        "92e2c733d0274a96b2a285a5a5db600a": {
          "model_module": "@jupyter-widgets/controls",
          "model_name": "HTMLModel",
          "model_module_version": "1.5.0",
          "state": {
            "_dom_classes": [],
            "_model_module": "@jupyter-widgets/controls",
            "_model_module_version": "1.5.0",
            "_model_name": "HTMLModel",
            "_view_count": null,
            "_view_module": "@jupyter-widgets/controls",
            "_view_module_version": "1.5.0",
            "_view_name": "HTMLView",
            "description": "",
            "description_tooltip": null,
            "layout": "IPY_MODEL_fda60762346d422fa9a74bf5b67a916a",
            "placeholder": "​",
            "style": "IPY_MODEL_4ed3dbd9f9ba4423b7a7f89dcf39278b",
            "value": " 30296/30296 [00:00&lt;00:00, 145557.45 examples/s]"
          }
        },
        "f3867f05aa8e4c5f8eaf84fc6b365cce": {
          "model_module": "@jupyter-widgets/base",
          "model_name": "LayoutModel",
          "model_module_version": "1.2.0",
          "state": {
            "_model_module": "@jupyter-widgets/base",
            "_model_module_version": "1.2.0",
            "_model_name": "LayoutModel",
            "_view_count": null,
            "_view_module": "@jupyter-widgets/base",
            "_view_module_version": "1.2.0",
            "_view_name": "LayoutView",
            "align_content": null,
            "align_items": null,
            "align_self": null,
            "border": null,
            "bottom": null,
            "display": null,
            "flex": null,
            "flex_flow": null,
            "grid_area": null,
            "grid_auto_columns": null,
            "grid_auto_flow": null,
            "grid_auto_rows": null,
            "grid_column": null,
            "grid_gap": null,
            "grid_row": null,
            "grid_template_areas": null,
            "grid_template_columns": null,
            "grid_template_rows": null,
            "height": null,
            "justify_content": null,
            "justify_items": null,
            "left": null,
            "margin": null,
            "max_height": null,
            "max_width": null,
            "min_height": null,
            "min_width": null,
            "object_fit": null,
            "object_position": null,
            "order": null,
            "overflow": null,
            "overflow_x": null,
            "overflow_y": null,
            "padding": null,
            "right": null,
            "top": null,
            "visibility": null,
            "width": null
          }
        },
        "512dcaf5fd52413b83d998347795a9de": {
          "model_module": "@jupyter-widgets/base",
          "model_name": "LayoutModel",
          "model_module_version": "1.2.0",
          "state": {
            "_model_module": "@jupyter-widgets/base",
            "_model_module_version": "1.2.0",
            "_model_name": "LayoutModel",
            "_view_count": null,
            "_view_module": "@jupyter-widgets/base",
            "_view_module_version": "1.2.0",
            "_view_name": "LayoutView",
            "align_content": null,
            "align_items": null,
            "align_self": null,
            "border": null,
            "bottom": null,
            "display": null,
            "flex": null,
            "flex_flow": null,
            "grid_area": null,
            "grid_auto_columns": null,
            "grid_auto_flow": null,
            "grid_auto_rows": null,
            "grid_column": null,
            "grid_gap": null,
            "grid_row": null,
            "grid_template_areas": null,
            "grid_template_columns": null,
            "grid_template_rows": null,
            "height": null,
            "justify_content": null,
            "justify_items": null,
            "left": null,
            "margin": null,
            "max_height": null,
            "max_width": null,
            "min_height": null,
            "min_width": null,
            "object_fit": null,
            "object_position": null,
            "order": null,
            "overflow": null,
            "overflow_x": null,
            "overflow_y": null,
            "padding": null,
            "right": null,
            "top": null,
            "visibility": null,
            "width": null
          }
        },
        "0fefa4b19fac45a8ac31cff1ae3a573a": {
          "model_module": "@jupyter-widgets/controls",
          "model_name": "DescriptionStyleModel",
          "model_module_version": "1.5.0",
          "state": {
            "_model_module": "@jupyter-widgets/controls",
            "_model_module_version": "1.5.0",
            "_model_name": "DescriptionStyleModel",
            "_view_count": null,
            "_view_module": "@jupyter-widgets/base",
            "_view_module_version": "1.2.0",
            "_view_name": "StyleView",
            "description_width": ""
          }
        },
        "db4d58079ae846d39eb8a740f9976b2d": {
          "model_module": "@jupyter-widgets/base",
          "model_name": "LayoutModel",
          "model_module_version": "1.2.0",
          "state": {
            "_model_module": "@jupyter-widgets/base",
            "_model_module_version": "1.2.0",
            "_model_name": "LayoutModel",
            "_view_count": null,
            "_view_module": "@jupyter-widgets/base",
            "_view_module_version": "1.2.0",
            "_view_name": "LayoutView",
            "align_content": null,
            "align_items": null,
            "align_self": null,
            "border": null,
            "bottom": null,
            "display": null,
            "flex": null,
            "flex_flow": null,
            "grid_area": null,
            "grid_auto_columns": null,
            "grid_auto_flow": null,
            "grid_auto_rows": null,
            "grid_column": null,
            "grid_gap": null,
            "grid_row": null,
            "grid_template_areas": null,
            "grid_template_columns": null,
            "grid_template_rows": null,
            "height": null,
            "justify_content": null,
            "justify_items": null,
            "left": null,
            "margin": null,
            "max_height": null,
            "max_width": null,
            "min_height": null,
            "min_width": null,
            "object_fit": null,
            "object_position": null,
            "order": null,
            "overflow": null,
            "overflow_x": null,
            "overflow_y": null,
            "padding": null,
            "right": null,
            "top": null,
            "visibility": null,
            "width": null
          }
        },
        "af2ce8077e6a47069dc0052051ab2bfd": {
          "model_module": "@jupyter-widgets/controls",
          "model_name": "ProgressStyleModel",
          "model_module_version": "1.5.0",
          "state": {
            "_model_module": "@jupyter-widgets/controls",
            "_model_module_version": "1.5.0",
            "_model_name": "ProgressStyleModel",
            "_view_count": null,
            "_view_module": "@jupyter-widgets/base",
            "_view_module_version": "1.2.0",
            "_view_name": "StyleView",
            "bar_color": null,
            "description_width": ""
          }
        },
        "fda60762346d422fa9a74bf5b67a916a": {
          "model_module": "@jupyter-widgets/base",
          "model_name": "LayoutModel",
          "model_module_version": "1.2.0",
          "state": {
            "_model_module": "@jupyter-widgets/base",
            "_model_module_version": "1.2.0",
            "_model_name": "LayoutModel",
            "_view_count": null,
            "_view_module": "@jupyter-widgets/base",
            "_view_module_version": "1.2.0",
            "_view_name": "LayoutView",
            "align_content": null,
            "align_items": null,
            "align_self": null,
            "border": null,
            "bottom": null,
            "display": null,
            "flex": null,
            "flex_flow": null,
            "grid_area": null,
            "grid_auto_columns": null,
            "grid_auto_flow": null,
            "grid_auto_rows": null,
            "grid_column": null,
            "grid_gap": null,
            "grid_row": null,
            "grid_template_areas": null,
            "grid_template_columns": null,
            "grid_template_rows": null,
            "height": null,
            "justify_content": null,
            "justify_items": null,
            "left": null,
            "margin": null,
            "max_height": null,
            "max_width": null,
            "min_height": null,
            "min_width": null,
            "object_fit": null,
            "object_position": null,
            "order": null,
            "overflow": null,
            "overflow_x": null,
            "overflow_y": null,
            "padding": null,
            "right": null,
            "top": null,
            "visibility": null,
            "width": null
          }
        },
        "4ed3dbd9f9ba4423b7a7f89dcf39278b": {
          "model_module": "@jupyter-widgets/controls",
          "model_name": "DescriptionStyleModel",
          "model_module_version": "1.5.0",
          "state": {
            "_model_module": "@jupyter-widgets/controls",
            "_model_module_version": "1.5.0",
            "_model_name": "DescriptionStyleModel",
            "_view_count": null,
            "_view_module": "@jupyter-widgets/base",
            "_view_module_version": "1.2.0",
            "_view_name": "StyleView",
            "description_width": ""
          }
        },
        "801ee77267884b0288208bba6f479773": {
          "model_module": "@jupyter-widgets/controls",
          "model_name": "HBoxModel",
          "model_module_version": "1.5.0",
          "state": {
            "_dom_classes": [],
            "_model_module": "@jupyter-widgets/controls",
            "_model_module_version": "1.5.0",
            "_model_name": "HBoxModel",
            "_view_count": null,
            "_view_module": "@jupyter-widgets/controls",
            "_view_module_version": "1.5.0",
            "_view_name": "HBoxView",
            "box_style": "",
            "children": [
              "IPY_MODEL_5da5846b2bc94844a6d269f5a471c4d5",
              "IPY_MODEL_06e7f2e3086943f6b9173793b0e47efa",
              "IPY_MODEL_cf9d3c6fdc17469a8d164456f58a8a74"
            ],
            "layout": "IPY_MODEL_d62a04c28dc04f579469253d4aea9e41"
          }
        },
        "5da5846b2bc94844a6d269f5a471c4d5": {
          "model_module": "@jupyter-widgets/controls",
          "model_name": "HTMLModel",
          "model_module_version": "1.5.0",
          "state": {
            "_dom_classes": [],
            "_model_module": "@jupyter-widgets/controls",
            "_model_module_version": "1.5.0",
            "_model_name": "HTMLModel",
            "_view_count": null,
            "_view_module": "@jupyter-widgets/controls",
            "_view_module_version": "1.5.0",
            "_view_name": "HTMLView",
            "description": "",
            "description_tooltip": null,
            "layout": "IPY_MODEL_129515c3309a41438176dd4cee7d1de9",
            "placeholder": "​",
            "style": "IPY_MODEL_86c1a0b791944b5185584f0debbd7c7a",
            "value": "Generating validation split: 100%"
          }
        },
        "06e7f2e3086943f6b9173793b0e47efa": {
          "model_module": "@jupyter-widgets/controls",
          "model_name": "FloatProgressModel",
          "model_module_version": "1.5.0",
          "state": {
            "_dom_classes": [],
            "_model_module": "@jupyter-widgets/controls",
            "_model_module_version": "1.5.0",
            "_model_name": "FloatProgressModel",
            "_view_count": null,
            "_view_module": "@jupyter-widgets/controls",
            "_view_module_version": "1.5.0",
            "_view_name": "ProgressView",
            "bar_style": "success",
            "description": "",
            "description_tooltip": null,
            "layout": "IPY_MODEL_f6c91e611c864c0a9fd705e8603dccee",
            "max": 3787,
            "min": 0,
            "orientation": "horizontal",
            "style": "IPY_MODEL_6eeaea18d45e4301a0a9415010436732",
            "value": 3787
          }
        },
        "cf9d3c6fdc17469a8d164456f58a8a74": {
          "model_module": "@jupyter-widgets/controls",
          "model_name": "HTMLModel",
          "model_module_version": "1.5.0",
          "state": {
            "_dom_classes": [],
            "_model_module": "@jupyter-widgets/controls",
            "_model_module_version": "1.5.0",
            "_model_name": "HTMLModel",
            "_view_count": null,
            "_view_module": "@jupyter-widgets/controls",
            "_view_module_version": "1.5.0",
            "_view_name": "HTMLView",
            "description": "",
            "description_tooltip": null,
            "layout": "IPY_MODEL_ad79c10b3128408aa7d7ae21fc52f90b",
            "placeholder": "​",
            "style": "IPY_MODEL_673b922c999a4f5b803d6e7d20359229",
            "value": " 3787/3787 [00:00&lt;00:00, 74949.88 examples/s]"
          }
        },
        "d62a04c28dc04f579469253d4aea9e41": {
          "model_module": "@jupyter-widgets/base",
          "model_name": "LayoutModel",
          "model_module_version": "1.2.0",
          "state": {
            "_model_module": "@jupyter-widgets/base",
            "_model_module_version": "1.2.0",
            "_model_name": "LayoutModel",
            "_view_count": null,
            "_view_module": "@jupyter-widgets/base",
            "_view_module_version": "1.2.0",
            "_view_name": "LayoutView",
            "align_content": null,
            "align_items": null,
            "align_self": null,
            "border": null,
            "bottom": null,
            "display": null,
            "flex": null,
            "flex_flow": null,
            "grid_area": null,
            "grid_auto_columns": null,
            "grid_auto_flow": null,
            "grid_auto_rows": null,
            "grid_column": null,
            "grid_gap": null,
            "grid_row": null,
            "grid_template_areas": null,
            "grid_template_columns": null,
            "grid_template_rows": null,
            "height": null,
            "justify_content": null,
            "justify_items": null,
            "left": null,
            "margin": null,
            "max_height": null,
            "max_width": null,
            "min_height": null,
            "min_width": null,
            "object_fit": null,
            "object_position": null,
            "order": null,
            "overflow": null,
            "overflow_x": null,
            "overflow_y": null,
            "padding": null,
            "right": null,
            "top": null,
            "visibility": null,
            "width": null
          }
        },
        "129515c3309a41438176dd4cee7d1de9": {
          "model_module": "@jupyter-widgets/base",
          "model_name": "LayoutModel",
          "model_module_version": "1.2.0",
          "state": {
            "_model_module": "@jupyter-widgets/base",
            "_model_module_version": "1.2.0",
            "_model_name": "LayoutModel",
            "_view_count": null,
            "_view_module": "@jupyter-widgets/base",
            "_view_module_version": "1.2.0",
            "_view_name": "LayoutView",
            "align_content": null,
            "align_items": null,
            "align_self": null,
            "border": null,
            "bottom": null,
            "display": null,
            "flex": null,
            "flex_flow": null,
            "grid_area": null,
            "grid_auto_columns": null,
            "grid_auto_flow": null,
            "grid_auto_rows": null,
            "grid_column": null,
            "grid_gap": null,
            "grid_row": null,
            "grid_template_areas": null,
            "grid_template_columns": null,
            "grid_template_rows": null,
            "height": null,
            "justify_content": null,
            "justify_items": null,
            "left": null,
            "margin": null,
            "max_height": null,
            "max_width": null,
            "min_height": null,
            "min_width": null,
            "object_fit": null,
            "object_position": null,
            "order": null,
            "overflow": null,
            "overflow_x": null,
            "overflow_y": null,
            "padding": null,
            "right": null,
            "top": null,
            "visibility": null,
            "width": null
          }
        },
        "86c1a0b791944b5185584f0debbd7c7a": {
          "model_module": "@jupyter-widgets/controls",
          "model_name": "DescriptionStyleModel",
          "model_module_version": "1.5.0",
          "state": {
            "_model_module": "@jupyter-widgets/controls",
            "_model_module_version": "1.5.0",
            "_model_name": "DescriptionStyleModel",
            "_view_count": null,
            "_view_module": "@jupyter-widgets/base",
            "_view_module_version": "1.2.0",
            "_view_name": "StyleView",
            "description_width": ""
          }
        },
        "f6c91e611c864c0a9fd705e8603dccee": {
          "model_module": "@jupyter-widgets/base",
          "model_name": "LayoutModel",
          "model_module_version": "1.2.0",
          "state": {
            "_model_module": "@jupyter-widgets/base",
            "_model_module_version": "1.2.0",
            "_model_name": "LayoutModel",
            "_view_count": null,
            "_view_module": "@jupyter-widgets/base",
            "_view_module_version": "1.2.0",
            "_view_name": "LayoutView",
            "align_content": null,
            "align_items": null,
            "align_self": null,
            "border": null,
            "bottom": null,
            "display": null,
            "flex": null,
            "flex_flow": null,
            "grid_area": null,
            "grid_auto_columns": null,
            "grid_auto_flow": null,
            "grid_auto_rows": null,
            "grid_column": null,
            "grid_gap": null,
            "grid_row": null,
            "grid_template_areas": null,
            "grid_template_columns": null,
            "grid_template_rows": null,
            "height": null,
            "justify_content": null,
            "justify_items": null,
            "left": null,
            "margin": null,
            "max_height": null,
            "max_width": null,
            "min_height": null,
            "min_width": null,
            "object_fit": null,
            "object_position": null,
            "order": null,
            "overflow": null,
            "overflow_x": null,
            "overflow_y": null,
            "padding": null,
            "right": null,
            "top": null,
            "visibility": null,
            "width": null
          }
        },
        "6eeaea18d45e4301a0a9415010436732": {
          "model_module": "@jupyter-widgets/controls",
          "model_name": "ProgressStyleModel",
          "model_module_version": "1.5.0",
          "state": {
            "_model_module": "@jupyter-widgets/controls",
            "_model_module_version": "1.5.0",
            "_model_name": "ProgressStyleModel",
            "_view_count": null,
            "_view_module": "@jupyter-widgets/base",
            "_view_module_version": "1.2.0",
            "_view_name": "StyleView",
            "bar_color": null,
            "description_width": ""
          }
        },
        "ad79c10b3128408aa7d7ae21fc52f90b": {
          "model_module": "@jupyter-widgets/base",
          "model_name": "LayoutModel",
          "model_module_version": "1.2.0",
          "state": {
            "_model_module": "@jupyter-widgets/base",
            "_model_module_version": "1.2.0",
            "_model_name": "LayoutModel",
            "_view_count": null,
            "_view_module": "@jupyter-widgets/base",
            "_view_module_version": "1.2.0",
            "_view_name": "LayoutView",
            "align_content": null,
            "align_items": null,
            "align_self": null,
            "border": null,
            "bottom": null,
            "display": null,
            "flex": null,
            "flex_flow": null,
            "grid_area": null,
            "grid_auto_columns": null,
            "grid_auto_flow": null,
            "grid_auto_rows": null,
            "grid_column": null,
            "grid_gap": null,
            "grid_row": null,
            "grid_template_areas": null,
            "grid_template_columns": null,
            "grid_template_rows": null,
            "height": null,
            "justify_content": null,
            "justify_items": null,
            "left": null,
            "margin": null,
            "max_height": null,
            "max_width": null,
            "min_height": null,
            "min_width": null,
            "object_fit": null,
            "object_position": null,
            "order": null,
            "overflow": null,
            "overflow_x": null,
            "overflow_y": null,
            "padding": null,
            "right": null,
            "top": null,
            "visibility": null,
            "width": null
          }
        },
        "673b922c999a4f5b803d6e7d20359229": {
          "model_module": "@jupyter-widgets/controls",
          "model_name": "DescriptionStyleModel",
          "model_module_version": "1.5.0",
          "state": {
            "_model_module": "@jupyter-widgets/controls",
            "_model_module_version": "1.5.0",
            "_model_name": "DescriptionStyleModel",
            "_view_count": null,
            "_view_module": "@jupyter-widgets/base",
            "_view_module_version": "1.2.0",
            "_view_name": "StyleView",
            "description_width": ""
          }
        },
        "9447df55cf2b4b34b9cac5eaef9e08d0": {
          "model_module": "@jupyter-widgets/controls",
          "model_name": "HBoxModel",
          "model_module_version": "1.5.0",
          "state": {
            "_dom_classes": [],
            "_model_module": "@jupyter-widgets/controls",
            "_model_module_version": "1.5.0",
            "_model_name": "HBoxModel",
            "_view_count": null,
            "_view_module": "@jupyter-widgets/controls",
            "_view_module_version": "1.5.0",
            "_view_name": "HBoxView",
            "box_style": "",
            "children": [
              "IPY_MODEL_e0db044c196540d6a5de13308ef1be15",
              "IPY_MODEL_37da8d3b03914b03a399335ead0b832c",
              "IPY_MODEL_ada5d8da6f4247d4ab6e64be7f32b894"
            ],
            "layout": "IPY_MODEL_e8c2febf09ae4dd2a7e54bde61a44285"
          }
        },
        "e0db044c196540d6a5de13308ef1be15": {
          "model_module": "@jupyter-widgets/controls",
          "model_name": "HTMLModel",
          "model_module_version": "1.5.0",
          "state": {
            "_dom_classes": [],
            "_model_module": "@jupyter-widgets/controls",
            "_model_module_version": "1.5.0",
            "_model_name": "HTMLModel",
            "_view_count": null,
            "_view_module": "@jupyter-widgets/controls",
            "_view_module_version": "1.5.0",
            "_view_name": "HTMLView",
            "description": "",
            "description_tooltip": null,
            "layout": "IPY_MODEL_2577552fce1c4f179e0e80bcb733688b",
            "placeholder": "​",
            "style": "IPY_MODEL_54a744c1f4b546e9bca3d1d54dbb7f6b",
            "value": "Generating test split: 100%"
          }
        },
        "37da8d3b03914b03a399335ead0b832c": {
          "model_module": "@jupyter-widgets/controls",
          "model_name": "FloatProgressModel",
          "model_module_version": "1.5.0",
          "state": {
            "_dom_classes": [],
            "_model_module": "@jupyter-widgets/controls",
            "_model_module_version": "1.5.0",
            "_model_name": "FloatProgressModel",
            "_view_count": null,
            "_view_module": "@jupyter-widgets/controls",
            "_view_module_version": "1.5.0",
            "_view_name": "ProgressView",
            "bar_style": "success",
            "description": "",
            "description_tooltip": null,
            "layout": "IPY_MODEL_43c38a5a020d479db263efff4953e4ad",
            "max": 3787,
            "min": 0,
            "orientation": "horizontal",
            "style": "IPY_MODEL_f07f8a023a444f62ae7ca7f12c5a22f4",
            "value": 3787
          }
        },
        "ada5d8da6f4247d4ab6e64be7f32b894": {
          "model_module": "@jupyter-widgets/controls",
          "model_name": "HTMLModel",
          "model_module_version": "1.5.0",
          "state": {
            "_dom_classes": [],
            "_model_module": "@jupyter-widgets/controls",
            "_model_module_version": "1.5.0",
            "_model_name": "HTMLModel",
            "_view_count": null,
            "_view_module": "@jupyter-widgets/controls",
            "_view_module_version": "1.5.0",
            "_view_name": "HTMLView",
            "description": "",
            "description_tooltip": null,
            "layout": "IPY_MODEL_72f7f1160f8145a7b25c55261db39c38",
            "placeholder": "​",
            "style": "IPY_MODEL_fd718d90933545d6abcc1f330b9e99d3",
            "value": " 3787/3787 [00:00&lt;00:00, 75600.20 examples/s]"
          }
        },
        "e8c2febf09ae4dd2a7e54bde61a44285": {
          "model_module": "@jupyter-widgets/base",
          "model_name": "LayoutModel",
          "model_module_version": "1.2.0",
          "state": {
            "_model_module": "@jupyter-widgets/base",
            "_model_module_version": "1.2.0",
            "_model_name": "LayoutModel",
            "_view_count": null,
            "_view_module": "@jupyter-widgets/base",
            "_view_module_version": "1.2.0",
            "_view_name": "LayoutView",
            "align_content": null,
            "align_items": null,
            "align_self": null,
            "border": null,
            "bottom": null,
            "display": null,
            "flex": null,
            "flex_flow": null,
            "grid_area": null,
            "grid_auto_columns": null,
            "grid_auto_flow": null,
            "grid_auto_rows": null,
            "grid_column": null,
            "grid_gap": null,
            "grid_row": null,
            "grid_template_areas": null,
            "grid_template_columns": null,
            "grid_template_rows": null,
            "height": null,
            "justify_content": null,
            "justify_items": null,
            "left": null,
            "margin": null,
            "max_height": null,
            "max_width": null,
            "min_height": null,
            "min_width": null,
            "object_fit": null,
            "object_position": null,
            "order": null,
            "overflow": null,
            "overflow_x": null,
            "overflow_y": null,
            "padding": null,
            "right": null,
            "top": null,
            "visibility": null,
            "width": null
          }
        },
        "2577552fce1c4f179e0e80bcb733688b": {
          "model_module": "@jupyter-widgets/base",
          "model_name": "LayoutModel",
          "model_module_version": "1.2.0",
          "state": {
            "_model_module": "@jupyter-widgets/base",
            "_model_module_version": "1.2.0",
            "_model_name": "LayoutModel",
            "_view_count": null,
            "_view_module": "@jupyter-widgets/base",
            "_view_module_version": "1.2.0",
            "_view_name": "LayoutView",
            "align_content": null,
            "align_items": null,
            "align_self": null,
            "border": null,
            "bottom": null,
            "display": null,
            "flex": null,
            "flex_flow": null,
            "grid_area": null,
            "grid_auto_columns": null,
            "grid_auto_flow": null,
            "grid_auto_rows": null,
            "grid_column": null,
            "grid_gap": null,
            "grid_row": null,
            "grid_template_areas": null,
            "grid_template_columns": null,
            "grid_template_rows": null,
            "height": null,
            "justify_content": null,
            "justify_items": null,
            "left": null,
            "margin": null,
            "max_height": null,
            "max_width": null,
            "min_height": null,
            "min_width": null,
            "object_fit": null,
            "object_position": null,
            "order": null,
            "overflow": null,
            "overflow_x": null,
            "overflow_y": null,
            "padding": null,
            "right": null,
            "top": null,
            "visibility": null,
            "width": null
          }
        },
        "54a744c1f4b546e9bca3d1d54dbb7f6b": {
          "model_module": "@jupyter-widgets/controls",
          "model_name": "DescriptionStyleModel",
          "model_module_version": "1.5.0",
          "state": {
            "_model_module": "@jupyter-widgets/controls",
            "_model_module_version": "1.5.0",
            "_model_name": "DescriptionStyleModel",
            "_view_count": null,
            "_view_module": "@jupyter-widgets/base",
            "_view_module_version": "1.2.0",
            "_view_name": "StyleView",
            "description_width": ""
          }
        },
        "43c38a5a020d479db263efff4953e4ad": {
          "model_module": "@jupyter-widgets/base",
          "model_name": "LayoutModel",
          "model_module_version": "1.2.0",
          "state": {
            "_model_module": "@jupyter-widgets/base",
            "_model_module_version": "1.2.0",
            "_model_name": "LayoutModel",
            "_view_count": null,
            "_view_module": "@jupyter-widgets/base",
            "_view_module_version": "1.2.0",
            "_view_name": "LayoutView",
            "align_content": null,
            "align_items": null,
            "align_self": null,
            "border": null,
            "bottom": null,
            "display": null,
            "flex": null,
            "flex_flow": null,
            "grid_area": null,
            "grid_auto_columns": null,
            "grid_auto_flow": null,
            "grid_auto_rows": null,
            "grid_column": null,
            "grid_gap": null,
            "grid_row": null,
            "grid_template_areas": null,
            "grid_template_columns": null,
            "grid_template_rows": null,
            "height": null,
            "justify_content": null,
            "justify_items": null,
            "left": null,
            "margin": null,
            "max_height": null,
            "max_width": null,
            "min_height": null,
            "min_width": null,
            "object_fit": null,
            "object_position": null,
            "order": null,
            "overflow": null,
            "overflow_x": null,
            "overflow_y": null,
            "padding": null,
            "right": null,
            "top": null,
            "visibility": null,
            "width": null
          }
        },
        "f07f8a023a444f62ae7ca7f12c5a22f4": {
          "model_module": "@jupyter-widgets/controls",
          "model_name": "ProgressStyleModel",
          "model_module_version": "1.5.0",
          "state": {
            "_model_module": "@jupyter-widgets/controls",
            "_model_module_version": "1.5.0",
            "_model_name": "ProgressStyleModel",
            "_view_count": null,
            "_view_module": "@jupyter-widgets/base",
            "_view_module_version": "1.2.0",
            "_view_name": "StyleView",
            "bar_color": null,
            "description_width": ""
          }
        },
        "72f7f1160f8145a7b25c55261db39c38": {
          "model_module": "@jupyter-widgets/base",
          "model_name": "LayoutModel",
          "model_module_version": "1.2.0",
          "state": {
            "_model_module": "@jupyter-widgets/base",
            "_model_module_version": "1.2.0",
            "_model_name": "LayoutModel",
            "_view_count": null,
            "_view_module": "@jupyter-widgets/base",
            "_view_module_version": "1.2.0",
            "_view_name": "LayoutView",
            "align_content": null,
            "align_items": null,
            "align_self": null,
            "border": null,
            "bottom": null,
            "display": null,
            "flex": null,
            "flex_flow": null,
            "grid_area": null,
            "grid_auto_columns": null,
            "grid_auto_flow": null,
            "grid_auto_rows": null,
            "grid_column": null,
            "grid_gap": null,
            "grid_row": null,
            "grid_template_areas": null,
            "grid_template_columns": null,
            "grid_template_rows": null,
            "height": null,
            "justify_content": null,
            "justify_items": null,
            "left": null,
            "margin": null,
            "max_height": null,
            "max_width": null,
            "min_height": null,
            "min_width": null,
            "object_fit": null,
            "object_position": null,
            "order": null,
            "overflow": null,
            "overflow_x": null,
            "overflow_y": null,
            "padding": null,
            "right": null,
            "top": null,
            "visibility": null,
            "width": null
          }
        },
        "fd718d90933545d6abcc1f330b9e99d3": {
          "model_module": "@jupyter-widgets/controls",
          "model_name": "DescriptionStyleModel",
          "model_module_version": "1.5.0",
          "state": {
            "_model_module": "@jupyter-widgets/controls",
            "_model_module_version": "1.5.0",
            "_model_name": "DescriptionStyleModel",
            "_view_count": null,
            "_view_module": "@jupyter-widgets/base",
            "_view_module_version": "1.2.0",
            "_view_name": "StyleView",
            "description_width": ""
          }
        },
        "e44823e1168a470786f72146166625cf": {
          "model_module": "@jupyter-widgets/controls",
          "model_name": "HBoxModel",
          "model_module_version": "1.5.0",
          "state": {
            "_dom_classes": [],
            "_model_module": "@jupyter-widgets/controls",
            "_model_module_version": "1.5.0",
            "_model_name": "HBoxModel",
            "_view_count": null,
            "_view_module": "@jupyter-widgets/controls",
            "_view_module_version": "1.5.0",
            "_view_name": "HBoxView",
            "box_style": "",
            "children": [
              "IPY_MODEL_3a5a9568cd464d2ea06462eec226ff36",
              "IPY_MODEL_1e51647960da40f1a5629117f1f8144b",
              "IPY_MODEL_ab20fb3002f54139aa593dce28ae5684"
            ],
            "layout": "IPY_MODEL_9737210cbed942f6a39f4cdba7e38a1e"
          }
        },
        "3a5a9568cd464d2ea06462eec226ff36": {
          "model_module": "@jupyter-widgets/controls",
          "model_name": "HTMLModel",
          "model_module_version": "1.5.0",
          "state": {
            "_dom_classes": [],
            "_model_module": "@jupyter-widgets/controls",
            "_model_module_version": "1.5.0",
            "_model_name": "HTMLModel",
            "_view_count": null,
            "_view_module": "@jupyter-widgets/controls",
            "_view_module_version": "1.5.0",
            "_view_name": "HTMLView",
            "description": "",
            "description_tooltip": null,
            "layout": "IPY_MODEL_0978f3806a454f1fbf5f9491a8000652",
            "placeholder": "​",
            "style": "IPY_MODEL_8c0f045783ce4190b969cd846deac675",
            "value": "tokenizer_config.json: 100%"
          }
        },
        "1e51647960da40f1a5629117f1f8144b": {
          "model_module": "@jupyter-widgets/controls",
          "model_name": "FloatProgressModel",
          "model_module_version": "1.5.0",
          "state": {
            "_dom_classes": [],
            "_model_module": "@jupyter-widgets/controls",
            "_model_module_version": "1.5.0",
            "_model_name": "FloatProgressModel",
            "_view_count": null,
            "_view_module": "@jupyter-widgets/controls",
            "_view_module_version": "1.5.0",
            "_view_name": "ProgressView",
            "bar_style": "success",
            "description": "",
            "description_tooltip": null,
            "layout": "IPY_MODEL_640c78ac6f3f43dc96e14010496df2d7",
            "max": 48,
            "min": 0,
            "orientation": "horizontal",
            "style": "IPY_MODEL_752d39d1c9ca4606a5b207d80c03766c",
            "value": 48
          }
        },
        "ab20fb3002f54139aa593dce28ae5684": {
          "model_module": "@jupyter-widgets/controls",
          "model_name": "HTMLModel",
          "model_module_version": "1.5.0",
          "state": {
            "_dom_classes": [],
            "_model_module": "@jupyter-widgets/controls",
            "_model_module_version": "1.5.0",
            "_model_name": "HTMLModel",
            "_view_count": null,
            "_view_module": "@jupyter-widgets/controls",
            "_view_module_version": "1.5.0",
            "_view_name": "HTMLView",
            "description": "",
            "description_tooltip": null,
            "layout": "IPY_MODEL_0cd69dc898f040b48aef5379687edc55",
            "placeholder": "​",
            "style": "IPY_MODEL_ea29fc0c9488428295578a6b2f882192",
            "value": " 48.0/48.0 [00:00&lt;00:00, 2.37kB/s]"
          }
        },
        "9737210cbed942f6a39f4cdba7e38a1e": {
          "model_module": "@jupyter-widgets/base",
          "model_name": "LayoutModel",
          "model_module_version": "1.2.0",
          "state": {
            "_model_module": "@jupyter-widgets/base",
            "_model_module_version": "1.2.0",
            "_model_name": "LayoutModel",
            "_view_count": null,
            "_view_module": "@jupyter-widgets/base",
            "_view_module_version": "1.2.0",
            "_view_name": "LayoutView",
            "align_content": null,
            "align_items": null,
            "align_self": null,
            "border": null,
            "bottom": null,
            "display": null,
            "flex": null,
            "flex_flow": null,
            "grid_area": null,
            "grid_auto_columns": null,
            "grid_auto_flow": null,
            "grid_auto_rows": null,
            "grid_column": null,
            "grid_gap": null,
            "grid_row": null,
            "grid_template_areas": null,
            "grid_template_columns": null,
            "grid_template_rows": null,
            "height": null,
            "justify_content": null,
            "justify_items": null,
            "left": null,
            "margin": null,
            "max_height": null,
            "max_width": null,
            "min_height": null,
            "min_width": null,
            "object_fit": null,
            "object_position": null,
            "order": null,
            "overflow": null,
            "overflow_x": null,
            "overflow_y": null,
            "padding": null,
            "right": null,
            "top": null,
            "visibility": null,
            "width": null
          }
        },
        "0978f3806a454f1fbf5f9491a8000652": {
          "model_module": "@jupyter-widgets/base",
          "model_name": "LayoutModel",
          "model_module_version": "1.2.0",
          "state": {
            "_model_module": "@jupyter-widgets/base",
            "_model_module_version": "1.2.0",
            "_model_name": "LayoutModel",
            "_view_count": null,
            "_view_module": "@jupyter-widgets/base",
            "_view_module_version": "1.2.0",
            "_view_name": "LayoutView",
            "align_content": null,
            "align_items": null,
            "align_self": null,
            "border": null,
            "bottom": null,
            "display": null,
            "flex": null,
            "flex_flow": null,
            "grid_area": null,
            "grid_auto_columns": null,
            "grid_auto_flow": null,
            "grid_auto_rows": null,
            "grid_column": null,
            "grid_gap": null,
            "grid_row": null,
            "grid_template_areas": null,
            "grid_template_columns": null,
            "grid_template_rows": null,
            "height": null,
            "justify_content": null,
            "justify_items": null,
            "left": null,
            "margin": null,
            "max_height": null,
            "max_width": null,
            "min_height": null,
            "min_width": null,
            "object_fit": null,
            "object_position": null,
            "order": null,
            "overflow": null,
            "overflow_x": null,
            "overflow_y": null,
            "padding": null,
            "right": null,
            "top": null,
            "visibility": null,
            "width": null
          }
        },
        "8c0f045783ce4190b969cd846deac675": {
          "model_module": "@jupyter-widgets/controls",
          "model_name": "DescriptionStyleModel",
          "model_module_version": "1.5.0",
          "state": {
            "_model_module": "@jupyter-widgets/controls",
            "_model_module_version": "1.5.0",
            "_model_name": "DescriptionStyleModel",
            "_view_count": null,
            "_view_module": "@jupyter-widgets/base",
            "_view_module_version": "1.2.0",
            "_view_name": "StyleView",
            "description_width": ""
          }
        },
        "640c78ac6f3f43dc96e14010496df2d7": {
          "model_module": "@jupyter-widgets/base",
          "model_name": "LayoutModel",
          "model_module_version": "1.2.0",
          "state": {
            "_model_module": "@jupyter-widgets/base",
            "_model_module_version": "1.2.0",
            "_model_name": "LayoutModel",
            "_view_count": null,
            "_view_module": "@jupyter-widgets/base",
            "_view_module_version": "1.2.0",
            "_view_name": "LayoutView",
            "align_content": null,
            "align_items": null,
            "align_self": null,
            "border": null,
            "bottom": null,
            "display": null,
            "flex": null,
            "flex_flow": null,
            "grid_area": null,
            "grid_auto_columns": null,
            "grid_auto_flow": null,
            "grid_auto_rows": null,
            "grid_column": null,
            "grid_gap": null,
            "grid_row": null,
            "grid_template_areas": null,
            "grid_template_columns": null,
            "grid_template_rows": null,
            "height": null,
            "justify_content": null,
            "justify_items": null,
            "left": null,
            "margin": null,
            "max_height": null,
            "max_width": null,
            "min_height": null,
            "min_width": null,
            "object_fit": null,
            "object_position": null,
            "order": null,
            "overflow": null,
            "overflow_x": null,
            "overflow_y": null,
            "padding": null,
            "right": null,
            "top": null,
            "visibility": null,
            "width": null
          }
        },
        "752d39d1c9ca4606a5b207d80c03766c": {
          "model_module": "@jupyter-widgets/controls",
          "model_name": "ProgressStyleModel",
          "model_module_version": "1.5.0",
          "state": {
            "_model_module": "@jupyter-widgets/controls",
            "_model_module_version": "1.5.0",
            "_model_name": "ProgressStyleModel",
            "_view_count": null,
            "_view_module": "@jupyter-widgets/base",
            "_view_module_version": "1.2.0",
            "_view_name": "StyleView",
            "bar_color": null,
            "description_width": ""
          }
        },
        "0cd69dc898f040b48aef5379687edc55": {
          "model_module": "@jupyter-widgets/base",
          "model_name": "LayoutModel",
          "model_module_version": "1.2.0",
          "state": {
            "_model_module": "@jupyter-widgets/base",
            "_model_module_version": "1.2.0",
            "_model_name": "LayoutModel",
            "_view_count": null,
            "_view_module": "@jupyter-widgets/base",
            "_view_module_version": "1.2.0",
            "_view_name": "LayoutView",
            "align_content": null,
            "align_items": null,
            "align_self": null,
            "border": null,
            "bottom": null,
            "display": null,
            "flex": null,
            "flex_flow": null,
            "grid_area": null,
            "grid_auto_columns": null,
            "grid_auto_flow": null,
            "grid_auto_rows": null,
            "grid_column": null,
            "grid_gap": null,
            "grid_row": null,
            "grid_template_areas": null,
            "grid_template_columns": null,
            "grid_template_rows": null,
            "height": null,
            "justify_content": null,
            "justify_items": null,
            "left": null,
            "margin": null,
            "max_height": null,
            "max_width": null,
            "min_height": null,
            "min_width": null,
            "object_fit": null,
            "object_position": null,
            "order": null,
            "overflow": null,
            "overflow_x": null,
            "overflow_y": null,
            "padding": null,
            "right": null,
            "top": null,
            "visibility": null,
            "width": null
          }
        },
        "ea29fc0c9488428295578a6b2f882192": {
          "model_module": "@jupyter-widgets/controls",
          "model_name": "DescriptionStyleModel",
          "model_module_version": "1.5.0",
          "state": {
            "_model_module": "@jupyter-widgets/controls",
            "_model_module_version": "1.5.0",
            "_model_name": "DescriptionStyleModel",
            "_view_count": null,
            "_view_module": "@jupyter-widgets/base",
            "_view_module_version": "1.2.0",
            "_view_name": "StyleView",
            "description_width": ""
          }
        },
        "4a99a72f03254b03a636557c1cc1366a": {
          "model_module": "@jupyter-widgets/controls",
          "model_name": "HBoxModel",
          "model_module_version": "1.5.0",
          "state": {
            "_dom_classes": [],
            "_model_module": "@jupyter-widgets/controls",
            "_model_module_version": "1.5.0",
            "_model_name": "HBoxModel",
            "_view_count": null,
            "_view_module": "@jupyter-widgets/controls",
            "_view_module_version": "1.5.0",
            "_view_name": "HBoxView",
            "box_style": "",
            "children": [
              "IPY_MODEL_bedfa8e0754e49afa111742b49871925",
              "IPY_MODEL_2271c1c072384133ae6d9e17a4381dc3",
              "IPY_MODEL_2d78860ba3704a9abf395a596c2541e7"
            ],
            "layout": "IPY_MODEL_1120704145394c31b1d18cc5e961fcf6"
          }
        },
        "bedfa8e0754e49afa111742b49871925": {
          "model_module": "@jupyter-widgets/controls",
          "model_name": "HTMLModel",
          "model_module_version": "1.5.0",
          "state": {
            "_dom_classes": [],
            "_model_module": "@jupyter-widgets/controls",
            "_model_module_version": "1.5.0",
            "_model_name": "HTMLModel",
            "_view_count": null,
            "_view_module": "@jupyter-widgets/controls",
            "_view_module_version": "1.5.0",
            "_view_name": "HTMLView",
            "description": "",
            "description_tooltip": null,
            "layout": "IPY_MODEL_1829c0ccef81468e96f06e4c7016a569",
            "placeholder": "​",
            "style": "IPY_MODEL_33b4f2365aed4b5db4a9f979e354d95d",
            "value": "config.json: 100%"
          }
        },
        "2271c1c072384133ae6d9e17a4381dc3": {
          "model_module": "@jupyter-widgets/controls",
          "model_name": "FloatProgressModel",
          "model_module_version": "1.5.0",
          "state": {
            "_dom_classes": [],
            "_model_module": "@jupyter-widgets/controls",
            "_model_module_version": "1.5.0",
            "_model_name": "FloatProgressModel",
            "_view_count": null,
            "_view_module": "@jupyter-widgets/controls",
            "_view_module_version": "1.5.0",
            "_view_name": "ProgressView",
            "bar_style": "success",
            "description": "",
            "description_tooltip": null,
            "layout": "IPY_MODEL_0e7f3e6f0ce749d99a55ce41d2ca39a3",
            "max": 483,
            "min": 0,
            "orientation": "horizontal",
            "style": "IPY_MODEL_2fdd4c608fbf41da8ab3b22ec83c1425",
            "value": 483
          }
        },
        "2d78860ba3704a9abf395a596c2541e7": {
          "model_module": "@jupyter-widgets/controls",
          "model_name": "HTMLModel",
          "model_module_version": "1.5.0",
          "state": {
            "_dom_classes": [],
            "_model_module": "@jupyter-widgets/controls",
            "_model_module_version": "1.5.0",
            "_model_name": "HTMLModel",
            "_view_count": null,
            "_view_module": "@jupyter-widgets/controls",
            "_view_module_version": "1.5.0",
            "_view_name": "HTMLView",
            "description": "",
            "description_tooltip": null,
            "layout": "IPY_MODEL_1009ac2b604c4c02a06f72a06b335124",
            "placeholder": "​",
            "style": "IPY_MODEL_63654656890b43388774bfc3362f9f81",
            "value": " 483/483 [00:00&lt;00:00, 20.5kB/s]"
          }
        },
        "1120704145394c31b1d18cc5e961fcf6": {
          "model_module": "@jupyter-widgets/base",
          "model_name": "LayoutModel",
          "model_module_version": "1.2.0",
          "state": {
            "_model_module": "@jupyter-widgets/base",
            "_model_module_version": "1.2.0",
            "_model_name": "LayoutModel",
            "_view_count": null,
            "_view_module": "@jupyter-widgets/base",
            "_view_module_version": "1.2.0",
            "_view_name": "LayoutView",
            "align_content": null,
            "align_items": null,
            "align_self": null,
            "border": null,
            "bottom": null,
            "display": null,
            "flex": null,
            "flex_flow": null,
            "grid_area": null,
            "grid_auto_columns": null,
            "grid_auto_flow": null,
            "grid_auto_rows": null,
            "grid_column": null,
            "grid_gap": null,
            "grid_row": null,
            "grid_template_areas": null,
            "grid_template_columns": null,
            "grid_template_rows": null,
            "height": null,
            "justify_content": null,
            "justify_items": null,
            "left": null,
            "margin": null,
            "max_height": null,
            "max_width": null,
            "min_height": null,
            "min_width": null,
            "object_fit": null,
            "object_position": null,
            "order": null,
            "overflow": null,
            "overflow_x": null,
            "overflow_y": null,
            "padding": null,
            "right": null,
            "top": null,
            "visibility": null,
            "width": null
          }
        },
        "1829c0ccef81468e96f06e4c7016a569": {
          "model_module": "@jupyter-widgets/base",
          "model_name": "LayoutModel",
          "model_module_version": "1.2.0",
          "state": {
            "_model_module": "@jupyter-widgets/base",
            "_model_module_version": "1.2.0",
            "_model_name": "LayoutModel",
            "_view_count": null,
            "_view_module": "@jupyter-widgets/base",
            "_view_module_version": "1.2.0",
            "_view_name": "LayoutView",
            "align_content": null,
            "align_items": null,
            "align_self": null,
            "border": null,
            "bottom": null,
            "display": null,
            "flex": null,
            "flex_flow": null,
            "grid_area": null,
            "grid_auto_columns": null,
            "grid_auto_flow": null,
            "grid_auto_rows": null,
            "grid_column": null,
            "grid_gap": null,
            "grid_row": null,
            "grid_template_areas": null,
            "grid_template_columns": null,
            "grid_template_rows": null,
            "height": null,
            "justify_content": null,
            "justify_items": null,
            "left": null,
            "margin": null,
            "max_height": null,
            "max_width": null,
            "min_height": null,
            "min_width": null,
            "object_fit": null,
            "object_position": null,
            "order": null,
            "overflow": null,
            "overflow_x": null,
            "overflow_y": null,
            "padding": null,
            "right": null,
            "top": null,
            "visibility": null,
            "width": null
          }
        },
        "33b4f2365aed4b5db4a9f979e354d95d": {
          "model_module": "@jupyter-widgets/controls",
          "model_name": "DescriptionStyleModel",
          "model_module_version": "1.5.0",
          "state": {
            "_model_module": "@jupyter-widgets/controls",
            "_model_module_version": "1.5.0",
            "_model_name": "DescriptionStyleModel",
            "_view_count": null,
            "_view_module": "@jupyter-widgets/base",
            "_view_module_version": "1.2.0",
            "_view_name": "StyleView",
            "description_width": ""
          }
        },
        "0e7f3e6f0ce749d99a55ce41d2ca39a3": {
          "model_module": "@jupyter-widgets/base",
          "model_name": "LayoutModel",
          "model_module_version": "1.2.0",
          "state": {
            "_model_module": "@jupyter-widgets/base",
            "_model_module_version": "1.2.0",
            "_model_name": "LayoutModel",
            "_view_count": null,
            "_view_module": "@jupyter-widgets/base",
            "_view_module_version": "1.2.0",
            "_view_name": "LayoutView",
            "align_content": null,
            "align_items": null,
            "align_self": null,
            "border": null,
            "bottom": null,
            "display": null,
            "flex": null,
            "flex_flow": null,
            "grid_area": null,
            "grid_auto_columns": null,
            "grid_auto_flow": null,
            "grid_auto_rows": null,
            "grid_column": null,
            "grid_gap": null,
            "grid_row": null,
            "grid_template_areas": null,
            "grid_template_columns": null,
            "grid_template_rows": null,
            "height": null,
            "justify_content": null,
            "justify_items": null,
            "left": null,
            "margin": null,
            "max_height": null,
            "max_width": null,
            "min_height": null,
            "min_width": null,
            "object_fit": null,
            "object_position": null,
            "order": null,
            "overflow": null,
            "overflow_x": null,
            "overflow_y": null,
            "padding": null,
            "right": null,
            "top": null,
            "visibility": null,
            "width": null
          }
        },
        "2fdd4c608fbf41da8ab3b22ec83c1425": {
          "model_module": "@jupyter-widgets/controls",
          "model_name": "ProgressStyleModel",
          "model_module_version": "1.5.0",
          "state": {
            "_model_module": "@jupyter-widgets/controls",
            "_model_module_version": "1.5.0",
            "_model_name": "ProgressStyleModel",
            "_view_count": null,
            "_view_module": "@jupyter-widgets/base",
            "_view_module_version": "1.2.0",
            "_view_name": "StyleView",
            "bar_color": null,
            "description_width": ""
          }
        },
        "1009ac2b604c4c02a06f72a06b335124": {
          "model_module": "@jupyter-widgets/base",
          "model_name": "LayoutModel",
          "model_module_version": "1.2.0",
          "state": {
            "_model_module": "@jupyter-widgets/base",
            "_model_module_version": "1.2.0",
            "_model_name": "LayoutModel",
            "_view_count": null,
            "_view_module": "@jupyter-widgets/base",
            "_view_module_version": "1.2.0",
            "_view_name": "LayoutView",
            "align_content": null,
            "align_items": null,
            "align_self": null,
            "border": null,
            "bottom": null,
            "display": null,
            "flex": null,
            "flex_flow": null,
            "grid_area": null,
            "grid_auto_columns": null,
            "grid_auto_flow": null,
            "grid_auto_rows": null,
            "grid_column": null,
            "grid_gap": null,
            "grid_row": null,
            "grid_template_areas": null,
            "grid_template_columns": null,
            "grid_template_rows": null,
            "height": null,
            "justify_content": null,
            "justify_items": null,
            "left": null,
            "margin": null,
            "max_height": null,
            "max_width": null,
            "min_height": null,
            "min_width": null,
            "object_fit": null,
            "object_position": null,
            "order": null,
            "overflow": null,
            "overflow_x": null,
            "overflow_y": null,
            "padding": null,
            "right": null,
            "top": null,
            "visibility": null,
            "width": null
          }
        },
        "63654656890b43388774bfc3362f9f81": {
          "model_module": "@jupyter-widgets/controls",
          "model_name": "DescriptionStyleModel",
          "model_module_version": "1.5.0",
          "state": {
            "_model_module": "@jupyter-widgets/controls",
            "_model_module_version": "1.5.0",
            "_model_name": "DescriptionStyleModel",
            "_view_count": null,
            "_view_module": "@jupyter-widgets/base",
            "_view_module_version": "1.2.0",
            "_view_name": "StyleView",
            "description_width": ""
          }
        },
        "75e386395d2a494eacf30bf7a61a0df5": {
          "model_module": "@jupyter-widgets/controls",
          "model_name": "HBoxModel",
          "model_module_version": "1.5.0",
          "state": {
            "_dom_classes": [],
            "_model_module": "@jupyter-widgets/controls",
            "_model_module_version": "1.5.0",
            "_model_name": "HBoxModel",
            "_view_count": null,
            "_view_module": "@jupyter-widgets/controls",
            "_view_module_version": "1.5.0",
            "_view_name": "HBoxView",
            "box_style": "",
            "children": [
              "IPY_MODEL_546758bac67447cb9e7ae409abb3f58b",
              "IPY_MODEL_eef5d16e68a64748a72d7b17fc355da9",
              "IPY_MODEL_4d6eb7f740d1424a801c87e318e21438"
            ],
            "layout": "IPY_MODEL_c34ebbdf30a34e15b6fda91f42de38a3"
          }
        },
        "546758bac67447cb9e7ae409abb3f58b": {
          "model_module": "@jupyter-widgets/controls",
          "model_name": "HTMLModel",
          "model_module_version": "1.5.0",
          "state": {
            "_dom_classes": [],
            "_model_module": "@jupyter-widgets/controls",
            "_model_module_version": "1.5.0",
            "_model_name": "HTMLModel",
            "_view_count": null,
            "_view_module": "@jupyter-widgets/controls",
            "_view_module_version": "1.5.0",
            "_view_name": "HTMLView",
            "description": "",
            "description_tooltip": null,
            "layout": "IPY_MODEL_5ae5b102170046c9b8aea969476e3133",
            "placeholder": "​",
            "style": "IPY_MODEL_dad62fe67bb64193a5de0d6056f492bc",
            "value": "vocab.txt: 100%"
          }
        },
        "eef5d16e68a64748a72d7b17fc355da9": {
          "model_module": "@jupyter-widgets/controls",
          "model_name": "FloatProgressModel",
          "model_module_version": "1.5.0",
          "state": {
            "_dom_classes": [],
            "_model_module": "@jupyter-widgets/controls",
            "_model_module_version": "1.5.0",
            "_model_name": "FloatProgressModel",
            "_view_count": null,
            "_view_module": "@jupyter-widgets/controls",
            "_view_module_version": "1.5.0",
            "_view_name": "ProgressView",
            "bar_style": "success",
            "description": "",
            "description_tooltip": null,
            "layout": "IPY_MODEL_3ac369a7b5334bcebf7d731bdeaea772",
            "max": 231508,
            "min": 0,
            "orientation": "horizontal",
            "style": "IPY_MODEL_59f78a826d6046b58e8a18911f05c972",
            "value": 231508
          }
        },
        "4d6eb7f740d1424a801c87e318e21438": {
          "model_module": "@jupyter-widgets/controls",
          "model_name": "HTMLModel",
          "model_module_version": "1.5.0",
          "state": {
            "_dom_classes": [],
            "_model_module": "@jupyter-widgets/controls",
            "_model_module_version": "1.5.0",
            "_model_name": "HTMLModel",
            "_view_count": null,
            "_view_module": "@jupyter-widgets/controls",
            "_view_module_version": "1.5.0",
            "_view_name": "HTMLView",
            "description": "",
            "description_tooltip": null,
            "layout": "IPY_MODEL_a7628f5c441046c0b9b5680ed0c79225",
            "placeholder": "​",
            "style": "IPY_MODEL_ab51ff52f3534ac09ba242d28e240511",
            "value": " 232k/232k [00:00&lt;00:00, 4.79MB/s]"
          }
        },
        "c34ebbdf30a34e15b6fda91f42de38a3": {
          "model_module": "@jupyter-widgets/base",
          "model_name": "LayoutModel",
          "model_module_version": "1.2.0",
          "state": {
            "_model_module": "@jupyter-widgets/base",
            "_model_module_version": "1.2.0",
            "_model_name": "LayoutModel",
            "_view_count": null,
            "_view_module": "@jupyter-widgets/base",
            "_view_module_version": "1.2.0",
            "_view_name": "LayoutView",
            "align_content": null,
            "align_items": null,
            "align_self": null,
            "border": null,
            "bottom": null,
            "display": null,
            "flex": null,
            "flex_flow": null,
            "grid_area": null,
            "grid_auto_columns": null,
            "grid_auto_flow": null,
            "grid_auto_rows": null,
            "grid_column": null,
            "grid_gap": null,
            "grid_row": null,
            "grid_template_areas": null,
            "grid_template_columns": null,
            "grid_template_rows": null,
            "height": null,
            "justify_content": null,
            "justify_items": null,
            "left": null,
            "margin": null,
            "max_height": null,
            "max_width": null,
            "min_height": null,
            "min_width": null,
            "object_fit": null,
            "object_position": null,
            "order": null,
            "overflow": null,
            "overflow_x": null,
            "overflow_y": null,
            "padding": null,
            "right": null,
            "top": null,
            "visibility": null,
            "width": null
          }
        },
        "5ae5b102170046c9b8aea969476e3133": {
          "model_module": "@jupyter-widgets/base",
          "model_name": "LayoutModel",
          "model_module_version": "1.2.0",
          "state": {
            "_model_module": "@jupyter-widgets/base",
            "_model_module_version": "1.2.0",
            "_model_name": "LayoutModel",
            "_view_count": null,
            "_view_module": "@jupyter-widgets/base",
            "_view_module_version": "1.2.0",
            "_view_name": "LayoutView",
            "align_content": null,
            "align_items": null,
            "align_self": null,
            "border": null,
            "bottom": null,
            "display": null,
            "flex": null,
            "flex_flow": null,
            "grid_area": null,
            "grid_auto_columns": null,
            "grid_auto_flow": null,
            "grid_auto_rows": null,
            "grid_column": null,
            "grid_gap": null,
            "grid_row": null,
            "grid_template_areas": null,
            "grid_template_columns": null,
            "grid_template_rows": null,
            "height": null,
            "justify_content": null,
            "justify_items": null,
            "left": null,
            "margin": null,
            "max_height": null,
            "max_width": null,
            "min_height": null,
            "min_width": null,
            "object_fit": null,
            "object_position": null,
            "order": null,
            "overflow": null,
            "overflow_x": null,
            "overflow_y": null,
            "padding": null,
            "right": null,
            "top": null,
            "visibility": null,
            "width": null
          }
        },
        "dad62fe67bb64193a5de0d6056f492bc": {
          "model_module": "@jupyter-widgets/controls",
          "model_name": "DescriptionStyleModel",
          "model_module_version": "1.5.0",
          "state": {
            "_model_module": "@jupyter-widgets/controls",
            "_model_module_version": "1.5.0",
            "_model_name": "DescriptionStyleModel",
            "_view_count": null,
            "_view_module": "@jupyter-widgets/base",
            "_view_module_version": "1.2.0",
            "_view_name": "StyleView",
            "description_width": ""
          }
        },
        "3ac369a7b5334bcebf7d731bdeaea772": {
          "model_module": "@jupyter-widgets/base",
          "model_name": "LayoutModel",
          "model_module_version": "1.2.0",
          "state": {
            "_model_module": "@jupyter-widgets/base",
            "_model_module_version": "1.2.0",
            "_model_name": "LayoutModel",
            "_view_count": null,
            "_view_module": "@jupyter-widgets/base",
            "_view_module_version": "1.2.0",
            "_view_name": "LayoutView",
            "align_content": null,
            "align_items": null,
            "align_self": null,
            "border": null,
            "bottom": null,
            "display": null,
            "flex": null,
            "flex_flow": null,
            "grid_area": null,
            "grid_auto_columns": null,
            "grid_auto_flow": null,
            "grid_auto_rows": null,
            "grid_column": null,
            "grid_gap": null,
            "grid_row": null,
            "grid_template_areas": null,
            "grid_template_columns": null,
            "grid_template_rows": null,
            "height": null,
            "justify_content": null,
            "justify_items": null,
            "left": null,
            "margin": null,
            "max_height": null,
            "max_width": null,
            "min_height": null,
            "min_width": null,
            "object_fit": null,
            "object_position": null,
            "order": null,
            "overflow": null,
            "overflow_x": null,
            "overflow_y": null,
            "padding": null,
            "right": null,
            "top": null,
            "visibility": null,
            "width": null
          }
        },
        "59f78a826d6046b58e8a18911f05c972": {
          "model_module": "@jupyter-widgets/controls",
          "model_name": "ProgressStyleModel",
          "model_module_version": "1.5.0",
          "state": {
            "_model_module": "@jupyter-widgets/controls",
            "_model_module_version": "1.5.0",
            "_model_name": "ProgressStyleModel",
            "_view_count": null,
            "_view_module": "@jupyter-widgets/base",
            "_view_module_version": "1.2.0",
            "_view_name": "StyleView",
            "bar_color": null,
            "description_width": ""
          }
        },
        "a7628f5c441046c0b9b5680ed0c79225": {
          "model_module": "@jupyter-widgets/base",
          "model_name": "LayoutModel",
          "model_module_version": "1.2.0",
          "state": {
            "_model_module": "@jupyter-widgets/base",
            "_model_module_version": "1.2.0",
            "_model_name": "LayoutModel",
            "_view_count": null,
            "_view_module": "@jupyter-widgets/base",
            "_view_module_version": "1.2.0",
            "_view_name": "LayoutView",
            "align_content": null,
            "align_items": null,
            "align_self": null,
            "border": null,
            "bottom": null,
            "display": null,
            "flex": null,
            "flex_flow": null,
            "grid_area": null,
            "grid_auto_columns": null,
            "grid_auto_flow": null,
            "grid_auto_rows": null,
            "grid_column": null,
            "grid_gap": null,
            "grid_row": null,
            "grid_template_areas": null,
            "grid_template_columns": null,
            "grid_template_rows": null,
            "height": null,
            "justify_content": null,
            "justify_items": null,
            "left": null,
            "margin": null,
            "max_height": null,
            "max_width": null,
            "min_height": null,
            "min_width": null,
            "object_fit": null,
            "object_position": null,
            "order": null,
            "overflow": null,
            "overflow_x": null,
            "overflow_y": null,
            "padding": null,
            "right": null,
            "top": null,
            "visibility": null,
            "width": null
          }
        },
        "ab51ff52f3534ac09ba242d28e240511": {
          "model_module": "@jupyter-widgets/controls",
          "model_name": "DescriptionStyleModel",
          "model_module_version": "1.5.0",
          "state": {
            "_model_module": "@jupyter-widgets/controls",
            "_model_module_version": "1.5.0",
            "_model_name": "DescriptionStyleModel",
            "_view_count": null,
            "_view_module": "@jupyter-widgets/base",
            "_view_module_version": "1.2.0",
            "_view_name": "StyleView",
            "description_width": ""
          }
        },
        "6bd658cf3609476b8559f1f831c1a434": {
          "model_module": "@jupyter-widgets/controls",
          "model_name": "HBoxModel",
          "model_module_version": "1.5.0",
          "state": {
            "_dom_classes": [],
            "_model_module": "@jupyter-widgets/controls",
            "_model_module_version": "1.5.0",
            "_model_name": "HBoxModel",
            "_view_count": null,
            "_view_module": "@jupyter-widgets/controls",
            "_view_module_version": "1.5.0",
            "_view_name": "HBoxView",
            "box_style": "",
            "children": [
              "IPY_MODEL_899d07556222420198affd3b818e2abd",
              "IPY_MODEL_2d187191659c442888be362b36759dd7",
              "IPY_MODEL_5891f43ad2fd48559a1e69e74e7331a6"
            ],
            "layout": "IPY_MODEL_64a7398f73994b5d81f8f58c284c8ab6"
          }
        },
        "899d07556222420198affd3b818e2abd": {
          "model_module": "@jupyter-widgets/controls",
          "model_name": "HTMLModel",
          "model_module_version": "1.5.0",
          "state": {
            "_dom_classes": [],
            "_model_module": "@jupyter-widgets/controls",
            "_model_module_version": "1.5.0",
            "_model_name": "HTMLModel",
            "_view_count": null,
            "_view_module": "@jupyter-widgets/controls",
            "_view_module_version": "1.5.0",
            "_view_name": "HTMLView",
            "description": "",
            "description_tooltip": null,
            "layout": "IPY_MODEL_a68ecd7a130c4e1aa0b915c0005d1c41",
            "placeholder": "​",
            "style": "IPY_MODEL_996a447ac5d54400b78093cc55acc5f6",
            "value": "tokenizer.json: 100%"
          }
        },
        "2d187191659c442888be362b36759dd7": {
          "model_module": "@jupyter-widgets/controls",
          "model_name": "FloatProgressModel",
          "model_module_version": "1.5.0",
          "state": {
            "_dom_classes": [],
            "_model_module": "@jupyter-widgets/controls",
            "_model_module_version": "1.5.0",
            "_model_name": "FloatProgressModel",
            "_view_count": null,
            "_view_module": "@jupyter-widgets/controls",
            "_view_module_version": "1.5.0",
            "_view_name": "ProgressView",
            "bar_style": "success",
            "description": "",
            "description_tooltip": null,
            "layout": "IPY_MODEL_1db26df5edff4d37bf85993c75407eba",
            "max": 466062,
            "min": 0,
            "orientation": "horizontal",
            "style": "IPY_MODEL_a4ea388c93574555aabb6a000bbdbd52",
            "value": 466062
          }
        },
        "5891f43ad2fd48559a1e69e74e7331a6": {
          "model_module": "@jupyter-widgets/controls",
          "model_name": "HTMLModel",
          "model_module_version": "1.5.0",
          "state": {
            "_dom_classes": [],
            "_model_module": "@jupyter-widgets/controls",
            "_model_module_version": "1.5.0",
            "_model_name": "HTMLModel",
            "_view_count": null,
            "_view_module": "@jupyter-widgets/controls",
            "_view_module_version": "1.5.0",
            "_view_name": "HTMLView",
            "description": "",
            "description_tooltip": null,
            "layout": "IPY_MODEL_a54e6c1f513044d3ab38a844cdbc70cc",
            "placeholder": "​",
            "style": "IPY_MODEL_fd3a3225f6004e828e1bc47ed445bc1e",
            "value": " 466k/466k [00:00&lt;00:00, 3.26MB/s]"
          }
        },
        "64a7398f73994b5d81f8f58c284c8ab6": {
          "model_module": "@jupyter-widgets/base",
          "model_name": "LayoutModel",
          "model_module_version": "1.2.0",
          "state": {
            "_model_module": "@jupyter-widgets/base",
            "_model_module_version": "1.2.0",
            "_model_name": "LayoutModel",
            "_view_count": null,
            "_view_module": "@jupyter-widgets/base",
            "_view_module_version": "1.2.0",
            "_view_name": "LayoutView",
            "align_content": null,
            "align_items": null,
            "align_self": null,
            "border": null,
            "bottom": null,
            "display": null,
            "flex": null,
            "flex_flow": null,
            "grid_area": null,
            "grid_auto_columns": null,
            "grid_auto_flow": null,
            "grid_auto_rows": null,
            "grid_column": null,
            "grid_gap": null,
            "grid_row": null,
            "grid_template_areas": null,
            "grid_template_columns": null,
            "grid_template_rows": null,
            "height": null,
            "justify_content": null,
            "justify_items": null,
            "left": null,
            "margin": null,
            "max_height": null,
            "max_width": null,
            "min_height": null,
            "min_width": null,
            "object_fit": null,
            "object_position": null,
            "order": null,
            "overflow": null,
            "overflow_x": null,
            "overflow_y": null,
            "padding": null,
            "right": null,
            "top": null,
            "visibility": null,
            "width": null
          }
        },
        "a68ecd7a130c4e1aa0b915c0005d1c41": {
          "model_module": "@jupyter-widgets/base",
          "model_name": "LayoutModel",
          "model_module_version": "1.2.0",
          "state": {
            "_model_module": "@jupyter-widgets/base",
            "_model_module_version": "1.2.0",
            "_model_name": "LayoutModel",
            "_view_count": null,
            "_view_module": "@jupyter-widgets/base",
            "_view_module_version": "1.2.0",
            "_view_name": "LayoutView",
            "align_content": null,
            "align_items": null,
            "align_self": null,
            "border": null,
            "bottom": null,
            "display": null,
            "flex": null,
            "flex_flow": null,
            "grid_area": null,
            "grid_auto_columns": null,
            "grid_auto_flow": null,
            "grid_auto_rows": null,
            "grid_column": null,
            "grid_gap": null,
            "grid_row": null,
            "grid_template_areas": null,
            "grid_template_columns": null,
            "grid_template_rows": null,
            "height": null,
            "justify_content": null,
            "justify_items": null,
            "left": null,
            "margin": null,
            "max_height": null,
            "max_width": null,
            "min_height": null,
            "min_width": null,
            "object_fit": null,
            "object_position": null,
            "order": null,
            "overflow": null,
            "overflow_x": null,
            "overflow_y": null,
            "padding": null,
            "right": null,
            "top": null,
            "visibility": null,
            "width": null
          }
        },
        "996a447ac5d54400b78093cc55acc5f6": {
          "model_module": "@jupyter-widgets/controls",
          "model_name": "DescriptionStyleModel",
          "model_module_version": "1.5.0",
          "state": {
            "_model_module": "@jupyter-widgets/controls",
            "_model_module_version": "1.5.0",
            "_model_name": "DescriptionStyleModel",
            "_view_count": null,
            "_view_module": "@jupyter-widgets/base",
            "_view_module_version": "1.2.0",
            "_view_name": "StyleView",
            "description_width": ""
          }
        },
        "1db26df5edff4d37bf85993c75407eba": {
          "model_module": "@jupyter-widgets/base",
          "model_name": "LayoutModel",
          "model_module_version": "1.2.0",
          "state": {
            "_model_module": "@jupyter-widgets/base",
            "_model_module_version": "1.2.0",
            "_model_name": "LayoutModel",
            "_view_count": null,
            "_view_module": "@jupyter-widgets/base",
            "_view_module_version": "1.2.0",
            "_view_name": "LayoutView",
            "align_content": null,
            "align_items": null,
            "align_self": null,
            "border": null,
            "bottom": null,
            "display": null,
            "flex": null,
            "flex_flow": null,
            "grid_area": null,
            "grid_auto_columns": null,
            "grid_auto_flow": null,
            "grid_auto_rows": null,
            "grid_column": null,
            "grid_gap": null,
            "grid_row": null,
            "grid_template_areas": null,
            "grid_template_columns": null,
            "grid_template_rows": null,
            "height": null,
            "justify_content": null,
            "justify_items": null,
            "left": null,
            "margin": null,
            "max_height": null,
            "max_width": null,
            "min_height": null,
            "min_width": null,
            "object_fit": null,
            "object_position": null,
            "order": null,
            "overflow": null,
            "overflow_x": null,
            "overflow_y": null,
            "padding": null,
            "right": null,
            "top": null,
            "visibility": null,
            "width": null
          }
        },
        "a4ea388c93574555aabb6a000bbdbd52": {
          "model_module": "@jupyter-widgets/controls",
          "model_name": "ProgressStyleModel",
          "model_module_version": "1.5.0",
          "state": {
            "_model_module": "@jupyter-widgets/controls",
            "_model_module_version": "1.5.0",
            "_model_name": "ProgressStyleModel",
            "_view_count": null,
            "_view_module": "@jupyter-widgets/base",
            "_view_module_version": "1.2.0",
            "_view_name": "StyleView",
            "bar_color": null,
            "description_width": ""
          }
        },
        "a54e6c1f513044d3ab38a844cdbc70cc": {
          "model_module": "@jupyter-widgets/base",
          "model_name": "LayoutModel",
          "model_module_version": "1.2.0",
          "state": {
            "_model_module": "@jupyter-widgets/base",
            "_model_module_version": "1.2.0",
            "_model_name": "LayoutModel",
            "_view_count": null,
            "_view_module": "@jupyter-widgets/base",
            "_view_module_version": "1.2.0",
            "_view_name": "LayoutView",
            "align_content": null,
            "align_items": null,
            "align_self": null,
            "border": null,
            "bottom": null,
            "display": null,
            "flex": null,
            "flex_flow": null,
            "grid_area": null,
            "grid_auto_columns": null,
            "grid_auto_flow": null,
            "grid_auto_rows": null,
            "grid_column": null,
            "grid_gap": null,
            "grid_row": null,
            "grid_template_areas": null,
            "grid_template_columns": null,
            "grid_template_rows": null,
            "height": null,
            "justify_content": null,
            "justify_items": null,
            "left": null,
            "margin": null,
            "max_height": null,
            "max_width": null,
            "min_height": null,
            "min_width": null,
            "object_fit": null,
            "object_position": null,
            "order": null,
            "overflow": null,
            "overflow_x": null,
            "overflow_y": null,
            "padding": null,
            "right": null,
            "top": null,
            "visibility": null,
            "width": null
          }
        },
        "fd3a3225f6004e828e1bc47ed445bc1e": {
          "model_module": "@jupyter-widgets/controls",
          "model_name": "DescriptionStyleModel",
          "model_module_version": "1.5.0",
          "state": {
            "_model_module": "@jupyter-widgets/controls",
            "_model_module_version": "1.5.0",
            "_model_name": "DescriptionStyleModel",
            "_view_count": null,
            "_view_module": "@jupyter-widgets/base",
            "_view_module_version": "1.2.0",
            "_view_name": "StyleView",
            "description_width": ""
          }
        },
        "1272b6fb96864853bc6559145ddea9b7": {
          "model_module": "@jupyter-widgets/controls",
          "model_name": "HBoxModel",
          "model_module_version": "1.5.0",
          "state": {
            "_dom_classes": [],
            "_model_module": "@jupyter-widgets/controls",
            "_model_module_version": "1.5.0",
            "_model_name": "HBoxModel",
            "_view_count": null,
            "_view_module": "@jupyter-widgets/controls",
            "_view_module_version": "1.5.0",
            "_view_name": "HBoxView",
            "box_style": "",
            "children": [
              "IPY_MODEL_5074f383a3ed4a488873a98e1ef90c6a",
              "IPY_MODEL_25b153bb5f904a21a022d016395c88c7",
              "IPY_MODEL_30e853d70f83438bafcb3dcaec51cca0"
            ],
            "layout": "IPY_MODEL_ea734987b48648a2adaac4b48a1622d2"
          }
        },
        "5074f383a3ed4a488873a98e1ef90c6a": {
          "model_module": "@jupyter-widgets/controls",
          "model_name": "HTMLModel",
          "model_module_version": "1.5.0",
          "state": {
            "_dom_classes": [],
            "_model_module": "@jupyter-widgets/controls",
            "_model_module_version": "1.5.0",
            "_model_name": "HTMLModel",
            "_view_count": null,
            "_view_module": "@jupyter-widgets/controls",
            "_view_module_version": "1.5.0",
            "_view_name": "HTMLView",
            "description": "",
            "description_tooltip": null,
            "layout": "IPY_MODEL_b25365ab23d3416fa1886e9ac141bf8d",
            "placeholder": "​",
            "style": "IPY_MODEL_35639a109d8b4ed0b162828f1e34ebb4",
            "value": "Map: 100%"
          }
        },
        "25b153bb5f904a21a022d016395c88c7": {
          "model_module": "@jupyter-widgets/controls",
          "model_name": "FloatProgressModel",
          "model_module_version": "1.5.0",
          "state": {
            "_dom_classes": [],
            "_model_module": "@jupyter-widgets/controls",
            "_model_module_version": "1.5.0",
            "_model_name": "FloatProgressModel",
            "_view_count": null,
            "_view_module": "@jupyter-widgets/controls",
            "_view_module_version": "1.5.0",
            "_view_name": "ProgressView",
            "bar_style": "success",
            "description": "",
            "description_tooltip": null,
            "layout": "IPY_MODEL_492b244229a84a49aec0932dc256320e",
            "max": 28560,
            "min": 0,
            "orientation": "horizontal",
            "style": "IPY_MODEL_567975c56c954e8b922beff67cce514d",
            "value": 28560
          }
        },
        "30e853d70f83438bafcb3dcaec51cca0": {
          "model_module": "@jupyter-widgets/controls",
          "model_name": "HTMLModel",
          "model_module_version": "1.5.0",
          "state": {
            "_dom_classes": [],
            "_model_module": "@jupyter-widgets/controls",
            "_model_module_version": "1.5.0",
            "_model_name": "HTMLModel",
            "_view_count": null,
            "_view_module": "@jupyter-widgets/controls",
            "_view_module_version": "1.5.0",
            "_view_name": "HTMLView",
            "description": "",
            "description_tooltip": null,
            "layout": "IPY_MODEL_c5bc3594732345e59eee7c443f0fbeff",
            "placeholder": "​",
            "style": "IPY_MODEL_12cbaa0be59641d7bfa7663d5bf3d8fb",
            "value": " 28560/28560 [00:08&lt;00:00, 3877.01 examples/s]"
          }
        },
        "ea734987b48648a2adaac4b48a1622d2": {
          "model_module": "@jupyter-widgets/base",
          "model_name": "LayoutModel",
          "model_module_version": "1.2.0",
          "state": {
            "_model_module": "@jupyter-widgets/base",
            "_model_module_version": "1.2.0",
            "_model_name": "LayoutModel",
            "_view_count": null,
            "_view_module": "@jupyter-widgets/base",
            "_view_module_version": "1.2.0",
            "_view_name": "LayoutView",
            "align_content": null,
            "align_items": null,
            "align_self": null,
            "border": null,
            "bottom": null,
            "display": null,
            "flex": null,
            "flex_flow": null,
            "grid_area": null,
            "grid_auto_columns": null,
            "grid_auto_flow": null,
            "grid_auto_rows": null,
            "grid_column": null,
            "grid_gap": null,
            "grid_row": null,
            "grid_template_areas": null,
            "grid_template_columns": null,
            "grid_template_rows": null,
            "height": null,
            "justify_content": null,
            "justify_items": null,
            "left": null,
            "margin": null,
            "max_height": null,
            "max_width": null,
            "min_height": null,
            "min_width": null,
            "object_fit": null,
            "object_position": null,
            "order": null,
            "overflow": null,
            "overflow_x": null,
            "overflow_y": null,
            "padding": null,
            "right": null,
            "top": null,
            "visibility": null,
            "width": null
          }
        },
        "b25365ab23d3416fa1886e9ac141bf8d": {
          "model_module": "@jupyter-widgets/base",
          "model_name": "LayoutModel",
          "model_module_version": "1.2.0",
          "state": {
            "_model_module": "@jupyter-widgets/base",
            "_model_module_version": "1.2.0",
            "_model_name": "LayoutModel",
            "_view_count": null,
            "_view_module": "@jupyter-widgets/base",
            "_view_module_version": "1.2.0",
            "_view_name": "LayoutView",
            "align_content": null,
            "align_items": null,
            "align_self": null,
            "border": null,
            "bottom": null,
            "display": null,
            "flex": null,
            "flex_flow": null,
            "grid_area": null,
            "grid_auto_columns": null,
            "grid_auto_flow": null,
            "grid_auto_rows": null,
            "grid_column": null,
            "grid_gap": null,
            "grid_row": null,
            "grid_template_areas": null,
            "grid_template_columns": null,
            "grid_template_rows": null,
            "height": null,
            "justify_content": null,
            "justify_items": null,
            "left": null,
            "margin": null,
            "max_height": null,
            "max_width": null,
            "min_height": null,
            "min_width": null,
            "object_fit": null,
            "object_position": null,
            "order": null,
            "overflow": null,
            "overflow_x": null,
            "overflow_y": null,
            "padding": null,
            "right": null,
            "top": null,
            "visibility": null,
            "width": null
          }
        },
        "35639a109d8b4ed0b162828f1e34ebb4": {
          "model_module": "@jupyter-widgets/controls",
          "model_name": "DescriptionStyleModel",
          "model_module_version": "1.5.0",
          "state": {
            "_model_module": "@jupyter-widgets/controls",
            "_model_module_version": "1.5.0",
            "_model_name": "DescriptionStyleModel",
            "_view_count": null,
            "_view_module": "@jupyter-widgets/base",
            "_view_module_version": "1.2.0",
            "_view_name": "StyleView",
            "description_width": ""
          }
        },
        "492b244229a84a49aec0932dc256320e": {
          "model_module": "@jupyter-widgets/base",
          "model_name": "LayoutModel",
          "model_module_version": "1.2.0",
          "state": {
            "_model_module": "@jupyter-widgets/base",
            "_model_module_version": "1.2.0",
            "_model_name": "LayoutModel",
            "_view_count": null,
            "_view_module": "@jupyter-widgets/base",
            "_view_module_version": "1.2.0",
            "_view_name": "LayoutView",
            "align_content": null,
            "align_items": null,
            "align_self": null,
            "border": null,
            "bottom": null,
            "display": null,
            "flex": null,
            "flex_flow": null,
            "grid_area": null,
            "grid_auto_columns": null,
            "grid_auto_flow": null,
            "grid_auto_rows": null,
            "grid_column": null,
            "grid_gap": null,
            "grid_row": null,
            "grid_template_areas": null,
            "grid_template_columns": null,
            "grid_template_rows": null,
            "height": null,
            "justify_content": null,
            "justify_items": null,
            "left": null,
            "margin": null,
            "max_height": null,
            "max_width": null,
            "min_height": null,
            "min_width": null,
            "object_fit": null,
            "object_position": null,
            "order": null,
            "overflow": null,
            "overflow_x": null,
            "overflow_y": null,
            "padding": null,
            "right": null,
            "top": null,
            "visibility": null,
            "width": null
          }
        },
        "567975c56c954e8b922beff67cce514d": {
          "model_module": "@jupyter-widgets/controls",
          "model_name": "ProgressStyleModel",
          "model_module_version": "1.5.0",
          "state": {
            "_model_module": "@jupyter-widgets/controls",
            "_model_module_version": "1.5.0",
            "_model_name": "ProgressStyleModel",
            "_view_count": null,
            "_view_module": "@jupyter-widgets/base",
            "_view_module_version": "1.2.0",
            "_view_name": "StyleView",
            "bar_color": null,
            "description_width": ""
          }
        },
        "c5bc3594732345e59eee7c443f0fbeff": {
          "model_module": "@jupyter-widgets/base",
          "model_name": "LayoutModel",
          "model_module_version": "1.2.0",
          "state": {
            "_model_module": "@jupyter-widgets/base",
            "_model_module_version": "1.2.0",
            "_model_name": "LayoutModel",
            "_view_count": null,
            "_view_module": "@jupyter-widgets/base",
            "_view_module_version": "1.2.0",
            "_view_name": "LayoutView",
            "align_content": null,
            "align_items": null,
            "align_self": null,
            "border": null,
            "bottom": null,
            "display": null,
            "flex": null,
            "flex_flow": null,
            "grid_area": null,
            "grid_auto_columns": null,
            "grid_auto_flow": null,
            "grid_auto_rows": null,
            "grid_column": null,
            "grid_gap": null,
            "grid_row": null,
            "grid_template_areas": null,
            "grid_template_columns": null,
            "grid_template_rows": null,
            "height": null,
            "justify_content": null,
            "justify_items": null,
            "left": null,
            "margin": null,
            "max_height": null,
            "max_width": null,
            "min_height": null,
            "min_width": null,
            "object_fit": null,
            "object_position": null,
            "order": null,
            "overflow": null,
            "overflow_x": null,
            "overflow_y": null,
            "padding": null,
            "right": null,
            "top": null,
            "visibility": null,
            "width": null
          }
        },
        "12cbaa0be59641d7bfa7663d5bf3d8fb": {
          "model_module": "@jupyter-widgets/controls",
          "model_name": "DescriptionStyleModel",
          "model_module_version": "1.5.0",
          "state": {
            "_model_module": "@jupyter-widgets/controls",
            "_model_module_version": "1.5.0",
            "_model_name": "DescriptionStyleModel",
            "_view_count": null,
            "_view_module": "@jupyter-widgets/base",
            "_view_module_version": "1.2.0",
            "_view_name": "StyleView",
            "description_width": ""
          }
        },
        "1d4da4ffb4aa4400818e2653d8740f6b": {
          "model_module": "@jupyter-widgets/controls",
          "model_name": "HBoxModel",
          "model_module_version": "1.5.0",
          "state": {
            "_dom_classes": [],
            "_model_module": "@jupyter-widgets/controls",
            "_model_module_version": "1.5.0",
            "_model_name": "HBoxModel",
            "_view_count": null,
            "_view_module": "@jupyter-widgets/controls",
            "_view_module_version": "1.5.0",
            "_view_name": "HBoxView",
            "box_style": "",
            "children": [
              "IPY_MODEL_2dc8a26d0bcb48c4918e7caaded613f6",
              "IPY_MODEL_1acf02a7f7724bbeb486b790b8f21ea2",
              "IPY_MODEL_3d1d340361194415b72ef3790428ff30"
            ],
            "layout": "IPY_MODEL_e7cf98a35f1a496cac4514457d4bcb80"
          }
        },
        "2dc8a26d0bcb48c4918e7caaded613f6": {
          "model_module": "@jupyter-widgets/controls",
          "model_name": "HTMLModel",
          "model_module_version": "1.5.0",
          "state": {
            "_dom_classes": [],
            "_model_module": "@jupyter-widgets/controls",
            "_model_module_version": "1.5.0",
            "_model_name": "HTMLModel",
            "_view_count": null,
            "_view_module": "@jupyter-widgets/controls",
            "_view_module_version": "1.5.0",
            "_view_name": "HTMLView",
            "description": "",
            "description_tooltip": null,
            "layout": "IPY_MODEL_b1dcbbb757804176bb5e79d7d71a141e",
            "placeholder": "​",
            "style": "IPY_MODEL_993ed5ba6a4a4e42a670c8f9ed676f7c",
            "value": "Map: 100%"
          }
        },
        "1acf02a7f7724bbeb486b790b8f21ea2": {
          "model_module": "@jupyter-widgets/controls",
          "model_name": "FloatProgressModel",
          "model_module_version": "1.5.0",
          "state": {
            "_dom_classes": [],
            "_model_module": "@jupyter-widgets/controls",
            "_model_module_version": "1.5.0",
            "_model_name": "FloatProgressModel",
            "_view_count": null,
            "_view_module": "@jupyter-widgets/controls",
            "_view_module_version": "1.5.0",
            "_view_name": "ProgressView",
            "bar_style": "success",
            "description": "",
            "description_tooltip": null,
            "layout": "IPY_MODEL_0c1b8374cc4c46e2b1d1ba740af13e2f",
            "max": 3570,
            "min": 0,
            "orientation": "horizontal",
            "style": "IPY_MODEL_044da3d658f841dbba1938b202aabf5c",
            "value": 3570
          }
        },
        "3d1d340361194415b72ef3790428ff30": {
          "model_module": "@jupyter-widgets/controls",
          "model_name": "HTMLModel",
          "model_module_version": "1.5.0",
          "state": {
            "_dom_classes": [],
            "_model_module": "@jupyter-widgets/controls",
            "_model_module_version": "1.5.0",
            "_model_name": "HTMLModel",
            "_view_count": null,
            "_view_module": "@jupyter-widgets/controls",
            "_view_module_version": "1.5.0",
            "_view_name": "HTMLView",
            "description": "",
            "description_tooltip": null,
            "layout": "IPY_MODEL_603fa67800b340c6b869b53ccc86ba9f",
            "placeholder": "​",
            "style": "IPY_MODEL_1bd7d921e74445e0a9b645ff9200de52",
            "value": " 3570/3570 [00:00&lt;00:00, 3799.19 examples/s]"
          }
        },
        "e7cf98a35f1a496cac4514457d4bcb80": {
          "model_module": "@jupyter-widgets/base",
          "model_name": "LayoutModel",
          "model_module_version": "1.2.0",
          "state": {
            "_model_module": "@jupyter-widgets/base",
            "_model_module_version": "1.2.0",
            "_model_name": "LayoutModel",
            "_view_count": null,
            "_view_module": "@jupyter-widgets/base",
            "_view_module_version": "1.2.0",
            "_view_name": "LayoutView",
            "align_content": null,
            "align_items": null,
            "align_self": null,
            "border": null,
            "bottom": null,
            "display": null,
            "flex": null,
            "flex_flow": null,
            "grid_area": null,
            "grid_auto_columns": null,
            "grid_auto_flow": null,
            "grid_auto_rows": null,
            "grid_column": null,
            "grid_gap": null,
            "grid_row": null,
            "grid_template_areas": null,
            "grid_template_columns": null,
            "grid_template_rows": null,
            "height": null,
            "justify_content": null,
            "justify_items": null,
            "left": null,
            "margin": null,
            "max_height": null,
            "max_width": null,
            "min_height": null,
            "min_width": null,
            "object_fit": null,
            "object_position": null,
            "order": null,
            "overflow": null,
            "overflow_x": null,
            "overflow_y": null,
            "padding": null,
            "right": null,
            "top": null,
            "visibility": null,
            "width": null
          }
        },
        "b1dcbbb757804176bb5e79d7d71a141e": {
          "model_module": "@jupyter-widgets/base",
          "model_name": "LayoutModel",
          "model_module_version": "1.2.0",
          "state": {
            "_model_module": "@jupyter-widgets/base",
            "_model_module_version": "1.2.0",
            "_model_name": "LayoutModel",
            "_view_count": null,
            "_view_module": "@jupyter-widgets/base",
            "_view_module_version": "1.2.0",
            "_view_name": "LayoutView",
            "align_content": null,
            "align_items": null,
            "align_self": null,
            "border": null,
            "bottom": null,
            "display": null,
            "flex": null,
            "flex_flow": null,
            "grid_area": null,
            "grid_auto_columns": null,
            "grid_auto_flow": null,
            "grid_auto_rows": null,
            "grid_column": null,
            "grid_gap": null,
            "grid_row": null,
            "grid_template_areas": null,
            "grid_template_columns": null,
            "grid_template_rows": null,
            "height": null,
            "justify_content": null,
            "justify_items": null,
            "left": null,
            "margin": null,
            "max_height": null,
            "max_width": null,
            "min_height": null,
            "min_width": null,
            "object_fit": null,
            "object_position": null,
            "order": null,
            "overflow": null,
            "overflow_x": null,
            "overflow_y": null,
            "padding": null,
            "right": null,
            "top": null,
            "visibility": null,
            "width": null
          }
        },
        "993ed5ba6a4a4e42a670c8f9ed676f7c": {
          "model_module": "@jupyter-widgets/controls",
          "model_name": "DescriptionStyleModel",
          "model_module_version": "1.5.0",
          "state": {
            "_model_module": "@jupyter-widgets/controls",
            "_model_module_version": "1.5.0",
            "_model_name": "DescriptionStyleModel",
            "_view_count": null,
            "_view_module": "@jupyter-widgets/base",
            "_view_module_version": "1.2.0",
            "_view_name": "StyleView",
            "description_width": ""
          }
        },
        "0c1b8374cc4c46e2b1d1ba740af13e2f": {
          "model_module": "@jupyter-widgets/base",
          "model_name": "LayoutModel",
          "model_module_version": "1.2.0",
          "state": {
            "_model_module": "@jupyter-widgets/base",
            "_model_module_version": "1.2.0",
            "_model_name": "LayoutModel",
            "_view_count": null,
            "_view_module": "@jupyter-widgets/base",
            "_view_module_version": "1.2.0",
            "_view_name": "LayoutView",
            "align_content": null,
            "align_items": null,
            "align_self": null,
            "border": null,
            "bottom": null,
            "display": null,
            "flex": null,
            "flex_flow": null,
            "grid_area": null,
            "grid_auto_columns": null,
            "grid_auto_flow": null,
            "grid_auto_rows": null,
            "grid_column": null,
            "grid_gap": null,
            "grid_row": null,
            "grid_template_areas": null,
            "grid_template_columns": null,
            "grid_template_rows": null,
            "height": null,
            "justify_content": null,
            "justify_items": null,
            "left": null,
            "margin": null,
            "max_height": null,
            "max_width": null,
            "min_height": null,
            "min_width": null,
            "object_fit": null,
            "object_position": null,
            "order": null,
            "overflow": null,
            "overflow_x": null,
            "overflow_y": null,
            "padding": null,
            "right": null,
            "top": null,
            "visibility": null,
            "width": null
          }
        },
        "044da3d658f841dbba1938b202aabf5c": {
          "model_module": "@jupyter-widgets/controls",
          "model_name": "ProgressStyleModel",
          "model_module_version": "1.5.0",
          "state": {
            "_model_module": "@jupyter-widgets/controls",
            "_model_module_version": "1.5.0",
            "_model_name": "ProgressStyleModel",
            "_view_count": null,
            "_view_module": "@jupyter-widgets/base",
            "_view_module_version": "1.2.0",
            "_view_name": "StyleView",
            "bar_color": null,
            "description_width": ""
          }
        },
        "603fa67800b340c6b869b53ccc86ba9f": {
          "model_module": "@jupyter-widgets/base",
          "model_name": "LayoutModel",
          "model_module_version": "1.2.0",
          "state": {
            "_model_module": "@jupyter-widgets/base",
            "_model_module_version": "1.2.0",
            "_model_name": "LayoutModel",
            "_view_count": null,
            "_view_module": "@jupyter-widgets/base",
            "_view_module_version": "1.2.0",
            "_view_name": "LayoutView",
            "align_content": null,
            "align_items": null,
            "align_self": null,
            "border": null,
            "bottom": null,
            "display": null,
            "flex": null,
            "flex_flow": null,
            "grid_area": null,
            "grid_auto_columns": null,
            "grid_auto_flow": null,
            "grid_auto_rows": null,
            "grid_column": null,
            "grid_gap": null,
            "grid_row": null,
            "grid_template_areas": null,
            "grid_template_columns": null,
            "grid_template_rows": null,
            "height": null,
            "justify_content": null,
            "justify_items": null,
            "left": null,
            "margin": null,
            "max_height": null,
            "max_width": null,
            "min_height": null,
            "min_width": null,
            "object_fit": null,
            "object_position": null,
            "order": null,
            "overflow": null,
            "overflow_x": null,
            "overflow_y": null,
            "padding": null,
            "right": null,
            "top": null,
            "visibility": null,
            "width": null
          }
        },
        "1bd7d921e74445e0a9b645ff9200de52": {
          "model_module": "@jupyter-widgets/controls",
          "model_name": "DescriptionStyleModel",
          "model_module_version": "1.5.0",
          "state": {
            "_model_module": "@jupyter-widgets/controls",
            "_model_module_version": "1.5.0",
            "_model_name": "DescriptionStyleModel",
            "_view_count": null,
            "_view_module": "@jupyter-widgets/base",
            "_view_module_version": "1.2.0",
            "_view_name": "StyleView",
            "description_width": ""
          }
        },
        "ac18de680a1f4cfb8c37f46b7ff29bd2": {
          "model_module": "@jupyter-widgets/controls",
          "model_name": "HBoxModel",
          "model_module_version": "1.5.0",
          "state": {
            "_dom_classes": [],
            "_model_module": "@jupyter-widgets/controls",
            "_model_module_version": "1.5.0",
            "_model_name": "HBoxModel",
            "_view_count": null,
            "_view_module": "@jupyter-widgets/controls",
            "_view_module_version": "1.5.0",
            "_view_name": "HBoxView",
            "box_style": "",
            "children": [
              "IPY_MODEL_55640569a78e4b7da8a4690b85f2baed",
              "IPY_MODEL_176db597bc9a49cfad8a97daa462ec2b",
              "IPY_MODEL_56afc10d154a48968d835ebfd5857864"
            ],
            "layout": "IPY_MODEL_8559be3254ed409a881aa247c552dee8"
          }
        },
        "55640569a78e4b7da8a4690b85f2baed": {
          "model_module": "@jupyter-widgets/controls",
          "model_name": "HTMLModel",
          "model_module_version": "1.5.0",
          "state": {
            "_dom_classes": [],
            "_model_module": "@jupyter-widgets/controls",
            "_model_module_version": "1.5.0",
            "_model_name": "HTMLModel",
            "_view_count": null,
            "_view_module": "@jupyter-widgets/controls",
            "_view_module_version": "1.5.0",
            "_view_name": "HTMLView",
            "description": "",
            "description_tooltip": null,
            "layout": "IPY_MODEL_e9e45ea0c0f6493eacd1f8f5bdb7fee6",
            "placeholder": "​",
            "style": "IPY_MODEL_b236459dcf2d43afaa2f86b71905434e",
            "value": "Map: 100%"
          }
        },
        "176db597bc9a49cfad8a97daa462ec2b": {
          "model_module": "@jupyter-widgets/controls",
          "model_name": "FloatProgressModel",
          "model_module_version": "1.5.0",
          "state": {
            "_dom_classes": [],
            "_model_module": "@jupyter-widgets/controls",
            "_model_module_version": "1.5.0",
            "_model_name": "FloatProgressModel",
            "_view_count": null,
            "_view_module": "@jupyter-widgets/controls",
            "_view_module_version": "1.5.0",
            "_view_name": "ProgressView",
            "bar_style": "success",
            "description": "",
            "description_tooltip": null,
            "layout": "IPY_MODEL_1b67d36157a94f03add07b2cd2d78c3e",
            "max": 3570,
            "min": 0,
            "orientation": "horizontal",
            "style": "IPY_MODEL_17c74fcd8f914603854dfec326928733",
            "value": 3570
          }
        },
        "56afc10d154a48968d835ebfd5857864": {
          "model_module": "@jupyter-widgets/controls",
          "model_name": "HTMLModel",
          "model_module_version": "1.5.0",
          "state": {
            "_dom_classes": [],
            "_model_module": "@jupyter-widgets/controls",
            "_model_module_version": "1.5.0",
            "_model_name": "HTMLModel",
            "_view_count": null,
            "_view_module": "@jupyter-widgets/controls",
            "_view_module_version": "1.5.0",
            "_view_name": "HTMLView",
            "description": "",
            "description_tooltip": null,
            "layout": "IPY_MODEL_82f6416b64ac4f2a853098fdddf17781",
            "placeholder": "​",
            "style": "IPY_MODEL_82c962f426a54c6c9e4356a4e47f253a",
            "value": " 3570/3570 [00:00&lt;00:00, 3636.95 examples/s]"
          }
        },
        "8559be3254ed409a881aa247c552dee8": {
          "model_module": "@jupyter-widgets/base",
          "model_name": "LayoutModel",
          "model_module_version": "1.2.0",
          "state": {
            "_model_module": "@jupyter-widgets/base",
            "_model_module_version": "1.2.0",
            "_model_name": "LayoutModel",
            "_view_count": null,
            "_view_module": "@jupyter-widgets/base",
            "_view_module_version": "1.2.0",
            "_view_name": "LayoutView",
            "align_content": null,
            "align_items": null,
            "align_self": null,
            "border": null,
            "bottom": null,
            "display": null,
            "flex": null,
            "flex_flow": null,
            "grid_area": null,
            "grid_auto_columns": null,
            "grid_auto_flow": null,
            "grid_auto_rows": null,
            "grid_column": null,
            "grid_gap": null,
            "grid_row": null,
            "grid_template_areas": null,
            "grid_template_columns": null,
            "grid_template_rows": null,
            "height": null,
            "justify_content": null,
            "justify_items": null,
            "left": null,
            "margin": null,
            "max_height": null,
            "max_width": null,
            "min_height": null,
            "min_width": null,
            "object_fit": null,
            "object_position": null,
            "order": null,
            "overflow": null,
            "overflow_x": null,
            "overflow_y": null,
            "padding": null,
            "right": null,
            "top": null,
            "visibility": null,
            "width": null
          }
        },
        "e9e45ea0c0f6493eacd1f8f5bdb7fee6": {
          "model_module": "@jupyter-widgets/base",
          "model_name": "LayoutModel",
          "model_module_version": "1.2.0",
          "state": {
            "_model_module": "@jupyter-widgets/base",
            "_model_module_version": "1.2.0",
            "_model_name": "LayoutModel",
            "_view_count": null,
            "_view_module": "@jupyter-widgets/base",
            "_view_module_version": "1.2.0",
            "_view_name": "LayoutView",
            "align_content": null,
            "align_items": null,
            "align_self": null,
            "border": null,
            "bottom": null,
            "display": null,
            "flex": null,
            "flex_flow": null,
            "grid_area": null,
            "grid_auto_columns": null,
            "grid_auto_flow": null,
            "grid_auto_rows": null,
            "grid_column": null,
            "grid_gap": null,
            "grid_row": null,
            "grid_template_areas": null,
            "grid_template_columns": null,
            "grid_template_rows": null,
            "height": null,
            "justify_content": null,
            "justify_items": null,
            "left": null,
            "margin": null,
            "max_height": null,
            "max_width": null,
            "min_height": null,
            "min_width": null,
            "object_fit": null,
            "object_position": null,
            "order": null,
            "overflow": null,
            "overflow_x": null,
            "overflow_y": null,
            "padding": null,
            "right": null,
            "top": null,
            "visibility": null,
            "width": null
          }
        },
        "b236459dcf2d43afaa2f86b71905434e": {
          "model_module": "@jupyter-widgets/controls",
          "model_name": "DescriptionStyleModel",
          "model_module_version": "1.5.0",
          "state": {
            "_model_module": "@jupyter-widgets/controls",
            "_model_module_version": "1.5.0",
            "_model_name": "DescriptionStyleModel",
            "_view_count": null,
            "_view_module": "@jupyter-widgets/base",
            "_view_module_version": "1.2.0",
            "_view_name": "StyleView",
            "description_width": ""
          }
        },
        "1b67d36157a94f03add07b2cd2d78c3e": {
          "model_module": "@jupyter-widgets/base",
          "model_name": "LayoutModel",
          "model_module_version": "1.2.0",
          "state": {
            "_model_module": "@jupyter-widgets/base",
            "_model_module_version": "1.2.0",
            "_model_name": "LayoutModel",
            "_view_count": null,
            "_view_module": "@jupyter-widgets/base",
            "_view_module_version": "1.2.0",
            "_view_name": "LayoutView",
            "align_content": null,
            "align_items": null,
            "align_self": null,
            "border": null,
            "bottom": null,
            "display": null,
            "flex": null,
            "flex_flow": null,
            "grid_area": null,
            "grid_auto_columns": null,
            "grid_auto_flow": null,
            "grid_auto_rows": null,
            "grid_column": null,
            "grid_gap": null,
            "grid_row": null,
            "grid_template_areas": null,
            "grid_template_columns": null,
            "grid_template_rows": null,
            "height": null,
            "justify_content": null,
            "justify_items": null,
            "left": null,
            "margin": null,
            "max_height": null,
            "max_width": null,
            "min_height": null,
            "min_width": null,
            "object_fit": null,
            "object_position": null,
            "order": null,
            "overflow": null,
            "overflow_x": null,
            "overflow_y": null,
            "padding": null,
            "right": null,
            "top": null,
            "visibility": null,
            "width": null
          }
        },
        "17c74fcd8f914603854dfec326928733": {
          "model_module": "@jupyter-widgets/controls",
          "model_name": "ProgressStyleModel",
          "model_module_version": "1.5.0",
          "state": {
            "_model_module": "@jupyter-widgets/controls",
            "_model_module_version": "1.5.0",
            "_model_name": "ProgressStyleModel",
            "_view_count": null,
            "_view_module": "@jupyter-widgets/base",
            "_view_module_version": "1.2.0",
            "_view_name": "StyleView",
            "bar_color": null,
            "description_width": ""
          }
        },
        "82f6416b64ac4f2a853098fdddf17781": {
          "model_module": "@jupyter-widgets/base",
          "model_name": "LayoutModel",
          "model_module_version": "1.2.0",
          "state": {
            "_model_module": "@jupyter-widgets/base",
            "_model_module_version": "1.2.0",
            "_model_name": "LayoutModel",
            "_view_count": null,
            "_view_module": "@jupyter-widgets/base",
            "_view_module_version": "1.2.0",
            "_view_name": "LayoutView",
            "align_content": null,
            "align_items": null,
            "align_self": null,
            "border": null,
            "bottom": null,
            "display": null,
            "flex": null,
            "flex_flow": null,
            "grid_area": null,
            "grid_auto_columns": null,
            "grid_auto_flow": null,
            "grid_auto_rows": null,
            "grid_column": null,
            "grid_gap": null,
            "grid_row": null,
            "grid_template_areas": null,
            "grid_template_columns": null,
            "grid_template_rows": null,
            "height": null,
            "justify_content": null,
            "justify_items": null,
            "left": null,
            "margin": null,
            "max_height": null,
            "max_width": null,
            "min_height": null,
            "min_width": null,
            "object_fit": null,
            "object_position": null,
            "order": null,
            "overflow": null,
            "overflow_x": null,
            "overflow_y": null,
            "padding": null,
            "right": null,
            "top": null,
            "visibility": null,
            "width": null
          }
        },
        "82c962f426a54c6c9e4356a4e47f253a": {
          "model_module": "@jupyter-widgets/controls",
          "model_name": "DescriptionStyleModel",
          "model_module_version": "1.5.0",
          "state": {
            "_model_module": "@jupyter-widgets/controls",
            "_model_module_version": "1.5.0",
            "_model_name": "DescriptionStyleModel",
            "_view_count": null,
            "_view_module": "@jupyter-widgets/base",
            "_view_module_version": "1.2.0",
            "_view_name": "StyleView",
            "description_width": ""
          }
        }
      }
    }
  },
  "nbformat_minor": 0,
  "nbformat": 4,
  "cells": [
    {
      "cell_type": "markdown",
      "metadata": {
        "id": "view-in-github",
        "colab_type": "text"
      },
      "source": [
        "<a href=\"https://colab.research.google.com/github/wall-e785/Clickbait-Detector/blob/LoadingPretrainedModel/clickbaitdetector.ipynb\" target=\"_parent\"><img src=\"https://colab.research.google.com/assets/colab-badge.svg\" alt=\"Open In Colab\"/></a>"
      ]
    },
    {
      "cell_type": "markdown",
      "source": [
        "# IAT 360 Final Project\n",
        "\n",
        "This project is a sentiment classifier to identify if article titles are clickbait. We have fine-tuned a BERT model using a clickbait dataset with 37,870 examples of article titles that are labeled as either NOT or CLICKBAIT."
      ],
      "metadata": {
        "id": "u9LBtcg76NbX"
      }
    },
    {
      "cell_type": "markdown",
      "source": [
        "# Setup Python Libraries (pip)"
      ],
      "metadata": {
        "id": "7Noh5huE6NbY"
      }
    },
    {
      "cell_type": "markdown",
      "source": [
        "Lets load in our pretrained model from our github first."
      ],
      "metadata": {
        "id": "K4YxZRXl9zyq"
      }
    },
    {
      "cell_type": "code",
      "source": [
        "#referenced from https://www.youtube.com/watch?v=q0I4CzpBATk\n",
        "!git clone https://github.com/wall-e785/Clickbait-Detector.git"
      ],
      "metadata": {
        "id": "K_ez7JgAUzXP",
        "outputId": "2d6832ea-1277-4a79-d9db-17e3ae737bbb",
        "colab": {
          "base_uri": "https://localhost:8080/"
        }
      },
      "execution_count": 1,
      "outputs": [
        {
          "output_type": "stream",
          "name": "stdout",
          "text": [
            "Cloning into 'Clickbait-Detector'...\n",
            "remote: Enumerating objects: 68, done.\u001b[K\n",
            "remote: Counting objects: 100% (68/68), done.\u001b[K\n",
            "remote: Compressing objects: 100% (63/63), done.\u001b[K\n",
            "remote: Total 68 (delta 35), reused 11 (delta 2), pack-reused 0 (from 0)\u001b[K\n",
            "Receiving objects: 100% (68/68), 114.79 KiB | 621.00 KiB/s, done.\n",
            "Resolving deltas: 100% (35/35), done.\n"
          ]
        }
      ]
    },
    {
      "cell_type": "code",
      "source": [
        "# install some Python packages with pip\n",
        "\n",
        "!pip install numpy torch datasets transformers evaluate --quiet"
      ],
      "metadata": {
        "execution": {
          "iopub.status.busy": "2023-05-31T00:54:53.614563Z",
          "iopub.execute_input": "2023-05-31T00:54:53.615306Z",
          "iopub.status.idle": "2023-05-31T00:55:11.155835Z",
          "shell.execute_reply.started": "2023-05-31T00:54:53.615214Z",
          "shell.execute_reply": "2023-05-31T00:55:11.154404Z"
        },
        "trusted": true,
        "id": "OtlNVKJR6NbY",
        "outputId": "327f4fc5-6f9c-4367-b331-db0eb0daf11e",
        "colab": {
          "base_uri": "https://localhost:8080/"
        }
      },
      "execution_count": 2,
      "outputs": [
        {
          "output_type": "stream",
          "name": "stdout",
          "text": [
            "\u001b[?25l   \u001b[90m━━━━━━━━━━━━━━━━━━━━━━━━━━━━━━━━━━━━━━━━\u001b[0m \u001b[32m0.0/480.6 kB\u001b[0m \u001b[31m?\u001b[0m eta \u001b[36m-:--:--\u001b[0m\r\u001b[2K   \u001b[91m━━━━━━━━━━━━━━━━━━━━━━━━━━━━━━━━━━━━━━━\u001b[0m\u001b[90m╺\u001b[0m \u001b[32m471.0/480.6 kB\u001b[0m \u001b[31m23.7 MB/s\u001b[0m eta \u001b[36m0:00:01\u001b[0m\r\u001b[2K   \u001b[90m━━━━━━━━━━━━━━━━━━━━━━━━━━━━━━━━━━━━━━━━\u001b[0m \u001b[32m480.6/480.6 kB\u001b[0m \u001b[31m9.8 MB/s\u001b[0m eta \u001b[36m0:00:00\u001b[0m\n",
            "\u001b[2K   \u001b[90m━━━━━━━━━━━━━━━━━━━━━━━━━━━━━━━━━━━━━━━━\u001b[0m \u001b[32m84.0/84.0 kB\u001b[0m \u001b[31m6.1 MB/s\u001b[0m eta \u001b[36m0:00:00\u001b[0m\n",
            "\u001b[2K   \u001b[90m━━━━━━━━━━━━━━━━━━━━━━━━━━━━━━━━━━━━━━━━\u001b[0m \u001b[32m116.3/116.3 kB\u001b[0m \u001b[31m8.8 MB/s\u001b[0m eta \u001b[36m0:00:00\u001b[0m\n",
            "\u001b[2K   \u001b[90m━━━━━━━━━━━━━━━━━━━━━━━━━━━━━━━━━━━━━━━━\u001b[0m \u001b[32m179.3/179.3 kB\u001b[0m \u001b[31m11.5 MB/s\u001b[0m eta \u001b[36m0:00:00\u001b[0m\n",
            "\u001b[2K   \u001b[90m━━━━━━━━━━━━━━━━━━━━━━━━━━━━━━━━━━━━━━━━\u001b[0m \u001b[32m134.8/134.8 kB\u001b[0m \u001b[31m6.7 MB/s\u001b[0m eta \u001b[36m0:00:00\u001b[0m\n",
            "\u001b[2K   \u001b[90m━━━━━━━━━━━━━━━━━━━━━━━━━━━━━━━━━━━━━━━━\u001b[0m \u001b[32m194.1/194.1 kB\u001b[0m \u001b[31m3.6 MB/s\u001b[0m eta \u001b[36m0:00:00\u001b[0m\n",
            "\u001b[?25h\u001b[31mERROR: pip's dependency resolver does not currently take into account all the packages that are installed. This behaviour is the source of the following dependency conflicts.\n",
            "gcsfs 2024.10.0 requires fsspec==2024.10.0, but you have fsspec 2024.9.0 which is incompatible.\u001b[0m\u001b[31m\n",
            "\u001b[0m"
          ]
        }
      ]
    },
    {
      "cell_type": "code",
      "source": [
        "# check the version we are using\n",
        "\n",
        "!pip freeze | grep -E '^numpy|^torch|^datasets|^transformers|^evaluate'"
      ],
      "metadata": {
        "execution": {
          "iopub.status.busy": "2023-05-31T00:55:11.159612Z",
          "iopub.execute_input": "2023-05-31T00:55:11.161147Z",
          "iopub.status.idle": "2023-05-31T00:55:15.987415Z",
          "shell.execute_reply.started": "2023-05-31T00:55:11.161100Z",
          "shell.execute_reply": "2023-05-31T00:55:15.985957Z"
        },
        "trusted": true,
        "colab": {
          "base_uri": "https://localhost:8080/"
        },
        "id": "sjTwjo6u6NbY",
        "outputId": "3d20068a-c081-4f78-8ad1-1efbba4baa88"
      },
      "execution_count": null,
      "outputs": [
        {
          "output_type": "stream",
          "name": "stdout",
          "text": [
            "datasets==3.2.0\n",
            "evaluate==0.4.3\n",
            "numpy==1.26.4\n",
            "torch @ https://download.pytorch.org/whl/cu121_full/torch-2.5.1%2Bcu121-cp310-cp310-linux_x86_64.whl\n",
            "torchaudio @ https://download.pytorch.org/whl/cu121/torchaudio-2.5.1%2Bcu121-cp310-cp310-linux_x86_64.whl\n",
            "torchsummary==1.5.1\n",
            "torchvision @ https://download.pytorch.org/whl/cu121/torchvision-0.20.1%2Bcu121-cp310-cp310-linux_x86_64.whl\n",
            "transformers==4.46.3\n"
          ]
        }
      ]
    },
    {
      "cell_type": "markdown",
      "source": [
        "# Create Clickbait Dataset for Fine-tuning BERT"
      ],
      "metadata": {
        "id": "9AYGJyIo6NbZ"
      }
    },
    {
      "cell_type": "markdown",
      "source": [
        "## Loading Clickbait Dataset"
      ],
      "metadata": {
        "id": "NtxPz74d6NbZ"
      }
    },
    {
      "cell_type": "code",
      "source": [
        "from datasets import load_dataset, concatenate_datasets, DatasetDict\n",
        "\n",
        "# let's load the clickbait dataset from huggingface\n",
        "# source: (https://huggingface.co/datasets/christinacdl/clickbait_detection_dataset)\n",
        "\n",
        "raw_dataset = load_dataset(\"christinacdl/clickbait_detection_dataset\")\n",
        "raw_dataset"
      ],
      "metadata": {
        "execution": {
          "iopub.status.busy": "2023-05-31T00:55:15.988973Z",
          "iopub.execute_input": "2023-05-31T00:55:15.989348Z",
          "iopub.status.idle": "2023-05-31T00:55:58.886252Z",
          "shell.execute_reply.started": "2023-05-31T00:55:15.989309Z",
          "shell.execute_reply": "2023-05-31T00:55:58.885164Z"
        },
        "trusted": true,
        "colab": {
          "base_uri": "https://localhost:8080/",
          "height": 491,
          "referenced_widgets": [
            "dbd57a2cca544fc986b3ce2ba92092ba",
            "0b420c3580d546f9a2bba3aa42e5f0de",
            "a956a706e655416abee70537ad8a85b2",
            "2522ee167a124bd0990de297d2c50aec",
            "d57d38db6ba5490798a865d839f55ed8",
            "890f6e1445bb4c449a17646cc17dcea2",
            "903c819da39b4f0c96799a90a84ccd32",
            "69131ea7ea1741b9ab91cace9cff85c7",
            "066d4df99c7d42c9ba069668e6ca6b51",
            "fe7c0b36f7c5418bb64dfc5712397a38",
            "ef6676744c1b45c8afee9ce78ab3225f",
            "5ac9eae3e1574b6287a8e23523562a86",
            "050097577a214fd3b947e3c642e56039",
            "78f518c39644491cb65b2e340d7ba5b2",
            "2c44e9b1794b45e1b81f87f8a722e664",
            "a42d81df36904d77aa85aedb13dcd477",
            "73b538121f4b479890782324312870b7",
            "31f7566611b24c228c1806f92ac5b0d2",
            "035cd53302e9462eb90c41e977ffd761",
            "fdd242ec4675438eba746eb28d4dfd77",
            "9ffbeb3f8c534a1d866b5e366a45f24e",
            "f0f1c08c0203470cbad86c5aa024c512",
            "ad13dced6e824261aeccaf7894d392be",
            "3397d9ce71184fbd91e879c2e8bc0f84",
            "64773afe02c54f0196d864715b9f3182",
            "622ec9d800e1485aa350060571613e1b",
            "c1bcfef09c9c4971a6db32798ac7c4c0",
            "61025b08cd174ff59e0a086658bc9502",
            "7a041e7615294592b8a92ab1d2e4ecc8",
            "4f31e7a66060444484555414263cb4bc",
            "5db4b7f719b249d3b0244fe627715507",
            "7de9cff8ade841fa8de1ebaa3dc1caf7",
            "07302a1e4c0840169d24a6200fb64ed0",
            "eda2058dfec14308883152d17a72d4e6",
            "093828a799624e9ab3cff707fc99ed8c",
            "07e56f1a30ad4fa9b72c52db55151c48",
            "343ad128c50f40608ed801c8628d240a",
            "64986f9bd2ec4fe18f5d8dfe8490efba",
            "541a2202d43048ec820f44c0c5720ecf",
            "937514e24a86446da774999ea8513e76",
            "3b6f97f6a0e44a1b9d314b9c4e454169",
            "471c559672de4ad89779c6f5302e89b2",
            "9af2cd34b99843c488f6cc31b6488e0a",
            "4b261d6fcfe34f759e8906990627dba9",
            "b6cb751001084e51b884fcb528ef71d9",
            "f515ec760c094d9aab70d7860c4931f1",
            "aaec497373de45be9c2d7c48edde8014",
            "92e2c733d0274a96b2a285a5a5db600a",
            "f3867f05aa8e4c5f8eaf84fc6b365cce",
            "512dcaf5fd52413b83d998347795a9de",
            "0fefa4b19fac45a8ac31cff1ae3a573a",
            "db4d58079ae846d39eb8a740f9976b2d",
            "af2ce8077e6a47069dc0052051ab2bfd",
            "fda60762346d422fa9a74bf5b67a916a",
            "4ed3dbd9f9ba4423b7a7f89dcf39278b",
            "801ee77267884b0288208bba6f479773",
            "5da5846b2bc94844a6d269f5a471c4d5",
            "06e7f2e3086943f6b9173793b0e47efa",
            "cf9d3c6fdc17469a8d164456f58a8a74",
            "d62a04c28dc04f579469253d4aea9e41",
            "129515c3309a41438176dd4cee7d1de9",
            "86c1a0b791944b5185584f0debbd7c7a",
            "f6c91e611c864c0a9fd705e8603dccee",
            "6eeaea18d45e4301a0a9415010436732",
            "ad79c10b3128408aa7d7ae21fc52f90b",
            "673b922c999a4f5b803d6e7d20359229",
            "9447df55cf2b4b34b9cac5eaef9e08d0",
            "e0db044c196540d6a5de13308ef1be15",
            "37da8d3b03914b03a399335ead0b832c",
            "ada5d8da6f4247d4ab6e64be7f32b894",
            "e8c2febf09ae4dd2a7e54bde61a44285",
            "2577552fce1c4f179e0e80bcb733688b",
            "54a744c1f4b546e9bca3d1d54dbb7f6b",
            "43c38a5a020d479db263efff4953e4ad",
            "f07f8a023a444f62ae7ca7f12c5a22f4",
            "72f7f1160f8145a7b25c55261db39c38",
            "fd718d90933545d6abcc1f330b9e99d3"
          ]
        },
        "id": "_UV79XFC6NbZ",
        "outputId": "f49f090d-526c-4252-e93e-8be6a9f16788"
      },
      "execution_count": 10,
      "outputs": [
        {
          "output_type": "display_data",
          "data": {
            "text/plain": [
              "README.md:   0%|          | 0.00/1.18k [00:00<?, ?B/s]"
            ],
            "application/vnd.jupyter.widget-view+json": {
              "version_major": 2,
              "version_minor": 0,
              "model_id": "dbd57a2cca544fc986b3ce2ba92092ba"
            }
          },
          "metadata": {}
        },
        {
          "output_type": "display_data",
          "data": {
            "text/plain": [
              "train.json:   0%|          | 0.00/2.99M [00:00<?, ?B/s]"
            ],
            "application/vnd.jupyter.widget-view+json": {
              "version_major": 2,
              "version_minor": 0,
              "model_id": "5ac9eae3e1574b6287a8e23523562a86"
            }
          },
          "metadata": {}
        },
        {
          "output_type": "display_data",
          "data": {
            "text/plain": [
              "val.json:   0%|          | 0.00/375k [00:00<?, ?B/s]"
            ],
            "application/vnd.jupyter.widget-view+json": {
              "version_major": 2,
              "version_minor": 0,
              "model_id": "ad13dced6e824261aeccaf7894d392be"
            }
          },
          "metadata": {}
        },
        {
          "output_type": "display_data",
          "data": {
            "text/plain": [
              "test.json:   0%|          | 0.00/373k [00:00<?, ?B/s]"
            ],
            "application/vnd.jupyter.widget-view+json": {
              "version_major": 2,
              "version_minor": 0,
              "model_id": "eda2058dfec14308883152d17a72d4e6"
            }
          },
          "metadata": {}
        },
        {
          "output_type": "display_data",
          "data": {
            "text/plain": [
              "Generating train split:   0%|          | 0/30296 [00:00<?, ? examples/s]"
            ],
            "application/vnd.jupyter.widget-view+json": {
              "version_major": 2,
              "version_minor": 0,
              "model_id": "b6cb751001084e51b884fcb528ef71d9"
            }
          },
          "metadata": {}
        },
        {
          "output_type": "display_data",
          "data": {
            "text/plain": [
              "Generating validation split:   0%|          | 0/3787 [00:00<?, ? examples/s]"
            ],
            "application/vnd.jupyter.widget-view+json": {
              "version_major": 2,
              "version_minor": 0,
              "model_id": "801ee77267884b0288208bba6f479773"
            }
          },
          "metadata": {}
        },
        {
          "output_type": "display_data",
          "data": {
            "text/plain": [
              "Generating test split:   0%|          | 0/3787 [00:00<?, ? examples/s]"
            ],
            "application/vnd.jupyter.widget-view+json": {
              "version_major": 2,
              "version_minor": 0,
              "model_id": "9447df55cf2b4b34b9cac5eaef9e08d0"
            }
          },
          "metadata": {}
        },
        {
          "output_type": "execute_result",
          "data": {
            "text/plain": [
              "DatasetDict({\n",
              "    train: Dataset({\n",
              "        features: ['text_label', 'text', 'label'],\n",
              "        num_rows: 30296\n",
              "    })\n",
              "    validation: Dataset({\n",
              "        features: ['text_label', 'text', 'label'],\n",
              "        num_rows: 3787\n",
              "    })\n",
              "    test: Dataset({\n",
              "        features: ['text_label', 'text', 'label'],\n",
              "        num_rows: 3787\n",
              "    })\n",
              "})"
            ]
          },
          "metadata": {},
          "execution_count": 10
        }
      ]
    },
    {
      "cell_type": "markdown",
      "source": [
        "To create a balanced dataset, we remove some CLICKBAIT items. This is done by combining the subsets in the raw dataset (train, validation, test) to create a complete dataset to scale."
      ],
      "metadata": {
        "id": "FrXQFrhETtUi"
      }
    },
    {
      "cell_type": "code",
      "source": [
        "# Reference from: https://discuss.huggingface.co/t/how-to-merge-two-dataset-objects/844/6\n",
        "combined_dataset = concatenate_datasets([raw_dataset['train'], raw_dataset['test'], raw_dataset['validation']])\n",
        "# combined_dataset\n",
        "\n",
        "# #Sorting the dataset into all 0 then all 1\n",
        "sorted_dataset = combined_dataset.sort('label')\n",
        "\n",
        "# #then create a new dataset with a smaller range to effectively get rid of 2170 CLICKBAIT items\n",
        "equal_dataset = sorted_dataset.select(range(35700))\n",
        "equal_dataset"
      ],
      "metadata": {
        "colab": {
          "base_uri": "https://localhost:8080/"
        },
        "id": "8GkXUsreOagm",
        "outputId": "d67fe750-b0d7-4965-e8d7-db58d7af59e5"
      },
      "execution_count": 11,
      "outputs": [
        {
          "output_type": "execute_result",
          "data": {
            "text/plain": [
              "Dataset({\n",
              "    features: ['text_label', 'text', 'label'],\n",
              "    num_rows: 35700\n",
              "})"
            ]
          },
          "metadata": {},
          "execution_count": 11
        }
      ]
    },
    {
      "cell_type": "markdown",
      "source": [
        "Now, we visualize the dataset to see if the CLICKBAIT samples have been properly removed."
      ],
      "metadata": {
        "id": "WhP6EHdcmr0m"
      }
    },
    {
      "cell_type": "code",
      "source": [
        "import pandas as pd\n",
        "\n",
        "#converting the Datasets into pandas dataframes to use for Matplotlib\n",
        "#referenced from https://huggingface.co/docs/datasets/v3.1.0/en/package_reference/main_classes#datasets.Dataset.column_names\n",
        "raw_dataframe = sorted_dataset.to_pandas()\n",
        "raw_label_list = []\n",
        "\n",
        "for label in raw_dataframe.get('label'):\n",
        "  raw_label_list.append(label)\n",
        "\n",
        "print(len(raw_label_list))\n",
        "\n",
        "article_dataframe = equal_dataset.to_pandas()\n",
        "label_list = []\n",
        "\n",
        "for label in article_dataframe.get('label'):\n",
        "  label_list.append(label)\n",
        "\n",
        "print(len(label_list))"
      ],
      "metadata": {
        "id": "TqDpBoQEK7w6",
        "outputId": "ac5cf969-74b2-4825-e156-c0c7db87d8a8",
        "colab": {
          "base_uri": "https://localhost:8080/"
        }
      },
      "execution_count": 12,
      "outputs": [
        {
          "output_type": "stream",
          "name": "stdout",
          "text": [
            "37870\n",
            "35700\n"
          ]
        }
      ]
    },
    {
      "cell_type": "code",
      "source": [
        "#Referenced from Assignment 2, we wanted to show a bar graph of the sample distribution between the labels\n",
        "import matplotlib.pyplot as plt\n",
        "import numpy as np\n",
        "\n",
        "\n",
        "# plot articles\n",
        "plt.figure(figsize=(35,4))\n",
        "plt.subplot(1,3,1)\n",
        "#np.unique returns ordered list of unique elements and count of each element\n",
        "equal_dataset, count = np.unique(raw_label_list, return_counts=True)\n",
        "print(count)\n",
        "plt.bar(x=range(2), height=count)\n",
        "plt.xticks(ticks=range(2), labels = {'NOT', 'CLICKBAIT'},fontsize=10)\n",
        "plt.xlabel('Article Type')\n",
        "plt.tick_params(labelsize=10)\n",
        "plt.ylabel('Number of Samples')\n",
        "plt.show()"
      ],
      "metadata": {
        "id": "KR-rEqNJJAuO",
        "outputId": "55f3f0d5-1ee7-406e-c856-fa46669f142d",
        "colab": {
          "base_uri": "https://localhost:8080/",
          "height": 406
        }
      },
      "execution_count": null,
      "outputs": [
        {
          "output_type": "stream",
          "name": "stdout",
          "text": [
            "[17850 20020]\n"
          ]
        },
        {
          "output_type": "display_data",
          "data": {
            "text/plain": [
              "<Figure size 3500x400 with 1 Axes>"
            ],
            "image/png": "[encoded data removed]"
          },
          "metadata": {}
        }
      ]
    },
    {
      "cell_type": "code",
      "source": [
        "# plot the reduced dataset\n",
        "plt.figure(figsize=(35,4))\n",
        "plt.subplot(1,3,1)\n",
        "#np.unique returns ordered list of unique elements and count of each element\n",
        "equal_dataset, count = np.unique(label_list, return_counts=True)\n",
        "print(count)\n",
        "plt.bar(x=range(2), height=count)\n",
        "plt.xticks(ticks=range(2), labels = {'NOT', 'CLICKBAIT'},fontsize=10)\n",
        "plt.xlabel('Article Type')\n",
        "plt.tick_params(labelsize=10)\n",
        "plt.ylabel('Number of Samples')\n",
        "plt.show()"
      ],
      "metadata": {
        "id": "vlJCcMH_OQHP",
        "outputId": "ba46eedd-663e-4780-a1b0-670b53b80a33",
        "colab": {
          "base_uri": "https://localhost:8080/",
          "height": 406
        }
      },
      "execution_count": null,
      "outputs": [
        {
          "output_type": "stream",
          "name": "stdout",
          "text": [
            "[17850 17850]\n"
          ]
        },
        {
          "output_type": "display_data",
          "data": {
            "text/plain": [
              "<Figure size 3500x400 with 1 Axes>"
            ],
            "image/png": "[encoded data removed]"
          },
          "metadata": {}
        }
      ]
    },
    {
      "cell_type": "markdown",
      "source": [
        "## Let's create the train, validation, test sets"
      ],
      "metadata": {
        "id": "aJw7VDtG6NbZ"
      }
    },
    {
      "cell_type": "markdown",
      "source": [
        "To create our dataset, we are using a method from: https://discuss.huggingface.co/t/how-to-split-main-dataset-into-train-dev-test-as-datasetdict/1090\n",
        "\n",
        "We will first create a training and combined test+val dataset with and 80-20 split, and then split the test+val in half. Then we can create a new dictionary and define the train, test, and val."
      ],
      "metadata": {
        "id": "wq64k2W4b70J"
      }
    },
    {
      "cell_type": "code",
      "source": [
        "# Split train and and test+val set\n",
        "\n",
        "train_testvalid = equal_dataset.train_test_split(test_size=0.2, seed=42, shuffle=True)\n",
        "train_testvalid"
      ],
      "metadata": {
        "execution": {
          "iopub.status.busy": "2023-05-31T00:55:58.889607Z",
          "iopub.execute_input": "2023-05-31T00:55:58.892334Z",
          "iopub.status.idle": "2023-05-31T00:55:58.918777Z",
          "shell.execute_reply.started": "2023-05-31T00:55:58.892274Z",
          "shell.execute_reply": "2023-05-31T00:55:58.917782Z"
        },
        "trusted": true,
        "colab": {
          "base_uri": "https://localhost:8080/"
        },
        "id": "qhX05VjE6NbZ",
        "outputId": "8b55d630-64a6-4880-c7c1-53fb5fc2d0c0"
      },
      "execution_count": 13,
      "outputs": [
        {
          "output_type": "execute_result",
          "data": {
            "text/plain": [
              "DatasetDict({\n",
              "    train: Dataset({\n",
              "        features: ['text_label', 'text', 'label'],\n",
              "        num_rows: 28560\n",
              "    })\n",
              "    test: Dataset({\n",
              "        features: ['text_label', 'text', 'label'],\n",
              "        num_rows: 7140\n",
              "    })\n",
              "})"
            ]
          },
          "metadata": {},
          "execution_count": 13
        }
      ]
    },
    {
      "cell_type": "code",
      "source": [
        "# Split test and val\n",
        "test_valid = train_testvalid['test'].train_test_split(test_size=0.5)\n",
        "test_valid"
      ],
      "metadata": {
        "execution": {
          "iopub.status.busy": "2023-05-31T00:55:58.920413Z",
          "iopub.execute_input": "2023-05-31T00:55:58.921057Z",
          "iopub.status.idle": "2023-05-31T00:55:58.929127Z",
          "shell.execute_reply.started": "2023-05-31T00:55:58.921013Z",
          "shell.execute_reply": "2023-05-31T00:55:58.928032Z"
        },
        "trusted": true,
        "colab": {
          "base_uri": "https://localhost:8080/"
        },
        "id": "lmwBXU6c6Nba",
        "outputId": "ac5df726-9895-473e-f6f0-a5c59926df79"
      },
      "execution_count": 14,
      "outputs": [
        {
          "output_type": "execute_result",
          "data": {
            "text/plain": [
              "DatasetDict({\n",
              "    train: Dataset({\n",
              "        features: ['text_label', 'text', 'label'],\n",
              "        num_rows: 3570\n",
              "    })\n",
              "    test: Dataset({\n",
              "        features: ['text_label', 'text', 'label'],\n",
              "        num_rows: 3570\n",
              "    })\n",
              "})"
            ]
          },
          "metadata": {},
          "execution_count": 14
        }
      ]
    },
    {
      "cell_type": "code",
      "source": [
        "# Combine datasets\n",
        "\n",
        "dataset = DatasetDict({\n",
        "    'train': train_testvalid['train'],\n",
        "    'test': test_valid['test'],\n",
        "    'val': test_valid['train']})\n",
        "dataset"
      ],
      "metadata": {
        "execution": {
          "iopub.status.busy": "2023-05-31T00:55:58.930960Z",
          "iopub.execute_input": "2023-05-31T00:55:58.931682Z",
          "iopub.status.idle": "2023-05-31T00:55:58.943047Z",
          "shell.execute_reply.started": "2023-05-31T00:55:58.931643Z",
          "shell.execute_reply": "2023-05-31T00:55:58.941774Z"
        },
        "trusted": true,
        "colab": {
          "base_uri": "https://localhost:8080/"
        },
        "id": "ckEa_4vQ6Nba",
        "outputId": "71505e45-a709-457f-f528-e5073a689c13"
      },
      "execution_count": 15,
      "outputs": [
        {
          "output_type": "execute_result",
          "data": {
            "text/plain": [
              "DatasetDict({\n",
              "    train: Dataset({\n",
              "        features: ['text_label', 'text', 'label'],\n",
              "        num_rows: 28560\n",
              "    })\n",
              "    test: Dataset({\n",
              "        features: ['text_label', 'text', 'label'],\n",
              "        num_rows: 3570\n",
              "    })\n",
              "    val: Dataset({\n",
              "        features: ['text_label', 'text', 'label'],\n",
              "        num_rows: 3570\n",
              "    })\n",
              "})"
            ]
          },
          "metadata": {},
          "execution_count": 15
        }
      ]
    },
    {
      "cell_type": "markdown",
      "source": [
        "## We start by tokenizing our dataset with the BERT's Fast Tokenizer"
      ],
      "metadata": {
        "id": "E-AIsm5z6Nba"
      }
    },
    {
      "cell_type": "code",
      "source": [
        "# let's import the pretrained faster tokenizer from huggingface\n",
        "# source: (https://huggingface.co/distilbert-base-uncased)\n",
        "\n",
        "from transformers import AutoTokenizer\n",
        "\n",
        "checkpoint = 'distilbert-base-uncased'\n",
        "tokenizer = AutoTokenizer.from_pretrained(checkpoint, use_fast=True)\n",
        "tokenizer"
      ],
      "metadata": {
        "execution": {
          "iopub.status.busy": "2023-05-31T00:55:58.944656Z",
          "iopub.execute_input": "2023-05-31T00:55:58.945156Z",
          "iopub.status.idle": "2023-05-31T00:56:00.757127Z",
          "shell.execute_reply.started": "2023-05-31T00:55:58.945117Z",
          "shell.execute_reply": "2023-05-31T00:56:00.755968Z"
        },
        "trusted": true,
        "colab": {
          "base_uri": "https://localhost:8080/",
          "height": 451,
          "referenced_widgets": [
            "e44823e1168a470786f72146166625cf",
            "3a5a9568cd464d2ea06462eec226ff36",
            "1e51647960da40f1a5629117f1f8144b",
            "ab20fb3002f54139aa593dce28ae5684",
            "9737210cbed942f6a39f4cdba7e38a1e",
            "0978f3806a454f1fbf5f9491a8000652",
            "8c0f045783ce4190b969cd846deac675",
            "640c78ac6f3f43dc96e14010496df2d7",
            "752d39d1c9ca4606a5b207d80c03766c",
            "0cd69dc898f040b48aef5379687edc55",
            "ea29fc0c9488428295578a6b2f882192",
            "4a99a72f03254b03a636557c1cc1366a",
            "bedfa8e0754e49afa111742b49871925",
            "2271c1c072384133ae6d9e17a4381dc3",
            "2d78860ba3704a9abf395a596c2541e7",
            "1120704145394c31b1d18cc5e961fcf6",
            "1829c0ccef81468e96f06e4c7016a569",
            "33b4f2365aed4b5db4a9f979e354d95d",
            "0e7f3e6f0ce749d99a55ce41d2ca39a3",
            "2fdd4c608fbf41da8ab3b22ec83c1425",
            "1009ac2b604c4c02a06f72a06b335124",
            "63654656890b43388774bfc3362f9f81",
            "75e386395d2a494eacf30bf7a61a0df5",
            "546758bac67447cb9e7ae409abb3f58b",
            "eef5d16e68a64748a72d7b17fc355da9",
            "4d6eb7f740d1424a801c87e318e21438",
            "c34ebbdf30a34e15b6fda91f42de38a3",
            "5ae5b102170046c9b8aea969476e3133",
            "dad62fe67bb64193a5de0d6056f492bc",
            "3ac369a7b5334bcebf7d731bdeaea772",
            "59f78a826d6046b58e8a18911f05c972",
            "a7628f5c441046c0b9b5680ed0c79225",
            "ab51ff52f3534ac09ba242d28e240511",
            "6bd658cf3609476b8559f1f831c1a434",
            "899d07556222420198affd3b818e2abd",
            "2d187191659c442888be362b36759dd7",
            "5891f43ad2fd48559a1e69e74e7331a6",
            "64a7398f73994b5d81f8f58c284c8ab6",
            "a68ecd7a130c4e1aa0b915c0005d1c41",
            "996a447ac5d54400b78093cc55acc5f6",
            "1db26df5edff4d37bf85993c75407eba",
            "a4ea388c93574555aabb6a000bbdbd52",
            "a54e6c1f513044d3ab38a844cdbc70cc",
            "fd3a3225f6004e828e1bc47ed445bc1e"
          ]
        },
        "id": "QVM_DdZx6Nba",
        "outputId": "3c85d353-e1e5-4008-c645-f9fc116a2f75"
      },
      "execution_count": 5,
      "outputs": [
        {
          "output_type": "stream",
          "name": "stderr",
          "text": [
            "/usr/local/lib/python3.10/dist-packages/huggingface_hub/utils/_auth.py:94: UserWarning: \n",
            "The secret `HF_TOKEN` does not exist in your Colab secrets.\n",
            "To authenticate with the Hugging Face Hub, create a token in your settings tab (https://huggingface.co/settings/tokens), set it as secret in your Google Colab and restart your session.\n",
            "You will be able to reuse this secret in all of your notebooks.\n",
            "Please note that authentication is recommended but still optional to access public models or datasets.\n",
            "  warnings.warn(\n"
          ]
        },
        {
          "output_type": "display_data",
          "data": {
            "text/plain": [
              "tokenizer_config.json:   0%|          | 0.00/48.0 [00:00<?, ?B/s]"
            ],
            "application/vnd.jupyter.widget-view+json": {
              "version_major": 2,
              "version_minor": 0,
              "model_id": "e44823e1168a470786f72146166625cf"
            }
          },
          "metadata": {}
        },
        {
          "output_type": "display_data",
          "data": {
            "text/plain": [
              "config.json:   0%|          | 0.00/483 [00:00<?, ?B/s]"
            ],
            "application/vnd.jupyter.widget-view+json": {
              "version_major": 2,
              "version_minor": 0,
              "model_id": "4a99a72f03254b03a636557c1cc1366a"
            }
          },
          "metadata": {}
        },
        {
          "output_type": "display_data",
          "data": {
            "text/plain": [
              "vocab.txt:   0%|          | 0.00/232k [00:00<?, ?B/s]"
            ],
            "application/vnd.jupyter.widget-view+json": {
              "version_major": 2,
              "version_minor": 0,
              "model_id": "75e386395d2a494eacf30bf7a61a0df5"
            }
          },
          "metadata": {}
        },
        {
          "output_type": "display_data",
          "data": {
            "text/plain": [
              "tokenizer.json:   0%|          | 0.00/466k [00:00<?, ?B/s]"
            ],
            "application/vnd.jupyter.widget-view+json": {
              "version_major": 2,
              "version_minor": 0,
              "model_id": "6bd658cf3609476b8559f1f831c1a434"
            }
          },
          "metadata": {}
        },
        {
          "output_type": "execute_result",
          "data": {
            "text/plain": [
              "DistilBertTokenizerFast(name_or_path='distilbert-base-uncased', vocab_size=30522, model_max_length=512, is_fast=True, padding_side='right', truncation_side='right', special_tokens={'unk_token': '[UNK]', 'sep_token': '[SEP]', 'pad_token': '[PAD]', 'cls_token': '[CLS]', 'mask_token': '[MASK]'}, clean_up_tokenization_spaces=False),  added_tokens_decoder={\n",
              "\t0: AddedToken(\"[PAD]\", rstrip=False, lstrip=False, single_word=False, normalized=False, special=True),\n",
              "\t100: AddedToken(\"[UNK]\", rstrip=False, lstrip=False, single_word=False, normalized=False, special=True),\n",
              "\t101: AddedToken(\"[CLS]\", rstrip=False, lstrip=False, single_word=False, normalized=False, special=True),\n",
              "\t102: AddedToken(\"[SEP]\", rstrip=False, lstrip=False, single_word=False, normalized=False, special=True),\n",
              "\t103: AddedToken(\"[MASK]\", rstrip=False, lstrip=False, single_word=False, normalized=False, special=True),\n",
              "}"
            ]
          },
          "metadata": {},
          "execution_count": 5
        }
      ]
    },
    {
      "cell_type": "code",
      "source": [
        "# tokenize the text in batches with truncation and padding based on BERT requirements\n",
        "\n",
        "def tokenization(example):\n",
        "    return tokenizer(example['text'], padding='max_length', truncation=True)\n",
        "\n",
        "tokenized_dataset = dataset.map(tokenization, batched=True, remove_columns=['text'])\n",
        "tokenized_dataset"
      ],
      "metadata": {
        "execution": {
          "iopub.status.busy": "2023-05-31T00:56:00.758819Z",
          "iopub.execute_input": "2023-05-31T00:56:00.759472Z",
          "iopub.status.idle": "2023-05-31T00:56:47.564803Z",
          "shell.execute_reply.started": "2023-05-31T00:56:00.759432Z",
          "shell.execute_reply": "2023-05-31T00:56:47.563690Z"
        },
        "trusted": true,
        "colab": {
          "base_uri": "https://localhost:8080/",
          "height": 363,
          "referenced_widgets": [
            "1272b6fb96864853bc6559145ddea9b7",
            "5074f383a3ed4a488873a98e1ef90c6a",
            "25b153bb5f904a21a022d016395c88c7",
            "30e853d70f83438bafcb3dcaec51cca0",
            "ea734987b48648a2adaac4b48a1622d2",
            "b25365ab23d3416fa1886e9ac141bf8d",
            "35639a109d8b4ed0b162828f1e34ebb4",
            "492b244229a84a49aec0932dc256320e",
            "567975c56c954e8b922beff67cce514d",
            "c5bc3594732345e59eee7c443f0fbeff",
            "12cbaa0be59641d7bfa7663d5bf3d8fb",
            "1d4da4ffb4aa4400818e2653d8740f6b",
            "2dc8a26d0bcb48c4918e7caaded613f6",
            "1acf02a7f7724bbeb486b790b8f21ea2",
            "3d1d340361194415b72ef3790428ff30",
            "e7cf98a35f1a496cac4514457d4bcb80",
            "b1dcbbb757804176bb5e79d7d71a141e",
            "993ed5ba6a4a4e42a670c8f9ed676f7c",
            "0c1b8374cc4c46e2b1d1ba740af13e2f",
            "044da3d658f841dbba1938b202aabf5c",
            "603fa67800b340c6b869b53ccc86ba9f",
            "1bd7d921e74445e0a9b645ff9200de52",
            "ac18de680a1f4cfb8c37f46b7ff29bd2",
            "55640569a78e4b7da8a4690b85f2baed",
            "176db597bc9a49cfad8a97daa462ec2b",
            "56afc10d154a48968d835ebfd5857864",
            "8559be3254ed409a881aa247c552dee8",
            "e9e45ea0c0f6493eacd1f8f5bdb7fee6",
            "b236459dcf2d43afaa2f86b71905434e",
            "1b67d36157a94f03add07b2cd2d78c3e",
            "17c74fcd8f914603854dfec326928733",
            "82f6416b64ac4f2a853098fdddf17781",
            "82c962f426a54c6c9e4356a4e47f253a"
          ]
        },
        "id": "UJs4EM6_6Nba",
        "outputId": "e2981f8c-1c22-4c01-b764-fcb32312c4e5"
      },
      "execution_count": 22,
      "outputs": [
        {
          "output_type": "display_data",
          "data": {
            "text/plain": [
              "Map:   0%|          | 0/28560 [00:00<?, ? examples/s]"
            ],
            "application/vnd.jupyter.widget-view+json": {
              "version_major": 2,
              "version_minor": 0,
              "model_id": "1272b6fb96864853bc6559145ddea9b7"
            }
          },
          "metadata": {}
        },
        {
          "output_type": "display_data",
          "data": {
            "text/plain": [
              "Map:   0%|          | 0/3570 [00:00<?, ? examples/s]"
            ],
            "application/vnd.jupyter.widget-view+json": {
              "version_major": 2,
              "version_minor": 0,
              "model_id": "1d4da4ffb4aa4400818e2653d8740f6b"
            }
          },
          "metadata": {}
        },
        {
          "output_type": "display_data",
          "data": {
            "text/plain": [
              "Map:   0%|          | 0/3570 [00:00<?, ? examples/s]"
            ],
            "application/vnd.jupyter.widget-view+json": {
              "version_major": 2,
              "version_minor": 0,
              "model_id": "ac18de680a1f4cfb8c37f46b7ff29bd2"
            }
          },
          "metadata": {}
        },
        {
          "output_type": "execute_result",
          "data": {
            "text/plain": [
              "DatasetDict({\n",
              "    train: Dataset({\n",
              "        features: ['text_label', 'label', 'input_ids', 'attention_mask'],\n",
              "        num_rows: 28560\n",
              "    })\n",
              "    test: Dataset({\n",
              "        features: ['text_label', 'label', 'input_ids', 'attention_mask'],\n",
              "        num_rows: 3570\n",
              "    })\n",
              "    val: Dataset({\n",
              "        features: ['text_label', 'label', 'input_ids', 'attention_mask'],\n",
              "        num_rows: 3570\n",
              "    })\n",
              "})"
            ]
          },
          "metadata": {},
          "execution_count": 22
        }
      ]
    },
    {
      "cell_type": "markdown",
      "source": [
        "# Setup Training Metrics (Accuracy, F1)"
      ],
      "metadata": {
        "id": "ruQcvQDs6Nba"
      }
    },
    {
      "cell_type": "code",
      "source": [
        "import evaluate\n",
        "import numpy as np\n",
        "\n",
        "# we setup the training to evaluate the accuracy and f1 scores\n",
        "\n",
        "accuracy_metric = evaluate.load('accuracy')\n",
        "f1_metric = evaluate.load('f1')\n",
        "\n",
        "def compute_metrics(eval_pred):\n",
        "    logits, labels = eval_pred\n",
        "    predictions = np.argmax(logits, axis=-1)\n",
        "    accuracy = accuracy_metric.compute(predictions=predictions, references=labels)\n",
        "    f1 = f1_metric.compute(predictions=predictions, references=labels)\n",
        "    return {**accuracy, **f1}"
      ],
      "metadata": {
        "execution": {
          "iopub.status.busy": "2023-05-31T00:56:47.566377Z",
          "iopub.execute_input": "2023-05-31T00:56:47.567217Z",
          "iopub.status.idle": "2023-05-31T00:56:57.590728Z",
          "shell.execute_reply.started": "2023-05-31T00:56:47.567169Z",
          "shell.execute_reply": "2023-05-31T00:56:57.589657Z"
        },
        "trusted": true,
        "id": "m6nLLwZT6Nba",
        "colab": {
          "base_uri": "https://localhost:8080/",
          "height": 81,
          "referenced_widgets": [
            "061261a700eb4804b8834131ba70e4c2",
            "53f4afe37a834ef7a8e458e0350dcd5a",
            "c8e1fcbbd12849638169299784901f7d",
            "c3417e925d384655813f34a644f69049",
            "ea5d7f84a85d4f7a91082d06fc086d89",
            "505773e37e5547c285888c929d557ec6",
            "273e67ac629a4edf9d4e16cb51dffa15",
            "cb3aed7aee6e4a1db81c90da9d8c9e50",
            "a8033270cf4e47018d8e4e0ae4461cdd",
            "80ed9505d1a64d328c4a0f7a7210d3a2",
            "a509989a6ecb456db67f527f0db1af35",
            "cc1ba75ad93f46d7ac15f3adddc4a1b3",
            "0147055e766e41e6bf01ab5429c95de6",
            "dc0585a4835942299472b9b1b8aaccb7",
            "4879c760fffe46f3bc660f1266447e1e",
            "726c6e647bec41558cf0a4e90064fde0",
            "7b77f3dfc2044000bea36de4356ea078",
            "888c2df2daf641899cd0df9fabee6054",
            "39f2473cf37445028a1d6d3e3121d235",
            "bad16f80c70b4a9e920f22f7df292555",
            "dbe092bb07834adaaa1e840d0b572c09",
            "e0779dd77f5c4978bd126985b92a7954"
          ]
        },
        "outputId": "aa52b47d-1462-427e-9534-e65c7fa1c66b"
      },
      "execution_count": null,
      "outputs": [
        {
          "output_type": "display_data",
          "data": {
            "text/plain": [
              "Downloading builder script:   0%|          | 0.00/4.20k [00:00<?, ?B/s]"
            ],
            "application/vnd.jupyter.widget-view+json": {
              "version_major": 2,
              "version_minor": 0,
              "model_id": "061261a700eb4804b8834131ba70e4c2"
            }
          },
          "metadata": {}
        },
        {
          "output_type": "display_data",
          "data": {
            "text/plain": [
              "Downloading builder script:   0%|          | 0.00/6.77k [00:00<?, ?B/s]"
            ],
            "application/vnd.jupyter.widget-view+json": {
              "version_major": 2,
              "version_minor": 0,
              "model_id": "cc1ba75ad93f46d7ac15f3adddc4a1b3"
            }
          },
          "metadata": {}
        }
      ]
    },
    {
      "cell_type": "markdown",
      "source": [
        "# Setup Training Configurations"
      ],
      "metadata": {
        "id": "N87ZQ-a96Nba"
      }
    },
    {
      "cell_type": "code",
      "source": [
        "import os\n",
        "from transformers import AutoModelForSequenceClassification, Trainer, TrainingArguments\n",
        "\n",
        "# get bert model with a sequence classification head for sentiment analysis\n",
        "# source: (https://huggingface.co/distilbert-base-uncased)\n",
        "checkpoint = 'distilbert-base-uncased'\n",
        "num_labels = 2\n",
        "id2label = {0:'NOT',1:'CLICKBAIT'}\n",
        "label2id = {'NOT':0,'CLICKBAIT':1}\n",
        "model = AutoModelForSequenceClassification.from_pretrained(checkpoint, num_labels=num_labels, id2label=id2label, label2id=label2id)\n",
        "\n",
        "# setup custom training arguments\n",
        "# 1. store training checkpoints to 'results' output directory\n",
        "# 2. fine-tune for just 1 epoch\n",
        "# 3,4. use 16 as a batch size to speed things up\n",
        "# 5. evaluate validation set every 500 steps (this is the default steps)\n",
        "# 6. load the best model based on the lowest validation loss at the end of training\n",
        "training_args = TrainingArguments(\n",
        "    seed=42,\n",
        "    output_dir = './results',\n",
        "    num_train_epochs = 5,\n",
        "    per_device_train_batch_size=32,\n",
        "    per_device_eval_batch_size=32,\n",
        "    evaluation_strategy='steps',\n",
        "    load_best_model_at_end=True,\n",
        ")\n",
        "\n",
        "# setup trainer with custom metrics (accuracy, f1)\n",
        "trainer = Trainer(\n",
        "    model=model,\n",
        "    args=training_args,\n",
        "    train_dataset=tokenized_dataset['train'],\n",
        "    eval_dataset=tokenized_dataset['val'],\n",
        "    compute_metrics=compute_metrics,\n",
        ")\n",
        "\n",
        "# disable wandb logging (a v4 huggingface artifact)\n",
        "os.environ['WANDB_DISABLED']= \"true\""
      ],
      "metadata": {
        "execution": {
          "iopub.status.busy": "2023-05-31T00:56:57.592556Z",
          "iopub.execute_input": "2023-05-31T00:56:57.592985Z",
          "iopub.status.idle": "2023-05-31T00:57:12.745319Z",
          "shell.execute_reply.started": "2023-05-31T00:56:57.592944Z",
          "shell.execute_reply": "2023-05-31T00:57:12.744131Z"
        },
        "trusted": true,
        "colab": {
          "base_uri": "https://localhost:8080/"
        },
        "id": "G4_Qf6i16Nbb",
        "outputId": "da712b86-ca5c-41d8-a6f1-ba40b827c3f7"
      },
      "execution_count": null,
      "outputs": [
        {
          "output_type": "stream",
          "name": "stderr",
          "text": [
            "Some weights of DistilBertForSequenceClassification were not initialized from the model checkpoint at distilbert-base-uncased and are newly initialized: ['classifier.bias', 'classifier.weight', 'pre_classifier.bias', 'pre_classifier.weight']\n",
            "You should probably TRAIN this model on a down-stream task to be able to use it for predictions and inference.\n",
            "/usr/local/lib/python3.10/dist-packages/transformers/training_args.py:1568: FutureWarning: `evaluation_strategy` is deprecated and will be removed in version 4.46 of 🤗 Transformers. Use `eval_strategy` instead\n",
            "  warnings.warn(\n",
            "Using the `WANDB_DISABLED` environment variable is deprecated and will be removed in v5. Use the --report_to flag to control the integrations used for logging result (for instance --report_to none).\n"
          ]
        }
      ]
    },
    {
      "cell_type": "markdown",
      "source": [
        "# Evaluate UnFine-Tuned BERT on Test Set for a Baseline Metric\n"
      ],
      "metadata": {
        "id": "8idhO0EW6Nbb"
      }
    },
    {
      "cell_type": "code",
      "source": [
        "# let's first evaluate unfine-tuned model with test set\n",
        "\n",
        "trainer.evaluate(tokenized_dataset['test'])"
      ],
      "metadata": {
        "execution": {
          "iopub.status.busy": "2023-05-31T00:57:12.750273Z",
          "iopub.execute_input": "2023-05-31T00:57:12.751668Z",
          "iopub.status.idle": "2023-05-31T01:01:16.271670Z",
          "shell.execute_reply.started": "2023-05-31T00:57:12.751620Z",
          "shell.execute_reply": "2023-05-31T01:01:16.270525Z"
        },
        "trusted": true,
        "colab": {
          "base_uri": "https://localhost:8080/",
          "height": 162
        },
        "id": "MwFsYiOd6Nbb",
        "outputId": "f4de31e5-d2e9-4d9e-c779-4d2a3fc94ebc"
      },
      "execution_count": null,
      "outputs": [
        {
          "output_type": "display_data",
          "data": {
            "text/plain": [
              "<IPython.core.display.HTML object>"
            ],
            "text/html": [
              "\n",
              "    <div>\n",
              "      \n",
              "      <progress value='112' max='112' style='width:300px; height:20px; vertical-align: middle;'></progress>\n",
              "      [112/112 00:53]\n",
              "    </div>\n",
              "    "
            ]
          },
          "metadata": {}
        },
        {
          "output_type": "execute_result",
          "data": {
            "text/plain": [
              "{'eval_loss': 0.7074949741363525,\n",
              " 'eval_model_preparation_time': 0.0087,\n",
              " 'eval_accuracy': 0.30840336134453783,\n",
              " 'eval_f1': 0.3856680766359791,\n",
              " 'eval_runtime': 54.4353,\n",
              " 'eval_samples_per_second': 65.582,\n",
              " 'eval_steps_per_second': 2.057}"
            ]
          },
          "metadata": {},
          "execution_count": 23
        }
      ]
    },
    {
      "cell_type": "markdown",
      "source": [
        "Without fine-tuning BERT, our model currently has around **52% Accuracy (eval_accuracy)** and **19% F1 (eval_f1)**, which is pretty bad due to the test dataset having around 50% positive and 50% negative reviews. 😕\n",
        "\n",
        "\n",
        "Let's make it better with transfer learning! 🦾"
      ],
      "metadata": {
        "id": "YS3DVHp06Nbb"
      }
    },
    {
      "cell_type": "markdown",
      "source": [
        "# Fine-Tune BERT with Clickbait Dataset"
      ],
      "metadata": {
        "id": "0nfw3HCH6Nbb"
      }
    },
    {
      "cell_type": "code",
      "source": [
        "trainer.train()"
      ],
      "metadata": {
        "execution": {
          "iopub.status.busy": "2023-05-31T01:01:16.276764Z",
          "iopub.execute_input": "2023-05-31T01:01:16.279937Z",
          "iopub.status.idle": "2023-05-31T01:12:08.534300Z",
          "shell.execute_reply.started": "2023-05-31T01:01:16.279889Z",
          "shell.execute_reply": "2023-05-31T01:12:08.533368Z"
        },
        "trusted": true,
        "colab": {
          "base_uri": "https://localhost:8080/",
          "height": 382
        },
        "id": "qtCfpByf6Nbb",
        "outputId": "f1875680-1740-48a9-b6b1-77a0d910c6d2"
      },
      "execution_count": null,
      "outputs": [
        {
          "output_type": "display_data",
          "data": {
            "text/plain": [
              "<IPython.core.display.HTML object>"
            ],
            "text/html": [
              "\n",
              "    <div>\n",
              "      \n",
              "      <progress value='4465' max='4465' style='width:300px; height:20px; vertical-align: middle;'></progress>\n",
              "      [4465/4465 1:53:09, Epoch 5/5]\n",
              "    </div>\n",
              "    <table border=\"1\" class=\"dataframe\">\n",
              "  <thead>\n",
              " <tr style=\"text-align: left;\">\n",
              "      <th>Step</th>\n",
              "      <th>Training Loss</th>\n",
              "      <th>Validation Loss</th>\n",
              "      <th>Model Preparation Time</th>\n",
              "      <th>Accuracy</th>\n",
              "      <th>F1</th>\n",
              "    </tr>\n",
              "  </thead>\n",
              "  <tbody>\n",
              "    <tr>\n",
              "      <td>500</td>\n",
              "      <td>0.133100</td>\n",
              "      <td>0.104088</td>\n",
              "      <td>0.008700</td>\n",
              "      <td>0.970868</td>\n",
              "      <td>0.971271</td>\n",
              "    </tr>\n",
              "    <tr>\n",
              "      <td>1000</td>\n",
              "      <td>0.084300</td>\n",
              "      <td>0.084063</td>\n",
              "      <td>0.008700</td>\n",
              "      <td>0.977311</td>\n",
              "      <td>0.977456</td>\n",
              "    </tr>\n",
              "    <tr>\n",
              "      <td>1500</td>\n",
              "      <td>0.033200</td>\n",
              "      <td>0.100239</td>\n",
              "      <td>0.008700</td>\n",
              "      <td>0.977031</td>\n",
              "      <td>0.977044</td>\n",
              "    </tr>\n",
              "    <tr>\n",
              "      <td>2000</td>\n",
              "      <td>0.024900</td>\n",
              "      <td>0.119757</td>\n",
              "      <td>0.008700</td>\n",
              "      <td>0.975910</td>\n",
              "      <td>0.976004</td>\n",
              "    </tr>\n",
              "    <tr>\n",
              "      <td>2500</td>\n",
              "      <td>0.009500</td>\n",
              "      <td>0.144609</td>\n",
              "      <td>0.008700</td>\n",
              "      <td>0.973669</td>\n",
              "      <td>0.973961</td>\n",
              "    </tr>\n",
              "    <tr>\n",
              "      <td>3000</td>\n",
              "      <td>0.004800</td>\n",
              "      <td>0.178690</td>\n",
              "      <td>0.008700</td>\n",
              "      <td>0.973950</td>\n",
              "      <td>0.974159</td>\n",
              "    </tr>\n",
              "    <tr>\n",
              "      <td>3500</td>\n",
              "      <td>0.001300</td>\n",
              "      <td>0.178661</td>\n",
              "      <td>0.008700</td>\n",
              "      <td>0.973389</td>\n",
              "      <td>0.973501</td>\n",
              "    </tr>\n",
              "    <tr>\n",
              "      <td>4000</td>\n",
              "      <td>0.000900</td>\n",
              "      <td>0.193196</td>\n",
              "      <td>0.008700</td>\n",
              "      <td>0.974230</td>\n",
              "      <td>0.974259</td>\n",
              "    </tr>\n",
              "  </tbody>\n",
              "</table><p>"
            ]
          },
          "metadata": {}
        },
        {
          "output_type": "display_data",
          "data": {
            "text/plain": [
              "<IPython.core.display.HTML object>"
            ],
            "text/html": [
              "\n",
              "    <div>\n",
              "      \n",
              "      <progress value='224' max='112' style='width:300px; height:20px; vertical-align: middle;'></progress>\n",
              "      [112/112 13:34]\n",
              "    </div>\n",
              "    "
            ]
          },
          "metadata": {}
        },
        {
          "output_type": "execute_result",
          "data": {
            "text/plain": [
              "TrainOutput(global_step=4465, training_loss=0.03282067268452746, metrics={'train_runtime': 6790.498, 'train_samples_per_second': 21.029, 'train_steps_per_second': 0.658, 'total_flos': 1.89163445280768e+16, 'train_loss': 0.03282067268452746, 'epoch': 5.0})"
            ]
          },
          "metadata": {},
          "execution_count": 24
        }
      ]
    },
    {
      "cell_type": "code",
      "source": [
        "trainer.evaluate(tokenized_dataset['test'])"
      ],
      "metadata": {
        "execution": {
          "iopub.status.busy": "2023-05-31T01:12:08.537553Z",
          "iopub.execute_input": "2023-05-31T01:12:08.538590Z",
          "iopub.status.idle": "2023-05-31T01:16:03.823749Z",
          "shell.execute_reply.started": "2023-05-31T01:12:08.538551Z",
          "shell.execute_reply": "2023-05-31T01:16:03.822622Z"
        },
        "trusted": true,
        "colab": {
          "base_uri": "https://localhost:8080/",
          "height": 180
        },
        "id": "1uZ4CEH06Nbc",
        "outputId": "ad3a3f50-df7a-49ed-d55c-014ff033007c"
      },
      "execution_count": null,
      "outputs": [
        {
          "output_type": "display_data",
          "data": {
            "text/plain": [
              "<IPython.core.display.HTML object>"
            ],
            "text/html": [
              "\n",
              "    <div>\n",
              "      \n",
              "      <progress value='112' max='112' style='width:300px; height:20px; vertical-align: middle;'></progress>\n",
              "      [112/112 00:48]\n",
              "    </div>\n",
              "    "
            ]
          },
          "metadata": {}
        },
        {
          "output_type": "execute_result",
          "data": {
            "text/plain": [
              "{'eval_loss': 0.10884496569633484,\n",
              " 'eval_model_preparation_time': 0.0087,\n",
              " 'eval_accuracy': 0.9680672268907563,\n",
              " 'eval_f1': 0.9677601809954751,\n",
              " 'eval_runtime': 49.5468,\n",
              " 'eval_samples_per_second': 72.053,\n",
              " 'eval_steps_per_second': 2.26,\n",
              " 'epoch': 5.0}"
            ]
          },
          "metadata": {},
          "execution_count": 25
        }
      ]
    },
    {
      "cell_type": "code",
      "source": [
        "# to save our model, we referenced https://discuss.huggingface.co/t/how-to-save-my-model-to-use-it-later/20568/2\n",
        "trainer.save_model(\"./my_model\")"
      ],
      "metadata": {
        "id": "UMVqzBT9HLzt"
      },
      "execution_count": null,
      "outputs": []
    },
    {
      "cell_type": "markdown",
      "source": [
        "# Try out some examples!"
      ],
      "metadata": {
        "id": "2LOx99ZT6Nbc"
      }
    },
    {
      "cell_type": "markdown",
      "source": [
        "Loading in a pre-trained model"
      ],
      "metadata": {
        "id": "Ea_1glogVBug"
      }
    },
    {
      "cell_type": "code",
      "source": [
        "#reference: https://discuss.huggingface.co/t/how-to-save-my-model-to-use-it-later/20568/6\n",
        "# Make sure you run the very first block of code in the repo to load in our github files!\n",
        "from transformers import BertConfig, BertModel, AutoModelForSequenceClassification\n",
        "# from local folder\n",
        "model = AutoModelForSequenceClassification.from_pretrained(\"/content/Clickbait-Detector/pretrainedModel\")"
      ],
      "metadata": {
        "id": "zW-v1Y_OVBSn"
      },
      "execution_count": 3,
      "outputs": []
    },
    {
      "cell_type": "code",
      "source": [
        "from transformers import pipeline\n",
        "import torch\n",
        "\n",
        "# get current device with pytorch\n",
        "device = torch.cuda.current_device()\n",
        "\n",
        "# create pipeline for sentiment classifier with custom model and tokenizer\n",
        "sentiment_classifier = pipeline(task='sentiment-analysis', model=model, tokenizer=tokenizer, device=device)"
      ],
      "metadata": {
        "execution": {
          "iopub.status.busy": "2023-05-31T01:16:03.828569Z",
          "iopub.execute_input": "2023-05-31T01:16:03.831160Z",
          "iopub.status.idle": "2023-05-31T01:16:04.043030Z",
          "shell.execute_reply.started": "2023-05-31T01:16:03.831119Z",
          "shell.execute_reply": "2023-05-31T01:16:04.041976Z"
        },
        "trusted": true,
        "id": "8zTZwEcD6Nbc",
        "outputId": "47431edb-e88c-4003-fc9b-fe373ce5ed5f",
        "colab": {
          "base_uri": "https://localhost:8080/"
        }
      },
      "execution_count": 8,
      "outputs": [
        {
          "output_type": "execute_result",
          "data": {
            "text/plain": [
              "<transformers.pipelines.text_classification.TextClassificationPipeline at 0x78d91222f2b0>"
            ]
          },
          "metadata": {},
          "execution_count": 8
        }
      ]
    },
    {
      "cell_type": "markdown",
      "source": [
        "Lets try the model on a few new examples we found. Below is an article we thought was clickbait, and the model agreed with a score of 0.99!"
      ],
      "metadata": {
        "id": "UgsU9XBI9DzY"
      }
    },
    {
      "cell_type": "code",
      "source": [
        "# let's see how our model classifies a non-clickbait article\n",
        "# this is from: https://www.cbc.ca/kidsnews/post/somebody-paid-6.2-million-for-this-duct-taped-banana-seriously\n",
        "article = \"\"\"\n",
        "Somebody paid $6.2 million for this duct-taped banana. Seriously\n",
        "\"\"\"\n",
        "sentiment_classifier(article)"
      ],
      "metadata": {
        "execution": {
          "iopub.status.busy": "2023-05-31T01:16:04.046673Z",
          "iopub.execute_input": "2023-05-31T01:16:04.046988Z",
          "iopub.status.idle": "2023-05-31T01:16:04.071063Z",
          "shell.execute_reply.started": "2023-05-31T01:16:04.046958Z",
          "shell.execute_reply": "2023-05-31T01:16:04.070065Z"
        },
        "trusted": true,
        "colab": {
          "base_uri": "https://localhost:8080/"
        },
        "id": "I66xCdD06Nbc",
        "outputId": "1955bcdf-b6a1-487f-dd48-75bf5c97594d"
      },
      "execution_count": null,
      "outputs": [
        {
          "output_type": "execute_result",
          "data": {
            "text/plain": [
              "[{'label': 'CLICKBAIT', 'score': 0.9990646243095398}]"
            ]
          },
          "metadata": {},
          "execution_count": 19
        }
      ]
    },
    {
      "cell_type": "markdown",
      "source": [
        "Here is an artile we thought was not clickbait, and the model agreed with a score of 0.78"
      ],
      "metadata": {
        "id": "O9WTDe3g9L6l"
      }
    },
    {
      "cell_type": "code",
      "source": [
        "# let's see how our model classifies a non-clickbait article\n",
        "# this is from: https://globalnews.ca/news/10892978/vanessa-terry-justice-court-appearance/\n",
        "\n",
        "review = \"\"\"\n",
        "‘We need justice’: Family of slain B.C. woman speaks out over domestic homicide case\n",
        "\"\"\"\n",
        "sentiment_classifier(review)"
      ],
      "metadata": {
        "execution": {
          "iopub.status.busy": "2023-05-31T01:16:04.072655Z",
          "iopub.execute_input": "2023-05-31T01:16:04.073039Z",
          "iopub.status.idle": "2023-05-31T01:16:04.091868Z",
          "shell.execute_reply.started": "2023-05-31T01:16:04.073000Z",
          "shell.execute_reply": "2023-05-31T01:16:04.090968Z"
        },
        "trusted": true,
        "colab": {
          "base_uri": "https://localhost:8080/"
        },
        "id": "2zdT42K86Nbc",
        "outputId": "c482199b-4f5f-498d-abf6-841f3ae50658"
      },
      "execution_count": null,
      "outputs": [
        {
          "output_type": "execute_result",
          "data": {
            "text/plain": [
              "[{'label': 'NOT', 'score': 0.7886931300163269}]"
            ]
          },
          "metadata": {},
          "execution_count": 18
        }
      ]
    },
    {
      "cell_type": "markdown",
      "source": [
        "Here is one tricky example. We agreed that this article would not be clickbait, but the model identified that it was and with a score of 0.97. This highlights how subjective the identification of clickbait can be."
      ],
      "metadata": {
        "id": "WCgV64rM8RXp"
      }
    },
    {
      "cell_type": "code",
      "source": [
        "# this is from: https://dailyhive.com/vancouver/id-boarding-domestic-yvr-air-canada\n",
        "article = \"\"\"\n",
        "You won't have to show ID at the gate anymore for some flights at YVR Airport\n",
        "\"\"\"\n",
        "sentiment_classifier(article)"
      ],
      "metadata": {
        "id": "KD6urN_P7zJO",
        "outputId": "3e6aab48-262a-4af0-89aa-163540c345b4",
        "colab": {
          "base_uri": "https://localhost:8080/"
        }
      },
      "execution_count": null,
      "outputs": [
        {
          "output_type": "execute_result",
          "data": {
            "text/plain": [
              "[{'label': 'CLICKBAIT', 'score': 0.974324643611908}]"
            ]
          },
          "metadata": {},
          "execution_count": 20
        }
      ]
    },
    {
      "cell_type": "markdown",
      "source": [
        "To better understand the accuracy of our model, we decided to plot a confusion matrix."
      ],
      "metadata": {
        "id": "AurvfLVWcH7t"
      }
    },
    {
      "cell_type": "code",
      "source": [
        "#code partially referenced from https://towardsdatascience.com/practical-introduction-to-transformer-models-bert-4715ed0deede\n",
        "import seaborn as sns\n",
        "import pandas as pd\n",
        "from sklearn.metrics import confusion_matrix\n",
        "\n",
        "#get the test dataset and shuffle it\n",
        "eval_dataset = dataset[\"test\"].shuffle(seed=42)\n",
        "print(eval_dataset)\n",
        "\n",
        "#conver the test set to a dataframe and get the list of article names\n",
        "df = eval_dataset.to_pandas()\n",
        "article_list = []\n",
        "\n",
        "for label in df.get('text'):\n",
        "  article_list.append(label)\n",
        "\n",
        "print(article_list)\n",
        "\n",
        "#run a prediction using our saved model\n",
        "predictions = sentiment_classifier.predict(article_list)"
      ],
      "metadata": {
        "id": "vORBUkn3TRFj",
        "outputId": "6cd02ed2-2aaa-479a-c93e-85c0d364efb1",
        "colab": {
          "base_uri": "https://localhost:8080/"
        }
      },
      "execution_count": 42,
      "outputs": [
        {
          "output_type": "stream",
          "name": "stdout",
          "text": [
            "Dataset({\n",
            "    features: ['text_label', 'text', 'label'],\n",
            "    num_rows: 3570\n",
            "})\n",
            "['23 Photos That Capture How Devastating The Floods Are In Chennai Right Now', 'We Can Predict Your Future Based On Your Eye Color', 'Mobile ringtone tops the UK singles chart', 'Honors for a President, but Not Without Debate', 'This Is Why Soy Milk Goes Funny In Your Coffee', \"I Tried San Francisco's New $15 Coffee\", 'Sydney Swans win AFL premiership after 72 years in classic match', 'A Clueless Guy Got Advice On What He Should Text A Girl In This Super Ridiculous Video', '\"He is just a humongous human being that has out-of-this-world power. 550 feet is not out of the question.\"', 'BlackBerry Torch Video Converter Convert Video to Torch 9800', 'How Well Do You Know The Periodic Table Of Elements', 'BuzzFeed Writers Try To Do Handstands', 'Rachel Alexandra Has Little Competition in Mother Goose', \"15 NYC Restaurants To Try If You're Obsessed With Instagram\", 'Taliban Accepts Pakistan Cease-Fire', '24 Vintage Pictures Of Paris Life In The 1920s', 'Ukraine, in midst of turmoil, gets boost from U.S. research group', 'With Victory, Louisville Is Tied for Lead in Big East', 'Radioactive part mistakenly sold, melted with scrap metal in China', 'US job cuts last month highest since 1974, unemployment rate rises', 'We Need To Talk About Mariah Carey', 'The Dark Arts Of Bradford Cox', \"Scientists Discover New Species Of Bat That's Actually Been In Their Collection Since 1983\", '14 Honest Instagrams About Fall', 'Bull moose shot by police in Alaska', 'Can You Match These Iconic Foods To Their Home States', 'Bomb explodes in Belarusian city', 'These Cute Handbags Are Designed To Hide The Smell Of Your Weed', 'Soaring Costs Jeopardize Missile Defense Program', 'What It Means To Be A Filipino-American', 'Gunman kills eight at Jerusalem school', '15 Words That\\'ll Only Make Sense To \"America\\'s Next Top Model\" Fans', 'US army gives medical assistance to Iraq school', '32 Cute Animals You Can Meet In Italy', '12 Celebrities With Powerpuff Girl Eyes', '12 Times Tumblr Got Weird AF About Zodiac Signs', '11 Real Retail Worker Confessions', '23 Secrets Museum Stewards Will Never Tell You', \"Did Isambard Kingdom Brunel invent the 'selfie'?\", '18 Ways Your Mom Tortured You And Called It Love', 'UK police announce arrest of suspected serial killer', 'Police warn of possible bomb threat in central London', 'Grandmas Went For The Ride Of Their Lives In A Lamborghini At Speeds Of 165 MPH', 'Russian ICBM test launch failed again', 'Defense and No Apologies From Author of Fiscal Bill', 'Can You Guess Which Famous Author Gave This Writing Advice', 'Wikinews interviews novelist James Bruno', 'Uniting Church at Auburn destroyed by fire', 'Award show producers try Emmy Idol', '\"One of the last of Hollywood royalty.\"', 'Bank Worries Keep Pulling Markets Back', 'Reports: North Korea to test third nuclear bomb', \"There's A Weird Geographical Quirk About Sweden's Match Against Denmark This Week\", 'Lexapro Maker Forest Is Accused of Fraud', 'Russian novelist Aleksandr Solzhenitsyn dies aged 89', 'Financial Crisis Dims Hopes for Giant Cross-Border Banks in Europe', 'China and Indonesia hail deal of Copenhagen summit', \"Here's A Bunch Of Women Honestly Discussing Their Sexting Habits\", 'North Korea Claims Border Marker Was Moved', \"10 People You Don't Want To Mess With\", 'Pope addresses UN in NY as US visit continues', '8 Struggles Of Having A Tall Boyfriend', '27 Excellent Reasons To Be Happy', 'A fun blast from the past...', \"Here's How To Fry Seafood At Home\", 'Severe heat wave blankets northeastern US', 'School Refused To Serve Him Lunch. Now Keep An Eye On The Mother! OMG.', \"Mugabe is 'prepared to fight' if Zimbabwe elects opposition\", 'Swiss President visits Ghana', '21 Reasons Why No One Should Have New York Values', \"Parents would you use this 'AirBNB for toys' service?\", 'Exxon to Invest Millions to Make Fuel From Algae', '12 Reasons Kendrick Sampson From \"HTGAWM\" Is The Ultimate Bae', 'Startups are more likely to adopt Ruby on Rails find out why...', 'This Disney Show For Preschoolers Is Teaching Kids About Consent', 'Australia qualifies for FIFA World Cup 2006', 'The top model of 2013 is...', 'SoundCloud announces rate limits for third party APIs', 'Nadal Criticizes the Prying of the Testing Program', \"Is there a better way to observe Veteran's Day?\", 'A History Of \"Frisco\" In Headlines', 'Britain and France Criticize Sri Lanka Rebels', 'Fire breaks out in Galveston', 'Schiphol airliner crash blamed on altimeter failure, pilot error', \"Here's The Story Of How A Half-Naked Drunk Dude Flooded Rogers Centre\", 'This Test Will Reveal Your Biggest Flaw', 'Recovering Addicts Talk About The Stigmas Surrounding Addiction', \"Kate Middleton's secret revealed -- How does William cope?\", \"10 Leftover Makeovers You Won't Believe\", 'Nations Near Arctic Declare Polar Bears Threatened by Climate Change', 'When Adele Releases A New Song', 'Outcry Over A.I.G., Unrelenting, Tests Geithner', 'Six-year-old boy dies two weeks after falling through icy pond in Berkshire, England', 'The 42 Best Science Memes On The Internet', 'What Do You Miss The Most About College', 'Which \"Crazy Ex-Girlfriend\" Character Are You', \"Dear Australia, We Need To Talk About Macca's\", \"As Confrontation Deepens, Iran's Path Is Unclear\", 'How to Deal With Unrequited Love', 'Pentagon Closes Office Accused of Issuing Propaganda Under Bush', 'This Latina Beauty Queen Was Just Named The New Face Of Revlon', 'Baghdad judge clears pair of murdering six foreign soldiers', \"Jennifer Lawrence's Real-Life Best Friend Called Her On TV To Find Out If She's Been Replaced By Amy Schumer\", 'Ashley Nell Tipton Is The First \"Project Runway\" Winner To Win With A Plus-Size Collection', 'Prime Minister of Vanuatu loses seat over paperwork error', 'Ask HN: Does Facebook sift through your image cache?', '16 dead after U.S. helicopter crashes in Afghanistan', 'Five Commissioners rescind welcome of 2006 Gay Games in Chicago', 'Holcim Awards-Rewarding innovative designs for Sustainable Construction', 'Matthew Lewis Plays A Hilarious Game Of \"Would You Rather\"', \"Here's The Biggest Halloween Costume For Each Year Of The '90s\", 'American disc jockey \"DJ AM\" dies at 36 of suspected drug overdose', '16 Blind Auditions From \"The Voice\" That Will Give You All The Feels', 'Woman gives birth on New Jersey PATH train', \"The Toughest Dragon Ball Z Quiz You'll Ever Take\", '22 Brilliant New Books You Should Read This Autumn', 'This is how much the average American wedding costs', 'Four killed in sectarian clashes in Beirut', \"Minyama residents promise to keep fighting to stop McDonald's development\", 'You Can Officially Make It Through A Whole Day With Just Star Wars Merch', 'Silent film actress Anita Page dies at age 98', 'Plane makes emergency water landing in Darwin Harbour', 'Declawing Your Cat Could Become Illegal If You Live In This State', \"Kim Kardashian's Posh Spice Costume Was Blessed By Queen Victoria Herself\", 'Thai political talk show taken off air', '22 Mouthwatering Things You Can Do With Cheese', 'The Official Trailer For \"Zoolander 2\" Has Dropped And It Features Benedict Cumberbatch Without Eyebrows', 'Detectives Play Clue', 'This state smokes twice as much pot than previously thought', \"Anna Faris Thinks Chris Pratt's Balls Are Sexy And Perfect\", 'Ask HN: Why is it more fun to read the comments?', 'Is hn the best place to spend a lot of time doing nothing?', 'Which Hogwarts Professor Should Be Your Drinking Buddy', 'This Kid And Her Dad Teaching Their Dog How To Howl Is So Adorable', 'What Percentage Dark Side Are You', 'How Many U.S. State Capitals Do You Know', 'Which Pretty Little Liar Are You Based On Your Style', 'WATCH: College football team shows grieving sports anchor so much love', 'The \"Rocky Horror Picture Show\" Cast Reunited And It Feels So Good', 'Which Christmas-Themed Horror Movie Should You Watch', 'Can New G.M. Pay for the Old G.M.?', \"St. Vincent Waitressed At Her Sister's Dallas Restaurant This Weekend\", \"What's The Best Way To Flirt On Social Media\", '27 Incredibly Unhappy Thoughts Everybody Has At A Spin Class', 'Tina Fey reveals one \"SNL\" cast member called her the C-word', 'Thousands Of People Are Sharing This \"Humans Of Bombay\" Post About A Child With A Rare Genetic Disorder', 'Somali pirates launch attack on oil tanker', 'Hungarian conservative party wins majority in parliament', 'Which Marvel Movie Should You Star In', \"Don't Throw Away the Lids to Your Pots and Pans Just Because They're Missing Handles. Do This Instead.\", 'What \"No Name\" Product Are You Actually', 'Many Plans to Curtail Use of Plastic Bags, but Not Much Action', 'Sebastian Vettel wins 2009 Japanese Grand Prix', 'ASK HN: To go to grad school or not?', 'Which Wild Animal Is Your Sexual Nature', 'Here Are Some Handy Color Charts For Your Burger King-Induced Green Poop', 'ABC, Fox and CBS Present Their Season Lineups', 'My Mother And I Finally Opened Up About Our Depression And Anxiety', 'The mystery behind China’s giant pyramid hills', 'Higher Oil Prices Help Widen U.S. Trade Deficit', 'Ask: Do you know your customer?', 'This 100 Years Of Zombie Evolution Is Amazing', \"12 Motivational Quotes For People Who Can't Be Bothered\", 'Tamil party drops commitment to independence from Sri Lanka', 'A Struggle Out of the 2nd Round for Federer', 'Report: Man tries to hang himself on an American Airlines flight', 'Amid Floods, Brazilian Town Wades On', '22 Tweets That All Neat Freaks Can Totally Relate To', 'Fred Thompson to make Presidential announcement on The Tonight Show', 'Widespread looting blamed for disrupted rescue efforts in New Orleans, Louisiana', '32 Maps Which Will Change How You See Europe', 'Foot-and-mouth confirmed at UK farm', 'Which Hogwarts Houses Do The Characters Of \"Brooklyn Nine-Nine\" Belong In', 'Suicide bombers blast two Bangladeshi cities', 'Stimulus Also Requires Stability, Bernanke Says', '19 Things Only Bridal Stylists Will Understand', 'USA upsets Spain, wins 2–0 in FIFA Confederations Cup semifinal', 'Kevin Pietersen MBE chosen as new England Cricket captain', '21 Things You Should Never Say To A Skinny Girl', 'Prosecutors Appeal Ruling, Delaying Bonds Trial', \"Georgian President declares country is in 'state of war'\", 'G.O.P. Leader Wants to Be More Than Opposition', '13 Of Our Favourite Television Moments In 2015', 'Whooping cough outbreak kills ten infants in California', 'Which Cupcake Are You Based On Your Zodiac Sign', \"If this woman isn't the luckiest person alive, then we don't know who is\", \"10 Scrumptious Gluten-Free Treats That Don't Feel Like A Compromise\", 'Trainspotting: Then Vs Now', 'Ask HN: Does anybody use HN lists?', 'This Photo Of Literally Just A Potato Sold For One Million Dollars', 'Kimi Räikkönen wins 2009 Belgian Grand Prix', '2007 German League Cup: Werder Bremen 1-4 FC Bayern Munich', 'Not a Candidate, Rafsanjani Tries to Defeat Ahmadinejad in Iran Race', '19 Reasons Why No One Should Ever Play Video Games On A PC', '17 Times Britain Confused The Hell Out Of Everyone On Tumblr', 'Miami Automobile Accidents', \"Study suggests 'sleeping sickness' parasite mutated to evade immune system defences\", 'Maradona honored with the keys to Cartagena', 'Two Palestinians reportedly shot dead by Israeli troops', \"1 Terrible Photoshop Of Regis Philbin In Princess Leia's Bikini\", 'Which Famous Movie Sidekick Are You Based On Your Zodiac', \"18 Vegan Mac 'N' Cheese Recipes That'll Make You Drool\", 'In Mexia, Tex., Roots of Stanford Financial Empire', 'West Indies Did Not Offer English a Serious Test', '17 Places All Music Lovers Should Go In London', 'Now living by a busy road raises risk to pregnant women', 'Th Guardian We shoppers aren’t to blame for food waste. Guess who is.', 'These Amazing African Baby Names Will Make You Want To Conceive', 'Major sandwich chain is accused of \"systematic wage theft\"', \"What's The Funniest Thing You've Heard Someone Say In Their Sleep\", 'This Is What Pregnant Women Need To Wear To See \"Star Wars: The Force Awakens\"', 'Something Makes This Grandmother Run Out in the Rain...When You See Why, It Will Make You Cry!', 'Ask HN: How do you bookmark?', 'Why Anecdotes Trump Data', '17 Beavers Who Just Want To Be Your Feminist Ally', 'Has American Apparel made its boldest model casting move ever?', 'Los Angeles Phone Numbers', 'Veteran U.S. attorney appointed to oversee Plame inquiry', 'This is one of the biggest skills new graduates lack', '19 Homemade Food Gifts That You Can Actually Make', '24 Stages Of Getting Shitfaced During The Week', '19 Times \"It\\'s Always Sunny In Philadelphia\" Was Beyond Hilarious', 'Australia to lose $2 billion due to Japanese disasters', '19 Nancy Downs GIFs For When You Feel Like A Real ~Witch~', 'Two-story building in Lynn, Massachusetts catches fire', 'Four Israeli Arabs killed by Army deserter', 'U.S. watchdog group lists \"most corrupt members of Congress\"', 'Do Bangs Make These Celebrities More Bangable', 'Women Are Wearing Plastic Bag Onesies In Taiwan', 'Intel responds to AMD antitrust suit', 'Tape of Beating Leads to Firing of 5 Birmingham Officers', 'Can You Remember The First Episode Of \"Full House\"', '17 Memes That Are Way Too Real For Thirtysomethings', '21 Fierce AF Haircuts That Will Look Good On Anyone', 'Ariel Sharon, former Prime Minister of Israel, dies at 85', 'Car bomb kills seventeen in Pakistan', 'France secures site for 10 billion euro nuclear fusion research project', 'Vatican accepts Juan Pablo Cafiero as Argentine Ambassador', 'Homeless in Sacramento Tent City Will Be Moved to State Fairground', '29 Facts You Probably Didn\\'t Know About \"The Holiday\"', \"12 Things You Probably Didn't Know About Happiness\", 'Ask NH: how would you calculate traffic costs for your startup?', \"Here's How To Make A Floral Dog Leash For A Winter Wedding\", 'MakeGamesWithUs (YC W12) is hiring instructors for our NYC Summer Academy', \"BBC's political show makes special edition from Shanghai\", 'Bit by Careful Bit, Obama Toughens Stance on Iran', 'This Facebook Post About The Lack Of Chennai Rains Coverage Is Going Viral', 'Ask HN: Query on site scrapping/crawling by YC companies', 'Are You More Kylo Ren Or Darth Vader', 'Which Christmas Movie Matches Your Zodiac Sign', 'Legal Billing Software', '60th anniversary of Nuremberg trials marked', \"28 Tweets That Sum Up What It's Like To Grow Up In New Jersey\", 'White House refuses to comment on Karl Rove as source of leak', 'U.S. Officials Press China on Greenhouse Gases', 'How Well Do \"DASH Dolls\" Malika And Khadijah Haqq Actually Know Each Other', 'Do You Know The First Roles Of These A-List Actors', \"You Won't Believe How Many Calories Are In This Restaurant Dish\", 'Hard Fouls and Loose Elbows Spark Syracuse in Second Half', \"'Gouge' found on wing of Space Shuttle Endeavour\", 'More Joint Action Needed to Heal World Economy', 'Dita Von Teese Designed The Perfect Red Lipstick With MAC', \"Friendly Reminder That Your Relationship Will Never Be As Cute As The Dewan-Tatums'\", 'Fifteen receive US Presidential Medal of Freedom', 'Queen Elizabeth II unveils New Zealand Memorial in London', 'At least nineteen dead after suicide bomb blast in Pakistan', 'Harvard Slows Its Growth in a Boston Neighborhood', 'This Is Probably The Most Awkward Wedding March Of All Time', 'The INADI and Wikimedia Argentina sign an agreement of cooperation', 'We Need To Discuss Global Treasure Alicia Vikander', 'Jack White And Patrick Carney Allegedly Almost Got Into A Fight', 'Pitino Returns Home to the Garden, Surrounded by Family', '8 types of socks you probably own', 'San Francisco hit-and-run suspect caught after lying', '15 Times Michael Scott Was All Of Us Graduating From College', 'Libyan foreign minister defects to the UK', 'The World’s Most Popular Birth Control Method May Surprise You', 'Lawmaker Is Said to Have Agreed to Aid Lobbyists', \"36 Regular People Who Look So Much Like Celebs It's Crazy\", 'Mrs. Dino sentenced to one year in prison', 'How Well Do You Know The Ninja Turtles', \"Everyone's Favourite Childhood Anthem Just Got An Epic Makeover\", 'Is This the One Flaw in the Otherwise Great Captain America: Civil War?', \"We Asked People On The Street If It's Okay To Talk About Depression\", \"Tom Brady Looks Like He's 100% Moved On At His Son's Hockey Game Since Broncos Loss\", 'Magnitude 7.0 earthquake hits New Zealand', 'Americans Guess German Curse Words', 'Five biggest US banks told to raise $74.6 billion; fail \"stress tests\"', 'A Man Made An Eye-Opening Video Getting Interviewed By His Younger Self', 'Indonesia investigates video showing apparent security forces torture', 'Cuban dissidents hold rare public meeting', '21-year-old man sexually assaulted in New Zealand', 'To Cut Costs, States Relax Prison Policies', 'Boston University Stuns Miami to Win Fifth N.C.A.A. Title', '16 Exciting And Creative Ways To Eat An Egg', 'Sensors and Chips Trained to Serve Pets', 'Are You Tyra Or Tiffany From \"Top Model\"', \"7 Charts That Will Explain Life's Mysteries\", 'Guard Mutiny in Bangladesh Ends', \"21 Things Girls With Thin Hair Don't Need To Hear Right Now\", 'To Make Female Hearts Flutter in Iraq, Throw a Shoe', '14 Little Tricks To Help You Actually Save Cash In 2016', 'Six U.S. troops killed in Afghanistan over two days', 'Caboolture to play Maroochydore in 2013 Sunshine Coast Rugby Union Preliminary Final', '12 dead following police raid of Mexican night club', '23 Faces That Are Way, Way Too Real In 2k15', \"18 Ways To Upgrade Instant Noodles That'll Change Your College Dorm Life\", 'For Aston Villa Soccer, a Success Story in Claret and Blue', 'China Takes Heavy Criticism Over Software Directive', \"Mountaineers 'Climb Up' for AIDS funding\", '23 Things Women Say Vs. What They Actually Mean', 'Can We Tell If Your Phone Screen Is Cracked', '250 Feared Dead in Indonesia Ferry Disaster', '24 Clever Ways To Decorate A Store-Bought Pumpkin Pie', \"Which Of Justin Bieber's Hairstyles Are You\", 'Kenya government reform record to be reviewed by AU experts', 'Bangkok hit with further New Year bomb blasts', 'A Dictionary Defines Inside Baseball', 'Jessica Chastain Just Wrote A Fire Essay About Gender Equality In Hollywood', \"11 Times When You Can't Even\", 'Congrats, Denzel Washington! Actor To Receive The Cecil B. DeMille Award', 'No Union for FedEx Home Drivers, Court Rules', 'A Literary Legend Fights for a Ventura County Library', 'What Are Some Misconceptions About OCD', 'What Kind Of Pasta Should You Eat With Aziz Ansari', 'Pakistan Taliban say Baitullah Mehsud is dead', 'NHL: Vancouver Canucks showcase new uniform', 'UK government formally launches same-sex marriage legislation in Parliament', 'Bonobo chimp threatened in Congo', 'Arctic ice thickness decreasing, suggests satellite data study', 'New report details strain on US Army', 'King of Tonga to hand power to Prime Minister, ending era of absolute monarchy', \"21 Photos That Won't Make Sense If You Weren't A Mid-'00s Teen\", '23 Times Tumblr Blew Your Damn Mind', 'All Of The Looks At The 2016 Grammy Awards', 'According To \"The Tonight Show\" Sandra Bullock Should Not Work In Food Service', '@AshleyMGreene sunbathes topless on set of new movie', 'Russian Wikipedia \"a top internet community\"', 'NASCAR: Hamlin wins 2010 AAA Texas 500', \"What's The Weirdest Sex Toy You've Ever Seen\", '7.2 magnitude earthquake hits Indonesia', '9 Killed in Coordinated Attacks in Afghanistan', '21 Legit Cool Things Star Wars Fans Will Actually Want In Their Homes', 'United States Senator Ted Kennedy rushed to the hospital', '23 Online Stores You Still Have Time To Order From', 'Another Round, Episode 24: Ida Bae Wells', 'George Garanian, Russian Armenian jazz band leader, dies at age 75', 'The Cutest Opossum On Tumblr Is A Dead One', 'The Struggle Of Adulthood Perfectly Summed Up In Two Images', 'And at that age, you really need a solid 8 hours!', \"He Tackles A Nurse At The Hospital. Then You See What's On The Floor Next To Them...\", 'Do You Remember The Lyrics To \"Time After Time\" By Cyndi Lauper', \"What's the best chain sandwich shop in America? Hint: It's not Subway\", 'MIT\\'s \"$100 laptop\" to be unveiled in November', 'Fiona Donnison jailed for murdering her children in UK', 'April Is Coming Back To \"Gilmore Girls\" And People Are Very Upset', 'Bonus Cuts Hurting More Than Top Wall Streeters', 'The First End-Of-The-Year Mashup Of 2015 Has Arrived', 'This Guy Married His Third-Grade Crush After Tagging Her In A Class Picture On Facebook', 'Leonardo DiCaprio Is Turning A YA Novel That Addresses Climate Change Into A Movie', 'This Dog Could Not Be More Chill About The Election', 'Xbox Dev Teases Something for Today UPDATE', 'Unanimous U.S. Supreme Court rules against file swapping companies', 'CERN says repairs to LHC particle accelerator to cost US$21 million', \"NBC star defends his show says the network just doesn't have viewers\", '18 \"Star Wars\" Cast Photos That Will Awaken The Force Within You', '14 Times Mindy Lahiri Perfectly Described Your Relationship With Food', 'Lordi horror movie receives 300,000 euros of Finnish government funding', 'How One Theory You Never Heard of Explains Everything Donald Trump Does', '32 Autumn Leaf Photos That Are Almost Pornographic', 'Democrats ask GAO for election review', 'European Union Looks to Tighten Banking Supervision', 'Comprehensive immigration bill fails in United States Senate', 'No talks until IRA \"criminal activity\" dealt with', 'Tropical Storm Irene passes over New York', 'Wikinews interviews Gary Fung from isoHunt', \"@BetteMidler lands big role in @HBO's latest project\", 'Video clip from YouTube used to track down suspected murderer', 'Unusual Strain of Swine Flu Is Found in People in 2 States', 'ACLU commemorates anniversary of US Supreme Court decision on student free speech', \"Career lessons you can draw from HBO's 'Big Little Lies'\", '28 Bros Who Absolutely Crushed 2015', 'NATO report on Afghanistan leaked', 'Another Round, Episode 30: Frimfram Fittlesworth', 'All the best deals on the internet this weekend', \"Ask HN: Article about things I know or don't know anyone that has a link?\", 'Sri Lankan Troops Breach Rebel Haven', 'Polls Closed in The New Zealand 2005 General Election', 'Romanian artists auction off their works for tsunami victims', \"Here's The Trailer For The Documentary About James Foley\", 'I Survived A Suicide Attempt', 'How old would Fred Savage\\'s character from \"The Wonder Years\" be today?', 'Jenson Button wins 2010 Australian Grand Prix', '#ChickenTweet As Motivational Posters', \"Jennifer Lawrence's Answer To This Question About Justin Bieber Is Hilariously Honest\", \"Here's Why Jet Black iPhone 7 Is Facing Worldwide Shortage\", \"World's smallest car enters Ripley's Believe it or Not museum\", '11 policemen dead after attack by Taliban', \"Cara Delevigne's Dog Had A More Glamorous Day Than Most Of Us Ever Will\", \"17 Moments That Are Too Real For Anybody Who's Not Totally Out Of The Closet\", 'Which Spam Email Are You', 'Google launches Google Spreadsheets', 'Tom Cruise orders €14,500 takeaway meal', \"J.K. Rowling Has Revealed She's Writing Another Children's Book\", 'Bomb hits northwestern Pakistan; at least 30 killed', 'Can You Name The Stuff In Our Solar System', 'Saab in Bankruptcy Filing; G.M. Seeks More Aid', 'Messy Cellphone Bills Hide Real Cost', 'Victoria power grid collapses due to spot fires', 'Can You Identify Which Disney Channel Movie Each Celebrity Was In', 'People Get Real About The Best And Worst Parts Of Sex', \"26 Inspiring Dogs From NYC's Biggest Halloween Parade\", 'What Is Your Sexiness Score', \"A Couple Saved An Injured Squirrel And Now He's Living In Their Christmas Tree\", 'Was Your Mom Wrong All These Years', 'The 19 Best Horror Films Of 2015', 'New year introduces Illinois texting while driving ban, among other laws', 'Democrats Scramble to Cut Costs From Health Plan', 'Briton to fly hang glider across the UK', 'Amanda Seyfried And Justin Long Split, Proving That 2015 Is The Year Love Died', 'Ask YC: Would you deal with the guys on \"Shark Tank\"?', 'British Airways issues profits warning', 'IndyMac Bank placed into conservatorship by US Government', '34 Disturbing Photos From SantaCon That Will Ruin Your Christmas', 'U.S. Soccer Team Looks Ahead to World Cup Qualifier With El Salvador', 'The Risks and Rewards of a Danica Patrick-Nascar Merger', \"A creepy man in his underwear will remain on the campus of a women's college\", 'I Wore Crop Tops For A Week As A Plus-Size Woman And This Is What Happened', 'How to get Articuno, Zapdos, Moltres, Mew and Mewtwo in Pokemon GO', '20 killed in suspected US missile strike in Pakistan', 'G8 finance ministers agree on deal to relieve debts of 18 poorest nations', 'PureTravel Egypt Adventure Holidays', 'We Know Which YA Novel Is Perfect For You Based On Your Zodiac Sign', 'MDC pulls out of Zimbabwe elections', \"LeBron James had a great response when the top pick in the NBA Draft said he couldn't wait to face him\", 'Lessons (or Not) When a Start-Up Misses the Mark', 'UnitedHealth Settles Suit, but Objection Raised', 'Ariel Winter And Her Breast Reduction Scars Are Not Here For Your Body-Shaming', 'Which Pop-Punk Band Do You Actually Belong In', '#CampingWithDogs Will Give You The Cutest Case Of Wanderlust', 'National Aromanian Day celebrated', 'People Are Losing Their Shit At That New Mysterious Adele Advert', 'Two rockets hit southern Beirut', '20 of the most forced rhymes in pop music history', \"Sachin Tendulkar Has Promised A Super Cool Reward To Anyone Who Can Help Find His Pal's Passport\", \"Jennifer Lawrence's New Movie Is Basically Just A Bunch Of GIFs Of Her In Search Of A Movie\", 'Study Says Warming Poses Peril to Asia', '42 Dogs Who Found Their Forever Homes In 2015', '23 Of The Most Heart-Shattering Breakup Songs From 2015', 'We Finally Know the New Title (and Ship) of Next Year’s Star Trek Series', 'Guys Try Tinder', 'An Indian Artist Built This Sand Sculpture Of The Drowned Syrian Boy On A Beach', 'These High School Boys Wore Dresses To School In Protest Of The Dress Code', \"Satirical website criticizes Glenn Beck for 'hypocritical' attempts to silence free speech\", 'Nigeria destroys illegal small arms', 'Feverfew compound gets at leukemia roots', '19 Pictures That Prove Man Buns Have Gone Too Far', 'Uproar over sexual EU spoof posters in Austria', 'Joseph Gordon-Levitt Made A DIY Yoda Costume For The \"Star Wars\" Premiere', 'Sascha Radetsky Looks Back On \"Center Stage\" And Ahead To \"Flesh & Bone\"', 'Rafael Nadal withdraws from Wimbledon Championships', 'How Hans Are You', \"This Woman's Deliciously Unhealthy Instagram Account Is Hilarious\", '27 Products For People Who Are Completely Obsessed With Books', 'Here\\'s Our First Look At Eddie Redmayne In \"Fantastic Beasts And Where To Find Them\"', 'What Was The Most Amazing Thing That Happened At Your Wedding', \"Study says young stars 'shoot water bullets'\", 'Kim Clijsters, a Former No. 1, Is Expected to Return to Tennis', 'Egyptian military issues ultimatum to Morsi', 'Sports Industry Tries to Bring the Living Room to the Game', 'There Was A Mini \"Harry Potter\" Reunion In Florida Over The Weekend', 'The one strange trick that will make you live longer', \"Obama's suspension of Guantanamo repatriations criticized\", 'With Selection of Nicks, Giants Move On From Burress', 'FEMA head Michael Brown recalled to Washington', '60 reported dead in Congo train crash', 'Pigskin A Blanket: NFL Week 15 Picks', \"This Sorting Hat Quiz Tells You The House You Definitely Wouldn't Be In\", 'Sotomayor Would Be Sixth Catholic Justice, but the Pigeonholing Ends There', '17 Emotionally Raw Confessions From People With Low Self-Esteem', 'Bros Give Money Advice', 'Fijian regime appoints vice-president', 'Something unexpected gave this paralyzed man his life back', 'Ten climbers killed in avalanche at Turkish ski resort', \"Doctors Assume 18-Year-Old Must Be Five Months Pregnant. There's Just One Huge Problem With That\", 'This Cake Looks Like A Giant Candy Corn And Is Actually Easy To Make', 'Can You Tell The Difference Between Photos From Space And Movie Screenshots', 'U.S. and China Agree to Study Ways to Make Buildings More Energy-Efficient', \"21 Polly Pocket Sets That Will Give Every '90s Kid Intense Nostalgia\", \"19 Struggles Only People Who Don't Drink Tea Will Understand\", \"Multiple bomb threats in Sydney 'nothing more than a hoax'\", 'New study reveals one awesome upside to being short', 'Phoebe Buffay Is Supposed To Die On October 15, 2032', 'Former Chilean dictator Pinochet dies at 91', 'Schwarzenegger Gets Part in Stallone Film', '89 Thoughts Everyone Has While Wedding Dress Shopping', 'Nintendo NX Reveal: New console price leak ahead of MAJOR announcement?', 'Where Are The Creepiest Places In Texas', '11 Scary Movies That Would Actually Horrify Musicians', 'She Can Transform Into Any Disney Princess. But When She Takes Off The Makeup? I Can’t Believe It!', 'Wyclef Jean considering standing for president of Haiti', 'Deutsche Bank Posts $1.6 Billion Profit', 'In Baseball, Slow Starts May Not Have Happy Endings', 'Congress Passes Bill to Tighten Weapons Programs', 'Former \"Community\" star tweets importance of \"Arsenio Hall Show\"', 'British man fully \"recovers\" from HIV', 'How Well Do You Remember The \"Sex And The City\" Finale', 'New York legalizes same-sex marriage', 'Car bomb kills 11 in Pakistan', 'Judge Halts Investigation Into ID Theft in Colorado', 'Tour de France: Cancellara wins 7.9 km time trial prologue', 'WikiLeaks releases Iraq War logs', 'Boy, 9, Enters a Guilty Plea in 2 Killings in Arizona', \"We've finally figured out when the moon formed\", 'Australian Police net $540 million in \"liquid ecstacy\"', '7 Quick And Delicious Dinners To Make If You Have No Free Time', 'Judo Icon, a Fighter for Her Sport, Is Facing a New Battle', 'This Is What Adulthood Looks Like According To Stock Photos', 'Riots in Greece enter fourth night', '38 People Share What Helped Them Resist The Urge To Self-Harm', 'Broncos player Williams shot to death, police looking for suspect', 'Disney Princesses Singing In Their Native Languages Is Pretty Magical', 'Scientists say the moon is slowly shrinking', 'What Should Every Tourist Know Before Coming To London', 'Is It Okay For Women To Propose To Men', 'US Supreme Court rules DC gun ban unconstitutional', '19 Actually Stylish Men To Follow On Instagram', 'Afghanistan begins partial vote recount', '22 Times The Internet Perfectly Understood \"Degrassi\"', \"Here's What Meg Cabot Learned About Situational Depression\", 'Video Game Evaluation', 'What Is Your Favorite Science Fact Of All Time', 'Who Should Lead The Squad', 'Lady Gaga And Matt Bomer\\'s \"AHS: Hotel\" Bloody Orgy Was Choreographed', '7 lessons small businesses can learn from tech startups', 'France Tries to Lure Hollywood', 'Malawi food appeal unanswered by world community', 'Altering Planes, and the Way They Fly, to Save Fuel', '22 Things Only People Who Shop At Daiso Will Understand', '24 Cakes That Want To Be Your Everything', 'My proof of joining Keybase: janhlinx', 'Strong earthquake strikes Afghanistan, no immediate report of damage', '2008 Google Developer Day starts from Yokohama, Japan', 'Google Street View comes indoors', '19 Beautiful Gifts For People Obsessed With Frida Kahlo', 'The Hardest \"Harry Potter\" Spelling Test You\\'ll Ever Take', 'These Celebrities Got Festive As Fuck When They Stopped By Our Jingle Ball Photo Booth', 'Price of Stamps Rising This Week', 'Find Out Which Hilarious Dog GIF Is 100% You With Just One Question', 'MediaLoot Launch and Giveaway – Free Account To 3 Lucky Winners', '20 \"Doctor Who\" Questions That Are Impossible To Answer', 'Hearing begins over David Hookes death', 'Australian murder victims killed in different ways', 'Copenhagen climate conference ends with \"meaningful agreement\"', 'Australian newspapers could be fined for breaches of media standards', \"2015's Best News Bloopers Are Here And They're Out Of Control\", 'Pro-Sharif Demonstrations Spread Across Punjab', 'Large earthquake rattles Indonesia; Seventh in two days', 'Do You Actually Know The Meaning Of These Commonly Misused Words', 'Christopher Walken Reading Edgar Allan Poe\\'s \"The Raven\" Will Make Your Literary-Loving Heart Explode', 'Are You More Into Netflix Or More Into Chilling', 'Cancer trial patient dies after hospital computer system error', 'Trying to Limit Disclosure on Explosion', 'This Bernie Sanders Impression Out-Bernies The Real Bernie', 'Siemens Profit Drops 81%, but Revenue Is Up', 'Ask HN: How Many Programming Languages Can iOS Apps Be Written In?', 'Which Teen T.V. Show Drama Queen Are You', 'Eos Airlines files for bankruptcy', 'Japan and Korea Vow Unity on Economic Slump', 'Ask HN: reasonably priced robotic arms', '29 Things Only Late Twentysomethings Who Stay At Hostels Will Understand', \"Cancer Survivors Talk About What It's Really Like To Have Cancer\", \"Furious Mum Finds 'Drugs' In Daughter's Room, She Gets Off The Hook In An Amazing Way\", 'Israel cabinet rejects UN war crimes report', 'The interesting thing that happened when Kansas cut taxes and California hiked them', 'New York area blog spawns book deal, NBC sitcom', 'Stocks Barely Budge as Investors Await New Signals', 'Legia receives ban; Rovers face Vetra', 'Memo to Editor:  Tech Shows Were Subdued', 'Two people killed in fire in Greater Manchester, England', 'Wall Street May Be Looking at Withering Wages', 'Report says global warming may cause 25m malnourished children by 2050', \"26 Things You Haven't Cared About In 11 Years\", 'Tax Change in Europe to Cut the Bill for Dinner', \"We Tried On The Most Perverted Men's Halloween Costumes\", 'If Canadians Were Honest On Snapchat', \"Meet The San Francisco Cat Who Helped Save A Suicidal Man's Life\", \"Amazon Reportedly Wants To Launch A $5 Spotify Competitor, But There's A Catch\", 'CyanogenMod: Open-source smartphone OS goes commercial', \"A top sales engineer? You'll love working here\", 'Disney Princesses Breastfeeding In Public', 'People Are Trying To Make Britney Spears A Playable Character In \"Super Smash Bros.\" Because Why Not', 'Emini Trading', 'Ask HN: Being harassed by Odesk client What should I do?', \"Chris Hemsworth's First Instagram Post Is Wild\", \"Jimmy Fallon's Puppies Predicted The Broncos Will Win The Super Bowl\", 'Australian rules football International cup \"community event\": Australian Football League', \"What's The Most Savage Thing Your Grandma Has Ever Said To You\", '12 Places That Will Make You Wish You Lived Underground', \"This Plus-Size Clothing Collaboration Is A Minimalist's Dream\", 'The Pros And Cons Of Being A Student In Your Thirties', 'Grimes On Her New Album And The Heartbreaking Inspiration Behind \"Oblivion\"', 'John Mitchell, a Football Pioneer, Builds Big Men for the Steelers', 'This Brave Guy Is Going Viral After Taking A Selfie While His Wife Was Giving Birth', 'Ask HN: Image gallery software for fine artists?', 'Catholic Democrats tell Chicago Cardinal George not to pull funding from immigration campaigners supporting same-sex marriage', '28 Things About Scotland That Will Surprise Everyone', '23 Sports Fans Who Made A Huge Mistake', '13 Firms That Received Bailout Money Owe Back Taxes', '23 Things That Could Only Happen In San Francisco', 'Suspects in Death of Lebanese Ex-Premier, Hariri, Are Freed', 'Nelson Mandela hospitalised again with lung infection recurrence', \"Corby's star witness convicted of rape\", 'Suicide bomber kills 24 children in Iraq', \"Scotland's First Minister does comedy sketch for charity\", 'Chris Hemsworth Is Grappling With No Longer Being The Sexiest Man Alive', 'A Mall Santa Did Everything He Could To Make An Autistic Child Feel Comfortable', \"Tulsa media erroneously reports San Diego Comic Con Pedobear was 'registered sex offender'\", \"Kylie Jenner's Snapchat Is Going To Kill Someone\", 'This Kangaroo Is Kind Of Hot, Yeah', \"9 Holiday Party Confessions You Probably Can't Top\", 'People Fought About The Best Breakfast, What Side Won', 'Journal Register Seeks Bankruptcy Protection', 'U.S. Relies More on Aid of Allies in Terror Cases', 'Felipe Massa wins 2008 European Grand Prix', 'An Open Letter To The Taquero, The Greatest Human In The World', '15 Times Colin Jost Was The Cutest \"Weekend Update\" Anchor Ever', 'New Mexico Legislature Passes Caps on Contributions', \"29 Times Shay Mitchell's Instagram Slayed In 2015\", 'UK Prime Minister sets 2005 General Election date', 'Gunman holds hostage in U.S. television station offices', 'Here Are The Top Trending Recipes Googled In 2015 And Ways To Eat Them', 'This is what happens when a bear gets into your Subaru', 'Facebook reaches 500 million users', 'A Pug And A Frenchie Recreated \"Lady And The Tramp\" And It Was Beautiful', '16 Struggles That Are Way Too Real For People Who Constantly Have To Pee', '44 Of The Most Breathtaking Shots In Michael Mann Movies', '@DollyParton addresses those tattoo rumors', 'We Know Your Celebrity Crush Based On Your Birth Month', \"Here's What Synthetic Cannabis Is Really Doing to Your Brain\", 'Before and after of drugs', '@taylorswift13 dresses down for dance rehearsal (PHOTOS)', 'Bristol Organic Food Festival 2008 lauched, 100 thousand expected to attend', 'United States 2003 National Adult Literacy Survey released', '18 Undeniable Things Filipinos Do During Christmas Season', 'This Latino Kicker Is So Good, An NFL Team Made An Unusual Move Just To Get Him', 'Alleged axe murderer faces an Australian court', 'Visa seeks to issue largest IPO in US history', 'Banking Industry Showing Signs of a Recovery', 'The Hardest \"Fuck, Marry, Kill\" Game Ever For Beauty Addicts', 'How Old Are You Actually Based On Your Favourite Swear Word', 'Ask HN: How to decide between Industry and Academia?', \"We Surprised A Group Of Jewish Kids By Having Them Meet Santa For The First Time And They Weren't Into It\", 'CW Adds Shows to Text About', 'Hey Guys, Ted Mosby Is In India', \"This One Question Will Tell You If You're A Real Woman\", 'You’ve Been Doing High-Fives Wrong All This While. Here’s How It’s Really Done', '22 Really Weird Things Dogs Actually Do', 'Can You Name The Classic Emo Album By The Cover Art', 'Imperial Tobacco to cut over 2000 jobs', 'Victims of Shooting at Iraq Clinic Include a Psychiatrist and a Young Private', \"This 'sad' advice a male VC just gave to women in tech couldn't be more wrong\", 'American Kids Tried Dinners From Around The World And Their Reactions Were Next Level', 'Ask HN: Where do you go to connect with like minded people?', 'Roddick Sculptures Another Win in Paris', 'Two Twin Brothers Separated Since World War II Have Finally Been Reunited', 'Which Doritos Flavor Are You', 'Jeff Gordon wins the 2011 Subway Fresh Fit 500', 'Controversy spreads over Libertarian U.S. presidential nominee Bob Barr', 'Y.M.C.A. Found to Be the Most Valuable Nonprofit Brand', 'A Canadian Guy Dissed Tim Hortons Coffee So He Could Get A Date In England', 'How Did You Make Friends As An Adult', 'European Parliament committee backs visa-free travel for Balkan countries', 'Prevent Your Kids From Playing Near This Dangerous Common Plant That Can Kill Them', 'A Tourist Ignored a Museum\\'s \"Please Don\\'t Touch\" Sign, Guess What Happened Next', 'New Zealand town subject to window smashers', '14 Times You Were Fiercely Linda From \"Bob\\'s Burgers\"', 'Left Out of D-Day Events, Queen Elizabeth Is Fuming', 'Brush fire gets close to animal park near San Diego', 'How \"Queen Of Sappy Love Songs\" Delilah Conquered Radio', 'U.S.C. Eases Past Boston College', '17 Reasons Mariah Carey Had An Incredible 2015', 'Today Is National Working Naked Day, So Take Off All Your Clothes', 'Chávez accuses US of plotting separation of oil rich state', 'Japan Defeats Korea, Setting Semifinal Games', 'Nigerian victory marred by deaths in custody', 'This Toy Company Re-Created The \"Star Wars\" Trailer Using Their Own Toys And It\\'s Incredible', 'Is New KERS System a Formula One Boost or a Backfire?', 'How Fall Are You', 'Sales Improve, but Profit Falls 9% at Walgreen', 'NHTSA won’t investigate Tesla Model S fire', 'Hurricane Humberto misses major record by 3 hours', '9 beauty trends to leave behind in 2016', '17 Times \"Harry Potter\" Fans On Tumblr Had Important Thoughts About Dumbledore', 'What Type Of Disney Movie Character Would You Be', '61 Things You Probably Didn\\'t Know About \"Harry Potter And The Philosopher\\'s Stone\"', \"37 Facts You Probably Never Knew About The Macy's Thanksgiving Day Parade\", \"Everyone's Confused Why Sting Is Performing The NBA All-Star Halftime Show In Toronto\", 'Aumenta Fan Facebook', 'Sabathia Makes It No Fun at All for the Mets', \"'Black box' found near crash site of Airblue flight\", 'Ask HN: Keep cookies from multiple sites seperate', \"Dude, Here's How To Make Your Clothes Last Longer\", 'Building collapse in Barbados traps family', 'Which Moaning Myrtle Are You', '17 people who literally define passive-aggressiveness', 'Remote Assistance service of Windows OS vulnerable to attack', 'This 87-Year-Old May Be The Best, Most Canadian Neighbour In Canada', '18 Fizzy Cocktails Guaranteed To Get You Kissed At Midnight', 'Abbas fires security chiefs for failure to curb lawlessness', '.tel top-level domain launched', 'What Gift Should You Get For Yourself This Year', 'Professional wrestler Chris Benoit and family found dead', 'Famous fashion designer makes a bizarre career choice', '21 Ways To Cover Your Home With Pictures Of Your Own Cat', 'The Real Costs of a \"Marvel body\": How the pressure to look like Thor and Captain America is hurting men', 'New Zealand exam insulter revealed', 'Eurovision \\'09 competitor Chiara talks about her current song \"What If We\" and her past accolades', 'Manager', 'Controversial Oscar nominee loses nomination', 'Ask HN: Books to learn advanced C programming', 'Iranian Candidate Taps Student Woes', 'Latest Citigroup Rescue May Not Be Its Last', 'Iranian President Asks Court to Reconsider Spy Case', 'TWU members reject contract', 'A Court Candidate Who Has a Sparse Legal Record', 'Are You More Nickelodeon\\'s \"Doug\" Or Disney\\'s \"Doug\"', 'What are you working on?', '13 Hilarious Drunk Confessions', 'Emergency declared in US state of Washington, eight additional casualties, many still without power', \"Howard's 10 year party gatecrashed\", \"The Dark Side Of Medical Marijuana's Miracle Drug\", \"Serious Question: Is Orlando Bloom Katy Perry's Uber Driver\", '14 Confessions From Single Dads That Are Heartwarming And Heartbreaking', '18 Gift Ideas For People Obsessed With Fluffy Things', 'Oceanographer/Developer creates underwater communication at hackathon', 'Lycos Europe ends its anti-spam campaign', 'Suspicions of nepotism arise from pulping of new Australian industrial relations information booklets', 'Make it stop', 'When My Pet Died', 'Atp Cincinnati live stream tennis', 'Rapper calls out everyone in hip-hop in fierce Twitter rant', 'Ask HN: Application review by YC Alumni', 'Ask HN: What kind of philosophy do you read?', 'Do You Know What A Bathroom Is', 'Google mistakenly collects private data from Wi-Fi networks', 'Aplicatie android romaneasca - ROstiri', 'Heating bills, oil price rise predicted', 'Boyfriend forces Missouri woman to swallow cell phone', '19 Tumblr Posts That Prove Pets Are Too Pure For This World', '33 Things Shia LaBeouf Said To Students In A Lift In The Oxford Union', 'Ray Nagin re-elected New Orleans mayor', 'Saudi Arabia agrees with the US on joining the WTO', \"'Suspicious package' causes closure of busy street in Buffalo, New York\", 'Chances for N.C.A.A. Tournament Midmajors to Slay Some Giants', 'Creationism and intelligent design have no place in the UK science curriculum says UK Government', 'Director Gina Prince-Bythewood: \"Every Movie Starts With An Image\"', 'India buys 250,000 OLPC laptops', '7 Insanely Delicious Ways To Eat Leftover Halloween Candy', 'Sumo: Asashoryu wins New Year Grand Tournament', 'North Korea warns airlines over satellite fears', 'Triunfo del Amor Capitulo 175', 'Leapfrog Device Aimed at Littlest Readers', 'Which City Has Your Ideal Guy', 'Asia Gives Metro Haven From Economic Storm', '8 New Types Of Goth That Are Better Than Health Goth', \"GOP lawmaker questions DOJ's constitutional authority on marijuana law\", 'British Supermarket Chain  Places Bets on Banking', \"13 Magnificent Roles To Remember Alan Rickman's Career By\", 'He Found A Hidden Cemetery... The Secrets It Contains Will Blow Your Mind.', 'A Crazy Genius Spent 13 Years Archiving Every Episode Of MTV\\'s \"120 Minutes\"', 'How The Seasons Of \"American Horror Story\" Connect', 'An  Atlanta Ediorial Voice  May Move to the Right', 'And the winning #Powerball numbers are...', 'What Is Your Weirdest Fear', 'Woods Announces the Birth of a Son', 'South African serial killer guilty of nineteen rapes, sixteen murders', 'C2 Marketing Digital', \"I'm A Republican, But I'm Not\", 'Russian City Finds Race for Mayor Ever Odder', '19 Brutally Honest Confessions From A Tesco Worker', 'Sonakshi Sinha Snapchatted Herself Doodling And Accidentally Drew Kim Kardashian', 'China Goes on a Commodities Shopping Spree', 'Philippine Foreign Secretary Del Rosario to visit China amid South China Sea territorial dispute', 'China says North Korea border patrol killed three Chinese', \"And the world's most beloved landmark is ...\", '19 Reasons Everyone Needs To Use Their Damn Turn Signals', 'Mark Martin, 50, Wins Wreck-Filled Southern 500', 'Myron Cope, Pittsburgh Steelers color commentator, retires after a 35 year career', 'Colorado College Tigers win 41st annual Great Lakes Invitational tournament', 'Tom Hiddleston Explained Gothic Literature And The Geekiness Is Surprisingly Hot', 'CSX Results, Off 20%, Beat Forecasts', \"Kim Kardashian's 6-Year-Old Nephew Had No Comment About Her Deodorant\", 'Canadian-born actor Leslie Nielsen dies aged 84', 'Chicago Vs. New York: The Ultimate Showdown', 'The First \"Agent Carter\" Season 2 Promo Is Here And It\\'s Fabulous', 'What Should Your Signature British Insult Be', 'Which Animated TV Show Family Should You Live With', 'Tracking the Flight of Birds, With Tiny Backpacks', 'Stocks End Mixed, Giving Top Indexes Weekly Loss', 'Unicef: African children orphaned by AIDS could top 18 million', 'At least seven dead after bomb blast in Northwestern Pakistan', 'Romanian sergeant killed in Afghanistan by makeshift landmine', 'Poll of 100 million votes names new Seven Wonders of the World', 'Feng Shui Feng shui bedroom', \"30 Hilarious Tweets You'll Only Understand If You're In Your Thirties\", 'Beijing Adds Curbs on Access to Internet', 'Why there will probably never be a \"Dawson\\'s Creek\" reunion', 'What One-Size-Fits-All Beauty Products Look Like On 4 Different Women', 'Taliban execute one Korean hostage; reports of release denied', 'Canon Inc. to buy the stake of Toshiba in their joint venture', '21 Horrifying Images Of Animorphs', \"23 Places You Won't Believe Are In England\", \"These Valentine's Day Stories Prove That It's Maybe The Worst Day Of The Year\", 'German Wikipedia DVD sells out first 10,000-copy run', '15 Most Inspiring Grilled Cheese Sandwiches Of 2015', 'Britney Spears 9 Years Ago Vs. Today', 'What Do Your Initials Say About You', '22 Things That Will Inevitably Happen When You Live With Your Best Friend', '15 Chill Ass Bedrooms That Will Make You Want To Sleep Through Your Alarm', 'At least eight dead after bus crash in Albania', 'This Wedding RSVP Card Is Going Viral For A Hilarious Menu Mistake', 'Mao-style suits fading away in China', '@TomHanks might win another Oscar', '7.2 magnitude earthquake strikes Mariana Islands', \"Jason Biggs' Apple Pie Legacy Lives On With His Son\", 'BBC launches the Creative Archive', 'German director Christoph Schlingensief dies at age 49', '17 Knockoff Game Systems That Failed So Hard They Almost Won', 'Ryan Gosling Thinks \"The Big Short\" Co-Star Steve Carell Is A Liar', \"This Test Will Tell You If You're More Like Your Mom Or You Dad\", 'Sunday school teacher arrested on suspicion of kidnapping and murder', 'Economy Remains Weak, but Fed Sees Bright Spots', 'Discovery of the most powerful explosion in the Universe', \"Ask HN: 'Simple' type of bank in the UK\", 'Bollywood stars Aishwarya Rai and Abhishek Bachchan engaged', 'Aerosmith cancel remaining tour dates after on stage accident', 'Terrorists seize 50 in Iraq', 'Wildfires Hit Myrtle Beach Area', 'Which Movie Do You Think Is Most Honest About Depression', \"13 Moments You'll Only Understand If You Have A Mexican Mom\", \"If you were wondering what Sriracha beer tastes like, here's our review:\", 'This Quiz Will Tell You How You Communicate', 'Why \"I’ll sleep when I’m dead\" is just a bad idea', 'Entry doors Georgia', 'In China, Pelosi Talks With Hu and Wen About Climate Change', \"Shawn Johnson reveals 'embarrassing' truth behind memorable Olympic picture\", \"13 Valentine's Day Cards For Gay Men\", 'Thornton Helps L.S.U. Edge Butler', '13 \"Grease: Live\" Secrets I Learned While Sitting In The Audience', 'Ailing social networking website MySpace loses co-president after four months', '21 Pictures That Are Too Real For People Who Hate Driving', 'What Would Your Life Be Like As A Lame Super Hero', 'Team formed to investigate suspicious Pakistan PNSC office fire', 'Ryanair sack, sue pilot over participation in safety documentary', '19 Tweets About Movies That Will Make You Laugh Every Time', '22 Struggles Every Small Girl With Big Feet Will Understand', 'Obama Reluctant to Look Into Bush Programs', 'A Hairstylist Gave A Bride With Cancer The Hair Of Her Dreams', 'At Least 35 Killed in Somali Clashes', 'Former Iranian president Hashemi Rafsanjani leads Friday prayers', 'That Rainbow Bagel Store Has Shut Down \"Indefinitely\"', 'New insulin-resistance discovery may help diabetes sufferers', 'Scotland denies bail to terminally ill man convicted of Lockerbie bombing', 'Stressing Long-Term Focus, Blackstone Bounces Back', \"The ‘one thing you never noticed about Monica’s apartment' is either proof of the multiverse or...\", 'Iowa falls to Texas in Alamo Bowl', \"Pastor of Florida church cancels plans to burn Qur'an, later reconsiders\", '17 Beauty Hacks You Should Try In 2016', \"University study finds U.S. defense contract information in 'electronic waste' in Africa\", 'Four Romanian ambassadors recalled', 'Pulitzer Prize makes major change', 'Investigations Into Senator Burris of Illinois Are Begun', 'John Legend Covering \"Sexual Healing\" Will Make You Want To Get It On', 'Which \"Shameless\" Character Are You Based On Your Zodiac Sign', \"21 Things That Will Make All '00s Girls Feel Old\", '24 Of Greatest Grad School Memes On The Internet', 'I have found a new way to watch TV, and it changes everything', 'Australian Treasurer hands down budget, announces two years of deficits', 'Will Ferrell Hilariously Acted Like A Cat For His \"SNL\" Audition', 'Ask HN: How often do you work from home?', \"How a 'wonky' version of Mr. Potato Head is raising awareness for food waste\", '17 Reasons Every Gryffindor Needs A Hufflepuff Best Friend', 'Al Gore-owned cable news channel to relaunch August 1 with viewer-created content', 'The Green Toy Soldiers From Your Childhood Now Come In Baller Yoga Poses A', 'This Is What Happens When Non-Welsh People Try To Draw The Welsh Flag', 'British Court Finds 3 Not Guilty of Aiding London Bombers', 'Margot Robbie Refused To Lose Weight For Tarzan For A Brilliant Reason', 'Palestinian rocket attack kills Israeli woman', 'This Web Series Is Helping Trans Teens Find Their Personal Definition Of Beauty', 'What Type Of Show Should You Binge-Watch In 2016', 'Major US presidential candidates have passport files breached', \"This Tiny Canadian House Has A Tiny Adorable Corgi Elevator And We Can't Handle It\", 'Demolition to resume at New York skyscraper damaged by 9/11 after deadly fire', \"Meet One Of The Filthiest Female Characters You'll See Onscreen This Year\", 'Calvin Harris Shared His Shirtless Cycling On Snapchat', 'Zimbabwe opposition claims early victory in election', 'Haitians Look for Shift in Immigration Policy', \"Pink Floyd will reunite to play London's Live 8\", \"ACLU describes President Bush's veto of CIA waterboarding ban as 'a callous disregard for human rights'\", 'Charity haircuts and collaborative art at spring festival in Cambridge, Massachusetts', 'Wall Street Ends Week With Losses', 'Date announced for by-election to replace former New Zealand PM Clark', \"Senator Obama's passport records breached in January 2008\", 'Tour de France: Tom Boonen wins stage 12', \"19 People Who Sadly Didn't Get A Birthday Present This Year\", 'Gap Posted a Profit, but Sales Declined 8% in Quarter', 'Four arrested in Birmingham UK in connection with July 21 attempted bombings', \"Corruption threatens Brazil's Olympics and World Cup\", 'Ralph Nader enters US presidential race as independent', '19 Pieces Of Shitty Taxidermy That Sum Up Your 2015', 'GUESS HOW MUCH GOOGLE PAID THE GUY WHO BRIEFLY OWNED GOOGLE.COM', 'Kucinich to run for U.S. president', 'This Crocodile Standing Up On His Tail Means Surely The End Is Near', 'Philippine population census to begin today', 'Ask HN: LLC Question', 'Private guard kills Somali pirate in Gulf of Aden', \"17 Things Only '00s Disney Kids Will Remember\", 'Altidore, Afterthought in Spanish League, Stars for the U.S.', 'For Everyone Who Thinks Ulta Is The Best Makeup Store', \"Sophie Reade wins UK's Big Brother series 10\", 'Businessman and founder of The Weather Channel Frank Batten dies at 82', 'OPEC Achieves Cuts in Output, Halting Price Slide', 'Baseball Playoff Games on Fox to Start Earlier', \"Stella English wins sixth series of UK's The Apprentice\", 'Thunderbird wins MBA rugby tournament', 'The happiest country in the world is...', 'Two trains collide near Rio de Janeiro', 'How Much Do You Actually Know About Ancient Technology', 'As many as 100 civilians die in Afghan raid', 'Algerian rebel group claims kidnapping of two Austrians in Tunisia', \"21 Secrets Infertile Women Won't Tell You\", 'Guess Which Fictional Character This Person Thinks They Look Like', 'F.D.A. Eases Rules on Off-Label Drug Prescriptions', \"HBCU Homecoming Do's And Don'ts\", 'Ask HN: Is it possible to change your HN username?', '31 Tweets About Fast Food That Will Actually Make You Laugh', 'This Quiz Will Tell You Which Breakfast Cereal Matches Your Personality', '17 Things All Overachievers Want You To Know', 'US Senate Majority leader Harry Reid criticized over \"Negro\" comments', 'Small earthquake reported in Solomon Islands', 'This Is How Many People Police Have Killed So Far In 2016', 'Find Out Your Badass Harry Potter Roller Derby Name', 'What Poem Has Helped You With Your Depression', 'How distance brought an end to an NBA power couple that withstood conflicts of interest and professional trials:', 'State senators want to make it easier to legislate behind closed doors', 'Afghanistan: Suicide attackers kill several people in Kabul', 'N.B.A. and Union Are Discussing New Labor Deal', 'Japan likely to change law to allow female heirs to the throne', 'Listen To Women Talk Honestly About Loving Their Bodies', 'Power outage traps 180 people in Gateway Arch', \"Nick Hogan, son of wrestling star Hulk Hogan 'seriously injured' in vehicle accident\", 'Tell Us About Yourself(ie): Eric Balfour', 'Mugabe Rival Is Back in Zimbabwe', 'Avalanche buries cars in Colorado', \"India subsidizes girls' education to offset gender imbalance\", \"14 New Year's Resolutions We're Still Working On\", 'Aid to Poor Nations Rises, but Even More Is Asked', 'Families evacuated in Bristol, United Kingdom not allowed to return to home', 'Italian political leader threatens forcible rebellion against government', 'Which Extinct Animal Are You', '17 Jokes Guaranteed To Make Arsenal Fans Laugh', \"17 Things Kanye West Could've Named His New Album\", \"6 Types Of Lesbians You've Broken Up With\", 'How Well Do You Know The Zodiac Symbols', 'Gender Politics: Which Sex Said It', '21 Secrets Anyone Dating An Actor Knows', 'CEO of GM outlines plan for \"New GM\" after auto company declared bankruptcy', 'Which Zodiac Should You Date Based On Your Zodiac Sign', 'The Missing Link ... to a Bigger Audience?', \"What's The Most Beautiful College Campus In The World\", 'An Adorable Animals Advent Calendar: December 4', 'This popular dish isn’t safe for pregnant women', 'There Is A Lot Of Love For The Defense Lawyers From \"Making A Murderer\"', 'This Picture Test Will Reveal Your Ideal Partner', 'Which Doctor From \"Doctor Who\" Is The Best', 'Mother ‘broke down’ when she discovered why her daughter was standing on toilet', 'New Border Fear: Violence by a Rogue Militia', 'Tiger Woods Returns to Golf With a Birdie, Then an Eagle', '19 Secrets People Who Work In Marketing Will Never Tell You', 'The biggest surprises and snubs of the 2017 #OscarNoms', \"New year's resolutions: How to lose the fat and get fit for free #HappyNewYear\", 'China Fails to Halt the Sale of Looted Relics at a Paris Auction', 'Assotech Business Cresterra', 'Post-Kyoto agreement is subject of G8 debate', '6.5 magnitude earthquake hits Acre, Brazil', 'Forging a Hot Link to the Farmer Who Grows the Food', 'Tsvangirai campaign rallies banned in Zimbabwe', \"Bartenders Tell You Exactly What You're Doing That Annoys Them\", '16 GIFs That Will Actually Help You In Maths Class', 'In South Korea, All of Life Is Mobile', '67th Annual Golden Globe Award highlights', 'Suspect in Madeleine McCann case Robert Murat has confiscated possessions returned', 'Romanian government approves new minorities law', 'Ask HN: Why is there so much focus on deep learning and AI?', 'U.S. Senator Biden may run for Presidency', 'I Spent 5 Months Hiking The Appalachian Trail Alone And I Learned 2 Things About Trees', 'Toxic soup scenario in New Orleans unlikely', 'You Should Be Eating Pork And Avocado Sandwiches For Dinner', 'Magnitude seven earthquake hits Japan, tsunami warning issued then withdrawn', \"This Woman Re-Creates Iconic Celeb Instagram Photos And It's Totally Hilarious\", 'We Know Your Favorite TV Show Based On Your Birth Month', 'FDA Rules on Drug Ads Sow Confusion on Web', \"17 Sticky And Sweet Strawberry Treats That'll Make Your Mouth Water\", 'Teacher Reveals The Sexts And Love Notes That Led To Affair With Pupil', '13 dead as cargo plane crashes in Congo', '15 Essential Products For Anyone Who Wants To Eat Healthier', 'We Know Your Favorite \"Game Of Thrones\" Moment Based On Your Opinions About \"GoT\"', 'The Pros And Cons Of Living In Florida', 'The Man Pulled The Shark Out Of The Water With His Bare Hands. What He Found In Its Jaws Shocked All Beachgoers.', 'Only Solve This Crossword If BuzzFeed Is Your BFF', 'How Much Do You Actually Know About Art History', 'Japan pledges 25% cut in greenhouse gas emissions by 2020', 'Yahoo Teams With Newspapers to Sell Ads', 'Fans Are Still Finding Value in Shea Stadium', 'Two Coaches, Like the Ball, Are Always on the Move', '17 Times Disney Princesses Had No Fucking Chill', '23 Gifts You Need To Ask For This Year', 'July deadliest month for US in Afghanistan War', 'This is the most hated word in the English language, according to science', '11 Reasons Being An Adult Is The Best Thing Ever', 'Near the End, Ozark Was Still Spinning Tales', '19 Times Drake Had The Last Laugh', \"You won't believe what this locksmith found after cracking open an abandoned safe\", '13 Magical Facts About Sex In The Wizarding World', 'Which Albus Dumbledore Quote Should Be Your Life Motto', \"22 Reasons We Still Weren't Ready For Hoverboards In 2015\", 'BMW and VW Reflect  Difficulties Facing Carmakers', \"21 Disney GIFs That'll Ruin Your Whole Entire Childhood\", 'Should the poor be allowed to vote?', 'Practical SEO Copywriting v1.0', 'Ask HN: Insurance for single-member LLC', \"Will Ferrell And Mark Wahlberg Realize They Don't Know Each Other At All\", \"When You Don't Know What To Text Back\", 'Mets Bullpen Continues Its Hard Work', 'Alleged war criminal Radovan Karadžić caught in Serbia', 'The One Parenting Trick We Should All Steal From Prince William', 'Click to hear about some of the things that have been keeping us busy. #2 will blow your mind.', 'Semicon Taiwan 2007 starts with 5 mainstream topics', \"Here's What Pregnant Women Actually Need To Know About The Zika Virus\", \"New York's Staten Island Ferry crashes, 60 injured\", 'From TV to the Web to Your Phone, Via Sling Media', 'Man dies in North Uist, Outer Hebrides after being hit by car', \"John Krasinski Had A Very Awkward Night At The Golden Globes While Sitting At Leonardo DiCaprio's Table\", 'Cuffing Season Is Coming', \"We Know Which Celeb You'd Start A Twitter Feud With Based On This Emoji Test\", '15 Of The Best Rihanna Wink Memes From Tumblr In 2015', 'Here are 7 Easy Fall Dinners To Make This Week', 'Watch The Exclusive First Trailer For Zac Efron And Robert De Niro\\'s \"Dirty Grandpa\"', \"18 Pictures That Prove Just How Small Canada's Population Is\", 'Congress Reaches Deal on Stimulus Plan', 'This Week\\'s \"Showstopper\" Bake Off Was One Of The Most Nervewracking Television Moments This Year', 'Which Blonde HBIC Are You', 'US Department of Defense reports Iraqi Al Qaeda \"safe house\" hit', \"Here's A List Of Wigs Adele Has Snatched This Week\", 'So, Apparently Giles From \"Buffy\" Runs Some Kind Of Animal Rescue Charity', 'NASCAR: Jamie McMurray wins 2010 Bank of America 500', 'Dakota Johnson\\'s Advice For Her 16-Year-Old Self: \"Don\\'t Get Tattoos, You Idiot!\"', \"Fundosa ONCE defeats Servigest Burgos 80-20 in Spain's top wheelchair basketball league\", 'Haiti postpones presidential elections until December', 'Here\\'s Everything We Know About Merlin On \"Once Upon A Time\"', 'Bobby Charlton launches anti-landmine campaign', 'Want to have financial success this year? Follow these 6 habits of mentally strong people', 'Four British Airways executives charged with price fixing', '\"Twilight\" star reveals his latest obsession', 'Sell cvv good all country transfer wu paypal track 1$2 dumps 2015', 'The 50 Worst Things On The Internet In 2015', \"This Baby Got Really Confused When He Was Babysat By His Dad's Twin\", '19 Shameless Things That Happen When You Become Obsessed With A Band', 'European Union gives Iran two more weeks to comply with UN resolution', 'Chip Ganassi makes American motor sports history', 'You Can Now Buy A Working, Adult-Sized Little Tikes Car', \"18 Times @Nenshi Proved He Was Canada's First Internet Dad\", 'What The World Was Like The Last Time The Mets Went To The World Series', 'US free speech lawyer Marc Randazza discusses Glenn Beck parody', 'Iran remade \"Modern Family\" frame by frame but one BIG thing is missing', 'The Times Company Suspends Its Dividend', '32 Things Justin Bieber Definitely Says To Whoever Takes His Instagram Pictures', 'On Gun Cases, Other Judges Support Sotomayor', 'Cuba reforms wage laws to pay workers based on amount done', 'New Media Breaks in, but Tradition Lives On', 'Yemeni troops search for missing hostages', \"17 Times You Realized You Were Liz Lemon And Wished You Weren't\", '21 Photos Of Jake Gyllenhaal That Really Hit Home', 'Should You Get A Puppy Or Have A Baby', 'Angel McCoughtry Leads Louisville to Its First Final Four', 'Are You Meeting Your #squadgoals', 'Halloween Tip s- Healthy Halloween Night', \"19 Photos You'll Appreciate If You Love Rainy Days\", 'First successful womb transplant recipient passes six-week pregnancy mark', 'Ask HN: Let me help you build your product for free', 'High definition anti-piracy DRM possibly hacked', \"'Homer Simpson' contributes to U.S. presidential candidate Buddy Roemer\", 'House Panel Votes to Keep The F-22 Jet Fighter Alive', 'Russia and Ukraine Sign Agreement on Gas', 'Japanese survivor of both Hiroshima and Nagasaki atomic bombings dies, aged 93', 'An Adorable Animals Advent Calendar: December 17', 'Islamic Law Now Official for Swat Valley in Pakistan', '21 Teen Mom Confessions That Are Shockingly Raw', '12 Photos That Reveal The British Class System In The 1970s And 1980s', 'New Bid to Find Missing Ex-F.B.I. Agent', '7 Surprising Reasons Your Dog Should Sleep On Your Bed Every Night', 'Man charged with two counts of attempted murder in south London, England', 'U.N. Official Calls for Review of American Raids', 'Polish exercise book advertisement copies Wikipedia content, violates copyright', 'Clashes in central Bolivian city kills two', 'National Rugby League Women in League Round celebrates sons', 'Romanian Visa card transactions increase by 60 percent in 2004', 'Michael Schumacher calls off Formula 1 comeback due to injury', 'Oil for food scandal: UN releases third report', \"This Penguin Couple Had A Better Valentine's Day Than You\", '17 Faces Anyone Who\\'s Accidentally Called Their Teacher \"Mom\" Will Recognize', \"Israeli forensic institute illegally harvested organs in the '90s\", 'How To Turn Classic Thanksgiving Foods Into Boozy Cocktails', 'Philippine commission holds retired general responsible for killings', 'Ask HN: Sample for web development contracting agreement?', 'US Secretary of State Hillary Clinton pledges support for Afghanistan', 'Chicago man pleads \"not guilty\" to Mumbai attack plot charges', 'For British Rider, Being Realist Is a Sure Thing', 'Yanks Laud Attendance, but Some Seats Sit Empty', 'British Gas to increase electricity, gas prices', 'At NIF, a  Quest for Fusion Energy (or Maybe Folly)', 'You Have A Poot And We Want To See Them', 'Bush to Propose Major Overhaul of Social Security Benefits', 'Swiss court rules in favor of American account holder', 'At least 55 killed by Hurricane Katrina; serious flooding across affected region', 'Curlin Repeats as Horse of the Year', '12 Disney Channel Original Movie Questions That Are Impossible To Answer', 'Can You Guess These Disney Sidekicks By Just Their Colors', '29 Tweets About Technology Guaranteed To Make You Laugh', 'Peacekeepers in Somalia Are Killed by Islamists', 'This is No. 1 financial regret of older Americans', 'What Would Your \"Harry Potter\" Wand Core Be Based On Your Zodiac Sign', \"United Nations says Ivory Coast shelling may be 'war crime'\", 'Site of Somali Government Is Put Under Islamic Law', \"18 Times Dogs Didn't Try To Hide Their Feelings\", 'Affordable web development services', '19 Super Cute Dollar Store DIYs That Will Complete Your Bedroom', \"Molly Ringwald Thinks You're Great Too, Claire Danes\", \"11 Things You Shouldn't Let Get You Down\", 'NYC devs needed to volunteer teaching code with ScriptEd', 'President Bush defends NSA domestic intercepts', \"Toronto Finally Has A Cat Cafe And It's Even Cuter Than What You Imagine\", 'CanadaVOTES: Liberal David Remington running in Lanark—Frontenac—Lennox & Addington', 'SpaceX launches first Falcon 9 rocket', 'Which \"Suicide Squad\" Character Are You Based On Your Zodiac', '24 Middle-Class Crisps That Went Way, Way Too Far', 'Mets Unsettled by Injuries to Delgado and Putz', \"Uppity startup Readyforce steals Flickr's baby.\", 'ClickFraud as punishment', 'We Got A Bunch Of Strangers To Give Us Their Netflix Log-In', 'Paper or Plastic? At One Show, the Latter Wins Big', '43 dead in Iraqi bomb blast', '[ANN] Zeus IDE – Version 3.98j Released', \"Nelson Mandela charity official resigns over 'blood diamonds'\", '10 Things You Can Look Forward To This Winter', \"Postal worker saves baby's life\", 'The \"Most Likable Man in Hollywood\" is ... (drum roll please)', 'TNT blamed for Chinese karaoke bar explosion that killed 25', 'Taco Bell mascot Gidget dies from stroke at 15', 'Facebook Backtracks on Use Terms', \"11 Reasons Why You Probably Shouldn't Let Santa Break Into Your Home This Christmas\", 'Iraqi archbishop from Mosul kidnapped, three aides killed', '21 Signs You And Your Friend Are Officially BFFs', 'Ask HN: Any tips on debugging Linux hibernate issues?', \"A 9-Year-Old Boy With Cerebral Palsy Won Everton's Goal Of The Month Contest And The Whole Thing Is Amazing\", 'Can You Predict The Winners Of The 2016 Golden Globe Awards', '9 Things I Wish Someone Had Told Me About Relationships In My Twenties', 'White House Changes the Terms of a Campaign Pledge About Posting Bills Online', \"When Will The Hoboken Station Reopen? It's Sooner Than You Think\", \"Just Answer These Five Questions And We'll Tell You Your Celebrity Husband\", 'Which J.K. Rowling Tweet Are You Based On Your Zodiac Sign', '5 Video Games That Are Taking Forever to Come Out', 'Russia and Ukraine Settle Natural Gas Dispute', 'BMW announces 7.6% sales rise as US, China demand grows', 'Instafamous: The Eyebrow Queen', \"18 Confessions From Husbands About Their Wives' Pregnancies\", 'Which Is The Best \"Star Trek\" Movie Of All Time', '30 Things You Might Not Know About Emilie De Ravin', 'Somali al-Shabaab group seizes three towns', 'Gas prices in the U.S. fall below $2 a gallon', 'Dublin travel agents occupy offices against closure', 'The Host-Country Curse Bears Down on England', 'Collingwood win 2010 AFL Grand Final replay', '29 \"Harry Potter And The Chamber Of Secrets\" Titles That Are Actually Accurate', 'RU486 debate complicates with amendments posed in Australian House of Representatives', '55 Delicious Desserts For People Who Hate Chocolate', 'Lions Keep Up Their Losing Ways', 'Workout app with 100.000 people on waiting list launched', 'Clint Brown, TV3 presenter, gives \"unsatisfactory\" letter of apology', 'John Legend Would Consider Voting for Trump Under One Circumstance', 'Former \"Full House\" star is now a go-go-dancer', 'Google announces new operating system', 'Plane from Los Angeles to London diverted', 'California student arrested in criminal threats made on Wikipedia', 'Illinois jury sentences Brian Dugan to death', \"I Moved Back To My Parent's House At 29, And It Wasn't The End Of The World\", 'A member of the X-Men just came out of the closet', 'Bombs rock Spanish tourist resorts', 'Landing of Space Shuttle Atlantis postponed due to bad weather', 'Whose Concert Tour Should You Open For', '27 Of The Worst Things About Going To Stock Photo University', 'Soccer Groups in Dispute With WADA Over Testing', 'Guys Explain How To Win On A Date', 'Facebook and UK government clash over tributes to killer', 'Leading sex blogger reveals the dark side of writing about her experiences', 'Kelly Ripa As Katy Perry Might Be Better Than Katy Perry As Katy Perry', 'The type of facial hair women find most attractive on men.', 'Battling Knee Injury, Nadal Falls to Murray', 'Where the Game Stays Ever Green', 'Ana Cristina Capitulo 23', 'Aside from Semicon Taiwan 2007 - An attraction of \"exiderdome\" by Siemens', 'Capuchin Monkeys Pick Right Tool for a Tough Nut', '9 Shows We Stopped Watching This Year', 'This Might Be The Best Sweater For Breastfeeding Moms', 'Bomb blast damages buildings in Athens', 'How David Bowie Appeared In The Coolest Mugshot Of All Time', '17 Cute Halloween Makeup Tutorials That Got Way Too Creepy', 'Senate Undertakes Bipartisan Ways', 'This Awesome Dad Built A Backyard Course For His 3-Year-Old Who Loves \"American Ninja Warrior\"', 'Car crashes into house in Suffolk, UK, seriously injuring man', '10 Life-Changing Things To Try In December', 'Bank of England raises interest rates', 'Nineteen activists killed by Israeli commandos aboard aid convoy bound for Gaza', '24 Ways Chrissy Teigen Is Slaying The Pregnancy Game', 'Insider Trading Inquiry Cites Lawyers at S.E.C.', 'Is This The Name Of A GOP Candidate Or An Ikea Couch', 'The \"Twilight\" Author Has Rewritten The Book To Reverse The Genders', 'Trial Begins for Khmer Rouge Leader', 'Daniel Craig to be new James Bond', \"The one question that will let you instantly read someone's personality\", 'Three New Jersey boys found dead', 'EA \"Absolutely Rejected\" Battlefield 1’s World War 1 Setting Before This Made It Change Its Minds', 'This Florida Hero Was Arrested Wearing An Uncannily Literal Monopoly T-Shirt', '17 Tweets That Will Make Every Indian Girl Go \"Ohmygod Yaaaaaa\"', '9 Slightly Disturbing Facts That Will Stop You From Cleaning Your Ears Ever Again', 'New Here? Let the Phone Show You Around', \"Australian Prime Minister's popularity at all time low\", 'Which Hogwarts House Would You Sort These Politicians Into', '15 Set Secrets You Never Knew About The Cast Of \"Scream Queens\"', '23 Absolute Nightmares All Makeup Lovers Have Experienced At Some Point', 'With arrival of rainy season, perennial scramble in Zimbabwe for seed, fertilizer', 'These Stunning Wedding Photos Will Actually Make Your Jaw Drop', '26 Kids Who Won Halloween With Their Gender-Bent Costumes', 'Volcano erupts in the Aleutian Islands', 'Elgato Sytems Offers TV Software for the Mac', 'This Is What The Disney Princess Voice Actors Would Look Like As Their Characters', 'What Asian Beauty Products Should We Know About', 'Empty tower at Miami International Airport catches fire', 'Coal mine floods in northern China: 12,000 mines ordered to close', 'A 3nd Rescue Would Give U.S. 40% of Citigroup', '19 Lies All Parents Are Guilty Of Telling In Public', 'Rebel Force in Congo Shows Signs of Division', 'Restore Order and Win a Financial War', \"Paula Abdul cleared of sex scandal after 'American Idol' inquiry\", 'President of Guinea-Bissau assassinated', 'South Sudan gains independence', 'South Carolina governor resigns GOP post, explains disappearance', 'Are You Jar Jar Binks Or J. J. Abrams', 'Do You Remember That Famous \"Love Actually\" Scene', 'Which Hogwarts Houses Do These \"American Horror Story\" Characters Belong In', 'Are You More Like Arya Or Sansa Stark From \"Game Of Thrones\"', 'Who Said It: Disney Princess Vs. Kardashian Edition', 'The Official \"AHS: Hotel\" Opening Credits Are Creepy As Hell', 'U.S. ranks 53rd in press freedom index', \"Mayor's husband busted for allegedly selling meth\", 'Voters reject law that would extend LGBT protections', \"Here's What It's Like When You Physically Can't Pierce Your Ears\", \"34 Photos That Prove We're All Actually Living In A Video Game\", \"A Look At Approximately How Many Inches Harry Styles' Hair Grew In 2015\", 'New York Film Festival Will Focus on Soccer', '16 Holiday Recipes That Real Healthy People Actually Eat', '13 Super Tasty Recipes That Will Satisfy Your Life In 2016', 'Racingtips', 'This Purple Line Test Will Determine What Your Sex Style Is', 'Brazil wins Confederations Cup', '18 Insanely Clever And Beautifully Decorated Cookies', 'Vast cosmic caterpillar is HOW long?', 'For Now, the Jets Are Going With an Emptier Backfield', 'A Green Way to Dump Low-Tech Electronics', 'Ask HN: How to tell whether an input *is* base64 encoded value?', 'Bernanke Defends His Role in Merrill Sale', \"What The Hell Is Going On With Harry Styles And Gigi Hadid's Awkward Interaction At The AMAs\", 'The Mind Blowing Match Up For Nick Diaz That No One Saw Coming', 'Which 2005 Hit Song Matches Your Zodiac Sign', 'Scores killed and wounded as violence escalates in Iraq', 'Stock Investors Ask:  Is It a Bear or a Bull?', 'Scientists Disappointed by Direction of Financing', 'How Ethan Embry Staged His Unlikely Comeback', \"29 Faces You'll Immediately Recognize If You've Ever Been To The Gyno\", 'New York City residents lift bus off pregnant woman', 'Iraq banned from participating in Beijing Olympics', 'How Well Do You Remember The \"Unfabulous\" Theme Song', '17 Of The Most Infuriatingly Unrealistic Cliches Used In Movies', 'Top Seeds Squeeze Through', 'North Korea Demands That South Raise Pay at Kaesong Factories', 'Are You More James Bond Or Austin Powers', '13 Powerful Stories About College Students Living With Depression', 'Clemens Still Denies Everything', 'GoDaddy Email Updated Backwards', 'How Well Do You Know These Viral Vines', 'In Britain, Web Has Media Law Playing Catch-Up', 'After Many Firsts, Judge Has Talent for Persuasion', 'Find Out How Big Of A Reality TV Fan You Were In 2015', '7 Excellent Deals You Can Get This Weekend', 'This Crossword Is Full Of Fucked Up Celebrities', \"Will Your Future Partner Stare At Your Boobs The Way Will Smith Stares At Jada's\", 'The Top 21 Hillary Clinton Faces At The Benghazi Committee', 'The strange word everyone is saying/texting', 'How Annabeth Chase Are You', 'UK and U.S. bombing raids against Iraq increased in 2002', 'Qatari diplomat detained on Las Vegas bound flight', \"25 Celebrities You Won't Believe Are Turning 50 This Year\", 'Quake Death Toll Tops 280 in Italy', 'You Definitely Need To Be Following January Jones On Instagram', 'Sinopec, Chinese Oil Giant, in Bid for Addax, a Rival', 'Which \"Friday Night Lights\" Guy Are You', \"Aaron Paul's new gig\", '18 Breathtakingly Photographic Locations In Wales', 'Study: Socialized Canadian surgery half the U.S. cost with same results', 'Offices Go Vacant at Fannie and Freddie', 'We Need More Elvira', 'Chrysler Tells 1 in 4 Dealers to Close', \"27 Of History's Most Iconic Rock Stars As Youngsters\", 'Watch This Seahorse Shoot Baby Seahorses Out Of Its Stomach', 'Philadelphia Newspapers Seeking Bankruptcy', 'Which \"10 Things I Hate About You\" Guy Should You Date', 'World Health Organization calls for ban on tobacco ads', 'Goldman Spent Millions to Bail Out 2 Executives', '16 \"SpongeBob SquarePants\" Moments That Went Right Over Your Head As A Kid', 'At least twenty dead after mudslides in Peru', 'Israel scrambles fighters to intercept unresponsive aircraft carrying Tony Blair', 'Taliban bombing in Kabul supermarket leaves eight dead', '18 Brutal Texts Your Period Would Send You', 'NYC Transit on strike', 'If \"Love Actually\" Had Been Set In Cardiff', 'This is Why Your Dreams Are Suddenly So Intense After You Stop Smoking Weed', 'Scientology defector arrested after attempting to leave organization', \"Today's Good Nice Horoscope For All Humans\", \"You're probably missing out on this major way to save money\", 'Bright object falls from sky over northwest United States', \"This Husband Had An Adorable Reaction To His Wife's Sexy Surprise Wedding Dance\", 'Greece to hold general elections', 'As Tasks at Hubble End, No Tears, but It Was Close', 'Hack Your Whole Life With The BuzzFeed DIY Newsletter', 'Michael Jackson to make last public concerts', 'President Trump? There’s only one way to stop it happening', '19 Secrets Television Runners Will Never Tell You', \"They're Remaking Splash, Only With This Major Change\", 'How Well Do You Know The Lyrics To \"Jingle Bells\"', 'NATO Chief Presses Afghan Drug Fight', 'This Video Hilariously Makes Fun Of How People Stage Instagrams', 'Study Finds Immigration Courtrooms Backlogged', 'We Know What Kind Of Man Will Get You Off', 'Amazon rainforest being destroyed faster than previously believed', 'We Know Which Christmas Movie You Should Star In', 'Colorado Springs video production', \"Which Stylish TV Lady's Wardrobe Should You Raid\", 'A Life in Harmony for  Wayman Tisdale', 'Can You Match These Taylor Swift Songs To Their Albums', 'Despite passage of bailout bill, two US states may need loans', '\"Mandela\" movie gets a TV premiere date', '21 Tweets All Homebodies Will Appreciate', 'Indian Wells Officials Having No Luck With Williams Sisters', 'Woman appointed as Bucharest prefect', '\"Glee\" star welcomes a baby boy', 'Space Shuttle Discovery launches on mission STS-124', 'Gay NFL Veteran: \"I did not feel safe at all\" in the locker room', 'Cavendish, a Top Sprinter, Lets a Chance to Win a Giro Stage Slip Away', '1 in 7 Freed Detainees Said to Be Militant Fighters, Pentagon Report Says', 'Holdouts for Humble Bulb Defy a Government Phase-Out', \"Ellen DeGeneres And North West Brushing My Little Pony's Hair Is Just Adorable\", '17 Times \"Steven Universe\" Made You Cry', '12 Unexpectedly Bizarre Moments From British Court Cases', 'We Know Which Disney Character You Should Carve Into Your Pumpkin', 'Spanish airline LTE suspends all flights', 'Former MLB player Rollie Stiles dies', 'Are Your Home Movie Watching Habits Weird', \"What's The Best Thing To Buy At Trader Joe's\", \"11 People Who Are So Fucking Wrong It's Not Even Funny\", 'These Hindus Ate Beef To Protest The Ban And Challenged Extremists To Kill Them For It', 'There’s something VERY wrong about this picture....can you spot it?', 'Manchester City agree big money for Shaun Wright-Phillips to move to Chelsea FC', \"What's The Weirdest Punishment You Got As A Kid\", '24 Desserts Guaranteed To Make Caramel Lovers Drool', 'Weir Versus Lysacek Highlights U.S. Figure Skating Championships', 'We Tried The Kylie Jenner Lip Kit And Had A Great Time', 'Ask HN: Can you guys please help me get my U$ 300 back from Yahoo', 'The Infinity luxury home elevator is the ultimate in convenience and safety', 'Most of Greek workforce participating in a general strike, say unions', \"17 Hilarious Ways People Found Out Santa Isn't Real\", 'Papua New Guinea at risk of AIDS epidemic', 'Palestinian released from Israeli prison following eight-month hunger strike', '17 People Who Said The Wrong Thing At The Wrong Time', 'Afghan attack kills five Canadians', \"Indian heart disease 'more severe than in West'\", 'Are You More Like Nelly Or Kelly Rowland', \"23 Beaches You Won't Believe Actually Exist In India\", \"Teens Watch '00s Music Videos For The First Time\", 'How Lazy Are You And Your S.O', 'What Year Is This Celebrity Headline From', 'When You Have A Girl Crush', \"This is what it's like to spend 3 minutes inside a -264 degree cryotherapy machine:\", 'What Was The Crappiest Part You Ever Had In A School Play', 'Blocking this color light may help you sleep better', 'How Many Of These Gamer Terms Do You Actually Know', 'Taliban launches series of attacks against Afghanistan capital', 'Cuomo Says Merrill Deceived Congress on Bonuses', 'Stop eating this food immediately! It causes 4 types of cancer!', 'Historic website screenshots', 'Which Hogwarts House Would Each \"Glee\" Character Be In', 'Suicide attack hits mall in Netanya, Israel', 'The magic word this researcher says can get people to agree with you', 'House Backs Ban on Primate Sales', 'As Israeli Bombing Stops, Gazans Get Busy Rebuilding Damaged Tunnels', 'Two-time Eurovision entrant Edsilia Rombley discusses music, love, and her contrasting Contest experiences', 'Watch This Boyfriend Blindly Guess Which Hand Belongs To His Boyfriend', 'JJ Abrams: THis will make you live longer and prosper', 'Lewis Hamilton wins 2007 Hungarian Grand Prix', 'Bill passed to raise US debt limit', '1 million people welcome 2007 in Sydney', '\"Game of Thrones\" gets an end date', 'Polish soldier killed in eastern Afghanistan', 'Airport in Branson, Mo., Built With Private Money', '8 amazing beauty products you’ll wish you’d known about sooner', 'Game Theory FNF, The Bob Mod SOLVED! (Friday Night Funkin)', 'Missed the most important stories from yesterday?\\n\\nRead on!', 'Which \"Breaking Bad\" Character Is Your Soulmate Based On Your Zodiac', 'U.S. Senate defeats bill banning gay marriage', 'Imprisoned Haitian priest may need US doctors', 'Can You Guess Why Ross Geller Is Freaking Out From A Screenshot', \"Brazil's Embraer plans to cut around 4,200 jobs\", 'India announces Lok Sabha elections for 2009', 'What Celebrity Body Part Are You', \"Apple's New iPhone Update Is Making Everybody Look Thirsty AF\", 'CanWest Teeters, and Big Changes Loom', 'Police charge Australian man over laser incident', 'Bacterial meningitis possibly spread on AirTran flight', 'Which City Is the Worst for Spring Allergies?', \"Wikinews interviews Molossian president Kevin Baugh on his country's recent intermicronational summit\", 'Southern California hit by 5.1 earthquake', '18 Times Miranda Hart Spoke The Absolute Truth', 'Helped by Ratings and McCartney, Letterman Returns to Form', 'Bush calls for US offshore oil exploration', 'The world’s fastest woman', 'Dow Jones Industrial Average closes at lowest level in six years', \"Oprah Winfrey Had The Best Possible Response When Asked About T.I.'s Recent Comments\", '14 Powerful Quotes That Will Make You Hopeful For The Future', \"When You're Have To Have The Newest Thing\", 'New Challengers Aim for Federer at Wimbledon', 'Investors Compete for a Piece of the Madoff Pie', 'Would You Pass Environmental Science Now', 'In Europe, Major Economies Shrank in First Quarter', 'Ask HN: Do you use a 11“ MacBook Air for development?', 'We Know Your Subconscious Fear Based On Your Birth Month', 'US freezes assets of suspected terrorist', 'People Are Already Lining Up For \"Star Wars: The Force Awakens\"', \"Chris Hemsworth Thinks It's Funny That Paparazzi Thought He Was Michael Fassbender\", 'Which \"Street Fighter\" Character Are You Based On Your Zodiac Sign', 'Evo Morales hoaxed by a Spanish Church-owned radio station', 'Which \"Master Of None\" Character Are You', \"So you're kicked out of banking and have to change careers. This is what happens next\", 'The First Trailer For The \"Independence Day\" Sequel Is Here', 'Oscar Nominee Brie Larson Had The Most 2000s Music Career Of All Time', 'Russia Pins Comeback Hopes on Superjet 100', 'Australian government under fire over Haneef visa decision', 'American actress Brittany Murphy dies at age 32', '22 Sentences That Are Way Too Real For People Who Grew Up With Strict Parents', \"What's The Funniest Yik Yak Post You've Seen This Year\", 'Tory candidate in election gaffe', 'Beardless Guys Got Fake Beards For A Day And Found Their Hairy Alter Egos', 'Baby dies after being found abandoned behind shop in Gwent, Wales', 'Anonymous people reveal animal cruelty at Australian Inghams poultry producer factory using CCTV footage', 'Ask HN: BI type dashboards but just presentation?', 'This Color Test Will Determine Your Ideal Sex Position', 'Chris Brown has big plans for 2014', '17 People Who Are Absolutely Killing It At Dreamforce 2015', 'Interviewing for associate level position this week: requires “expert” knowledge', 'Gays Ask Lesbians About Sex', \"Serena Williams Gives The Best Answer To A Reporter Who Asks Why She Isn't Smiling\", 'How much will be my Domain name worth', '17 Dogs Who Just KNOW', 'Philippines Senate and House of Representatives to probe ‘P50-million drug bribe mess’', 'Ask HN: How do you manage your obsession', \"Billboard Says Calvin Harris Is Releasing A New Album Friday, But This Is What's Really Happening\", 'Want to Run  New York City Marathon? Get Out Your Checkbook', 'Nightwish announce details of new album', 'Pepsi Offers to Buy All Shares of 2 Main Bottlers', '10 Richest People Who Now Work Normal Jobs', 'When Was The Exact Moment You Fell In Love With Your S.O', 'Rebekah Brooks resigns from News International', \"Can We Guess Your Ex-Boyfriend's Name With Three Questions\", 'Dubai leader Sheikh Maktoum bin Rashid Al Maktoum dead', \"Madagascar's leader Andry Rajoelina 'will not run in polls'\", 'A dozen 7-Elevens transformed into Kwik-E-Marts to promote Simpsons movie', 'Mass protest grows against Kudankulam nuclear power plant in India', 'Girls Try Tinder For The First Time', 'Congratulations to Rep. @JoaquinCastrotx!', 'In 2002, The Dillinger Escape Plan singer took a dump onstage at Reading Festival; in 2016, he did THIS...', 'Opposition MPs say Gov. Gen. Michaelle Jean should visit Canadian troops in Afghanistan', 'Trumpf: A Happy Family of 8,000, but for How Long?', '23-Year-Old Student Dies of Suffocation During Skrillex Concert in Delhi', 'Shocking Confessions Of Teen Mothers', 'This Color Test Will Determine The Type Of Sex You Like', 'This teenager used to walk miles to work to take care of his mother, then everything changed', '10 Impossible \"Would You Rather?\" Questions For Anyone Who Texts', 'Cell Signal Booster For Home', 'This Might Be One Of The Most Vivid Sex Ed Books Ever', 'We Can Tell Whether You Had Sex This Morning With One Simple Question', 'Cable Wars Are Killing Objectivity', '10 Quizzes To Take With Your Family This Holiday Season', 'Empowering Big Investors Carries the Risk of Abuse', 'Chrysler files for bankruptcy, Fiat Group SpA to run company', '22 Deep Questions To Ponder In 2016', 'I.B.M. Affirms Earnings Goal Despite Sales Slide', 'For Obama, Rare Chance for Bold Start on Big Task', 'AFC Asian Cup: Saudi Arabia edge out Indonesia, Uzbekistan trounce Malaysia', '14 Questions British People Have About The French Language', 'Fernando Alonso wins 2008 Singapore Grand Prix', 'Madonna’s Kids Are Rebelling Against Their Mom, And Every Teen Understands Why.', 'A Diverse First Presidential Morning Prayer', 'Thai Government rejects amnesty proposal for southern insurgents', '24 Confessions Topshop Staff Will Never Tell You', 'Local and regional elections held in Russia', 'American Testifies in Her Murder Trial in Italy', 'We Know Your Zodiac Sign Based On Which Picture Of Zayn Malik You Choose', 'CRAZY: See how much information is stored in your smartphone photo', 'These Badass Women Are Taking Selfies To Show How They Harvest Like A Boss', 'With Timberwolves Picking Rubio, the Knicks Want to Talk', 'Ask HN: Where to get ideas?', 'Is This Food Natural Or Genetically Modified', '1-Minute Trick To Stop Headaches From Disturbing You On Busy Days', '15 Times Priyanka Chopra Goddamn Owned 2015', \"30 Ridiculously Adorable Tiny Presents You'll Want To Buy Immediately\", 'Australian government introduces \"Fair Work\" to parliament', 'We Played A Hilarious Game Of \"Badu Or Badon\\'t\" With Erykah Badu', '11 Emojis That Need To Exist In 2016', \"22 Behind-The-Scenes Photos Backstage At The Victoria's Secret Fashion Show\", 'A Shakeout Approaches Among Real Estate Investors', 'Costa Rican volcano erupts, alert issued', 'UK house prices have fallen 10.5% this year, says Nationwide Building Society', 'Search continues for crashed Cambodian plane and 22 aboard', 'Shuttle Discovery moved to VAB ahead of May launch', '850 DNA matches after city clears rape kit backlog', '14 Comics That Capture Your Magical Gay Experience', 'This Is What The Cast Of \"St Trinian\\'s\" Look Like Now', 'Civil unrest in Iranian cities after Ahmadinejad declares victory', 'House Bill Would Set Up Database for Artificial Joints', 'Chilean earthquakes: in pictures', 'Winners of international postcard-sized art exhibit announced', 'The workout classes celebrities swear by', 'How Well Do You Actually Match Colors', '6 smart ways to retire rich:', 'Ask HN: Open Music Genome Project', 'Trevor Hoffman Keeps Low Profile, Savoring Fresh Start With Brewers', 'Star Wars Actor Confirms Rogue One Cameo', 'Ask HN: Why does a bachelor degree in business sucks so much?', 'This Mashup Of \"Hotline Bling\" With Wii Music Is Everything', 'What Does Your Choice In Colors Say About You', 'Ask YC: Experiences with founder burnout?', \"29 Places To Shop For Your Wedding Online That You'll Wish You Knew About Sooner\", '21 Reasons Soup Is The Best Food Ever Invented', 'Here’s Sony’s Response To Microsoft’s Invite to Connect Xbox One and PS4 Networks', 'Rosa Parks dies at 92', \"21 Things Women Who Wear Hijabs Can't Do\", 'Malaysia: Premier Announces Resignation', 'How King Bach Dominated Vine', \"The summer's 1st real rom-com's about abortion and fart jokes\", '17 Incredible Lesbian Pinays You Need To Know', 'For UConn, Trouble Ahead and Behind', 'Cheers Are Loudest for the Knicks Wearing Ties', 'Counter-terrorism agents search home in suburban Chicago, Illinois', '16 Snapchats All Long Distance BFFs Have Sent', \"What's The Funniest Pop-Punk Tumblr Post You've Ever Seen\", 'We Tasted Two Iconic Mexican Hot Chocolates And This Is What Happened', 'Hurricane Fred churns the Atlantic', 'Door to Door as Mormon Missionaries, Then as Salesmen', 'Katrina conspiracy meteorologist quits Idaho TV News', 'Cafe Experience Is Shifting to the Home', 'Bombs Kill 8 in Baghdad as Shiite Pilgrims Return', '1 lucky person just won $400 Million in the Powerball lottery', 'Finger-Pointing Across Washington Over A.I.G. Bonuses', 'Which Nirvana Song Are You Based On Your Zodiac Sign', 'Genentech Urges Its Shareholders to Rebuff Roche', 'Again, Santana Shines and Mets Fail to Help', '19 Times Tumblr Was Depressingly Accurate About Your Relationship With Money', \"19 Insanely Delicious Nutella Treats To Blow Your New Year's Diet On\", 'Moderate Elected President in Somalia', 'This Actress Chopped Off All Her Hair For The Most Inspiring Reason', 'The 25 Most Cringeworthy Band Photos Of All Time', '17 Texts Your Mom Has Definitely Sent You', \"23 Words You'll Only Understand If You're From Indiana\", \"29 Things You'll Understand If You Went To Uni In The Mid '00s\", 'Arab States Aligned With U.S. Savor Turmoil in Iran', 'Rep. Barbara Lee calls for U.S. Congress probe into Iraq War planning', 'Kendall Jenner And Gigi Hadid (aka KenGi) Are The Ultimate Friendship Goals', 'What State Has the Worst Drivers', 'Alanis Morissette Updated The \"Ironic\" Lyrics With Modern Struggles And It\\'s Hilarious', 'Suicide Bomber Kills 30 in Baghdad Pilgrimage Attack', 'Leaders Press End to Iranian Protest Over Election', 'Why Wednesday Is The Best Day', 'Will You Get A Free Car From Oprah Or A Free Tub Of Vaseline From Tyra', 'Party Entertainment', 'Judge Allows Madoff to Remain Free on Bail', \"Here's how you can get paid $16,000 to lie in bed all day\", 'Kate Bosworth reveals a trendy new talent', 'Disney Princes With Average Bodies', 'Stock Research – The Secret of Successful Trading', 'Ladies, What Questions Do You Still Ask Your Mom', 'Greek Soccer 3rd Division, North Group, Pavlos Melas relegated', '8 Photos Of Dogs Before And After Being Rescued', '17 Tiny Necklaces That Are Too Cute To Function', 'We Chuckled Our Way Through Laughter Yoga', 'Full video of Tigger incident reveals different story', 'Apple releases new Magic Trackpad, updated iMacs and Mac Pros', \"25 Autumn Tattoos You'll Fall In Love With\", 'British University academics vote for strike action', 'Duke The Disabled Dwarf Bull Who Uses A Wheelchair To Walk Needs A New Home', '9 Women Share The Harsh Reality Of Living With Severe Acne', 'Neil DeGrasse Tyson Talks About The Beauty Of Life And Death', '11 Bowls Of Oatmeal That Will Change Your Breakfast Forever', \"Here's why Jennifer Lawrence's Mystique is scaring medical experts\", \"Help Us Settle The Debate That's Quietly Tearing India Apart: Bum Spray From The Front Or Back\", \"Brits Try And Fail To Label The United States, Because It's A Thanksgiving Tradition\", 'Switzerland Agrees to Help Pursue Tax Cheats', 'Mom Who Beat Her Toddler To Death Just Learned A Painful Lesson Of The Term Prison Justice', \"Flash floods hit Australia's eastern coast\", '17 Times Kourtney Kardashian Shut Down Her Own Family', 'Swine flu deaths reported in Argentina', 'Taliban attack on NATO base repelled', 'Zuma Faces New Charges After Ruling', 'Clothing Makers Exceed Quarterly Expectations', \"16 Animal Pals Who Don't Care About Your Resolutions\", 'A Dying Mom Penned A Touching And Funny Note To Say Goodbye To Her Loved Ones', 'Ask HN: Detecting and improving code quality', '13 Brutally Honest E-Cards For Anyone Who Loves Birth Control', 'U.S. Women Face Challenge of 2 Olympic Figure Skating Spots', 'The F-35 just proved it can take Russian or Chinese airspace without firing a shot', \"It Has Come To Our Attention That Gigi And Bella Hadid's Younger Brother Is Very Adorable\", 'Markets Cling to Gains From Day Before', '14 Ways Doing Theater As A Kid Can Help You As An Adult', 'Egyptian archaeologists announce discovery of marble statue and 132 new sites', 'Dixie Chicks show documentary at TIFF', 'Fire and explosions kill at least 30 at Iranian chemical factory', 'A Last-Place Standout', 'Ask HN: What it is like to join a startup founded by serial entrepreneurs?', 'New Jobless Claims Are Lowest Since January', 'West African cholera claims more than 500 lives, more deaths feared', 'Controversial cancer test gains support', 'A Familiar Path in Months Before Fatal Shooting', \"Yale University builds world's first anti-laser\", 'Romanian parliament ratifies EU accession treaty', 'Sixteen civilians killed by bomber in southern Afghanistan', '19 Small Changes That Actually Helped People Lose Weight', \"Grand National won by 'Comply or Die'\", 'Still Working, but Making Do With Less', 'What Is The Best Underrated Game App', 'UK Serious Fraud Office to investigate MG Rover collapse', 'Mexican billionaire denies buying Honda Formula One team', 'Heavy Absentee Voting by Iranians in Iraq', 'Magnitude 5.4 earthquake hits Southern California', 'Canadian PM cabinet shuffle results', 'Wolfgang Tilmans donates image to Quaker Social Action', 'Lenders Pledge $31 Billion for Eastern and  Central Europe', 'Philippines Supreme Court to probe leak of draft judgment in election case', \"ASOS's Upcoming Wedding Dress Line Is Insanely Pretty And Affordable\", 'If We Actually Commented Honestly On Facebook', 'Mine explosion in northeastern China kills at least 42, dozens more trapped', 'Car bomb kills at least three in Dagestan, Russia', 'Satyam Chief Accused of Faking Workers to Steal', 'From the Vatican, a Tough Read', 'UNHCR: Thousands of Angolans expelled from DRC in \"dire\" need of aid', '42 Yahoo Questions That Will Make You Nervous For The Future Of Our Planet', 'Can You Speed Read', 'Australian science organisation discontinues genetically modified pea research', 'Just Another Beer? Not to Those in Laos', 'A Good Research Paper Outline is the Significant to Success in Writing the Paper', '16 Pictures That Will Make You Want To Move To Sri Lanka', '16 Times Ralph Wiggum Perfectly Embodied The Dating Struggle', '24 Incredibly Useful iPhone Apps', 'Successor to mp3; MusicDNA founder interviewed', 'Psychiatrist Dr. Jerald Block tells Wikinews about addiction to the Internet', \"16 Fake Body Piercings Your Parents Won't Even Mind\", 'EBay may acquire VoIP firm Skype', 'US House approves $1.17 billion in Amtrak funding', '19 Insanely Unique Thrift Shops You Need To Visit ASAP', '17 Times Celebrity Couples Made You Feel Single As Fuck', 'Two children killed in fire in Derbyshire, England; man arrested', 'I Went To NYC All Alone To Love Myself And It Was Weirdly Beautiful', 'Horse flu infects Australian thoroughbreds', 'Subway train derails in Washington, D.C.', 'National Park Service covers donation box at United Airlines Flight 93 memorial', 'According To Science, This Is The Most Addictive Food In The World', 'Can You Identify The Ariana Grande Music Video By Its Screencap', \"We Can't Stop Looking At This Dashing Silver Fox Who Appeared At An NDP Rally\", 'Web Start-Ups Look Beyond Ads for Revenue', 'Ask HN: One service to create ads across Google LinkedIn and Facebook?', 'Do You Actually Remember The First Episode Of \"The West Wing\"', '21 Teachers Who Are So Fucking Done', '18 Women With Endometriosis Reveal What They Want Everyone To Know About Their Struggle', \"Here's A Look At Disney-Pixar's New Short Film Featuring An Indian-American Family\", \"5 Things to Watch at Monday Night's Clinton-Trump Debate\", 'Space Settlers is The First and Nice Online Sci-Fi RTS Game for iOS', \"We Know How You'll Haunt People As A Ghost Based On Your Zodiac\", 'In Lawsuit, a Dispute Over Whether Roberto Alomar Has H.I.V.', '48 Rules All Long-Term Female Friends Follow', 'Rape Convictions Mandatory Minimum Bill Gains Opposition from Surprising Source', 'U.A.W. Members Easily Ratify G.M. Concessions', 'Trade Losses Rise in China, Threatening Jobs', 'Four bombings over two days leave more than 130 dead in Iraq', 'Who will make the best PaaS this Sunday? Tweet your guess win a Kindle Fire...', 'Ethiopian airliner crashes into Mediterranean Sea', 'Disaster Request for a Drought-Hit County in California', 'Jørn Utzon, Sydney Opera House architect, dies at the age of 90', '12 Life Lessons The Barbershop Taught Me', 'Google formally submits bid to provide free WiFi in San Francisco', 'Jebreen, Extremist Saudi Cleric, Was Treated in Germany', '19 Life Lessons We Learned From \"Bring It On\"', '9 people who discovered just how terrible their exes really are', 'Insurgent attack in South Thailand injures 24', '17 Jokes About Chelsea Guaranteed To Make You Laugh', 'China loans Ethiopia US$349 million for construction of expressway', 'Jet Goes Down in Indian Ocean With 153 Aboard', '17 Times Jordin Sparks Totally Slayed The Instagram Game', 'Florida High School Senior to Try for Fifth Consecutive No-Hitter', \"Here's Why Kit Harrington Told a Random Stranger the Truth About Jon Snow's Fate\", \"Russian prime minister resigns at President Vladimir Putin's request\", 'Jefferson to face forward on new nickel', 'Investors Say They Are Talking to G.M. About Saturn', 'Gunman opens fire inside store in California, USA', \"59 years old and Christie Brinkley is still showing us how it's done\", 'Literally Just A Bunch Of Inspiring GIFs Of The Rock', \"Everything You Need To Know About Taco Bell's New Fried Chicken Taco Shell\", \"If Presidential Candidates Were Reimagined As Valentine's Day Cards\", \"28 Makeup Charts That'll Make Your Life So Much Easier\", '17 Ridiculous Texts All Siblings Have Sent To Each Other', \"Iceland's coalition government falls in economic crisis\", 'Ask HN: Trapped by knowledge', \"18 Things You Didn't Know You Could Do In San Diego\", \"11 Pieces Of Wisdom To Read Whenever You're Feeling Down\", '12 Ways To Get Help When You Feel Completely Alone', 'How you spend your weekend says a lot about you. Here’s how successful people do it:', 'Series of earthquakes hit Taiwan, Turkey, Uzbekistan, Kyrgyzstan, and Indonesia', 'Teaching Teenagers About Harassment', '17 Mouthwatering Ways To Have A Love Affair With Strawberries', 'The One Thing Morgan Freeman Still Thinks Is Terrible About The Shawshank Redemption', '55 Pictures That Will Inspire You To Layer Up For Fall', 'American console sales continue to decline throughout April', '33 Leslie Knope Quotes To Help You Live Your Best Life', 'Indian Cricketer Virendra Sehwag HD Desktop Wallpapers', 'Ultimate Collection Of Best 404 Pages Design For Your Inspiration', 'Pete Wentz Wants Fall Out Boy To Collab With Taylor Swift', \"Jamie Dimon: This is the 'biggest disgrace' in America\", 'Mystery solved: Why do swimmers wear two caps?', '36 Alternate \"Hocus Pocus\" Titles That Are Truly Accurate', 'Researchers discover last common ancestor of apes and monkeys', '17 Ways To Keep Your Kid Safe This Halloween', 'No U.S. Plans to Stop Korea on Missile Test', '23 Times Anna Kendrick Was The Coolest Person On Instagram', '17 Shocking Similarities Between \"Mean Girls\" And \"Angela Anaconda\"', \"This Little Girl Reacting To The Reveal Of Luke Skywalker's Father Is All Of Us\", 'How @NayaRivera gets what she wants', 'Corporations, Tending to a Tattered Image, Clip Wings of Private Jets', 'Auto Crisis Adviser Is Called Pro-Labor Pragmatist', 'We Asked A Food Stylist To Review Cheap Burgers', 'Numbats in Space [podcast]', \"Here's what Nostradamus predicted about 2017\", 'Robert Downey Jr. Is Nervous To Sing With Sting. But When He Opens His Mouth? My Jaw DROPPED!', 'Would You Make It In The Keating Five', 'New Rules on Doctors and Medical Firms Amid Ethics Concerns', 'BBC to release iPlayer to other broadcasters', 'House Panel Votes to Pay For Five New Helicopters', 'Sweden celebrates its first national day as a public holiday', '21 Things Only Non-Harry Potter Fans Know To Be True', 'Florida Keys evacuated in preparation for Rita', 'Danish PM pushes for new referendum on euro', 'Obesity rates rise across most of the U.S.', '16 Ways To Teach Your Kids About David Bowie (And The World)', \"Kendall Jenner Is Officially A Victoria's Secret Model\", \"Canada's unnamed\", 'G.D.P. Revised Down Slightly for 4th Quarter', 'China Shuts Down Office of Volunteer Lawyers', 'US Treasury Secretary: \"We need the ability to seize firms\"', 'Plane crash in Cork, Ireland kills six', 'Author and contrarian Christopher Hitchens dies at age 62', '9 Comebacks Feminists Would Be Proud Of', '2 Adults Slain Outside Norwegian School', 'How Do You Get Freaky Sharp Concentration', \"Once You Learn What Soft-Shell Crabs Are, It's Hard to Un-Know It\", 'Australia makes changes to Boxing Day cricket test team', \"An Engineering Student Eloquently Pointed Out Why Female Classmates Aren't Equal\", 'Bruised by Google, Microsoft Tries to Revitalize Search', 'Kathy Griffin And Kristin Chenoweth Talking About Their Dogs Is Funny AF', 'Car bomb in Buenaventura, Colombia kills at least six', 'Indiana University used this one weird trick to cut student debt:', 'America Ferrera Is Thrilled To No Longer Be The Only Latina On Primetime', 'Beautiful Tata Nano Car Wallpapers Tata Nano Car Background images', \"17 Photos You Should See If You're Curious About What Cuba's Actually Like\", 'Big Investor in Fortis Opposes Buyout by BNP', 'The First Trailer For \"X-Men: Apocalypse\" Is Here And It\\'s Damn Good', 'Released video: Israeli soldier shoot bound man at short range', \"Here's How To Actually Start Lifting Weights\", 'UK mountain run abandoned as participants seek shelter from appalling conditions', 'Turbulence on Northwest Airlines flight injures 47', 'Travel Around The World With 46 Cookie Recipes', 'Iraq Resists Pleas by U.S. to Placate Baath Party', '18 Photos That Prove The \"Harry Potter\" Actors Are Actually Their Characters', 'The Definitive Ranking Of Breakfasts', \"We bet you didn't know this about your neighbors\", 'For Some in Illinois, Talk of Reform Was Just That', '@MileyCyrus strips down in an entirely different way', 'Concerns Raised Over 2 Obama Advisers Tied to a Citigroup Unit that Lost Money', 'Witness to Say She Saw Bonds Being Injected', \"19 Of The Best BBQ Places In Texas That'll Make Your Mouth Water\", 'Person from Indiana wins $314 million Powerball jackpot', 'We Know Which Celebrity You Dislike The Most Based On Your Zodiac Sign', \"23 Things You'll Only Understand If You're The Mum Of Your Friend Group\", 'VP Cheney role surfaces in U.S. domestic spying', '17 Celebs Who Drastically Dyed In 2015', \"Halsey Opened Up About What It's Like Living With Endometriosis\", '7 Easy Things You Can Do To Improve Your Life', '2005 National Conference in the Norwegian Centre Party', 'Watch This Out Gay Marine Ask Singer Steve Grand To The Marine Corps Ball', 'A Comedian Talked About Being Abused And Raped In A Previous Relationship', \"CTV acquires rights to 'The Hockey Theme'\", 'Which Taylor Swift \"1989 World Tour\" Guest Are You Based One Question', 'Passenger claims to have bomb, killed by air marshals at Miami International Airport', 'Despite Fall, German Pair Win Skating Championship', 'N.F.L. Union Selects Lawyer as New Leader', \"Extraordinary feature found on Saturn's moon Iapetus\", '13 Insanely Clever Oatmeal Tricks You Need To Try', 'Nearly 100,000 protest for closure of US military base in Japan', 'Do You Actually Prefer Chris Pratt Or Chris Hemsworth', \"Here's How These Rappers Got Their Names\", 'New Zealand Tsunami heroes to receive Special Service Medal', '16 Cosplayers Share The Kindest Thing Someone Has Done For Them', 'Confessions To The One That Got Away', 'The one thing you should never say to someone w/ OCD', '10 Recipes To Save Your Sanity', \"19 New Year's Resolutions All Lesbians Can Totally Get Behind\", 'What Would You Do If You Won The Lottery', 'Ask HN: Anyone using Node.js in production?', 'WWE Raw Results from Cincinnati, OH for September 22, 2008', 'Are You More 2015 Or 1502', 'North Korea Moves Missile to Launch Pad', 'This Is What Happens When You Ask Your 12-Year-Old Brother For Dating Advice', 'Woman found guilty of plotting to sell Coke documents to Pepsi', 'American war deserter given stay of deportation in Canada', 'This Olympic runner has a famous mom, and you won’t believe who it is', \"19 Words That Only '00s Kids Will Really Understand\", 'Seismologist Mario Pardo rebukes notion that Pichilemu, Chile experiencing \"seismic swarm\"', 'Manned mission to Mars at least 20 years away, easier than first trip to Moon', '@selenagomez skips pants for a night out in London', 'Man who shot Pope released from prison in Turkey', '35 Of The Funniest \"Game Of Thrones\" Jokes From 2015', '33 Bad Puns', 'Pornhub Has A Hilarious Christmas Advert Now', \"Here's Every Tweet Drake Has Ever Favorited\", '15 Times Musicians Made It Really Hard To Concentrate On The Music', 'Julianne Moore Cries In Times Square, Makes Tourists Very Uncomfortable', '37 Cozy Sweaters For People Who Are Literally Always Cold', \"40 Celebs You Probably Didn't Know Attended Black Colleges\", '19 Unbelivably Rude Texts From Your Hangover', 'Guys Feel Fake Boobs For The First Time', '\"I was laughing, clearly he did some homework. ... He Googled me and found some things.\"', \"How much will JPMorgan pay for 'London Whale' losses?\", '18 Reasons You Need To Be Watching \"Billy On The Street\"', 'Israel Declares Cease-Fire; Hamas Says It Will Fight On', 'Eyebrowse | track and share your web trails', 'Here’s When Xbox One Play Anywhere Feature Is Going Live', '24 Of The Most Badass Moments In History', \"Here Are All The Reasons You're Wrong If You Don't Think Ariana Grande Is Everything\", 'Welsh swimming squad named for 2006 Commonwealth Games', 'Wife of missing soldier receives green card', 'Red Cresent workers kidnapped as Blair visits Iraq', 'Mark Hamill May Have Given Away a Huge Spoiler About Star Wars: Episode VIII', 'Reality TV star sought after model found dead in California dumpster', '11 Other \"Harry Potter\" Names You\\'ve Been Pronouncing Wrong', 'Two Chinese Airlines to Combine', '2008 Google Developer Day focuses on Internet APIs in Australia', 'Which Taylor Swift Music Video Stud Should You Date Based On Your Birth Month', 'North Korea Is Warned by Gates on Testing', \"Netanyahu quits over Israel's pullout plan\", 'If White Men Experienced Racism And Sexism', 'No oil spillage after platform explodes in the Gulf of Mexico', 'Did Kylie Jenner get a BOOB JOB?!?', 'Chicago approves new handgun regulations', \"@IAMJHUD's latest role was like having an orgasm\", 'Gates Takes His Case for Military Budget on the Road', \"A Stingray Photobombed A Couple's Proposal And It's Adorable\", 'Why 2020 Olympic bidders should be hoping for second place', 'Witch Hunts and Foul Potions Heighten Fear of Leader in Gambia', 'Revealed: the truth about penis size.', 'Gambian magistrate to acquit all people detained without charge for 72 hours', 'Motorola Milestone 3 technical specs revealed', \"These Cops Took Care Of A Sick Woman's Five Children When She Went To The Hospital\", 'Gay Marriage in Vermont Faces Veto by Governor', 'Australian PM promises to assist Corby', 'European Soccer Wrestles With Its Inner Demons', 'Are we heading for another housing crisis?', '36 Gifts Guaranteed To Satisfy Your Marble Addiction', 'Which Thanksgiving Food Is The Best', 'Bomb blasts hit south Thailand market town Sungai Golok', 'Peruvian necklace identified as oldest gold artifact in the Americas', 'Local Issues Dominate as India Votes', 'Movies Sell Slowly at Sundance', 'Ask HN: Can we recruit on HN if not YC-funded?', \"Where's The Best Place To Buy Bedding\", \"Kevin Hart Tried To Go For A Run In Canada And Couldn't Handle The Icy Streets\", 'Gaza Strip reports first swine flu cases', 'Defending World Skating Title, Germans Take Pairs Lead', 'This A Cappella Cover Of \"Pretty Hurts\" Will Make Your Heart Ache In All The Right Ways', 'Ask HN: Has anyone deployed Opensource Honeypots in your Organization?', 'Murdoch-Berlusconi Feud Plays Out in the Media', 'Toy maker Mattel recalls more products', 'Are You More Like Dannii Or Kylie Minogue', 'Sri Lankan Forces Takes Control of Coast', 'Two suspects killed in UK bank robbery', 'He Went To Rip Weeds From His Lawn. Hours Later He’s Dead. You Could Be Next. BE WARNED...', 'Are You More Emotional Or Logical', \"This Woman Does Yoga With Her Pet Goat And It's Almost Too Cute\", \"We F'd Up: We got the VB6 Open Source Story Completely Wrong\", \"Stop What You're Doing And Look At Beyonce's Incredible Bathing Suit\", '14 Awkward Photos Of Bollywood Stars With Their Wax Statues', 'Do You Have The Most Horrifying Cable Company Customer Service Story', 'Second dust storm hits Sydney, Australia', 'Can You Identify The Romantic Comedy Based On A Single Quote', 'Is big government about to make big green on marijuana?', 'One killed in University of Oklahoma explosion', \"Holy Shit, You Need To See Will Forte's Half-Shaved Face\", '19 Of The Most Hilarious Tweets About Ryan Gosling', 'Pirates seize tourist yacht near Seychelles, troops deployed', 'YouTube Just Released Their Massive 2015 Recap Video And TVF Is In It', '26 Totally Awesome Products That Will Make Your Life More Fun', 'Apple Inc. doubled its profits', \"25 Things You'll Only Get If You're Obsessed With Baths\", '17 things Jesus Christ said about homosexuality', 'Scientists Crunch Data to Build an Evolutionary Tree of Life', '26 Important Lessons The Next Generation Will Learn From \"Harry Potter\"', '15 Crucial Holiday Storage Hacks That Will Make Your Life Easier', \"22 Of JoJo's Best Tweets\", 'Wendy Williams Attempts To Guess 16 Terrible Celebrity Paintings', \"21 Signs Your Date Isn't Going Well\", 'Australia in a good position after first day of Adelaide test match', '21 Tweets About Depression That Just Might Make You Laugh', 'Iran Council Certifies Ahmadinejad Victory', 'Is Adele Going To Call You', 'Bestselling crime author Patricia Cornwell opens up about her sexuality', 'This Woman Dealt With An Abusive Relationship By Taking Pics Of Her Dog', 'If Leslie Knope Quotes Were Motivational Posters', 'Number of Zimbabwe cholera deaths nears 500', \"23 Pictures People Who Haven't Worked Retail Will Never Understand\", '17 Times Being Single At A Wedding Was The Worst', 'This Touching Photo Of A Bride And Her Service Dog Is Going Viral', 'Red tide affects South Padre Island, Mexico', 'AMBER alert issued in Maryland for missing teenaged boys', 'No assassination plot against US presidential candidate Barack Obama', 'Home video captures alleged UFOs in Haiti', 'VISA opens regional office in Bucharest', 'Here\\'s What Happened When I Tried Five \"Easy\" And \"Cheap\" Office DIYs', 'Donald Trump’s most enduring — and unbefitting — trait', 'Lapp Plats becomes first firm to float on IEX', 'Gas Pipeline in Turkey Gains European Backing', 'Mayor of Baltimore indicted on theft, perjury', 'Justin Bieber Has Given A Brutally Honest Interview About The Effects Of Fame', 'Christmas arrives early in Rochdale, Greater Manchester', 'Israeli President Shimon Peres collapses in Tel Aviv', 'Mortgages Turn Lucrative for Banks in Second Quarter', 'Nineteen-year sentence for murder handed down to music producer Phil Spector', 'You Wouldn’t Believe What Rockstar Announced For GTA 6!', 'Singapore Trims Its Economic Forecasts for 2009', \"It's 2015 And These Words Should Be Added To The Dictionary Now\", \"Dexia Posts Decline in Profit but Says It Is 'on the Mend'\", '17 Times \"Steven Universe\" Won Over Our Hearts In 2015', 'Ukraine presidential election headed for runoff', 'U.S. Producer Price Index shows inflation at bay', 'Filmcrew working for Channel 4 arrested for soaking Tom Cruise in London', 'Thai PM sues media critic for one billion Baht', '24 Pictures That Prove 2015 Is The Damn Future', '\"Game of Thrones\" star comes out as gay', \"NBC's Olympics 'nightmare' has all but come true\", 'Calvin Murphy acquitted of molestation charges', '2 Countries Agree to Ease Bank Secrecy Rules', '14 Times People Turned Into Emojis At The Munk Debate', \"Here's The Real Deal With Drinking Activated Charcoal\", 'Tom Hardy Explained Why He Shut Down That Reporter Who Asked About His Sexuality', 'Obama announces troop reductions in Afghanistan', '18 Truths For People Who Love Wine', \"23 Things You'll Definitely Find In Every Mexican Household\", 'Our Favorite LGBT Essays We Published This Year', \"The six subtle personality traits that could mean you're dating a cheat\", 'Haiti relief efforts: in depth', 'Nature Conservancy Sells Adirondacks Land to Protect It', 'First Impressions Can Create Unrealistic Expectations for Young Basketball Recruits', 'Strong earthquake strikes off the coast of Taiwan', 'Revealed!! Why LEGO Toys Are So Expensive', 'First fifty-star United States flag up for sale', 'Cyclone in Bay of Bengal kills at least 17', '237 Different Ways To Spell \"Caitlin\"', 'ABC to Merge 2 TV Units to Streamline and Cut Costs', 'One major downside to IUD use', '18 Ways You Can Help A Loved One Going Through A Hard Time', 'Can You Name All Of The Characters From \"Big Hero 6\"', \"Facebook to share the technology 'behind its servers'\", 'Mathematical Model and the Mortgage Mess', 'Toyota Said to Weigh Reorganizing U.S. Operations', 'Freelance Translators – All Languages', 'If The Cast Of \"Friends\" Were \"Game Of Thrones\" Houses', 'Last missing body from Minnesota bridge collapse found', 'Chick-Fil-A just dropped a BOMB on Black Lives Matter...Police officers are pumped!', 'Quiet Guy Nightmares', 'China Outlines Plans for Making Electric Cars', 'Review My App: Hacker / Entrepreneur Salon', 'Pub Goers Have Revealed The One Thing Most Likely To Ruin A Pint', 'US presidential race tied as the Democratic National Convention starts', '21 Pictures Literally Every Girl Has Taken', 'Australian Police alerted to child-sex claims at St Stanislaus in 1997', 'US prosecutor Mike Nifong to be disbarred for ethics violations', 'We Know Your Favorite Animal Based On These Random Questions', 'My Ex Girlfriend Called Me... (We Picked up)', 'Foreign Money Seeks to Buy Lebanese Votes', 'Eight reasons why kissing is so good for your health - from burning calories to slowing aging', 'US Nazi leader talks about Barack Obama, the economy and more', '20 dead, seventeen trapped after Chinese coal mine explosion', 'UK PM pledges aid for Myanmar', '29 Gorgeous Ways To Make Your Winter Decor Look Expensive', 'Beheaded bodies found as fighting continues in Mosul', 'How Many Of These Black Sitcoms Have You Seen', 'Champagne Poetry', 'Its Population Falling, Russia Beckons Its Children Home', \"14 Pictures Everyone Who's Been To An Indian Wedding Will Recognise\", \"This Is What It's Like When You Pay $2.99 A Month For Kylie Jenner's Official App\", '16 Truths For People Who Get Major Anxiety When Texting', 'Gilchrist scores second fastest Test century', 'DeRosa Is Never Out of Position for the U.S.', 'Bank of Japan Steps Up Effort to Ease Credit', '23 Ways To Cover Yourself In Black History Month Pride', 'NASA astronaut Tim Kopra, crew member of upcoming mission, sustains injury', '2 Tour de France Riders Shot, Apparently by an Air Rifle', '29 Truly Horrible Vegetable Recipes That Should Not Exist', 'Man Grabs $600 In Social Security Money From Old Lady’s Bra, Then Gets What He Deserves', 'In Hartford, Fans Still Harbor Hope for N.H.L. Team', '17 Things That Are Too Real For People Who Always Drop Their Phone', 'Mark Fidrych Remembered for Remarkable Season and Endearing Antics', '21 Things Every Minnesotan Has To Do At The Start Of Winter', '11 of the weirdest foods you should try, according to the internet', 'Q-and-A With Retiring Big East Commissioner Mike Tranghese', 'Which \"Once Upon A Time\" Character Are You Based On Your Zodiac', 'Total evacuation of New Orleans planned', 'Plane crashes into Toronto office building', \"This Arvind Kejriwal Tweet Perfectly Captures The Extent Of Delhi's Air Pollution\", '16 Things Lady Gaga Looked Like During Her Super Bowl Performance', 'The Alphabet According To \"Gilmore Girls\"', 'Battle Is Close in Israeli Election', '9 Really Important Things Every Black Woman Should Know About Her Edges', 'NATO Struggles With Conflicting Views on Russia', 'Saab Moves to Separate Itself From G.M.', '14 Problems Only Overly Nice People Have', 'Which \"AHS\" Character Are You Based On Your Choice Of Cake', '7 Essays To Read: Volunteering At An Abortion Clinic, Patriarchy, And Stupid Questions', 'Can We Guess How Much You Owe In Student Loans', 'England win second test of the Ashes series', 'Ask HN: What is this black bar?', 'Zeus (YC S11) newly launched tech-driven property manager is hiring', '18 Awesome Holiday Traditions Your Family Should Try This Year', '26 #BlackOutEid Selfies That Will Completely Make Your Day', '53 Wonderfully Pointless Facts About The English Language', '15 Real-Life Achievements For Canadians', 'Erosion influences Nigerian climate policy', 'Japan Airlines fined US$110 million for price fixing', 'Australian Immigration denies issuing banned drug', 'Unauthorised autobiography of Julian Assange sells less than 700 copies', 'This 10-Second Clip Will Make All Your Embarrassing Moments Seem Like A Gift', 'The First Teaser For \"Game Of Thrones\" Season 6 Is Heartbreaking', 'The Ultimate Character Vs Character Showdown', '26 Lazy But Brilliant Ways To Get Drunk', 'Newspaper refuses to utilize leaked documents in article', 'Listen To BuzzFeed\\'s New Podcast \"The Tell Show\"', '15 \"Geordie Shore\" Quotes As Inspirational Posters', 'Efforts to Curb Foreign Bribery Lack Vigor, Report Finds', '21 Insanely Creepy Santa Claus Photos That May Ruin Your Christmas', 'GMTV ends broadcasting in UK after 17 years', 'Japanese Women Try On Geisha Halloween Costumes', 'Looking for guidance. Can we get some feedback on our Start-up?', 'Madoffs Worth $823 Million, Court Filing Says', '15 Manga Series You Should Read, Based On Your Favorite Books', \"17 Times The Internet Nailed What It's Like Being A Virgo\", 'Obama heckled in Florida', 'Trains collide in Serbia, two dead', 'Obama Selling His Economic Plan on the Airwaves, Again', \"'Bridezilla' YouTube video: many debate legitimacy\", 'As Draft Nears, Two Giants Receivers Hold On for Now', 'This Tiny Detail You Might\\'ve Missed In \"DDLJ\" Makes The Movie A Tragedy', 'Iraqi Lawmaker Is Charged With Masterminding an Attack on Parliament', 'This Is What The Kid From \"The Thirteenth Year\" Looks Like Now', 'Former Louisiana Tech University President F. Jay Taylor dies aged 87', \"Snooki's Son Stole The Show At New York Fashion Week\", 'British rapper Derek B dies at age 44', 'Cuomo Wins Ruling to Name Merrill Bonus Recipients', 'ConocoPhillips Reports a Fourth-Quarter Loss', 'Bill to eliminate corruption does not go far enough, say Indian activists and lawyers', 'US stocks surge, Dow Jones index reaches record', 'Delicacy of the Wild West Lives on for Those So Bold', 'Katie Holmes Wouldn\\'t Reveal Who The Best Kisser On \"Dawson\\'s Creek\" Was', 'UK TV star Michael Barrymore re-arrested over pool death probe', \"How Do You Spell Br*nd*n Fr***r's Name\", 'Police fight police in Brazil protest', 'Ask HN: Is This Chrome Ext Functionality Illegal?', \"🚨 Win 2 tickets to Hot 97's Hot For the Holidays show 🚨\\n\\nHere's how to score your seats --&gt;\", \"Can We Guess When You'll Get Married Based On Random Questions\", 'Rape and murder suspects in Ciudad Juárez arrested', 'No. 7 Blue Devils Top No. 13 Lady Vols in Knoxville', 'E.U. Expands Relationship With Pakistan Through Aid', 'UK company \"seriously considering\" GPS tracking devices in school uniforms', 'How Well Do You Remember Characters\\' Superpowers On \"Heroes\"', \"29 Ways To Design Your Kid's Dream Bathroom\", 'The New \"Spaceballs: The Schwartz Awakens\" Trailer Will Make You Feel Like A Kid Again', \"Suspect in model Jasmine Fiore's murder found dead\", '27 Big Things People Are Letting Go Of This Year', 'U.S. Expected to Own 70% of a Revamped G.M.', 'Satellite radio approved in Canada', 'As the Eurovision entrants return home, the home crowds weigh in', 'Two MBTA Green Line trains collide in Newton, Massachusetts', 'North Koreans Condemn U.S. and Sanctions at Huge Rally', 'Gunman charged with killing three in Wisconsin shooting', \"27 Signs We've Reached Peak Kale\", 'Can You Match The \"Game Of Thrones\" Quote To The Character Who Said It', 'Burnett Humbles Rays; Nady Leaves Game With Injury', 'Iraqis say U.S. bombing killed 39 civilians', 'In Defense Of Going Out', 'Manuel Addresses Mets, Putting Focus on the Future', \"Here's The Free Valentine's Day Gift You Can Give Literally Anyone\", 'Polish writer Tomasz Pacyński dies', '18 Things Only People Who Believe In Astrology Will Understand', '12 Oversized Animals From Your Childhood', 'Grandmas Play Cards Against Humanity', 'Profit Decline at Nokia Comes With a Warning', '22 Tweets About Being In Therapy That Will Make You Laugh Out Loud', 'U.S.-China Military Talks Resume', \"Here's how much Twitter is worth... according to Twitter\", \"You'll Never Guess the 1 Activity You Do More Than Anything Else\", '21 Stellar Ideas For An Astronomy-Themed Wedding', 'This Cajun Pasta Dish Is The Ultimate Comfort Food', '21 Insane Ways To Start Your Day With Eggs', 'Can You Identify These Classic Music Videos Based On A Screenshot', 'Former Illinois governor Blagojevich asks US Supreme Court to delay corruption trial, prosecutors to respond by Friday', \"You'll Never Guess Which Demographic Buys Gas-Guzzling SUVs The Most\", '24 Academic Tweets That Will Make You Laugh And Then Cry', 'Lyricist Javed Akhtar awarded Indira Gandhi Prize', 'Open Rights Group holds first conference in London', 'For Fed Policy-Making, Murky Era Lies Ahead', 'R&B singer D’Angelo sentenced on cocaine charge', \"New Zealand's worst behaved politicians list released\", 'Dec. 2004 Sumatra quake was longest ever recorded', \"Which Punny Valentine's Day Card Should You Give Based On Your Zodiac\", '21 Reasons Why Pies Come Before Guys', \"29 Childhood Snacks That Sadly Didn't Return In 2015\", 'Ask HN: What game development tool is this?', \"17 Photos That Offer A Rare Look At North Korea's Interiors\", 'Somalian pirates capture military ship, weapons, tanks', 'Polish pilgrims killed in French bus crash', 'Suicide bomber kills 24 in Peshawar, Pakistan', 'The End Of Last Night\\'s \"Walking Dead\" Is More Proof Glenn Is Definitely Alive', 'US unemployment rate reaches 9.4 percent', 'The surprising thing that may be making you crave junk food', 'The Best Frank Ocean Songs Of 2015', 'The Evolution Of Jennifer Lawrence\\'s \"Hunger Games\" Style', \"What It's Like Having PPD As A Black Woman\", 'Shonda Rhimes Is Producing Another Show That Will Ruin Your Life', \"Flight simulation site Avsim 'destroyed' by hackers\", \"Why You Shouldn't Vote for Libertarian Nominee Gary Johnson\", 'Wikipedia publishes 10 millionth article', 'Killings Away From Combat Deal Sharper Blow to Families of Five Military Men', 'Which Heroine From A Video Game Are You', 'These Ingenious Lego Hacks Will Finally Help Math Make Sense', \"This Dad Wrote A Check To His Kid's School Using Common Core Math\", 'Markets Tread Water, Waiting on Washington', 'Koreas Advance Together, but Not in Unity', \"UNHCR criticises Rwanda's and Burundi's decision to re-label refugees as illegal immigrants\", 'Is This Boy In A Boy Band', 'Mom Is Pregnant With Twins. But 25 Weeks Later, Doctors Drop THIS Bombshell About Her Babies', 'In Tehran, a Mood of Melancholy Descends', '12 Dumb Ways To Drink A Beer', 'How Well Do You Know \"The Last Of Us\"', '4-Wheel Dreams for Millions of Drivers in India', '14 Pictures Of Shia LaBeouf In Movies Watching Movies', 'Activists protest against School of the Americas', 'Petrol pricing in Bathurst, NSW reduced for only seven days', 'This is the Age Most People Stop Smoking Weed', '21 Gardening Projects To Get You Through Winter', 'For Everyone Who Suffers From Dramatic Window Staring Disorder', \"This Epic Chili Bar Is The Easiest Party You'll Ever Throw\", '21 Babies Who Look Remarkably Like Other People', \"How Well Do You Remember Ted Mosby's Girlfriends? Part 1\", 'Bodies found at crash site of US helicopter in Afghanistan', 'In Israeli Vote, With Two Parties Nearly Tied, the Winner Is Gridlock', \"Discworld author films his battle with Alzheimer's\", \"Herman Cain: SimCity rumor 'a lie'\", 'Outgoing Australian Democrats leader predicts new party amidst double dissolution', 'Paul Schäfer, founder of Colonia Dignidad, dies at 88', \"Here's what Microsoft co-founder Paul Allen actually found at the bottom of the ocean in the...\", 'SpaceX rocket successfully orbits on fourth attempt', 'What Fucked Up Thing Will Happen To You This Christmas', 'Hurt by the Economy, Europeans Vent Their Anger', 'Door opens mid-Qantas flight; plane makes an emergency landing', 'US politician and activist Sargent Shriver dies aged 95', 'Isle of Man Plans Unlimited Music Downloads', 'After a Goalie Steps In', 'The Frigid Winter Blues Summed Up By GIFs Of Really Hot Guys', 'How The Hole In My Heart Almost Killed Me', 'Smoke from Arizona fire spreads to other states', 'Which Secondary \"Vampire Diaries\" Character Are You', \"We Know Your Favorite Christmas Movie Based On What You're Hungry For\", 'Can You Spot The Real Makeup Product', 'Police officer killed, at least 18 injured in south Thailand blasts', 'This Choreography To Missy Elliott\\'s \"WTF\" Is Cool AF', 'Zoombak Tracks Your Dog, Your Car, Even Your Children', 'Can We Guess What Type Of School You Went To', 'Australian state of Queensland will go to the polls on March 21', 'Colombian Constitutional Court passes presidential re-election', 'Ruby Rose Totally Slayed The MTV EMAs Red Carpet After Injuring Her Leg', 'UEFA Cup: April 10, 2008', 'Samuel L. Jackson Put His Own Flare On Iconic Film Quotes During \"The Late Show\"', '21 Times Tumblr Was So On Point About Music', 'How Are You Feeling Right Now', 'Madoff Trustee Seeks $3.2 Billion From Hedge Fund', '19 Things All People With Trust Issues Will Understand', 'Trampoline for Sale', 'This May Be The First Couple To Have An Official Wedding Hashtag', \"Go here if you're looking for the best parks in the U.S.\", 'These Overwatch fans are so desperate, they’re roleplaying Overwatch in another videogame', 'What Should Your Drunk Food Be', 'California employees owe state US$13.3 million in unpaid loans', 'Growth of Eco-Tourism Raises Concerns', '30 Seconds With S. L. Price: Handling Death From a Foul Ball', 'Levee Break Causes Long-Lasting Trouble in Nevada', 'UN reports Rwandan refugees repatriated by force', 'POLL: Which Female Celebrity Owned 2015', 'Two N.H.L. Youngsters Are Giving Islanders a Reason to Hope', '35 Times The Kardashians Were Unintentionally Funny', \"Ask Sarah Jessica Parker Anything You've Ever Wanted To Know About Her\", 'Wikinews interviews Frank Moore, independent candidate for US President', 'Lundqvist Leads Rangers to 2-0 Series Lead', 'A Swiss Village Has Peace, Quiet and a Product Endorsed by Marilyn Manson', '18 Lazy-Girl Dessert Hacks', 'Which Golden Globe Reaction Face Are You Based On Your Zodiac Sign', 'Insurgents shoot down U.S. helicopter near Baghdad', 'Is This Netflix And Chill, Or Netflix And ~Chill~ ;o', 'Big Order Lifts Outlook at Airbus', 'Cubans protest communism', 'Watch This Guy Age From 12 To 20 Years Old In Two Minutes With This Incredible Selfie Time Lapse', 'Ten children killed in Estonian orphanage fire', \"You'll never believe how we got you to click on this story\", 'Pacaya volcano erupts; \"state of public calamity\" declared', 'This Sassy Line By Nadiya In This Week\\'s \"Bake Off\" Is Splendid', 'Founder and CEO of Rockmount Ranchwear Jack Weil dies at age 107', \"Mia Farrow, Carole White testify in Charles Taylor's war crimes trial\", '@BillGates and Warren Buffett love this book. You will too:', 'Iraq Suffers as the Euphrates River Dwindles', \"9 Facebook Events You'd Actually Want To Attend\", 'This Pug Just Made The Best \"Hotline Bling\" Video That Will Ever Exist', 'What State Do You Actually Belong In', 'Australian health workers to close intensive care units in Victoria next week', 'Actor and television host Gary Collins dies aged 74', 'Which Top 2015 Song Are You Based On Your Zodiac Sign', 'Chinese rioters storm Japanese embassy in Beijing', 'Which Snake Are You', 'Couples Discuss Mental Illness', '43 Tweets About Grapes, The Fruit', 'Fire in Pichilemu, Chile kills family of five', 'Cambridge, Mass., city council recommends construction firm W. R. Grace remain under DEP supervision for asbestos contamination', '21 Valid Arguments That Prove Jealous Girlfriends Are Actually The Best', 'Ireland will hold EU referendum', '19 Tweets About Tea That Will Speak To Your Soul', \"Ipswich, England serial murders to be adapted into 'musical'\", \"America's Cup: seventh race postponed\", \"What's The Worst Part About Having Thin Hair\", 'Two strong earthquakes jolt Japan', 'Here‘s how to lose weight in just 2 weeks (according to this fitness blogger)', 'Is the Doomsday Clock moving closer to midnight?', 'Court Orders California to Cut Prison Population', '29 Gorgeous Ways To Forget All About Your Ex', 'Surprising thing I was doing while my husband was being served divorce papers', \"68% of these people don't have a mortgage\", \"'Where is your god now?': London policemen on trial accused of beating Muslim\", 'How Many 2016 Academy Award-Nominated Films Have You Seen', 'Qr code tracking', \"19 Bookish Valentine's Day Gifts Every Literature Lover Will Appreciate\", 'What Is The Most Random Halloween Costume Your Kid Has Come Up With', \"Reports: US to label Iran's Revolutionary Guard as 'terrorist organization'\", \"Misty Copeland Recreates Iconic Paintings And It's Absolutely Stunning\", 'This Dad Finding Out His Wife Is Pregnant Will Make Your Uterus Skip A Beat', 'We, the two-headed snake, dies in U.S. museum at age 8', 'Linux fifth most searched tech word on Google in 2004', 'If Movies That Were Shot In Vancouver Were Actually Set In Vancouver', 'British teenager finds baby bat in her bra', \"Gus Kenworthy's Instagram Photos Are So Good, He Might Have Second Career As A Photographer\", 'UK raises terrorism alert level to \"severe\"', 'Japanese probe snatches first asteroid sample', '2007 Rugby World Cup: Argentina shock France in tournament opener', 'Pirate Bay case: Internet group attacks websites in \"Operation Baylout\"', '17 Indian Musicians Who Changed The Damn Game In 2015', 'Atomic Agency Fails to Choose New Head on First Ballots', 'Humara madhya pradesh', '24 Realities Of Your Halloween', 'Weird Questions Gay Couples Get', \"2008 Young Designers' Exhibition to interact with the world\", 'Connecticut Men Keep Rolling in Big East Play', \"16 People Who Shouldn't Be Allowed To Fly\", 'FDA issues proposed rules requiring calorie content on menus', 'Which Of Michael Scott\\'s Lovers Are You From \"The Office\"', '$200 Laptops Break a Business Model', 'United States Army suspends ammo contract for Afghan security forces', \"Two Adorable Little Girls Found Mark Ruffalo's Lost Phone In The Blizzard\", \"You'll Want To Be Best Friends With Justin Bieber After Watching His Carpool Karaoke\", 'North Korea Sets Date for Launching', 'Louisville Tops Rutgers for 11th Straight Victory', 'Fund-Raising Still Has Its Perks in the Obama Era', 'Crossrail set to only compensate £50 for land rights, London, UK', 'Starbucks Reports 77% Earnings Decline', '21 Of The Most Powerful Photos Of This Week', \"This Is For Everyone Who Dips Their Fries In Their Wendy's Frosty\", 'India Sends Its Cricket Riches to South Africa', '16 Honest Confessions From People Wearing Purity Rings', 'How did we never notice Britney Spears wearing this ~one thing~ throughout 1999?', 'Back Service Personnel, First Lady Asks Nation', 'Intel acquires mobile Linux developer, OpenedHand', 'You Need These 5 DIY Hair Masks In Your Life', 'Train accident in Spain kills at least twelve', \"16 Faces You'll Recognize If You Hate Talking On The Phone\", \"Facts About Sleep You Probably Didn't Know\", 'Canadian PM announces funding for US-Canada bridge crossing', '23 Disney-Themed Kitchen Gadgets You Definitely Need', 'We Know The Perfect Board Game For You Based On Your Zodiac Sign', 'Why your Computer needs Nvidia Motherboard Drivers Download?', '17 Boozy Crock Pot Cocktails', 'When Air Time Is Playtime', 'How masturbation can help you orgasm with a partner', 'Bombings reported in Bangkok', 'Are You More Miranda Lambert Or Miranda Sings', 'This Five Question Test Will Determine Where In The World You Should Live', 'Where Should You Have Sex In Hogwarts', '10 Anime Series You Need To Watch Before You Die', 'Ask HN: Anyone use Sputnik to run a WISP?', \"Qantas says A380 aircraft are safe to fly after 'serious' incident\", 'BFFs Tried Sensual Yoga And Had The Time Of Their Lives', 'Diane Keaton Running To Get Froyo Is Diane Keaton Living Her Best Life', \"21 Delicious Holiday Desserts You Won't Believe Are Sugar-Free\", '21 Agonizing Truths For People Who Feel Too Much', 'With Swipe at U.S., Iraq Builds Ties to French', 'Media reports: Israeli warplanes training in Iraq', 'Heavy lift Delta IV rocket launch problems', 'Calls for bottled water bans grow in Canada', \"Coldplay's new album hits stores worldwide this week\", '15 Holiday Treats That Are Basically The Reason For The Season', 'I Went To The Grammys Last Night And This Is What I Learned', 'US denies arrest of al-Masri, al-Qaeda in Iraq leader', 'Virginia Governor commutes 1,000th US execution', '21 Pictures That Will Make Every Dad Angry', 'J.K. Rowling Celebrated Finishing \"Harry Potter\" By Graffitiing A Hotel Room', 'This Is How You Should Blend Your Hair With Different Weaves', 'Who Is Your Celeb Boyfriend Based On Your Birth Month', 'Airplane crashes into flats in South Africa', 'Chilean miners rescue to begin on Tuesday, Minister Mañalich announces', \"Dear World, You're RUINING Indian Food, Please Stop\", '31 annoying words and phrases on your résumé that make hiring managers cringe', 'How @GloriaSteinem really feels about @MileyCyrus', 'Canadian Minister of National Defence withdraws from NATO candidacy', 'Critic of Kyrgyzstan Leader Is Believed Dead in a Suspicious Car Crash', 'British MP reveals Fred Goodwin superinjunction', '23 Signs You\\'re Hopelessly Obsessed With \"New Girl\"', 'Selena Gomez Had The Cutest Reaction To Taylor Swift Winning A Grammy', '21 Things Only People Dating Hockey Players Will Get', 'Snow-laden branch kills man in Central Park', \"19 Signs You're The Mum Of Your House\", 'Ask HN: What is entry level in the web development world?', 'Did prehistoric people hold wakes for the dead?', '22 Landlords Who Need To Be Fucking Stopped', 'Shea Rests in Pieces as Last Section Is Torn Down', 'This Woman Is Trying To Make Fake Freckles The Next Big Beauty Trend', 'Ilham Aliyev claims landslide victory in disputed Azerbaijani elections', '18 Differences Between Snow Days In Canada And America', 'Kanye West Has Revealed His Album Title Is \"The Life Of Pablo\"', 'Who Do You Think The \"Scream Queens\" Red Devil Is', \"These Are The 44 Models Walking In The Victoria's Secret Fashion Show\", 'Nebraska Bill Would Give Sum to Falsely Imprisoned', \"Advice From Graduates That Will Make Freshers' Week Less Terrifying\", 'What Will Your Next Boyfriend Be Like', 'How to Solve Common Computer Problems?', 'We Know Which \"Game Of Thrones\" Character You Don\\'t Like Based On Your Zodiac', 'Microsoft acquires VoIP firm', '16 Confessions About What Life Is Like For Broke College Students', '2008 TICA highlights open source applications at Linux Forum & Expo', 'Taliban Shift Forces, but Hold Pakistan Valley', 'Are You More Harry Styles Or Zayn Malik', 'NATO: 130 militants killed in Afghanistan', 'Mets Send Reyes and Church to Disabled List', 'Should You Top Or Bottom More In 2016', 'We Know What Your Love Life Is Like Based On A Single Question', 'TV presenter Vernon Kay has to deny death claims after Wikipedia article claims he is dead', 'Steven Spielberg reveals the one movie that nearly ended his career', 'Kyrgyzstan votes on referendum for new constitution', 'What Misconceptions About Antidepressants Are You Sick Of Hearing', '13 missing from ship off coast of Madagascar; two rescued', 'Search continues for nine missing after midair collision off California', 'Four UK retailers call in administrators during the week of Christmas', 'Iraq executes \"Chemical Ali\"', 'Dying Canadian infant moved to U.S. hospital for medical treatment', 'Ask YC: Contributing to Mathematics Journal?', 'Four found dead in Leicestershire, England', 'Ronald Moore Lifts Siena While Carrying Own Burden', '21 Animals That Will Give You Makeup Goals', '32 Jaw-Dropping Halloween Makeup Ideas', 'Some Fancy Footwork in Auditions for Knicks?', 'Kimi Räikkönen will start from pole of 2007 Australian GP', 'What Would Your \"Game Of Thrones\" Name Be', 'Pope Runs Into Politics of Middle East', 'How Well Do You Know Your Autumn Leaves', 'Accounts, People, Miscellany', 'Northern lights may appear across Canada and northern U.S. late Tuesday night', 'Should You Join A Gym In 2016', 'First storm of Atlantic hurricane season forms off coast of Belize', '43 Overlooked Places All Travel Lovers Should Have On Their List', 'My Long, Exhausting Summer Of Street Harassment Is Over', \"UN says it won't leave Ivory Coast\", 'Katie Ledecky could shatter an unbreakable barrier at the Olympics', 'Hotel Rwanda hero tours USA', 'This Group Of Friends Changed The Halloween Game With Their Coordinated Costumes', 'Toshiba Transatlantic Challenge - success', '23 Words That Are Spelled Differently In Canada', '#CrossFit has a dirty little secret', 'Exports Plunge in China', 'Ask HN: Inexpensive 800 number solutions like Twilio?', '27 Times Nadia Aboulhosn Was Right About Everything', 'Pullback Less Than Expected in 4th Quarter', 'Suicide Attack Kills at Least 15 in Iraq', 'Which Member Of EXO Are You', 'Ask HN: iOS dev questions for clients', 'Republicans Firing Blanks at Obama', 'Bomb Blast Kills Tourist in Cairo', 'This Goldendoodle Won Halloween', '18 Tweets About Health Insurance That Will Make You Laugh And Cry At The Same Time', 'What Breakup Song Would Taylor Swift Write About You', 'Mozilla to fix Firefox security hole in patch', \"29 Of The Most WTF Looks From The Victoria's Secret Fashion Show\", 'Why @GwynethPaltrow \"would never want to go back in time\"', 'France Will Take Full NATO Membership Again, With Greater Military Role', '27 Things That Christmas-Obsessed Parents Need Right Now', 'Former Senator John Edwards takes major step towards running for U.S. president', 'Oil price jumps as Rita heads to refineries', '19 Reasons Straight Women Should Stay Single Forever', 'Can We Guess Your Age With Gay Porn', 'Someone Made An \"In-N-Out Pie\" And It Is A Beautiful And Revolting Mess', 'This Is Why Mainland Europe Is Better At Christmas Than Everyone Else', \"President Bush: U.S. respects Pakistan's sovereignty\", 'Hungry hungry sea monster found with surprise in its belly', \"17 Colorado Trails That Should Be On Every Hiker's Bucket List\", '11 Gross Facts About Your Teeth', 'Ask HN: How do you structure independent contractor equity compensation?', 'You’ll Never Believe Who Shonda Rhimes Had to Reprimand For Talking During Hamilton', 'Which Canadian Celebrity Should You Marry Based On Your Zodiac Sign', \"Suspect in 1998 bombing of US embassy in Tanzania won't face death penalty\", 'Baseball: Oakland Athletics defeat LA Angels 10 to 4', 'The Best End-Of-The-Year Mashup Of 2015 Is Finally Here', 'Is this image proof of BEER on Mars?', 'Oil spill in Gulf of Mexico reported to have reached coast; offshore drilling ban announced by Obama administration', 'Atlanta SEO Company', '17 \"Twilight Zone\" Episodes To Watch If You\\'ve Never Seen \"The Twilight Zone\"', \"Mother's plea to U.S. president gains widespread attention\", 'Costly Gasoline Pushes Up Consumer Prices', 'Deceased Indonesian man had suspected case of bird flu', 'Former Philippine President Corazon Aquino dies at age 76', 'The Triumphs And Mistakes That Got J.J. Abrams Ready For \"Star Wars\"', 'In Venezuela, Trying to Map Out Blueprint for Lost City', 'Former Emir of Kuwait dies at age 78', 'New York Special Election Is Special Case', '15 Times Lemon And Blueberry Were Relationship Goals', 'Madoff prosecutors want assets from wife and children', 'Ford, Fiat to produce small cars together', 'Third explosion at Fukushima Daiichi nuclear power plant', 'Ask HN: Who is hiring? (March 2016)', '26 Priceyish Things You Should Definitely Buy In Your Twenties', '72 hour Australia wide ban on horse movements', 'People Stick Their Head Through A Hole And Are Surprised With Puppies', 'Santa Ana Volcano Erupts in El Salvador', 'Treasury Boss Taking Fire in Europe Over Stimulus', 'The 43 Best Drunken Eats In College Towns Across America', \"You can help! A hotel's trying to find homeless man to thank him for being awesome\", 'Workers With Part-Time Jobs Mask Employment Woes', 'Do You Live In The Matrix', 'Recall in Kansas City Fails', 'Ask HN: Tour guidebooks for business travelers', 'Obama Toughens Lighting Rules to Cut Energy Use', 'Regional council fights to keep sustainable growth on Australian Sunshine Coast', 'For Everyone Who Secretly Hates \"Friends\"', 'Why Nobody Wants This Part of Africa', 'Japanese motorcylist Shoya Tomizawa dies aged 19 after crash in San Marino', '37 Of The Most Beautiful Shots From Television In 2015', 'Russian riddle', 'UN calls for further Syrian cooperation', 'Memorial unveiled to mark 50th anniversary of deaths of 47 miners in Lanarkshire, Scotland', \"These People Tried To Figure Out Where Max And Ruby's Parents Are\", '18 German Shepherd Puppies Who Need To Be Snuggled Immediately', 'This Skydiver Got Caught On A Plane After Jumping Out', 'This Recovering Anorexic Now Shares Bikini Pics Of Herself To Promote Body Positivity', 'Which Starbucks Drink Are You Based On Your Zodiac Sign', 'The Way This Horse Brings His Girlfriend Hay So They Can Eat Together Will Melt Your Heart', 'Its Muscle Car Glory Faded, Pontiac Shrivels Up', '15 Easy Things You Can Do That Will Help When You Feel Like Shit', 'Floods in midwest and plains kill over 20', 'ECOWAS suspends Niger in dispute over constitution', '2007 Rugby World Cup: New Zealand, Australia and Ireland win', '17 Things You Should Know Before You Date A Couple', 'Final report blames instrument failure for Adam Air Flight 574 disaster', 'Florida man charged with stealing Wi-Fi', 'What Natural Disaster Do You Fuck Like', 'White House considering auto rescue plan', \"Security firm identifies United States as world's top spamming country\", '21 Hot Guys Who Agree This Week Totally Sucked', '26 Jokes Guaranteed To Make \"Star Wars\" Fans Laugh Every Time', 'Carrying Memories of Ex-Coach Skip Prosser, Wake Forest Thrives', \"21 Embarrassing Liz Lemon Moments That'll Make You Feel Better About Your Own\", 'Do You Remember The Theme To The Andy Milonakis Show', 'Music duo The Bellamy Brothers accuse Britney Spears of plagiarism', '15 Perfectly Reasonable Ways To Deal With Stress', 'Bounces Start to Go in for Rangers', 'FDA warning on pistachios after salmonella contamination', 'This Costume Competition Proves That \"Simpsons\" Fans Are The Best In The World', '27 Cat Pictures Because Life Is Literally Just Terrible', 'Details emerge on fatal stabbing at Belgian day care centre', 'Original \"Law &amp; Order: SVU\" cast member leaving the show', 'The 24 Best Literary Debuts Of 2015', 'Dragging Values Down With Freebies', '19 People Confess Their College Regrets', 'Leipheimer Cruises Into Tour of California Lead', 'Xerox 4th-Quarter Profit Falls to Nearly Nothing', 'Deadly flooding in Pakistan kills hundreds', 'This job application question may become illegal', '21 Times Idris Elba Gave You Life', 'Spotlight Returns to Jet Cards', 'Are You More House Stark Or House Targaryen', \"Can We Guess What '90s Toy You Deserve For Christmas\", \"20 Cavity-Inducing Snacks That You'd Beg Your Mom For In Elementary School\", 'Congressman Thad McCotter to run for U.S. President', 'How Well Do You Know The Lyrics To Wonka\\'s \"Pure Imagination\"', '23 Confessions From Short Guys That Prove Body-Shaming Is Real', '26 Things That Will Only Make Sense To Ungirly Girls', 'Tennis: Andy Murray wins Montreal Masters 2009', 'Top Hedge Fund Managers Do Well in a Down Year', 'Truck carrying 12 million bees overturns in New Brunswick', '9 Totally Normal Things To Do With A Pig', 'Woman dies after being struck by fire truck hose in Cambridge, Massachusetts', \"Here's What It's Like To Visit An Actual Paper Town\", \"This Puzzle Is For Everyone Who Doesn't Remember Last Night\", 'This is why you will never see Khloé Kardashian wearing a bikini', \"This Is The Only Coloring Book You'll Need After A Breakup\", '17 British Slang Terms We All Need To Use More Often', '18 Things All Gin Drinkers Need In Their Life', 'How exactly does Facebook choose the news in \"trending\" topics? U.S. Senate wants answers', '17 Hilarious Tweets About Finals Week That Will Make You Laugh Out Loud', 'People Tried Their Own Urine For The First Time And They Were Disgusted', 'Red Sox Lose Another Road Game', 'The 10 Most Iconic Sessions Of \"Carpool Karaoke\" With James Corden', 'Soyuz Arrives, and Space Station Becomes Home for 6', '11 Times \"$ave Dat Money\" Was The Song Of Our Generation', \"The world's least-visited country is actually really beautiful\", \"You Won't Believe Who ALMOST Played Captain America\", 'Behind the Profits Lies Trouble for 2 Bank Giants', 'Man dies after being hit by wave in Blackpool, England', 'Blog Geared to Women Yields New Site for Slate', '12 Recipes That Made Your Life Complete In 2015', 'Condoleezza Rice confirmed as next U.S. Secretary of State, pending full Senate vote', 'This Woman Paralyzed From The Waist Down Became An Aerial Performer', 'Which \"New Girl\" Character Should Be Your Roommate', \"Obama Reveals Something About Himself He's Never Shared Before, But Many Have Suspected\", '21 Secrets Chinese Restaurant Waiters Will Never Tell You', 'This is the only game you need to play today', 'Elizabeth II begins state visit to Ireland amid protests, security fears', '22 Tweets About \"Lord Of The Rings\" That\\'ll Make You Laugh Every Time', 'James Harris And David Parnes Play A Game Of Him Or Me', '23 Healthier Versions Of Your Favorite Holiday Treats', 'Taraji P. Henson Responded Perfectly When Her Golden Globes Speech Was Almost Cut Short', 'Sarkozy ends French job ban for Eastern Europeans', '26 Photos That Every Perfectionist Will Find Pleasing', \"The Hardest Queen Elsa Quiz You'll Ever Take\", 'Police Chief Killed in Somalia Fighting', '20 years on: Sioux City, Iowa remembers crash landing that killed 111', 'A bit of debris chipped the International Space Station. That’s just one piece of a much bigger problem', 'France votes no in EU referendum', 'First openly gay prime minister to be appointed in Iceland', 'Records Seized in Illinois Town Accused of Water Irregularity', 'Cthulhu Company Kickstarted Itself to Death, Then This Happened', \"Don't Fall Victim To The Adele Placebo Effect\", 'An elegant mathematical solution against fluff on News.YC', 'Here Are The 10 Most Popular Tweets From 2015', 'Soccer Provides Oasis in Mexican City Ravaged by Drug War', '2007/08 Bundesliga: Bayern Munich vs. Hannover 96', '\"Who\\'s The Boss\" star marries longtime boyfriend on the beach', 'With First Fan in Attendance, Wizards Top Bulls', '26 Things People In A Relationship Will Never Ever Understand', 'Sports-heavy broadcast day for BBC One receives complaints; BBC responds', 'Sadly, This Is The Top Vegetable 1-Year-Olds In America Eat', 'Toronto transit union threatens strike for Monday', 'BP reports progress in oil spill cleanup', 'Should Black Cars Be Banned', 'US Airways jet makes emergency landing in river by New York City', 'This Indian Holy Man Talking About His Cannibalism Will Give You Goosebumps', 'The weirdly hydrating thing you should drink after a workout', 'Coca-Cola Enterprises Posts Loss but Tops Forecasts', 'ConocoPhillips announces $1bn share repurchase', 'Bank of Japan Will Buy More Government Bonds', 'Big change for James Franco movie', 'China successfully launches Shenzhou VI manned rocket', 'Republicans seek to reduce ethics rules', 'With One Swerving Free Kick, Brazil Darts Into Final Against U.S.', 'Profiting From Globalization', 'Emilia Clarke Was Named The Sexiest Woman Of The Year By Esquire', 'OPEC Keeps Output Goals Unchanged, Saudi Says', 'The 14 Hottest Indigenous Celebrities In Canada', 'Can You Finish These Quotes From \"Elf\"', 'Iraqi police: Najaf bombing kills three', 'Loki The Corgi Was Everyone Finding Out About Bacon', 'Lockheed Posts Profit but Cuts Forecast', '31 Cats Who Just Want To Watch The World Burn', '17 Impossibly Tiny Glasses That Will Make You Feel Crazy Fancy', 'Taylor Swift made a new very famous BFF at #TIFF', '17 Confessions From People Who Have Never Masturbated', \"Elle May Have Just Changed The Women's Magazine Game With Its February Covers\", 'With a Swipe at Bush, Obama Acts to Bolster Labor', 'New Zealander discovers US military data on MP3 player', 'What Is Your Furniture IQ', 'Planets Jupiter, Mercury and Mars line up, visible to naked eye', \"Wikinews interviews Dr. Michael Mazilu on creating world's fastest spinning manmade object\", 'Ask HN: How does Mashable load so quickly?', 'Which \"How The Grinch Stole Christmas\" Character Are You', 'First executions in post-Saddam Iraq held in Baghdad', 'United States Senator Lieberman to speak at Republican party convention', 'Discounts Force Restaurants to Eat  Their Own Lunch', 'Little Mix Just Shut Down Body-Shamers In The Most Perfect Way Possible', 'Runoff, Sometimes a Blight, Aids Some Egyptian Fisheries, Study Says', 'Can We Guess Your Favorite Hobby Based On Random Questions', 'Egypt announces Internet crime initiative', 'Are These Pills Grey Or Red And Blue', 'Aid starts to reach Myanmar', '13 Celebrities But With Braces', '18 Texts Your Mom Definitely Sent You During College', 'Busta Rhymes Makes An Appearance On \"Master Of None\" And It\\'s Perfect', 'Foxconn under pressure after tenth employee suicide this year', 'With Four More Months to Switch, Hundreds of Television Stations Are All Digital', 'What Percent Adult Are You', \"We Can Tell If You're A Cat Or Dog Person Based Off Your Taste In Avengers\", 'We Know Your Favorite Disney Princess Based On Your Favorite Taylor Swift Single', 'UK politician Nick Clegg wins historic first televised political debate', 'Hillary Clinton is considering a retired admiral for vice president. Or is she?', 'A Day Best Captured by Image, Not Narrative', 'Iran Says It Jailed 2 Prominent Doctors', '25 Photos That Meat Eaters Will Never Understand', 'Michael Jordan makes his pick to star in ‘Space Jam 2,’ and it’s not LeBron', 'Hurricane Rick becomes Category 5 storm', \"There's a better way to save battery on your iPhone\", 'New Board Struggles to Keep Satyam Afloat', \"UN probing allegations US is 'torturing' soldier over leaks\", 'Vote in Doubt as New Hampshire Senate Takes Up Gay Marriage', 'Wikinews holds a follow-up interview with Max Riekse, Constitution Party candidate for the 2008 U.S. presidential election', 'Polar bears deliver environmental petition to Premier of British Columbia', 'Should You Marry Kylo Ren Or Finn From \"Force Awakens\"', 'Why Rio ratings are terrible', 'Mike Ashley takes Newcastle United off the market for a second time', 'Alex Trebek Got Tricked Into Saying \"Turd Ferguson\" On \"Jeopardy,\" So Our Work Here Is Done', \"Tom Cruise spoofed in film 'Superhero Movie'\", 'War Crimes Trial to Hear From Ex-Liberia President', 'How Wild Was Your Weekend', 'Administration Is Developing a Housing Rescue Plan', 'Are These Characters From \"Fallout 3\" Or \"Fallout: New Vegas\"', '18 Things You Say To Your Best Friend When You Get Drunk', '21 Gorgeous Drinking Accessories To Get You Elegantly Wasted', 'Your Taste In Emojis Will Reveal A Truth About Your Personality', 'World Summit on the Information Society ends in Tunisia', '21 Photos That Will Really Make You Feel Super Old', 'How Much Of An Instagram Cliche Are You', 'How Well Do You Remember \"Scream 2\"', 'Netscape Navigator support ceases today', 'Knicks Rout Grizzles, Extending Win Streak to Three Games', \"Men Have Evidently Rediscovered Headbands And It's Horrifying\", 'Smoke condition at Penn Station suspends LIRR', 'These Horrifyingly Satisfying Photos Of \"Baby Foot\" Will Haunt You', 'Ask HN: Help me learn everything about mobile marketing', '17 Pictures That Will Leave You With One Very Important Question', \"The Reason There's A Hole In Your Spaghetti Spoon Is ACTUALLY Genius\", 'Bus bombing in Myanmar kills man, wounds another', '17 Things That Will Instantly Make Your Day Better', '27 Emotions Every Actor Should Know', 'How Well Do You Really See Different Shades Of Red', 'This dictionary has found a brutal way to catch cheating students', 'Astronauts Let Go of Refurbished Hubble', 'Names of Australians killed in helicopter crash released', 'Controversial Berlin opera features interactive drug usage', 'Australian rules football: Interview with Andy Thissling, statistician for the Traralgon Football Club senior side', 'Democratic Republic of Congo: UN expert accuses soldiers of killing 50 Hutu refugees in North Kivu', 'Patti Labelle Cursed Out A Fan Who Stripped While She Performed On Stage', '21 Of The Greatest Examples Of Fragile Masculinity In 2015', 'Is This For Sale At Urban Outfitters Or Are We Fucking With You', \"Mom's Son Cuts His Forehead On The Bed. Then She Takes A Closer Look And Knows...\", \"This Baby Shower Card Won't Stop Crying For Hours After You Open It\", 'Mine That Bird and Jockey Calvin Borel May Reunite', 'This Spoof Kids Book About Hipsters Is Hilarious', 'Do You Remember The Words To \"You\\'re The One That I Want\"', \"17 Things You Might Get If You're A PoC Fan Of Marvel\", 'China has extensive plans for space exploration', 'Eight dead and two missing after cargo ship fire in Kaliningrad, Russia', 'Can You Finish These Music Puns', 'Invest Another $100 in Madoff (Hammer Included)', 'Nelson Mandela taken off US terrorist list', 'Gordon Ramsay Offered A Chef With Epilepsy A Job After He Was Fired', 'Which \"Buffy\" Episode Should You Watch Based On Your Mood', \"20 Things The World Wouldn't Have If Black People Didn't Exist\", \"18 Secrets About Being An Astronaut That NASA Won't Tell You\", 'Fiat Gives Detroit a Lesson on Small Cars', \"Which Of Michael Clifford's Hairstyles Are You Based On Your Zodiac Sign\", \"21 Times Michael Scott's Hatred For Toby Flenderson Was Out Of Control\", \"Sixth arrest warrant issued for Thailand's former PM Thaksin\", \"What's Your Horoscope For The Week Of November 9\", 'This Makeup Test Will Reveal A Truth About You', 'Show HN: Android SD Card Partition manager app [rooted]', 'Investors Await Moves From the Fed', 'Iran Plans Tests Toward Starting a Nuclear Plant', \"Here's What You Should Watch On Netflix During The Blizzard\", 'World Bank to tighten security belt for Wolfowitz arrival', 'Second video of Osama bin Laden surfaces', 'Reports indicate Bush appointing friend to lead Plame inquiry', 'Chrissy Teigen Is Pregnant', 'This is why you should be excited about the new season of \"American Idol\"', '27 Times Jim And Dwight Were Perfect Frenemies On \"The Office\"', 'Two jockeys killed in fire in North Yorkshire, England', 'Bryan Singer Already Knows Who He’d Like To See Replace Hugh Jackman As The New Wolverine', 'When You Go To Work Naked', 'Tina Knowles Lawson Took A Selfie At Costco And Still Slayed', 'Here Are 19 Of The Best Tacos In America', 'Judge Tosses Key Evidence Against Bonds', '9 Christmas Movies If They Were About Cuffing Season', 'Adele\\'s Reaction To The \"SNL\" Skit About Her Is Perfect', '23 Things Every Black Person Who Grew Up In The South Knows To Be True', \"Australia's richest man dies aged 68\", 'Caged children well fed, behaved', '8 Moments All Sensitive Guys Understand', 'This Is Actually Why Coffee Makes You Shit', 'Guys Transform Into Pinups', '21 Products For People Who Are Completely Obsessed With Poodles', '29 Times #BlackGirlMagic Was More Than Just A Hashtag In 2015', \"The 20 cities with the world's lowest cost of living  via @YahooFinance\", 'Chanel 2010 Bags', 'Zimbabwe cancels education year for 4.5 million after political and economic troubles', 'AnalyticsMD (YC W15) Is Hiring a Front-End Engineer in Mountain View', 'Are You More Kate Or Maura From \"Sisters\"', 'Iran claims airliners were denied fuel', \"This is the most surprising thing Monsanto is working on, and it's already changing the way you eat\", 'Guy Friends Get Naked And Bare All', 'UConn Wins Opener Without Its Head Coach', 'As Giants Pack Up, Issues and Chagrin Linger', 'Which Celebrity Should Be Your First Famous BFF', \"US energy department reveals world's fastest computer\", 'Tsvangirai Calls Crash an Accident', 'Colleges offering admission to displaced New Orleans students', 'South Korea Agrees to a Call for Talks From North Korea', 'Author Vine Deloria dies at 72', 'This Is How Long Smartphone Batteries Should Last', 'Benefits Collected for a Long-Dead Mother', 'This Is What The \"Arthur\" Voice Actors Look Like In Real Life', 'Which Guy Is A Better Boyfriend', \"The world's most expensive city is...\", '21 Insanely Hot Dishes Guaranteed To Spice Up Your Life', 'Kyrgyzstan Insists U.S. Base to Close', 'An Israeli Playground Opens, Hardened Against Rockets', 'Arrests of 3 Dissidents in Ulster Killings Stir Riots', 'Race Is on for Florida Governorship', 'We Need To Talk About Brazil', 'Schwarzenegger heads back to work after feeling ill, being hospitalized', 'Britney Spears Googled A Picture Of Corn To Post On Instagram', 'Why so many men are cooking', 'Hualien warm-up of 2007 ING Taipei Marathon kicked off', 'Australian football: Adelaide United defeat Queensland Roar, through to A-League Grand Final', 'Rachel Weisz wants Botox ban for actors', 'Digitize your Kanban Boards with JimFlow (Open Source)', 'A New Afghanistan Commander Rethinks How to Measure Success', 'Which Dog Should Give You A Pep Talk Today', 'Former Indian President R. Venkataraman dies age 98', 'Penn St. tries to distance itself from hazing scandal', '@LouisCK reunites with his very first show business boss', \"New Battle Brews Over Bundy's Cattle In The Nevada Desert\", 'Where Are They Now? Your Favorite Forgotten Presidents', '36 Movie Quotes To Use When You Need An Instagram Caption', 'Iceland formally recognises Palestinian state with pre-1967 borders', 'Several businesses catch fire in Queens, New York', 'Shocking number of journalists were killed this year doing their jobs', 'Inter lead race to snap-up Figo', 'World Bank Cuts Forecast for Developed Economies', 'We Know Exactly Where You Live', 'Trying To Decide If Chris Or Liam Hemsworth Is Hotter At The Airport Will Be The Death Of You', 'Mayors back global warming pact', \"Former 'Dudley Boys' sign with TNA Wrestling\", 'Isiah Thomas May Coach Florida International', 'Italians vote on fertility referendum', \"18 Delicious Indian Foods That Aren't Curry\", 'US political columnist James J. Kilpatrick dies at age 89', '23 Pictures That Will Make You Say \"Huh.\"', 'Dads Everywhere Have Fallen In Love With Adele', 'Should You Top Or Bottom Tonight', 'You Can Make \"Harry Potter\" Hilarious By Replacing Every \"Wand\" With \"Penis\"', \"British Airways give medals to Flight 38's crew\", \"The Definitive Ranking Of Lady Gaga's Music Videos\", 'Mortar exchange kills thirteen in Somali capital', 'New Yorker Cover Art Is Painted With an iPhone', 'Ask HN: Where are all of the mature developers?', '21 Misconceptions Extroverts Want To Set Straight', 'Which Winner Of \"RuPaul\\'s Drag Race\" Are You', 'This Color Test Will Determine Your Dominant Personality Trait', 'Watch This Woman Talk About Her Struggle As A Two-Time Survivor Of Child Sexual Abuse', \"Canada's Astral Media Inc. to aquire Standard Radio\", \"State's sheriffs are refusing to enforce new gun control laws\", '15 Next-Level Buffalo Snacks For Your Superbowl Party', 'Of Joy and Despair, in Life as in Sports', '26 Questions Cats Just Need To Answer', 'Ask HN: We built and launched a product in 1 week but is it good enough?', 'European football: Tottenham defeats Celtic 2 - 0', 'North West And Penelope Disick Were The Best Squad Of 2015', 'Something Crazy is Happening in Switzerland, and its a Bad Sign for the World Economy', 'Here’s How To Keep Your Boobs From Getting Saggy, According To Science', 'The \"PLL\" Cast Reveals What Their Characters Are Like Five Years In The Future', 'People limited to 150 friends, despite Facebook, says academic', '38 Cozy Cocktails Guaranteed To Warm You Up This Fall', 'At least fifteen killed after suicide bombing in Somali hotel', 'Ask HN: Containers and network access?', 'Why This 7-Year-Old Girl Just Got in Trouble For Writing Her Name in Cursive', 'Environmentalists: \"Turn everything off!\" on February 1st', 'For Taitusi Lutui, a Journey From Tonga to the Super Bowl', 'House fire in Bristol, England kills two', \"Interview: University of Guam's Ron McNinch on North Korea's nuclear threats\", \"The most popular TV show you might've never heard of\", 'Here\\'s The First, Action-Packed Trailer For \"Allegiant\"', '20 Times Urban Dictionary Straight Up Ruined Your Favorite Animals', \"Renault F1's team boss, top engineer quit as team accepts cheating claim\", 'Taking a Chance on a Reverse Merger', \"NASA warn asteroid could hit Earth and cause 'Immense Suffering and Death'\", '21 Makeup Tutorials That Will Help You Recreate Iconic Music Video Looks', \"What's Your Personality Type Based On Your Opinion Of Eggs\", 'A Growth Area for Law Firms: Bankruptcy', 'Former Canadian Prime Minister Brian Mulroney to release \"Memoirs: 1939-1993\"', 'The 12 Sassiest Anderson Cooper Comebacks Of 2015', 'Lance Armstrong disputes French doping results', 'French workers use threats in compensation demand', 'Louisville Has Too Much of Everything for Arizona', 'Spice G6550 Price Spice G6550 Dual SIM 3G+2G Mobile with Video Calling', 'Only Solve This Puzzle If You Want To Get Hazed By Famous Figures', 'Congo Presses for Extradition of Warlord', 'Artists erect giant bunny on Italian mountainside', 'Dale Earnhardt Jr. Is Struggling, but His Fans Stick With Him', \"This Dog Riding A Bike With A Helmet On Is The Cutest Damn Thing You'll See All Day\", '19 Of Your Most Horrifying Thanksgiving Family Drama Stories', 'The Market Is Up, but for How Long?', 'Stabilized forest fires in Greece intensify again; 2 arrested', 'European Shares Slide After British Bank Bailout', \"Here's Why This Woman Left Another Woman Naked And Beaten In The Street\", 'Typhoon Ketsana reaches Cambodia; up to eleven people killed', 'Poker Blog', 'Wall Street Closes Lower as Global Forecast Dims', 'Ask HN: What is hand-coded assembly language used for these days?', 'Felix Loch wins season opening World Cup luge race in Austria', 'The John Lewis Christmas Ad Has Resulted In A Lot Of People Being A Sobbing Mess Again', 'Russian pilot crashes in Lithuania', 'These Hilarious \"Harry Potter\" Comics Ask James And Lily Potter Questions', 'Alabama wins 2010 American football college title', 'Plea Deal Ends Sexual Abuse Case Against Federal Judge in Texas', 'Reining in the Revelry at the Preakness Stakes', 'Man killed after shop robbery in West Yorkshire, England; murder investigation launched', 'Can We Guess Your Fave Disney Villain Song Based On Your Fave Taylor Swift Song', 'Virginia Commonwealth, Now Well Known, Gains an N.C.A.A. Berth', 'US automakers GM and Chrysler seek more government aid', 'APEC leaders wear Driza-Bones for group photo', 'How Google Decides to Pull the Plug', 'Do You Know The Numbers Missing From These Movies', '13 Stages Of Getting Over The One That Got Away', 'In Book, Torre Reveals Fraying Relationship With Cashman', 'Obama picks a new top energy and environment adviser', \"29 Emo Songs You Haven't Thought About Since 2007\", 'Ex-Sheriff Guilty of Rape', 'The fascinating tradition that sets baseball apart', 'Your sofa can give you CANCER', '13 Epic Gingerbread Houses Inspired By Your Favorite Movie And TV Shows', 'Best ptc sites', 'Federer Beats Roddick to Advance to Final', 'Iraq demands immediate withdrawal of Turkish troops', 'U.S. war protest mom met Bush in 2004', \"ALERT: Adele Released Three Bonus Tracks That Probably Aren't On Your Copy\", \"Philippine's human rights commission brands provincial capitol assault 'Overkill'\", 'Olivia Wilde Is Taking On A More Active Role To Support Women In Film', \"16 Cute And Practical Valentine's Gifts\", 'Weird Things Siblings Believed Growing Up', 'Fed Calls Gain in Household Wealth a Mirage', 'Adults Spend 8 Hours a Day in Front of a Screen, Study Finds', '2007/08 Bundesliga: Nürnberg vs. Bayern Munich', '13 Terrible Photos People Took Of The Eclipse With Their Phones', \"Here's How Much It Actually Costs To Be A Bridesmaid\", 'Czech Parliament Vote Clouds U.S. Antimissile Plan', 'Brazil Political crisis: Minister José Dirceu leaves the government', \"12 Low-Carb Bowls Of Soup That'll Warm Your Soul This Fall\", 'Fuck, Marry, Kill: The Dude Names Edition', '19 People Who Contoured Better Than You In 2015', 'Pakistan Rehearses Its Two-Step on Airstrikes', 'US appeals court rejects bid from expelled New York Senator convicted of assault', 'Powerful earthquake rocks southern Japan, tsunami warnings issued', 'Here Are Some Things The Sikh Community Wants You To Know', \"South Africa's largest weekly newspaper wants President Mbeki to resign\", \"Quebec's Liberal premier Jean Charest wins third term\", 'Bill Changing Credit Card Rules Is Sent to Obama With Gun Measure Included', 'This Stop-Motion Music Video Starring Cereal Is Totally Mesmerizing', 'Document reveals U.S., Taliban discussed bin Laden assassination', \"Anne Hathaway Comes To Jennifer Lawrence's Defense About That Phone Scolding Incident\", 'U.S. fighter jet crashes in Libya', 'Police Officers Are Charged in Venezuelan Synagogue Attack', 'A Putter That Provides Digital Instruction', 'Negotiations Break Down in Standoff With Pirates', \"'Star Wars' headed to TV as weekly series\", '19 Struggles Only Former Teenage Fake Tanners Know', \"This Word Association Test Will Tell You If You're More Realistic Or Idealistic\", '2 Churches, Black and White, See Inaugural Hope', 'Ask HN:What CMS should I be using?', 'New Objections May Delay G.M. Exit From Bankruptcy', \"Torino & Messina thrown out of Italy's Serie A football championship for next season\", '32 Photos Of The \"Jane The Virgin\" Cast Hanging Out In Real Life', '16 DIYs You Can Make With Old Toys Because Growing Up Is Overrated', 'Translation Error Costs Cuba the Use of Two Pitchers', 'US state of Arizona signs into law controversial immigration bill', \"Let's Settle This: How Would A Dog Wear Pants\", 'U.S. Holds Recent Advantage in Meetings With Mexico', 'When Exactly Did Adam Sandler Give Up On Making Funny Films?', '21 Times \"Hocus Pocus\" Perfectly Described Being Single BFFs', 'Didier Drogba withdraws from Cote D’Ivoire national football team', 'Group claims activists held in China after free Tibet protests', 'Ask HN: Who is your sounding board?', 'Euro 2008: Germany vs. Spain', 'How To Shut Down Catcallers', 'Radioactive leakage at Swedish nuclear waste store', 'Ask HN: Are there any markets for independent VR development?', '33 Tips For Having The Best Sex Of Your Life', 'Use Their Work  Free? Artists Say No to Google', 'South Korean court imprisons US soldier for raping teen', \"10 billionth song downloaded from Apple's iTunes Store\", \"Monster.com aquires Yahoo's HotJobs service for $225 million\", 'The Biggest Winners And Losers In Movies In 2015', 'Four police officers shot in Oakland, California die', '21 Things Everyone Obsessed With LaCroix Knows To Be True', '10 Insanely Delicious Smoothies To Fuel Your Trip To The Gym', '17 Times Schmidt From \"New Girl\" Was The Best Character On TV', 'Bomb blast in Iran injures three civilians', 'January floods wreak havoc in Singapore', 'Zimbabwe Opposition Figure to Be Tried for Terrorism', 'Lodging Accommodation', 'Religious Freedom vs. Sanitation Rules', '22 Super Annoying Things Every Woman Has To Deal With', 'Can We Guess Your Age Based On Which Colors Your Choose', '15 Of The Best Football Celebrations Of All Time', \"24 Things You'll Only Know If You Have Nigerian Parents\", 'When Relationship Introductions Get Awkward', \"To Set An Example Of Brotherhood, Dunkin' Donuts In Pakistan Is Offering Free Meals To Indians\", 'Tech Mahindra Wins Bid to Control Satyam', 'Obama Signals More Active Response to Piracy', '13 Peruvian Troops Killed in Ambushes', \"22 Signs You're Obsessed With Venmo\", '21 Things For People Who Think Snails Are Cute AF', '23 Hilarious Tumblr Posts That Show Just How Strange Canada Truly Is', '21 Times Hipsters Went Too Damn Far', '51 Thoughts I Had While I Watched \"American Horror Story: Hotel\" Episode 3', 'Which British Teen TV Squad Are You And Your Friend Group', 'Rangers Pick Up Where They Left Off, With a Victory', \"One of the planet's deadliest ancient diseases could be about to return\", 'Space Shuttle Atlantis launches for the final time', 'Bone marrow transplant potentially linked to cure of patient with AIDS', 'Chinese Exports Decline, but More Slowly', 'Which high school sport has the highest rate of shoulder injuries?', '95 Thoughts All Anxious People Have In A New Relationship', '4 Words Mackenzie Phillips Would Say To Her Late Father About Their Incestuous Relationship', '18 Insane Acne Transformations That Prove The Power Of Makeup', \"Stop What You're Doing And Look At These New Pluto Photos\", 'Real IRA claims responsibility for gun attack', '16 Siblings Who Had The Last Laugh', \"31 Brilliant Words You Didn't Know You Needed In 2015\", 'Things Got Rather Awkward When \\'90s Kids Danced To The \"Macarena\" Solo', 'Formula One teams to set up breakaway championship', 'Helping Hands Keep Alberto Arroyo, Jogging Pioneer at Central Park, Going', 'Chinese City Bolsters Scant Consumer Spending With Free Vouchers', 'Bernie Ecclestone attacked outside London headquarters; no arrests made', 'Storing IP-addresses of Swedish copyright infringers deemed illegal', \"Here's What Canadians Did While Americans Celebrated Thanksgiving\", \"What's The Most Terrifying Unsolved Crime You've Ever Heard Of\", 'Oil in Alberta spill may be carcinogenic', 'North Korea Says It Will Halt Talks and Restart Its Nuclear Program', 'Boorishness Works for Berlusconi', 'Witnesses saw truck \"rev up and race\" before recent Texas oil refinery blast', 'Study will examine treating heart damage with adult stem cells', 'Hilda Kibet, Kenyan by Birth, Is Dutch Cross-Country Hope', \"This Man's Beautiful Story About His Wife Will Make You Believe In True Love\", 'Outlander Just Made A Big Casting Announcement', 'I Was Added To A Group Chat With Eight Strangers And It Got Incredibly Weird', 'KBC Gets More Aid From Belgian Government', 'Tyra Banks & Chrissy Teigen Got Really Candid About Fertility Issues', 'Here Are The 2015 National Book Foundation 5 Under 35 Honorees', \"Ulcer researchers awarded '05 Nobel Prize\", 'Suspects apprehended after car chase through Denver, US', 'Swap Meet Continues as Jets Maneuver for Greene', 'Ice Cube, Kevin Hart, And Conan Might Be The Worst Driving Instructors', 'Ask HN: First time Mac - Which editor is the best for RoR?', 'The Mets Remain Unbeaten in the Replay Booth', '29 Questions I Have For Couples Who Share Social Media Accounts', 'Skyrim and Hackernews are ruining my life', \"Quake measuring 6.9 off Japan's Honshū coast\", 'Ask HN: Any good weight loss plans not too demanding for a typical dev?', 'We Had People Try The Smelliest Fruit In Front Of A Live Audience', \"Jim Jarmusch: Why I've Never Seen A 'Star Wars' Film\", 'Amy Poehler Hiding From Donald Trump Is All Of Us', 'US stocks see 9% drop before making recovery', 'Italian Court Upends Trial Involving C.I.A. Links', '16 Black Friday Horror Stories That Prove Retail Employees Are Saints', 'Texas executes Arturo Diaz after US Supreme Court refuses to intervene', '17 Things Everyone Who Dates A Writer Should Know', \"22 Pinoy Street Dogs That're Just As Cute As Pure-Bred Dogs\", '21 Things To Do In New York In The Fall', 'H', 'Manuel, in Charge of Mets From Day 1, Mulls Big Changes', 'Former Australian PM attacks parliament on apology to the Stolen Generations', 'Wikinews interviews Spanish Paralympic swimmer Deborah Font', 'Do You Remember The Lyrics To \"Thriller\"', 'Fly IQ240 Whizz Dual SIM Price in India Features and Specifications', '22 Things Scottish People Have Been Trying To Tell You For Years', 'Hold the Eulogies, Kennedy Says', \"Bella Thorne shows off new 'Wild Kitty' tattoo in a VERY unusual place\", 'ASEAN basketball league moves closer to reality', '19 Things All Families With Only Three People In Them Know', 'Unrest in Iran Sharply Deepens Rift Among Clerics', 'California Supreme Court strikes down ban on gay marriage', '26 Fandom Ship Wars That End Here And Now', \"This Guy Got A Very Unfortunate Tattoo And Now He Can't Remove It\", 'Can You Match The \"BoJack Horseman\" Quote To The Character', \"You won't believe what someone said to this woman to make her lose 4st in less than a year\", '13 Reasons 2015 Was The Year Of The Period', 'Padraig Harrington wins first PGA Tour event; The Honda Classic', \"Green Day dominates at MTV's 2005 Video Music Awards\", 'Giving Back, by Backpack', 'Man on Florida bus threatened with knife for praising Michael Jackson', \"Here Are The Real Places That Inspired Disney's Magic Kingdoms\", 'Senate Committee hears bailout proposal', '22 Pieces Of Winter Fashion Advice, As Told By Cats', 'Chile remembers its own September 11 anniversary', 'Two shot outside Los Angeles nightclub', 'Two shot on nuclear submarine in Southampton, England', 'Low morale reported among U.S. soldiers in Iraq', 'France warns of war with Iran', 'A Soccer World Traveler Comes Full Circle', 'Great products come from the heart', \"Why Didn't Drake And Steph Curry Invite Us To In-N-Out Burger Last Night\", 'Elián González joins Communist youth group, AP says', '14 Things All Girls With Thick Hair Know To Be True', 'Organic Dairies Watch the Good Times Turn Bad', 'A Common Face Cream Ingredient Could Be Used In The Fight Against Aging', 'Watch These Lesbians Give Gay Men Wardrobe Makeovers', 'Kate Hudson And Goldie Hawn Are Mom And Daughter Goals', 'Gbagbo appears at international court for alleged crimes against humanity', 'A Madoff Cookbook Has a Secret, Too', 'Electronic Cigarettes', 'Bristol Central Library reopens after being closed due to fire', \"7 Healthy Eating Tricks You'll Actually Want To Try\", 'American swimmer Michael Phelps laments \"bad judgment\" in marijuana controversy', 'The Paradox of Privacy', 'Ultimate Crowd-funded Discovery-Science Project: Hibernaut X-Periment', 'Which Warwick Rower Should You Be Dating Based On Your Favorite Disney Movie', 'BHP Closing Nickel Mine as Commodity Prices Fall', \"What's The Most Shocking Way You've Injured Yourself\", 'High-Flying Dwight Howard Rattles the Cavaliers', 'Going Mobile', \"Possible 'mastermind' of London bombings captured in Egypt\", \"Here's Proof All Beauty Brand Models Actually Look Exactly The Same\", 'How doctors were wrong to call me a too-busy mum', 'Women Try To Put On Lipstick With A Selfie Stick', '21 Amazing Cocktails For Anyone Who Loves Citrus', 'Parents Are Scaring Their Children Using The New Snapchat Filters', '21 Pictures That Are Way Too Real For People Who Grew Up With Strict Parents', 'Persistent rain storm in Northeast USA comes to an end', 'Megadvdrip.eu - mega indexer', 'Investors Are Seeing the Silver Linings', 'New Zealand Music Month kicks off for 2008', 'Amnesty International tells Iran to free imprisoned journalists', 'Marijuana Advocates Point to Signs of Change', 'Confirmed bird flu death in Nigeria', '18 Facts Every Lesbian Knows To Be 100% True', '11 Signs You Actually Have Senioritis', 'Ask HN: Are stealing Bitcoins a zero sum game for thieves?', \"Cargo plane crashes in Alaska's Denali Park, sparks wildfire\", \"You Won't Believe How Rachel Roy Handled a Run-in With Beyoncé\", 'Quiche is NOT an egg dish. It’s a cream and milk dish:', 'Would You Rather: \"Star Wars: The Force Awakens\" Edition', 'Former British Northern Ireland secretary Mo Mowlam dies', 'As Rodriguez Went Pro, His Teammate Went to College', 'The Worst Time Of Year For The Most Patient And Polite Man On The Internet Has Begun', 'Choking in Indian Cities - waiting for Godot?', \"Black Eyed Peas to release new album, 'I Gotta Feeling' reaches six million downloads\", '\"Girls\" star opens up about her eating disorder and recovery', 'Richard becomes a hurricane, threatens Belize', 'Find Out Your Horoscope For The Week Of November 23', 'Italian President ends visit to Ghana', 'Times Co. May Include 2nd Paper in Globe Sale', '2007/08 Bundesliga: MSV Duisburg vs. Bayern Munich', 'Tyra Banks Just Posted An Adorable Photo Of Her Newborn Son', 'H5N1 Avian Flu virus has mutated, study says', 'US, UK investigators collaborating after US 777 incident similar to London crash', 'All Ferrari front row on 2006 United States Grand Prix', '17 Incredibly Weird Things You Did When You Had A School Crush', 'Luxembourg votes Yes to the EU treaty', '22 Delicious Ways To Bring In 2016 With A Bang', '13 Dogs Who Look Just Like The 2016 Presidential Candidates', 'Change at Union May Re-energize Hollywood Talks', 'Southerners Guess Yorkshire Phrases', \"'Criminal in uniform': Senior London policeman jailed for attempting to frame Iraqi\", 'Fans worldwide queue for new iPhone', 'H5N1 hits Britain', 'This TBT Of Taylor Swift Will Make You Go \"Awww\"', 'We Found Out How Well The Cast Of \"Zoolander 2\" Really Know Each Other', \"This Dog Perfectly Photobombed His Owners' Engagement Photos\", 'Ireland? Iceland? Doubts on Doomsday Scenario in Eire', 'The One Thing You Never Noticed About Disney Characters', 'Once Upon A Time Just Made Two Extremely Exciting Announcements', \"Martha Stewart Shaded Wendy Williams For Bringing Up The Fact That She's In Her Seventies\", 'Protests Wane in Moldova as Vote Recount Is Announced', 'Fiery collision between prison van and truck kills seven in Alabama, US', 'We Know Your Favorite Male Celebrity Based On Your Favorite Female Celebrity', 'Synagogues burn as Palestinians rejoice over Israeli withdrawal from Gaza Strip', 'Which Avril Lavigne Song Matches Your Zodiac Sign', 'Which \"AHS: Hotel\" Character Matches Your Star Sign', \"US will remove 'terror' tag on North Korea\", 'Ask HN: What are your best resume tips?', '\"Keep my kids\\' name out of your mouth, keep my family out of your mouth.\\n\\n\"This is dad to dad. It\\'s a problem now.\"', \"Lula's future in the hands of Brazilian Parliament\", 'PSLV rocket launches ten satellites', 'Independent Film Service on Shopping Spree at Sundance', 'Bankruptcy Fuels Fear Over Preakness', '@GwynethPaltrow reveals birthday plans unwittingly opens a can of worms', \"Which HGTV Show Should You Watch When You're Filled With Existential Dread\", '19 Tweets About The Friend Zone That Are Way Too Real', \"These Pit Bull Brothers Are The Cutest Thing You'll See All Day\", 'Do You Have What It Takes To *Get* This Crossword Puzzle', \"25 Faces Everyone Who's Home For Thanksgiving Will Recognize\", \"13 Reasons Why Taylor Swift's 1989 World Tour Was The Best Part Of 2015\", 'National Party of Australia to trial community pre-selections at 2011 NSW election', 'Sex At The Beginning Of The Relationship Vs. After One Year', 'Former IOC President Samaranch dies at 89', 'This 23-Year-Old Went Blind In One Eye After Wearing Cheap Color Contacts', '23 Little Things You Still Have Time To Do In 2015', 'US president Obama honors soldiers killed in Afghanistan', 'Kenya peace talks put on hold', \"23 Completely Insane Valentine's Day Weddings\", 'Which Marvel TV Show Should You Give A Shot', 'Public disclosure made of final report on deaths of nine in Finnish school shooting', 'Which Classic Guitar Riff Are You', 'This Sexy Calendar Is For Anyone Who Has A \"Thing\" For Redhead Men', 'US Congresswoman Stephanie Tubbs Jones dies at age 58', '2008 YODEX Review: Varied competitions, Vast creations', 'LHC sets new particle energy acceleration record', 'Medical Review Firm, After Federal Sting, Goes Out of Business', 'Russian Rider Grabs Giro Lead in Treacherous Time Trial', 'MV Sirius Star oil tanker released by pirates', 'Wild storms lash New South Wales South Coast', 'Earnings Worries Push Markets Lower', 'TiVo Posts Loss as Its Growth Slows', \"Here's What You Should Actually Buy on Black Friday\", 'Creator of website satirizing Glenn Beck on winning domain name case', \"Their Car Started To Fill With Smoke. When They Looked At Their Son's Shoes They Couldn't Believe It\", 'West African Villagers Stake Their Fortunes on the Future Price of Rice', 'Filesharing software distributor LimeWire ordered to close by court', 'Hurricane Felix makes landfall in Nicaragua', '49 Lyrics From Adele\\'s \"25\" For When You Need A Deep Instagram Caption', 'Black People Learn About Kwanzaa', '23 Wonderfully Cozy Things You Need To Bake This Fall', 'When You Think You Hit It Off', '21 Adorable Red Panda Products You Need In Your Life', 'These High School Students Just Shut It Down With This Epic Lip Dub Video', 'Islamist militia driven out of Mogadishu, vow to keep fighting', 'No. 5 Maryland Shares A.C.C. Lead', \"Building partially collapses in New York City's Upper West Side\", '16 Reasons Being A Canadian Lesbian Is Such A Struggle', 'Which Dessert Pastry Matches Your Zodiac Sign', 'NASA just announced something big', 'Judge Allows Civil Lawsuit Over Claims of Torture', 'How Bad Are Your Selfies', 'Nevada Plane Crash Kills 4', 'How Far Would You Make It On \"Legends Of The Hidden Temple\"', \"Which Member Of Jennifer Lawrence's Growing Squad Are You\", \"How Well Do You Know The Lyrics To 5 Seconds Of Summer's Songs\", '15 Important Reminders For Anyone Who Wants To Lose Weight This Year', 'A Lonesome Oregon Ghost Town May Remain So', 'This Is What Bill Clinton Will Actually Be Called If Hillary Becomes President', 'Explosion in Afghanistan kills British soldier', 'US and UK diplomats detained in Zimbabwe', '31 Celebrity Bulges That Went Hard In 2015', '18 Tweets For Anyone Who Has A Fear Of Pooping In Public', 'Nintendo releases GameBoy Micro in the US', '12 Easy DIYs That Will Make You Fair And Lovely', \"23 Struggles People Who Don't Wear Contact Lenses Will Never Get\", \"Nigeria's cabinet dissolved by acting president\", 'New Hampshire Names 27 Clerics in Abuse Cases', 'Arthur Nadel Is Indicted for Investment Fraud', 'How Well Do You Remember The Lyrics To \"Molly Smiles\" From \"Uptown Girls\"', 'As baby boomers hit 65 startups helping older adults stay safe in their home', 'Steve Stricker Jumps Into Contention With a Personal Best', \"'Invitational Games for the Deaf, Taipei 2008' comes to an close\", \"This Crying Koala Is The Cutest Thing You'll See Today\", 'Obama Is Said to Consider Preventive Detention Plan', 'This Test Will Determine What Type Of Sex Matches Your Personality', \"You'll Never Believe What This Vet Found Inside This Stray Dog\", '19 Tweets That Are Way Too Funny For Everyone Who Loves Sleep', \"Girl's flu case found to be drug-resistant\", \"Son found his parents' wedding video from 1953. That's when it hits him\", 'Thousands protest privatisation of Australian electricity industry', 'Banks Brace for Credit Card Write-Offs', 'This Is What Holiday Shopping Looked Like Way Before Black Friday', \"They'll still find a way to call him a Nazi.\", 'Chechen and Russian mothers in shock after baby mix-up', 'In Madoff, a Court Trusts', 'Recover music from iPod', 'If you see this guy on a dating site, run a mile', 'Taylor Swift Should Actually Dye Her Hair Dark Brown', 'The Jet Black iPhone 7 Has A Major Flaw', 'Kristen Stewart Talks About Honesty, Privacy, And Her New Movie \"Equals\"', 'Dutch MP advocates proscription of Koran', 'Six killed in Sadr City bombing', 'Norwegian politicians face voter suppression allegations', '21 Puppies Who Are On The Naughty List This Year', 'How Over Winter Are You', 'Myanmar dissident Suu Kyi to run for parliament in by-elections', '@JTimberlake reveals which hit *NSYNC song was actually intended for Michael Jackson', 'Pushed to the Edge, the Celtics Climb Back', 'Foreign Films Get a Hand From Hollywood', 'Dear Academy, Please Give Leo DiCaprio A Fucking Oscar', \"Katy Perry Releases 'Totally Nude' Video\", '2006 Olympic Winter Games open in Italy', 'Lady Gaga Supports Paris Attack Victims By Stepping Out In The French Flag Colours', 'Torrential downpours cause significant flooding in northeastern Scotland', '23 Things That Were Way Harder Before Cell Phones', 'Public health officials advise on rising flu levels in Texas 2013/2014 season', 'Spain launches €11 billion stimulus package', 'Ask HN: Flipboard + Flattr - would you use it?', 'Newsreader Natasha Kaplinsky gives birth to baby boy', 'Mars Rover Doing Well After Memory Glitch', \"37 Science Facts We Didn't Know At The Start Of This Year\", \"Find out what Oympic silver medalist Hidilyn Diaz ate after winning in women's weightlifting. It's superbly unhealthy!\", \"The prettiest island you've never heard of\", 'Frontend developers compile this in your JVM to get hired by Mashape', 'Major drug store chain backs Obamacare', '18 Fabulous Reasons Regina George Is Perfect The Role Model', \"'Monster' fish killed in Swiss lake after biting swimmers\", 'British voice artist Roy Skelton dies at age 79', 'Airbus A380 safety test injures 33', 'Strangers Gave This Dying Groom His Dream Wedding', 'Ask HN: Is there a standard distributed notification protocol?', 'On China: Economic Outlook is Uncertain At Best...', 'Former Rwandan government minister Nyiramasuhuko convicted of genocide', 'Which Celeb *Actually* Won Halloween 2015', \"'Sahara' opens as top film in U.S., Canada\", 'Cuba restores relations with European Union', 'Did You Know This Incredible Story About Steve Buscemi And 9/11?', '4 Years for Christian Milton, Ex-A.I.G. Executive', '5 Newspapers in Northeast to Share Content', 'Which \"Jessica Jones\" Character Should You Team Up With', '2017 will be a big year for artificial intelligence, in ways you might not expect', 'How Do You Feel About Period Sex', 'These Baby Meerkats Are Too Precious For This World', '9 Fucking Ugly Tattoos Transformed Into Something New On \"Tattoo Fixers\"', 'Armed police arrest two more 21 July bombing suspects in dramatic raids', '29 Of The Fluffiest Things That Happened In 2015', 'National Star Wars Spoiler Day', 'Ask HN: What system do you use for tracking and annotating academic papers?', 'Justices Explore Role Race May Play in Employment', 'Two more UN peacekeepers killed after attack in Darfur', \"Why You Can't Eat the Best Chocolate Crinkles in Manila\", \"15 Awards For Anyone Who Definitely Has What's Going Around\", 'Students Stand When Called Upon, and When Not', 'Two police officers injured in Pentagon shooting incident', '24 Things People Slightly Obsessed With Reading Know To Be True', \"The Hardest Food Quiz You'll Ever Take\", 'Add Nuts to Your Diet With Sauces, Not Snacks', 'Bin Laden banished from Islam in Iberia', 'Fernando Alonso wins 2007 Italian Grand Prix', 'Human trafficking trial starts in Clearwater, Florida', 'Suicide bomber kills at least 45 in Lahore, Pakistan', 'Kesha Has A New Band Called \"Yeast Infection,\" So', 'One Side Makes Offer in Honduran Impasse', 'Ask HN: Looking for a remote UX/Python dev? Can meet in SF Bay Area 15-20 July.', 'Japan announces moon program', 'How Well Do You Know The Words To Eminem\\'s \"My Name Is\"', 'Rangers Pull Ahead of the Canadiens', 'How To Never Fuck Up Your Poached Eggs Again', \"For Everyone Who's Sexually Attracted To Deacon From Fallout 4\", 'Why Brazilians can’t help booing anything and everyone at the Olympics', 'Former Costa Rican president sentenced to jail on charges of corruption', 'Bush EPA nominee abandons insecticide-on-children study after Senate hearing', \"What Mark Stoops said after Kentucky's loss to Southern Mississippi\", '163 dead after lead poisoning in Nigeria', 'M.L.B. Investigators Seek Meeting With Rodriguez', '7 Highs And 4 Lows Of \"Grease: Live\"', '19 Confessions From People Who Are \"Defining The Relationship\"', 'Australian copyright laws to be overhauled in 2006', 'An Adorable Animals Advent Calendar: December 3', 'Hormel Earnings, Led by Spam, Beat Expectations', 'Lakers Regain Focus, Shaking Off the Nuggets', 'CanadaVOTES: CHP candidate Vicki Gunn in York—Simcoe', 'Turbulence likely cause of Mexico jet crash that killed ministers', 'Astros defeat Cardinals in second game of NLC', 'Blockyard - Virtual Legos with Motors', 'Suicide bomber assassinates prominent Shia cleric in Karachi, Pakistan', \"Sole Foods Street Farms opens North America's largest urban orchard\", 'Why @PassionPit canceled those concerts', 'Can You Ace This Extremely Difficult Color Matching Quiz', 'A 12-year-old girl has been burnt alive by Isis. These were her very last words', 'Bomb explodes on busy Beirut street', \"Arrests made in Australia after 'anti-terror' raids\", \"19 Times It's OK To Hit The Panic Button\", 'Coca growth up in Bolivia, Peru, claims U.S. State Department', 'Will hackers use this when giving presentations?', \"17 Books You Definitely Read If You Grew Up In The '00s\", 'Space Shuttle Discovery launches on final mission', 'Obama to ask for special BP claims fund over oil spill', 'Judge demands better conditions in Maricopa County Jail, Arizona; both sides claim victory', 'Uncertainty Clouds Outlook for Oil Sector', \"Melania's simple request for inaugural gown\", '18 Of The Most Offensive Things That Have Ever Happened At Swiss Chalet', 'Five Toronto teenagers charged with armed robbery', '19 Tumblr Posts That Are Too Real For Anime Fans', \"19 Things People Who Aren't Naturally Loud Will Never Understand\", \"Guess Who Amber Rose Wants to Be Her Next Baby's Father\", 'Fresh Paint and Flowers at Iraqi House of Horrors', '21 Things You Should Actually Do If You Win The Lottery', 'First-Generation Americans Talk About The American Dream', 'There\\'s A New Character Named Linkle In An Upcoming \"Zelda\" Game', 'Tropical Storm Katrina threatens Florida, Bahamas', 'Destroying Levees in a State Usually Clamoring for Them', 'Every Day I Want To Quit Social Media', \"What's The Best Thing You've Splurged On In Your 20s\", \"17 Dogs Who Will Kill You If You Don't Give Them A Goddamn Treat\", 'This Is What It Looks Like To Graduate 79 Years Late', '17 Photos Everyone Who Grew Up Eating Pan Dulce Will Relate To', '27 Simple Costumes You Can Totally Make The Day Before Halloween', 'Rower Tuijn halfway across Pacific in record attempt', 'This 30-Year-Old Man Had To Change His Email Address Because His Name Is Taylor Swift', \"What's Your Favorite Food Based On Your Zodiac Sign\", 'How Well Do You See Color', 'Which Character From \"Dance Academy\" Are You', 'Iraqi government to investigate Saddam video', \"Gay couple elected prom king and queen in Maine's Sanford High School\", 'Blair recognizes Kyoto treaty stopped by its restrictions', '11 Awards All Nurses Deserve', 'Lessons From Japan in Stemming a Crisis', '7 Awesome Ideas For Easy Weeknight Dinners', '19 Thoughts Everyone Has While Watching \"House Hunters\"', \"How To Check If You've Been Hacked Within Seconds\", 'Toxic air from Ukraine train derailment continues to make people sick', 'Zimbabwe begins vote recount', 'Al-Qaeda in Iraq second-in-command reported killed during US raid', \"FBI asked to assist in murder, kidnap investigation of Jennifer Hudson's relatives\", 'A Streaky Phil Mickelson', 'Film Channel Has Name, but No Network Carrier', 'Inventor Ronald Howes dies at age 83', \"Ask HN: Is Twitter's password reset not functioning?\", 'What Are You Sick Of Hearing About Being Unladylike', 'Pigskin A Blanket: NFL Week 5 Picks', 'Candidacy for Unesco by Egyptian Is Faltering', 'Home Depot Raises Its Outlook for Year', '\"True Blood\" star axed from latest \"X-Men\"', 'Are You More Jack Black Or Jack White', '13 Things Ruby Rose Looked Like At The MTV EMAs', 'Shocking Discovery About Tanning Beds', 'Texas continues to suffer record-breaking drought', 'What Are Your Best Tips For Keeping The Weight Off', '31 Beautiful Dog Tattoos Every Dog Lover Will Appreciate', 'Weird Ways Guys Say \"I Love You\"', 'UAE launches national authority for scientific research', 'At least 3 police officers killed in Pittsburgh shootings', 'We Tried Five Weeks Of Ballet Fitness And This Is What Happened', 'Richard Gasquet Confirms Failed Drug Test but Disputes It', 'Sellers Offer Guarantees to Address Layoff Worries', 'Some results released in recount of Zimbabwe election results', 'English court jails policeman over insurance fraud', 'The 20 Worst Times To Make Eye Contact', 'Church of England rejects compromise over women bishops', '24 Bizarre Animals That Are Named After Celebrities', \"Two Young Actors Give The Year's Most Heartachingly Mature Performances\", 'EU deems UK privacy laws inadequate, takes legal action', '8 Amazing People That Will Make You Appreciate Refugees', '17 Celebrity Instagrams You Need To See This Week', 'Are You Brave Enough To Date A Werewolf', 'Israel Lets Reporters See Devastated Gaza Site and Image of a Confident Military', 'We Tried The Sexy Donald Trump Costume And It Was A Disaster', \"Pittsburgh's Bettis to work as NBC studio analyst\", 'Mass industrial walkouts in UK', 'China Confirms Its Space Station Is Falling Back to Earth', 'This Veterinarian Ate With A Neglected Dog In A Cage To Make Her Feel Comfortable', 'US federal agents raid strip club empire in Washington state', 'Forest fires burn on in Greece; death toll nears 50', \"Here's A Sign Your Ex Might Be A Psychopath\", 'New South Wales Legislative Assembly votes in favor of same-sex adoption', 'Teen With Rare Brain Disease Speaks For The First Time After 4 Years Of Silence. LISTEN To What She Has To Say...', '25 Hilarious Tweets That Perfectly Capture Your Feelings About Animals', \"Here's why we can say that #Yamuna is dead\", '21 Kitchen Gadgets That Actually Help You Eat Healthier', \"Church of Scientology attempting to block 'intolerant' German film\", 'I.B.M. Tops Forecasts and Expects a Good 2009', 'The Story Of What Happened When Muhammad Ali Was Invited Upstairs By 3 Models', '8 Things To Help You Talk To Your Family About Your Eating Disorder', 'The 17 Worst Things You Could Say To Someone From Chicago', 'American Envoys Try to Defuse a Political Crisis in Pakistan', 'What Type Of Person Should You Marry Based On Your Food Preferences', 'Tamil protests underway in Oslo', 'Ventriloquist Dummies Are The Scariest Thing Ever', 'Stronger Euro Threatens Weak Economy in Europe', 'How Much Do You Really Know About \"Doctor Who\"', 'These simple kitchen hacks will make your groceries last so much longer', 'US Food and Drug Administration proposes new regulations on sunscreen labeling', '16 Texts 2016 Is Actually Dying To Send You', 'Spokesman: At least 55 dead after violence in Darfur, Sudan', 'Dungeons & Dragons co-creator Dave Arneson dies', 'Ian Paisley rejects Sinn Fein nomination', '27 Reasons Paris Geller Is The True Heroine Of \"Gilmore Girls\"', 'This Word Association Test Will Determine Your Personality', '16 Eyebrow Products That Are Actually Worth The Hype', 'In Rout, Gonzaga Wins West Coast Conference Title', 'UK Jobcentre call centre staff on 48-hour strike', 'Accused Qaeda Sleeper Agent in Court', '17 Photos That Prove Saskatoon Is Gorgeous As Heck', '33 Important Things We Learned From \"Ab Fab\"', 'Ask HN: How to mantain coding club in university', 'Background check verification', '20-year-old captures abusive police officer on tape', '24 Things You 100% Did Not Notice In \"Jurassic World\"', 'Northern Cyprus opposition party wins elections', 'Towers Perrin and Watson Wyatt in Merger', 'Interracial Couples Share The Appalling Things People Have Said To Them', 'Stephen Hawking: aliens \"almost certain to exist,\" could invade Earth', 'Hint of a Thaw for India and Pakistan', 'Is Taylor Swift The Clone Of A Former Satanic Leader? This Is Bizarre!', 'What Disney Princesses Would Look Like If My Boyfriend Answered My Phone Calls', 'Second-Half Defensive Stand Helps No. 2 Oklahoma Top No. 5 Baylor', 'Watch These Trainers Get Their Asses Kicked At Aerial Yoga', 'Gabrielle Union And Jimmy Fallon Hilariously Parodied Popular Songs On \"The Tonight Show\"', 'Indian Ocean tsunami, one year after', 'Hamid Karzai takes office as first elected president of Afghanistan', \"McDonald's Pies Around The World\", 'North Queensland Fury sign former Liverpool great Fowler', \"Malin Akerman Plays The World's Hardest Game Of  Would You Rather\", 'US woman sentenced to jail for faking son’s cancer', 'Irish inflation creeps upwards to 2.4%', '5 Super Simple DIYs You Need To Try This Month', 'Red colored EU passports worry Lithuanian politicians', 'Iranian president says move Israel to Europe', 'Van Jones environmental jobs adviser to US President Barack Obama resigns', '15 Painful Truths For Very Mal Canadian French Speakers', 'Suspected US drone attack kills at least fourteen in Pakistan', 'Taliban Losses Are No Sure Gain for Pakistanis', '16 BFFs Who Know The True Meaning Of Friendship', 'U.S. retailers sue world’s largest credit card issuer', \"What It's Like To Have A Micropenis\", 'Obama Moves to Undo Rule on Abortion Providers', 'Sci-fi and fantasy author Andre Norton dies', 'Man bites dog, charged with animal cruelty', 'The Strange Season of David Wright', \"Protesters against police violence surround London's Scotland Yard\", 'What free email provider do you use?', 'Latvia Is Shaken by Riots Over Its Weak Economy', 'Long Distance Best Friends', \"Einstein's equation turns 100\", 'Chess master Bobby Fischer dead at 64', \"Here's Proof That Cats Know They're The Boss Of Everyone\", \"This is what happens when a real-life tooth fairy visits kids at a dentist's office\", '17 Times \"Game Of Thrones\" Matched Up Perfectly With \"Parks & Rec\" Quotes', 'A Call for Smarter Regulation', 'Nosediving Rangers Fire Renney and Hire Tortorella', 'Thai PM declares state of emergency over airport blockades', 'Fighting AIDS, Peer to Peer', 'Why Do Black Women In Movies Have To Choose Between A Weave And A Relationship', 'Can A Lack Of Love Be Deadly?', '22 Shoppers Who Made A Hard And Important Decision', '5 Great Books To Read In November', 'Founders of Indian Company Interrogated', 'Lesbian Princess', '26 Office Accessories That Will Make You Happier To Be At Work', \"22 Heroes Who Don't Wear Capes\", 'For Wall Street, a Barrage of Mixed Messages', 'Trade for Shaq Looks Like a Blockbuster, But It Could Be a Bust', 'What Accessory Should You Get Based On Your Favorite Food', \"The People's Favorite Pokémon Isn't Pikachu: Here's Who Took The Crown\", \"21 Wedding Photos You'll Want To Pin Immediately\", 'Jenson Button wins Hungarian Grand Prix', 'AbitibiBowater Said to Be Making Progress on Debt', '21 Adorable Fox Products You Need In Your Life', '39 Things That Completely Terrify Everyone Who Works In An Office', 'Drug Trial Company Finds Itself Under Scrutiny', 'Top Air Force Officials Alter View on Fighter Jets', \"A fan tried to grab @jtimberlake's butt during his performance. This is what happened next\", 'This bank is closing the accounts of Iranian citizens', 'Why are so many Olympians covered in large red circles?', 'We Know How Your New Years Eve Will Be Based On Your Favorite Dog', 'Politicians and protesters prepare for G20 summit', 'Genzyme Halts Production of Two Drugs', \"This Is What It's Like To Grow Up Looking Different Than Your Parents\", '21 Weird Punishments People Actually Got When They Were Kids', 'Who Do You Think Should Win At The 2015 Emmy Awards', '27 Hilarious Tweets About Movies', 'Seven bushfires near Perth, Western Australia', 'From Serving in Iraq to White House Receptionist', 'Iraqi parliament approves delayed election law', '\"Spider-Man\" star slams reboot movies', 'This Airbnb Is A \"Netflix And Chill\" Utopia', 'North Dakota Logo Design State of North Dakota Logos Samples', 'Keri Russell gave her baby boy such a CLASSIC name', 'Iranian plane crashes on runway, 17 dead', 'U.S. Cyclist, Christian Vande Velde, Adds Flair to His Win', 'Seven Canadians killed by Israeli air strike', '10 Gin Cocktails With 4 Ingredients Or Fewer', \"I'm Queer, The Mormon Church Doesn't Want Me, But I'm Staying\", 'What Is Stressing These People Out', 'Dispute Between Armstrong and French Agency Heats Up', 'Hot Debate Gives Way to Embrace of Obama', 'Gwanda Chakuamba freed by Malawi court', 'Survey Reveals Broad Support for President', \"Watch Divorced Parents Tell Their Son's Stepparents How They Really Feel About Them\", '7 Struggles Of Taking One More Shot', '21 Cats Who Will Sway The Non-Believers', 'Wells Fargo Sweating Stress Test', '18 Hilarious Tweets That Perfectly Sum Up Laziness', 'Black Boxes From Iranian Air Crash Found', 'It\\'s a Festivus miracle! Good news for \"Seinfeld\" fans', 'Take This Picture Test To Determine Your Dominant Personality Trait', 'Are You More Justin Timberlake Or Jimmy Fallon', 'African leaders start drive to eradicate malaria', 'From Arctic Soil, Fossils of a Goliath That Ruled the Jurassic Seas', '17 Truths Only Female Best Friends Will Understand', 'Limits on Logging Are Reinstated', 'Sources close to both sides say NHL, NHLPA agree on Salary Cap structure', 'United Kingdom officially enters economic recession', '\"Face\" of Anonymous quits -- interview with Barrett Brown', '25 killed and 33 injured as explosion rips through Chinese karaoke bar', 'Man charged over London bombings', 'We Know Your Hogwarts House Based On The Things You Hate', 'Ford Rejects Big Cuts in Dealer Network', 'British comedian Eddie Izzard completes 43 marathons in 51 days', 'People Try Alcoholic Eggnog', 'Winter wonderland: the recent U.S. blizzard in photos', \"This is the Secret to the Insane BLT at Tom Colicchio's New Sandwich Shop\", 'US pool player Wade Crane dies in car accident age 66', \"'Enough, enough, enough, enough': 1700 women march against mass rape in DR Congo\", 'Chinese Grease the Wheels of Power With Luxury Gifts', \"Row over Lech Wałęsa's alleged collaboration with communists escalates\", 'This Group Is Sending Hand Sanitisers To Mark Zuckerberg For Each Victim Of The 2002 Gujarat Riots', 'Wikinews interviews Peter Coti, eyewitness to north eastern US storm', \"Political pundits debate Fred Thompson's younger wife\", \"Things You Can Do If You Are Spending New Year's Eve Alone\", 'British pilot dies in plane crash; nine passengers survive', 'Iran close to decision on nuclear program', 'Australian rules football: Drouin through to 2010 Gippsland Football League Grand Final', \"Pakistan's parliament elects first female speaker\", 'The Original Jan From \"The Brady Bunch\" Was The Shop Teacher In \"Grease: Live\"', 'Australian Bureau of Statistics faces budget cut', 'Cuba Eliminates Mexico, 7-4, at Classic', 'If Disney Princesses Did Fall Activities', 'That Time I Sharted My Pants: Lady Edition']\n"
          ]
        }
      ]
    },
    {
      "cell_type": "code",
      "source": [
        "#print the predictions\n",
        "print(predictions)\n",
        "\n",
        "#create a formatted list of 0's (NOT) and 1's (CLICKBAIT) to compare the predictions with the test set\n",
        "predicted_labels = []\n",
        "for prediction in predictions:\n",
        "  if(prediction['label'] == 'NOT'):\n",
        "    predicted_labels.append(0)\n",
        "  else:\n",
        "    predicted_labels.append(1)\n",
        "\n",
        "print(predicted_labels)"
      ],
      "metadata": {
        "id": "47JF6njDajLl",
        "outputId": "832cea6f-e0d7-40d3-fae2-8f4096fcf225",
        "colab": {
          "base_uri": "https://localhost:8080/"
        }
      },
      "execution_count": 49,
      "outputs": [
        {
          "output_type": "stream",
          "name": "stdout",
          "text": [
            "[{'label': 'CLICKBAIT', 'score': 0.9997256398200989}, {'label': 'CLICKBAIT', 'score': 0.9992271661758423}, {'label': 'NOT', 'score': 0.9993070363998413}, {'label': 'NOT', 'score': 0.998336672782898}, {'label': 'CLICKBAIT', 'score': 0.9996089339256287}, {'label': 'CLICKBAIT', 'score': 0.9991596937179565}, {'label': 'NOT', 'score': 0.9974313378334045}, {'label': 'CLICKBAIT', 'score': 0.9995869994163513}, {'label': 'CLICKBAIT', 'score': 0.9992958307266235}, {'label': 'NOT', 'score': 0.9989032745361328}, {'label': 'CLICKBAIT', 'score': 0.9992644190788269}, {'label': 'CLICKBAIT', 'score': 0.9974333643913269}, {'label': 'CLICKBAIT', 'score': 0.8132861852645874}, {'label': 'CLICKBAIT', 'score': 0.9997565150260925}, {'label': 'NOT', 'score': 0.9994753003120422}, {'label': 'CLICKBAIT', 'score': 0.9984526634216309}, {'label': 'NOT', 'score': 0.9994357228279114}, {'label': 'NOT', 'score': 0.9987861514091492}, {'label': 'NOT', 'score': 0.9992884397506714}, {'label': 'NOT', 'score': 0.99935382604599}, {'label': 'CLICKBAIT', 'score': 0.9993981122970581}, {'label': 'NOT', 'score': 0.9735329151153564}, {'label': 'CLICKBAIT', 'score': 0.9992796778678894}, {'label': 'CLICKBAIT', 'score': 0.9996920824050903}, {'label': 'NOT', 'score': 0.9991631507873535}, {'label': 'CLICKBAIT', 'score': 0.9997046589851379}, {'label': 'NOT', 'score': 0.9993879795074463}, {'label': 'CLICKBAIT', 'score': 0.999650239944458}, {'label': 'NOT', 'score': 0.9990780353546143}, {'label': 'CLICKBAIT', 'score': 0.998723566532135}, {'label': 'NOT', 'score': 0.9993083477020264}, {'label': 'CLICKBAIT', 'score': 0.9997281432151794}, {'label': 'NOT', 'score': 0.9994516968727112}, {'label': 'CLICKBAIT', 'score': 0.9997374415397644}, {'label': 'CLICKBAIT', 'score': 0.9996733665466309}, {'label': 'CLICKBAIT', 'score': 0.9996984004974365}, {'label': 'CLICKBAIT', 'score': 0.9990447163581848}, {'label': 'CLICKBAIT', 'score': 0.9995749592781067}, {'label': 'CLICKBAIT', 'score': 0.9946556091308594}, {'label': 'CLICKBAIT', 'score': 0.9997443556785583}, {'label': 'NOT', 'score': 0.9992709755897522}, {'label': 'NOT', 'score': 0.9992092847824097}, {'label': 'CLICKBAIT', 'score': 0.9989401698112488}, {'label': 'NOT', 'score': 0.999357283115387}, {'label': 'NOT', 'score': 0.9988231062889099}, {'label': 'CLICKBAIT', 'score': 0.9996395111083984}, {'label': 'NOT', 'score': 0.9993614554405212}, {'label': 'NOT', 'score': 0.998960018157959}, {'label': 'CLICKBAIT', 'score': 0.7162665128707886}, {'label': 'CLICKBAIT', 'score': 0.9667132496833801}, {'label': 'NOT', 'score': 0.9986552000045776}, {'label': 'NOT', 'score': 0.9994785189628601}, {'label': 'CLICKBAIT', 'score': 0.9995349645614624}, {'label': 'NOT', 'score': 0.9993283748626709}, {'label': 'NOT', 'score': 0.9991284012794495}, {'label': 'NOT', 'score': 0.9993378520011902}, {'label': 'NOT', 'score': 0.9994623064994812}, {'label': 'CLICKBAIT', 'score': 0.9996652603149414}, {'label': 'NOT', 'score': 0.9994511008262634}, {'label': 'CLICKBAIT', 'score': 0.9997414946556091}, {'label': 'NOT', 'score': 0.9992403984069824}, {'label': 'CLICKBAIT', 'score': 0.9996111989021301}, {'label': 'CLICKBAIT', 'score': 0.9996461868286133}, {'label': 'CLICKBAIT', 'score': 0.6555529832839966}, {'label': 'CLICKBAIT', 'score': 0.9996275901794434}, {'label': 'NOT', 'score': 0.9992029070854187}, {'label': 'CLICKBAIT', 'score': 0.9941831231117249}, {'label': 'NOT', 'score': 0.9993676543235779}, {'label': 'NOT', 'score': 0.999351441860199}, {'label': 'CLICKBAIT', 'score': 0.9997336268424988}, {'label': 'CLICKBAIT', 'score': 0.9947379231452942}, {'label': 'NOT', 'score': 0.9992173910140991}, {'label': 'CLICKBAIT', 'score': 0.9975110292434692}, {'label': 'CLICKBAIT', 'score': 0.7538168430328369}, {'label': 'CLICKBAIT', 'score': 0.9995607733726501}, {'label': 'NOT', 'score': 0.9990794658660889}, {'label': 'CLICKBAIT', 'score': 0.9988774657249451}, {'label': 'NOT', 'score': 0.998656153678894}, {'label': 'NOT', 'score': 0.9858213067054749}, {'label': 'CLICKBAIT', 'score': 0.9722310900688171}, {'label': 'NOT', 'score': 0.6211622357368469}, {'label': 'NOT', 'score': 0.9994763731956482}, {'label': 'NOT', 'score': 0.9991414546966553}, {'label': 'NOT', 'score': 0.9992157220840454}, {'label': 'CLICKBAIT', 'score': 0.999658465385437}, {'label': 'CLICKBAIT', 'score': 0.9995457530021667}, {'label': 'CLICKBAIT', 'score': 0.9933920502662659}, {'label': 'CLICKBAIT', 'score': 0.9981424808502197}, {'label': 'CLICKBAIT', 'score': 0.9997243285179138}, {'label': 'NOT', 'score': 0.9990553259849548}, {'label': 'CLICKBAIT', 'score': 0.9633426070213318}, {'label': 'NOT', 'score': 0.9990139007568359}, {'label': 'NOT', 'score': 0.9923481941223145}, {'label': 'CLICKBAIT', 'score': 0.98787921667099}, {'label': 'CLICKBAIT', 'score': 0.9996629953384399}, {'label': 'CLICKBAIT', 'score': 0.9996626377105713}, {'label': 'CLICKBAIT', 'score': 0.9989572763442993}, {'label': 'NOT', 'score': 0.9993805885314941}, {'label': 'CLICKBAIT', 'score': 0.9992389678955078}, {'label': 'NOT', 'score': 0.9992639422416687}, {'label': 'CLICKBAIT', 'score': 0.9996746778488159}, {'label': 'NOT', 'score': 0.9994687438011169}, {'label': 'CLICKBAIT', 'score': 0.9995564818382263}, {'label': 'CLICKBAIT', 'score': 0.9956373572349548}, {'label': 'NOT', 'score': 0.9994189739227295}, {'label': 'NOT', 'score': 0.9993919134140015}, {'label': 'NOT', 'score': 0.9994181394577026}, {'label': 'NOT', 'score': 0.9985670447349548}, {'label': 'NOT', 'score': 0.9991071820259094}, {'label': 'CLICKBAIT', 'score': 0.9992876648902893}, {'label': 'CLICKBAIT', 'score': 0.9997230172157288}, {'label': 'NOT', 'score': 0.9967318773269653}, {'label': 'CLICKBAIT', 'score': 0.9997534155845642}, {'label': 'NOT', 'score': 0.9961407780647278}, {'label': 'CLICKBAIT', 'score': 0.9987561702728271}, {'label': 'CLICKBAIT', 'score': 0.9997496008872986}, {'label': 'CLICKBAIT', 'score': 0.9995874762535095}, {'label': 'NOT', 'score': 0.9993957281112671}, {'label': 'NOT', 'score': 0.9915418028831482}, {'label': 'CLICKBAIT', 'score': 0.9996777772903442}, {'label': 'NOT', 'score': 0.9967162609100342}, {'label': 'NOT', 'score': 0.9990873336791992}, {'label': 'CLICKBAIT', 'score': 0.9994099140167236}, {'label': 'CLICKBAIT', 'score': 0.9991090893745422}, {'label': 'NOT', 'score': 0.9991331696510315}, {'label': 'CLICKBAIT', 'score': 0.9997417330741882}, {'label': 'CLICKBAIT', 'score': 0.9995566010475159}, {'label': 'CLICKBAIT', 'score': 0.8849742412567139}, {'label': 'CLICKBAIT', 'score': 0.999543309211731}, {'label': 'CLICKBAIT', 'score': 0.9990898370742798}, {'label': 'NOT', 'score': 0.9993115663528442}, {'label': 'NOT', 'score': 0.9990642666816711}, {'label': 'CLICKBAIT', 'score': 0.9996827840805054}, {'label': 'CLICKBAIT', 'score': 0.9996421337127686}, {'label': 'CLICKBAIT', 'score': 0.9996691942214966}, {'label': 'CLICKBAIT', 'score': 0.9990666508674622}, {'label': 'CLICKBAIT', 'score': 0.9996873140335083}, {'label': 'CLICKBAIT', 'score': 0.9986045956611633}, {'label': 'CLICKBAIT', 'score': 0.9996466636657715}, {'label': 'CLICKBAIT', 'score': 0.9996863603591919}, {'label': 'NOT', 'score': 0.9565646648406982}, {'label': 'CLICKBAIT', 'score': 0.9994245767593384}, {'label': 'CLICKBAIT', 'score': 0.9984038472175598}, {'label': 'CLICKBAIT', 'score': 0.9997231364250183}, {'label': 'CLICKBAIT', 'score': 0.9993684887886047}, {'label': 'CLICKBAIT', 'score': 0.9996305704116821}, {'label': 'NOT', 'score': 0.9994916915893555}, {'label': 'NOT', 'score': 0.999255359172821}, {'label': 'CLICKBAIT', 'score': 0.9997056126594543}, {'label': 'CLICKBAIT', 'score': 0.9989662170410156}, {'label': 'CLICKBAIT', 'score': 0.9994202852249146}, {'label': 'NOT', 'score': 0.9987223744392395}, {'label': 'NOT', 'score': 0.999129593372345}, {'label': 'NOT', 'score': 0.9993890523910522}, {'label': 'CLICKBAIT', 'score': 0.9996856451034546}, {'label': 'CLICKBAIT', 'score': 0.9993708729743958}, {'label': 'NOT', 'score': 0.9975847005844116}, {'label': 'CLICKBAIT', 'score': 0.9995724558830261}, {'label': 'CLICKBAIT', 'score': 0.9975743889808655}, {'label': 'NOT', 'score': 0.9994282126426697}, {'label': 'NOT', 'score': 0.9814367890357971}, {'label': 'CLICKBAIT', 'score': 0.9996917247772217}, {'label': 'CLICKBAIT', 'score': 0.9997190833091736}, {'label': 'NOT', 'score': 0.9993942975997925}, {'label': 'NOT', 'score': 0.9986312985420227}, {'label': 'CLICKBAIT', 'score': 0.6585045456886292}, {'label': 'NOT', 'score': 0.9994426369667053}, {'label': 'CLICKBAIT', 'score': 0.9997310042381287}, {'label': 'NOT', 'score': 0.9973366856575012}, {'label': 'NOT', 'score': 0.9994303584098816}, {'label': 'CLICKBAIT', 'score': 0.9997232556343079}, {'label': 'NOT', 'score': 0.9991280436515808}, {'label': 'CLICKBAIT', 'score': 0.9997145533561707}, {'label': 'NOT', 'score': 0.9994685053825378}, {'label': 'NOT', 'score': 0.999271810054779}, {'label': 'CLICKBAIT', 'score': 0.9997472167015076}, {'label': 'NOT', 'score': 0.9992227554321289}, {'label': 'NOT', 'score': 0.9990342855453491}, {'label': 'CLICKBAIT', 'score': 0.9997588992118835}, {'label': 'NOT', 'score': 0.9990623593330383}, {'label': 'NOT', 'score': 0.9992133378982544}, {'label': 'NOT', 'score': 0.9993898868560791}, {'label': 'CLICKBAIT', 'score': 0.999589741230011}, {'label': 'NOT', 'score': 0.9987863898277283}, {'label': 'CLICKBAIT', 'score': 0.9996742010116577}, {'label': 'CLICKBAIT', 'score': 0.9996659755706787}, {'label': 'CLICKBAIT', 'score': 0.9996622800827026}, {'label': 'NOT', 'score': 0.9867904782295227}, {'label': 'NOT', 'score': 0.9993858337402344}, {'label': 'CLICKBAIT', 'score': 0.9996126294136047}, {'label': 'NOT', 'score': 0.9991015195846558}, {'label': 'NOT', 'score': 0.9987955093383789}, {'label': 'NOT', 'score': 0.9993830919265747}, {'label': 'CLICKBAIT', 'score': 0.9996860027313232}, {'label': 'CLICKBAIT', 'score': 0.9997275471687317}, {'label': 'NOT', 'score': 0.9986600875854492}, {'label': 'NOT', 'score': 0.9885784387588501}, {'label': 'NOT', 'score': 0.9951424598693848}, {'label': 'NOT', 'score': 0.9992685914039612}, {'label': 'CLICKBAIT', 'score': 0.99957674741745}, {'label': 'CLICKBAIT', 'score': 0.9997062087059021}, {'label': 'CLICKBAIT', 'score': 0.9997238516807556}, {'label': 'NOT', 'score': 0.9993323683738708}, {'label': 'NOT', 'score': 0.9988368153572083}, {'label': 'CLICKBAIT', 'score': 0.9997361302375793}, {'label': 'CLICKBAIT', 'score': 0.9245523810386658}, {'label': 'CLICKBAIT', 'score': 0.9991686344146729}, {'label': 'CLICKBAIT', 'score': 0.9997093081474304}, {'label': 'NOT', 'score': 0.7669932842254639}, {'label': 'CLICKBAIT', 'score': 0.9997125267982483}, {'label': 'CLICKBAIT', 'score': 0.9997242093086243}, {'label': 'CLICKBAIT', 'score': 0.9995169639587402}, {'label': 'NOT', 'score': 0.9993957281112671}, {'label': 'CLICKBAIT', 'score': 0.9871225357055664}, {'label': 'CLICKBAIT', 'score': 0.9997400641441345}, {'label': 'CLICKBAIT', 'score': 0.9977051615715027}, {'label': 'NOT', 'score': 0.9984270334243774}, {'label': 'NOT', 'score': 0.9991437196731567}, {'label': 'CLICKBAIT', 'score': 0.9994487166404724}, {'label': 'CLICKBAIT', 'score': 0.9997201561927795}, {'label': 'CLICKBAIT', 'score': 0.9996893405914307}, {'label': 'CLICKBAIT', 'score': 0.9996860027313232}, {'label': 'NOT', 'score': 0.9993589520454407}, {'label': 'CLICKBAIT', 'score': 0.9995905756950378}, {'label': 'NOT', 'score': 0.9991894364356995}, {'label': 'NOT', 'score': 0.9993379712104797}, {'label': 'NOT', 'score': 0.9991821646690369}, {'label': 'CLICKBAIT', 'score': 0.9996657371520996}, {'label': 'CLICKBAIT', 'score': 0.9027310013771057}, {'label': 'NOT', 'score': 0.9990302324295044}, {'label': 'NOT', 'score': 0.9990195035934448}, {'label': 'CLICKBAIT', 'score': 0.9997251629829407}, {'label': 'CLICKBAIT', 'score': 0.9997362494468689}, {'label': 'CLICKBAIT', 'score': 0.9997442364692688}, {'label': 'NOT', 'score': 0.9993045330047607}, {'label': 'NOT', 'score': 0.9994902610778809}, {'label': 'NOT', 'score': 0.9994311928749084}, {'label': 'NOT', 'score': 0.9992913007736206}, {'label': 'NOT', 'score': 0.9936094284057617}, {'label': 'CLICKBAIT', 'score': 0.9997448325157166}, {'label': 'CLICKBAIT', 'score': 0.999768078327179}, {'label': 'NOT', 'score': 0.998047947883606}, {'label': 'CLICKBAIT', 'score': 0.9996715784072876}, {'label': 'NOT', 'score': 0.9981492757797241}, {'label': 'NOT', 'score': 0.9990321397781372}, {'label': 'NOT', 'score': 0.9994681477546692}, {'label': 'CLICKBAIT', 'score': 0.9991982579231262}, {'label': 'NOT', 'score': 0.9994662404060364}, {'label': 'CLICKBAIT', 'score': 0.9997101426124573}, {'label': 'CLICKBAIT', 'score': 0.999670147895813}, {'label': 'NOT', 'score': 0.9977731108665466}, {'label': 'NOT', 'score': 0.999159574508667}, {'label': 'CLICKBAIT', 'score': 0.9997449517250061}, {'label': 'NOT', 'score': 0.9964250922203064}, {'label': 'NOT', 'score': 0.9994511008262634}, {'label': 'CLICKBAIT', 'score': 0.999645471572876}, {'label': 'CLICKBAIT', 'score': 0.9996620416641235}, {'label': 'CLICKBAIT', 'score': 0.9996702671051025}, {'label': 'NOT', 'score': 0.9988641738891602}, {'label': 'NOT', 'score': 0.997718870639801}, {'label': 'NOT', 'score': 0.9990850687026978}, {'label': 'CLICKBAIT', 'score': 0.9990737438201904}, {'label': 'CLICKBAIT', 'score': 0.9994845390319824}, {'label': 'NOT', 'score': 0.9989126920700073}, {'label': 'NOT', 'score': 0.9994412064552307}, {'label': 'NOT', 'score': 0.999454915523529}, {'label': 'NOT', 'score': 0.9986176490783691}, {'label': 'CLICKBAIT', 'score': 0.9996799230575562}, {'label': 'NOT', 'score': 0.9972659349441528}, {'label': 'CLICKBAIT', 'score': 0.5381990075111389}, {'label': 'CLICKBAIT', 'score': 0.9877738356590271}, {'label': 'NOT', 'score': 0.9976381063461304}, {'label': 'CLICKBAIT', 'score': 0.9996572732925415}, {'label': 'NOT', 'score': 0.9972825050354004}, {'label': 'CLICKBAIT', 'score': 0.9997504353523254}, {'label': 'NOT', 'score': 0.9994718432426453}, {'label': 'CLICKBAIT', 'score': 0.9996660947799683}, {'label': 'NOT', 'score': 0.9983819723129272}, {'label': 'CLICKBAIT', 'score': 0.9997076392173767}, {'label': 'NOT', 'score': 0.990172266960144}, {'label': 'CLICKBAIT', 'score': 0.9997091889381409}, {'label': 'CLICKBAIT', 'score': 0.9995549321174622}, {'label': 'CLICKBAIT', 'score': 0.9994791150093079}, {'label': 'CLICKBAIT', 'score': 0.9995749592781067}, {'label': 'CLICKBAIT', 'score': 0.9985344409942627}, {'label': 'NOT', 'score': 0.9993789196014404}, {'label': 'CLICKBAIT', 'score': 0.997947633266449}, {'label': 'CLICKBAIT', 'score': 0.9125664234161377}, {'label': 'CLICKBAIT', 'score': 0.9994276165962219}, {'label': 'NOT', 'score': 0.9994038343429565}, {'label': 'NOT', 'score': 0.999235987663269}, {'label': 'NOT', 'score': 0.9981576800346375}, {'label': 'NOT', 'score': 0.9992738366127014}, {'label': 'NOT', 'score': 0.9993869066238403}, {'label': 'CLICKBAIT', 'score': 0.9995879530906677}, {'label': 'NOT', 'score': 0.9991251826286316}, {'label': 'CLICKBAIT', 'score': 0.9996771812438965}, {'label': 'CLICKBAIT', 'score': 0.9997369647026062}, {'label': 'NOT', 'score': 0.9995003938674927}, {'label': 'CLICKBAIT', 'score': 0.9997406601905823}, {'label': 'NOT', 'score': 0.9989687204360962}, {'label': 'CLICKBAIT', 'score': 0.9995139837265015}, {'label': 'NOT', 'score': 0.9994545578956604}, {'label': 'NOT', 'score': 0.9977445602416992}, {'label': 'NOT', 'score': 0.9970349073410034}, {'label': 'CLICKBAIT', 'score': 0.9993873834609985}, {'label': 'CLICKBAIT', 'score': 0.9997201561927795}, {'label': 'NOT', 'score': 0.9987370371818542}, {'label': 'NOT', 'score': 0.9994609951972961}, {'label': 'NOT', 'score': 0.998971700668335}, {'label': 'CLICKBAIT', 'score': 0.9997265934944153}, {'label': 'CLICKBAIT', 'score': 0.9992436170578003}, {'label': 'NOT', 'score': 0.9993999004364014}, {'label': 'CLICKBAIT', 'score': 0.9996609687805176}, {'label': 'CLICKBAIT', 'score': 0.9996817111968994}, {'label': 'NOT', 'score': 0.9993724226951599}, {'label': 'NOT', 'score': 0.9994252920150757}, {'label': 'NOT', 'score': 0.997198224067688}, {'label': 'CLICKBAIT', 'score': 0.9994990825653076}, {'label': 'CLICKBAIT', 'score': 0.9997169375419617}, {'label': 'NOT', 'score': 0.937487781047821}, {'label': 'NOT', 'score': 0.9991636276245117}, {'label': 'NOT', 'score': 0.8084818720817566}, {'label': 'CLICKBAIT', 'score': 0.9992758631706238}, {'label': 'CLICKBAIT', 'score': 0.99973064661026}, {'label': 'NOT', 'score': 0.9993645548820496}, {'label': 'NOT', 'score': 0.998887836933136}, {'label': 'NOT', 'score': 0.999190628528595}, {'label': 'NOT', 'score': 0.9992491602897644}, {'label': 'NOT', 'score': 0.9991888403892517}, {'label': 'NOT', 'score': 0.9992132186889648}, {'label': 'NOT', 'score': 0.9993661046028137}, {'label': 'CLICKBAIT', 'score': 0.9997485280036926}, {'label': 'CLICKBAIT', 'score': 0.9997366070747375}, {'label': 'CLICKBAIT', 'score': 0.9994425177574158}, {'label': 'CLICKBAIT', 'score': 0.9988552331924438}, {'label': 'CLICKBAIT', 'score': 0.9956089854240417}, {'label': 'NOT', 'score': 0.9992454051971436}, {'label': 'NOT', 'score': 0.9989528656005859}, {'label': 'CLICKBAIT', 'score': 0.9997108578681946}, {'label': 'NOT', 'score': 0.9994146823883057}, {'label': 'NOT', 'score': 0.9994490742683411}, {'label': 'CLICKBAIT', 'score': 0.9997559189796448}, {'label': 'NOT', 'score': 0.9989463686943054}, {'label': 'CLICKBAIT', 'score': 0.9994803071022034}, {'label': 'NOT', 'score': 0.8998819589614868}, {'label': 'NOT', 'score': 0.9992558360099792}, {'label': 'CLICKBAIT', 'score': 0.9994282126426697}, {'label': 'CLICKBAIT', 'score': 0.9995833039283752}, {'label': 'CLICKBAIT', 'score': 0.9981731176376343}, {'label': 'CLICKBAIT', 'score': 0.9995231628417969}, {'label': 'CLICKBAIT', 'score': 0.9997161030769348}, {'label': 'CLICKBAIT', 'score': 0.9969634413719177}, {'label': 'NOT', 'score': 0.9876339435577393}, {'label': 'NOT', 'score': 0.9991909861564636}, {'label': 'CLICKBAIT', 'score': 0.9995145797729492}, {'label': 'NOT', 'score': 0.999086856842041}, {'label': 'CLICKBAIT', 'score': 0.9996658563613892}, {'label': 'CLICKBAIT', 'score': 0.999600350856781}, {'label': 'CLICKBAIT', 'score': 0.9995318651199341}, {'label': 'CLICKBAIT', 'score': 0.9995520710945129}, {'label': 'CLICKBAIT', 'score': 0.9827772378921509}, {'label': 'NOT', 'score': 0.9991762042045593}, {'label': 'NOT', 'score': 0.9992930889129639}, {'label': 'CLICKBAIT', 'score': 0.9974998831748962}, {'label': 'CLICKBAIT', 'score': 0.9997389912605286}, {'label': 'CLICKBAIT', 'score': 0.9997426867485046}, {'label': 'NOT', 'score': 0.9989224672317505}, {'label': 'CLICKBAIT', 'score': 0.9996711015701294}, {'label': 'CLICKBAIT', 'score': 0.9996687173843384}, {'label': 'NOT', 'score': 0.9986461997032166}, {'label': 'NOT', 'score': 0.9993699193000793}, {'label': 'NOT', 'score': 0.9992963075637817}, {'label': 'NOT', 'score': 0.9984179735183716}, {'label': 'NOT', 'score': 0.9990946054458618}, {'label': 'NOT', 'score': 0.999387264251709}, {'label': 'CLICKBAIT', 'score': 0.9974756836891174}, {'label': 'NOT', 'score': 0.9984305500984192}, {'label': 'CLICKBAIT', 'score': 0.6812655329704285}, {'label': 'NOT', 'score': 0.9989920258522034}, {'label': 'CLICKBAIT', 'score': 0.9969823956489563}, {'label': 'CLICKBAIT', 'score': 0.9997251629829407}, {'label': 'NOT', 'score': 0.9994776844978333}, {'label': 'NOT', 'score': 0.9490325450897217}, {'label': 'CLICKBAIT', 'score': 0.9884264469146729}, {'label': 'NOT', 'score': 0.9993759989738464}, {'label': 'NOT', 'score': 0.9994832277297974}, {'label': 'NOT', 'score': 0.9993284940719604}, {'label': 'NOT', 'score': 0.9992877840995789}, {'label': 'CLICKBAIT', 'score': 0.9993292093276978}, {'label': 'CLICKBAIT', 'score': 0.7169747352600098}, {'label': 'CLICKBAIT', 'score': 0.9994204044342041}, {'label': 'NOT', 'score': 0.9992542862892151}, {'label': 'CLICKBAIT', 'score': 0.9960647225379944}, {'label': 'CLICKBAIT', 'score': 0.9996432065963745}, {'label': 'CLICKBAIT', 'score': 0.9990099668502808}, {'label': 'NOT', 'score': 0.989989161491394}, {'label': 'NOT', 'score': 0.999300479888916}, {'label': 'CLICKBAIT', 'score': 0.9996474981307983}, {'label': 'CLICKBAIT', 'score': 0.9997360110282898}, {'label': 'CLICKBAIT', 'score': 0.9985166192054749}, {'label': 'NOT', 'score': 0.9988920092582703}, {'label': 'NOT', 'score': 0.9989504218101501}, {'label': 'CLICKBAIT', 'score': 0.9995538592338562}, {'label': 'NOT', 'score': 0.999488115310669}, {'label': 'CLICKBAIT', 'score': 0.9996259212493896}, {'label': 'NOT', 'score': 0.9994310736656189}, {'label': 'NOT', 'score': 0.9865930676460266}, {'label': 'NOT', 'score': 0.9991494417190552}, {'label': 'CLICKBAIT', 'score': 0.999625563621521}, {'label': 'CLICKBAIT', 'score': 0.9995166063308716}, {'label': 'CLICKBAIT', 'score': 0.9994619488716125}, {'label': 'CLICKBAIT', 'score': 0.9994940757751465}, {'label': 'CLICKBAIT', 'score': 0.9995412826538086}, {'label': 'CLICKBAIT', 'score': 0.9996310472488403}, {'label': 'CLICKBAIT', 'score': 0.9995477795600891}, {'label': 'NOT', 'score': 0.998126208782196}, {'label': 'NOT', 'score': 0.9976457953453064}, {'label': 'NOT', 'score': 0.9993569254875183}, {'label': 'CLICKBAIT', 'score': 0.9995506405830383}, {'label': 'NOT', 'score': 0.9908359050750732}, {'label': 'NOT', 'score': 0.9993656277656555}, {'label': 'NOT', 'score': 0.9992069602012634}, {'label': 'CLICKBAIT', 'score': 0.9997465014457703}, {'label': 'NOT', 'score': 0.9991958737373352}, {'label': 'NOT', 'score': 0.9940600991249084}, {'label': 'CLICKBAIT', 'score': 0.9995740056037903}, {'label': 'CLICKBAIT', 'score': 0.9996305704116821}, {'label': 'CLICKBAIT', 'score': 0.9989718198776245}, {'label': 'NOT', 'score': 0.9994716048240662}, {'label': 'NOT', 'score': 0.9992364645004272}, {'label': 'NOT', 'score': 0.9991273283958435}, {'label': 'CLICKBAIT', 'score': 0.9996874332427979}, {'label': 'NOT', 'score': 0.9994090795516968}, {'label': 'CLICKBAIT', 'score': 0.9989463686943054}, {'label': 'NOT', 'score': 0.9971203804016113}, {'label': 'NOT', 'score': 0.9992934465408325}, {'label': 'CLICKBAIT', 'score': 0.9995817542076111}, {'label': 'CLICKBAIT', 'score': 0.999705970287323}, {'label': 'CLICKBAIT', 'score': 0.9993826150894165}, {'label': 'NOT', 'score': 0.99898761510849}, {'label': 'CLICKBAIT', 'score': 0.9995948672294617}, {'label': 'NOT', 'score': 0.9992387294769287}, {'label': 'CLICKBAIT', 'score': 0.9995946288108826}, {'label': 'CLICKBAIT', 'score': 0.9994717240333557}, {'label': 'CLICKBAIT', 'score': 0.9995825886726379}, {'label': 'NOT', 'score': 0.9988247752189636}, {'label': 'CLICKBAIT', 'score': 0.999727189540863}, {'label': 'CLICKBAIT', 'score': 0.9997265934944153}, {'label': 'CLICKBAIT', 'score': 0.9995846152305603}, {'label': 'CLICKBAIT', 'score': 0.9963100552558899}, {'label': 'CLICKBAIT', 'score': 0.9993589520454407}, {'label': 'CLICKBAIT', 'score': 0.9995613694190979}, {'label': 'NOT', 'score': 0.8741626143455505}, {'label': 'NOT', 'score': 0.9994358420372009}, {'label': 'NOT', 'score': 0.9972783923149109}, {'label': 'CLICKBAIT', 'score': 0.9997499585151672}, {'label': 'NOT', 'score': 0.9986861348152161}, {'label': 'CLICKBAIT', 'score': 0.9992351531982422}, {'label': 'CLICKBAIT', 'score': 0.9985313415527344}, {'label': 'NOT', 'score': 0.9990642666816711}, {'label': 'CLICKBAIT', 'score': 0.9996365308761597}, {'label': 'CLICKBAIT', 'score': 0.9995912909507751}, {'label': 'CLICKBAIT', 'score': 0.9996745586395264}, {'label': 'CLICKBAIT', 'score': 0.9996846914291382}, {'label': 'CLICKBAIT', 'score': 0.9996477365493774}, {'label': 'NOT', 'score': 0.9918223023414612}, {'label': 'NOT', 'score': 0.9963023662567139}, {'label': 'NOT', 'score': 0.9994766116142273}, {'label': 'NOT', 'score': 0.994504988193512}, {'label': 'CLICKBAIT', 'score': 0.999484658241272}, {'label': 'CLICKBAIT', 'score': 0.9996986389160156}, {'label': 'NOT', 'score': 0.9992297887802124}, {'label': 'NOT', 'score': 0.9988791346549988}, {'label': 'NOT', 'score': 0.9991542100906372}, {'label': 'NOT', 'score': 0.9993809461593628}, {'label': 'CLICKBAIT', 'score': 0.9965378046035767}, {'label': 'CLICKBAIT', 'score': 0.9996894598007202}, {'label': 'NOT', 'score': 0.9217736721038818}, {'label': 'CLICKBAIT', 'score': 0.9997289776802063}, {'label': 'NOT', 'score': 0.9961767196655273}, {'label': 'NOT', 'score': 0.99947589635849}, {'label': 'CLICKBAIT', 'score': 0.999640703201294}, {'label': 'NOT', 'score': 0.9993175268173218}, {'label': 'CLICKBAIT', 'score': 0.9994327425956726}, {'label': 'CLICKBAIT', 'score': 0.9995782971382141}, {'label': 'CLICKBAIT', 'score': 0.9991775155067444}, {'label': 'NOT', 'score': 0.9989677667617798}, {'label': 'CLICKBAIT', 'score': 0.9997544884681702}, {'label': 'CLICKBAIT', 'score': 0.9997517466545105}, {'label': 'NOT', 'score': 0.9991649389266968}, {'label': 'CLICKBAIT', 'score': 0.9993492960929871}, {'label': 'CLICKBAIT', 'score': 0.9943336248397827}, {'label': 'NOT', 'score': 0.9993101358413696}, {'label': 'NOT', 'score': 0.9984657764434814}, {'label': 'CLICKBAIT', 'score': 0.9996638298034668}, {'label': 'NOT', 'score': 0.7788547873497009}, {'label': 'CLICKBAIT', 'score': 0.999538779258728}, {'label': 'CLICKBAIT', 'score': 0.9997178912162781}, {'label': 'CLICKBAIT', 'score': 0.9979908466339111}, {'label': 'NOT', 'score': 0.9983786344528198}, {'label': 'NOT', 'score': 0.9992566704750061}, {'label': 'NOT', 'score': 0.9989861845970154}, {'label': 'NOT', 'score': 0.998659610748291}, {'label': 'CLICKBAIT', 'score': 0.9832315444946289}, {'label': 'NOT', 'score': 0.9987460374832153}, {'label': 'CLICKBAIT', 'score': 0.9997270703315735}, {'label': 'NOT', 'score': 0.9989387392997742}, {'label': 'NOT', 'score': 0.9994934797286987}, {'label': 'NOT', 'score': 0.9988147020339966}, {'label': 'NOT', 'score': 0.9991669654846191}, {'label': 'NOT', 'score': 0.9990234375}, {'label': 'NOT', 'score': 0.9985301494598389}, {'label': 'CLICKBAIT', 'score': 0.9995232820510864}, {'label': 'NOT', 'score': 0.9985973238945007}, {'label': 'CLICKBAIT', 'score': 0.9997346997261047}, {'label': 'CLICKBAIT', 'score': 0.9485604763031006}, {'label': 'CLICKBAIT', 'score': 0.9996705055236816}, {'label': 'NOT', 'score': 0.9994410872459412}, {'label': 'CLICKBAIT', 'score': 0.9996799230575562}, {'label': 'NOT', 'score': 0.9970677495002747}, {'label': 'CLICKBAIT', 'score': 0.9993817806243896}, {'label': 'NOT', 'score': 0.7509167194366455}, {'label': 'CLICKBAIT', 'score': 0.9994578957557678}, {'label': 'CLICKBAIT', 'score': 0.9989621639251709}, {'label': 'NOT', 'score': 0.9993384480476379}, {'label': 'CLICKBAIT', 'score': 0.9996101260185242}, {'label': 'NOT', 'score': 0.9994577765464783}, {'label': 'CLICKBAIT', 'score': 0.9997120499610901}, {'label': 'CLICKBAIT', 'score': 0.9997004270553589}, {'label': 'NOT', 'score': 0.9986421465873718}, {'label': 'CLICKBAIT', 'score': 0.9996172189712524}, {'label': 'CLICKBAIT', 'score': 0.9477701187133789}, {'label': 'CLICKBAIT', 'score': 0.9992831349372864}, {'label': 'NOT', 'score': 0.5680455565452576}, {'label': 'NOT', 'score': 0.9963467717170715}, {'label': 'NOT', 'score': 0.9993342757225037}, {'label': 'NOT', 'score': 0.996928870677948}, {'label': 'CLICKBAIT', 'score': 0.9997445940971375}, {'label': 'CLICKBAIT', 'score': 0.9997296929359436}, {'label': 'NOT', 'score': 0.9969209432601929}, {'label': 'NOT', 'score': 0.9994903802871704}, {'label': 'NOT', 'score': 0.9989625215530396}, {'label': 'NOT', 'score': 0.9982885718345642}, {'label': 'CLICKBAIT', 'score': 0.9997161030769348}, {'label': 'CLICKBAIT', 'score': 0.9996949434280396}, {'label': 'CLICKBAIT', 'score': 0.9996174573898315}, {'label': 'NOT', 'score': 0.9847012758255005}, {'label': 'CLICKBAIT', 'score': 0.9996433258056641}, {'label': 'NOT', 'score': 0.9982835054397583}, {'label': 'CLICKBAIT', 'score': 0.999660849571228}, {'label': 'NOT', 'score': 0.9960825443267822}, {'label': 'NOT', 'score': 0.9989606142044067}, {'label': 'NOT', 'score': 0.9991218447685242}, {'label': 'NOT', 'score': 0.9991876482963562}, {'label': 'CLICKBAIT', 'score': 0.9995378255844116}, {'label': 'NOT', 'score': 0.9992820620536804}, {'label': 'NOT', 'score': 0.999479353427887}, {'label': 'CLICKBAIT', 'score': 0.9996663331985474}, {'label': 'CLICKBAIT', 'score': 0.9993971586227417}, {'label': 'CLICKBAIT', 'score': 0.9995445609092712}, {'label': 'NOT', 'score': 0.9860451817512512}, {'label': 'NOT', 'score': 0.9978113770484924}, {'label': 'CLICKBAIT', 'score': 0.9996309280395508}, {'label': 'NOT', 'score': 0.9991738200187683}, {'label': 'NOT', 'score': 0.9993999004364014}, {'label': 'CLICKBAIT', 'score': 0.9995042085647583}, {'label': 'NOT', 'score': 0.9992770552635193}, {'label': 'NOT', 'score': 0.9994810223579407}, {'label': 'NOT', 'score': 0.9994243383407593}, {'label': 'CLICKBAIT', 'score': 0.999754011631012}, {'label': 'CLICKBAIT', 'score': 0.9995207786560059}, {'label': 'CLICKBAIT', 'score': 0.9990659356117249}, {'label': 'NOT', 'score': 0.999405026435852}, {'label': 'CLICKBAIT', 'score': 0.9992091059684753}, {'label': 'NOT', 'score': 0.9974973797798157}, {'label': 'NOT', 'score': 0.9988191723823547}, {'label': 'NOT', 'score': 0.9992315769195557}, {'label': 'NOT', 'score': 0.9980402588844299}, {'label': 'NOT', 'score': 0.9993413090705872}, {'label': 'NOT', 'score': 0.9990703463554382}, {'label': 'NOT', 'score': 0.9973315000534058}, {'label': 'CLICKBAIT', 'score': 0.9997560381889343}, {'label': 'NOT', 'score': 0.9993058443069458}, {'label': 'CLICKBAIT', 'score': 0.9996956586837769}, {'label': 'CLICKBAIT', 'score': 0.9994949102401733}, {'label': 'CLICKBAIT', 'score': 0.9996042847633362}, {'label': 'CLICKBAIT', 'score': 0.9985508322715759}, {'label': 'NOT', 'score': 0.9990792274475098}, {'label': 'CLICKBAIT', 'score': 0.7141859531402588}, {'label': 'CLICKBAIT', 'score': 0.98109370470047}, {'label': 'CLICKBAIT', 'score': 0.9995664954185486}, {'label': 'NOT', 'score': 0.9993290901184082}, {'label': 'NOT', 'score': 0.9993884563446045}, {'label': 'CLICKBAIT', 'score': 0.9991183876991272}, {'label': 'CLICKBAIT', 'score': 0.9896945953369141}, {'label': 'NOT', 'score': 0.9985135197639465}, {'label': 'CLICKBAIT', 'score': 0.9997262358665466}, {'label': 'CLICKBAIT', 'score': 0.9997711777687073}, {'label': 'CLICKBAIT', 'score': 0.9996334314346313}, {'label': 'CLICKBAIT', 'score': 0.9977763295173645}, {'label': 'CLICKBAIT', 'score': 0.9956899285316467}, {'label': 'NOT', 'score': 0.998531699180603}, {'label': 'CLICKBAIT', 'score': 0.9995473027229309}, {'label': 'NOT', 'score': 0.9994314312934875}, {'label': 'NOT', 'score': 0.9883553981781006}, {'label': 'CLICKBAIT', 'score': 0.9997535347938538}, {'label': 'CLICKBAIT', 'score': 0.9995989203453064}, {'label': 'NOT', 'score': 0.5088770985603333}, {'label': 'CLICKBAIT', 'score': 0.9997398257255554}, {'label': 'NOT', 'score': 0.9994263648986816}, {'label': 'NOT', 'score': 0.9990154504776001}, {'label': 'NOT', 'score': 0.9982757568359375}, {'label': 'NOT', 'score': 0.9994943141937256}, {'label': 'NOT', 'score': 0.9954833984375}, {'label': 'CLICKBAIT', 'score': 0.9994388222694397}, {'label': 'CLICKBAIT', 'score': 0.9994750618934631}, {'label': 'NOT', 'score': 0.9925325512886047}, {'label': 'CLICKBAIT', 'score': 0.9995284080505371}, {'label': 'CLICKBAIT', 'score': 0.9995797276496887}, {'label': 'CLICKBAIT', 'score': 0.9997095465660095}, {'label': 'CLICKBAIT', 'score': 0.9933405518531799}, {'label': 'NOT', 'score': 0.9987598657608032}, {'label': 'NOT', 'score': 0.9994431138038635}, {'label': 'NOT', 'score': 0.9990768432617188}, {'label': 'CLICKBAIT', 'score': 0.5931329131126404}, {'label': 'CLICKBAIT', 'score': 0.9997219443321228}, {'label': 'NOT', 'score': 0.999255359172821}, {'label': 'CLICKBAIT', 'score': 0.9997074007987976}, {'label': 'NOT', 'score': 0.9992101192474365}, {'label': 'NOT', 'score': 0.9994168281555176}, {'label': 'CLICKBAIT', 'score': 0.9996088147163391}, {'label': 'CLICKBAIT', 'score': 0.9996160268783569}, {'label': 'NOT', 'score': 0.99274080991745}, {'label': 'CLICKBAIT', 'score': 0.9995326995849609}, {'label': 'CLICKBAIT', 'score': 0.9997242093086243}, {'label': 'CLICKBAIT', 'score': 0.9996010661125183}, {'label': 'CLICKBAIT', 'score': 0.9986556768417358}, {'label': 'CLICKBAIT', 'score': 0.9995852112770081}, {'label': 'CLICKBAIT', 'score': 0.9996848106384277}, {'label': 'NOT', 'score': 0.9867799878120422}, {'label': 'CLICKBAIT', 'score': 0.9921338558197021}, {'label': 'NOT', 'score': 0.9990615248680115}, {'label': 'NOT', 'score': 0.998906135559082}, {'label': 'CLICKBAIT', 'score': 0.9997301697731018}, {'label': 'CLICKBAIT', 'score': 0.99958735704422}, {'label': 'NOT', 'score': 0.9992513060569763}, {'label': 'NOT', 'score': 0.9992733597755432}, {'label': 'NOT', 'score': 0.9992949962615967}, {'label': 'CLICKBAIT', 'score': 0.9995206594467163}, {'label': 'CLICKBAIT', 'score': 0.9997305274009705}, {'label': 'NOT', 'score': 0.9993958473205566}, {'label': 'CLICKBAIT', 'score': 0.9995735287666321}, {'label': 'NOT', 'score': 0.9764251112937927}, {'label': 'CLICKBAIT', 'score': 0.9991781115531921}, {'label': 'CLICKBAIT', 'score': 0.9997231364250183}, {'label': 'CLICKBAIT', 'score': 0.9997138381004333}, {'label': 'CLICKBAIT', 'score': 0.9997125267982483}, {'label': 'CLICKBAIT', 'score': 0.9996585845947266}, {'label': 'NOT', 'score': 0.999190628528595}, {'label': 'NOT', 'score': 0.9992982149124146}, {'label': 'CLICKBAIT', 'score': 0.9996236562728882}, {'label': 'CLICKBAIT', 'score': 0.9995810389518738}, {'label': 'NOT', 'score': 0.9993249177932739}, {'label': 'NOT', 'score': 0.9984543323516846}, {'label': 'CLICKBAIT', 'score': 0.9989864230155945}, {'label': 'CLICKBAIT', 'score': 0.9997113347053528}, {'label': 'NOT', 'score': 0.9985010623931885}, {'label': 'NOT', 'score': 0.9991482496261597}, {'label': 'NOT', 'score': 0.9990856647491455}, {'label': 'CLICKBAIT', 'score': 0.9995431900024414}, {'label': 'CLICKBAIT', 'score': 0.9996869564056396}, {'label': 'NOT', 'score': 0.9993630051612854}, {'label': 'CLICKBAIT', 'score': 0.9995152950286865}, {'label': 'CLICKBAIT', 'score': 0.9994619488716125}, {'label': 'NOT', 'score': 0.9992350339889526}, {'label': 'CLICKBAIT', 'score': 0.9997567534446716}, {'label': 'NOT', 'score': 0.9968463778495789}, {'label': 'NOT', 'score': 0.9971336126327515}, {'label': 'CLICKBAIT', 'score': 0.9993683695793152}, {'label': 'NOT', 'score': 0.9994105100631714}, {'label': 'CLICKBAIT', 'score': 0.9997302889823914}, {'label': 'CLICKBAIT', 'score': 0.9982956051826477}, {'label': 'NOT', 'score': 0.9994615912437439}, {'label': 'NOT', 'score': 0.9994183778762817}, {'label': 'NOT', 'score': 0.9994706511497498}, {'label': 'CLICKBAIT', 'score': 0.9996034502983093}, {'label': 'NOT', 'score': 0.6398167610168457}, {'label': 'CLICKBAIT', 'score': 0.9996135830879211}, {'label': 'NOT', 'score': 0.9992641806602478}, {'label': 'NOT', 'score': 0.9896508455276489}, {'label': 'NOT', 'score': 0.9989124536514282}, {'label': 'CLICKBAIT', 'score': 0.9995468258857727}, {'label': 'CLICKBAIT', 'score': 0.9997299313545227}, {'label': 'CLICKBAIT', 'score': 0.9996790885925293}, {'label': 'CLICKBAIT', 'score': 0.9997544884681702}, {'label': 'CLICKBAIT', 'score': 0.9997523427009583}, {'label': 'CLICKBAIT', 'score': 0.999458372592926}, {'label': 'NOT', 'score': 0.9202119708061218}, {'label': 'NOT', 'score': 0.9901400208473206}, {'label': 'NOT', 'score': 0.9975951313972473}, {'label': 'NOT', 'score': 0.9994156360626221}, {'label': 'CLICKBAIT', 'score': 0.9996150732040405}, {'label': 'NOT', 'score': 0.9994320273399353}, {'label': 'CLICKBAIT', 'score': 0.9996938705444336}, {'label': 'CLICKBAIT', 'score': 0.9997010231018066}, {'label': 'NOT', 'score': 0.9989389777183533}, {'label': 'CLICKBAIT', 'score': 0.9996384382247925}, {'label': 'CLICKBAIT', 'score': 0.9996845722198486}, {'label': 'NOT', 'score': 0.9994015693664551}, {'label': 'NOT', 'score': 0.9991167187690735}, {'label': 'CLICKBAIT', 'score': 0.9996585845947266}, {'label': 'NOT', 'score': 0.9965584874153137}, {'label': 'CLICKBAIT', 'score': 0.9982510209083557}, {'label': 'CLICKBAIT', 'score': 0.9996998310089111}, {'label': 'CLICKBAIT', 'score': 0.9995912909507751}, {'label': 'NOT', 'score': 0.9982750415802002}, {'label': 'CLICKBAIT', 'score': 0.9918993711471558}, {'label': 'NOT', 'score': 0.9957333207130432}, {'label': 'NOT', 'score': 0.5572222471237183}, {'label': 'NOT', 'score': 0.9994383454322815}, {'label': 'NOT', 'score': 0.9993720650672913}, {'label': 'NOT', 'score': 0.9991365075111389}, {'label': 'NOT', 'score': 0.9993460774421692}, {'label': 'NOT', 'score': 0.9977479577064514}, {'label': 'NOT', 'score': 0.9952955842018127}, {'label': 'CLICKBAIT', 'score': 0.9996944665908813}, {'label': 'NOT', 'score': 0.9073525667190552}, {'label': 'CLICKBAIT', 'score': 0.9996612071990967}, {'label': 'NOT', 'score': 0.999441921710968}, {'label': 'NOT', 'score': 0.9831672310829163}, {'label': 'CLICKBAIT', 'score': 0.9972039461135864}, {'label': 'CLICKBAIT', 'score': 0.9991029500961304}, {'label': 'CLICKBAIT', 'score': 0.9997547268867493}, {'label': 'CLICKBAIT', 'score': 0.9996691942214966}, {'label': 'NOT', 'score': 0.9987194538116455}, {'label': 'NOT', 'score': 0.999215841293335}, {'label': 'NOT', 'score': 0.9990352392196655}, {'label': 'CLICKBAIT', 'score': 0.9834784269332886}, {'label': 'CLICKBAIT', 'score': 0.9799447059631348}, {'label': 'NOT', 'score': 0.9989635944366455}, {'label': 'CLICKBAIT', 'score': 0.9974679946899414}, {'label': 'NOT', 'score': 0.9994402527809143}, {'label': 'NOT', 'score': 0.9993977546691895}, {'label': 'CLICKBAIT', 'score': 0.9995334148406982}, {'label': 'NOT', 'score': 0.9898826479911804}, {'label': 'NOT', 'score': 0.9987837672233582}, {'label': 'NOT', 'score': 0.9990959167480469}, {'label': 'NOT', 'score': 0.9117132425308228}, {'label': 'CLICKBAIT', 'score': 0.999697208404541}, {'label': 'CLICKBAIT', 'score': 0.9996641874313354}, {'label': 'NOT', 'score': 0.9983793497085571}, {'label': 'NOT', 'score': 0.9992328882217407}, {'label': 'NOT', 'score': 0.9990202188491821}, {'label': 'NOT', 'score': 0.9990504384040833}, {'label': 'NOT', 'score': 0.9986059069633484}, {'label': 'CLICKBAIT', 'score': 0.5590947866439819}, {'label': 'NOT', 'score': 0.9992820620536804}, {'label': 'CLICKBAIT', 'score': 0.9996974468231201}, {'label': 'NOT', 'score': 0.9991002082824707}, {'label': 'NOT', 'score': 0.9994726777076721}, {'label': 'NOT', 'score': 0.9975311160087585}, {'label': 'NOT', 'score': 0.9974591135978699}, {'label': 'CLICKBAIT', 'score': 0.9996734857559204}, {'label': 'NOT', 'score': 0.9993060827255249}, {'label': 'CLICKBAIT', 'score': 0.9997296929359436}, {'label': 'CLICKBAIT', 'score': 0.9179720878601074}, {'label': 'NOT', 'score': 0.9993577599525452}, {'label': 'CLICKBAIT', 'score': 0.9996925592422485}, {'label': 'CLICKBAIT', 'score': 0.9990284442901611}, {'label': 'CLICKBAIT', 'score': 0.9994606375694275}, {'label': 'CLICKBAIT', 'score': 0.9994495511054993}, {'label': 'NOT', 'score': 0.9984487295150757}, {'label': 'CLICKBAIT', 'score': 0.9920273423194885}, {'label': 'CLICKBAIT', 'score': 0.9996787309646606}, {'label': 'NOT', 'score': 0.9954420328140259}, {'label': 'NOT', 'score': 0.9993282556533813}, {'label': 'NOT', 'score': 0.9992035031318665}, {'label': 'CLICKBAIT', 'score': 0.8062674403190613}, {'label': 'NOT', 'score': 0.9975420236587524}, {'label': 'CLICKBAIT', 'score': 0.9997084736824036}, {'label': 'CLICKBAIT', 'score': 0.9992882609367371}, {'label': 'NOT', 'score': 0.9975295662879944}, {'label': 'NOT', 'score': 0.9994469285011292}, {'label': 'NOT', 'score': 0.9994237422943115}, {'label': 'CLICKBAIT', 'score': 0.9994097948074341}, {'label': 'CLICKBAIT', 'score': 0.99968421459198}, {'label': 'NOT', 'score': 0.9988746047019958}, {'label': 'NOT', 'score': 0.9989245533943176}, {'label': 'NOT', 'score': 0.998808741569519}, {'label': 'CLICKBAIT', 'score': 0.9995593428611755}, {'label': 'NOT', 'score': 0.9992499947547913}, {'label': 'CLICKBAIT', 'score': 0.9994200468063354}, {'label': 'NOT', 'score': 0.9988265633583069}, {'label': 'CLICKBAIT', 'score': 0.7226605415344238}, {'label': 'CLICKBAIT', 'score': 0.9996438026428223}, {'label': 'CLICKBAIT', 'score': 0.9989166259765625}, {'label': 'CLICKBAIT', 'score': 0.9996745586395264}, {'label': 'NOT', 'score': 0.9974939823150635}, {'label': 'NOT', 'score': 0.9992045760154724}, {'label': 'NOT', 'score': 0.9982207417488098}, {'label': 'NOT', 'score': 0.9994751811027527}, {'label': 'NOT', 'score': 0.9994800686836243}, {'label': 'NOT', 'score': 0.9113336205482483}, {'label': 'NOT', 'score': 0.9988073110580444}, {'label': 'CLICKBAIT', 'score': 0.9997343420982361}, {'label': 'NOT', 'score': 0.9994239807128906}, {'label': 'CLICKBAIT', 'score': 0.9996697902679443}, {'label': 'CLICKBAIT', 'score': 0.9996672868728638}, {'label': 'NOT', 'score': 0.9994737505912781}, {'label': 'NOT', 'score': 0.9991497993469238}, {'label': 'CLICKBAIT', 'score': 0.9996633529663086}, {'label': 'CLICKBAIT', 'score': 0.9997536540031433}, {'label': 'CLICKBAIT', 'score': 0.9996860027313232}, {'label': 'NOT', 'score': 0.998755693435669}, {'label': 'CLICKBAIT', 'score': 0.9995023012161255}, {'label': 'CLICKBAIT', 'score': 0.9988652467727661}, {'label': 'CLICKBAIT', 'score': 0.9995841383934021}, {'label': 'CLICKBAIT', 'score': 0.9997326731681824}, {'label': 'CLICKBAIT', 'score': 0.9997289776802063}, {'label': 'NOT', 'score': 0.9993919134140015}, {'label': 'CLICKBAIT', 'score': 0.9982971549034119}, {'label': 'NOT', 'score': 0.9993287324905396}, {'label': 'CLICKBAIT', 'score': 0.9945247173309326}, {'label': 'NOT', 'score': 0.9993901252746582}, {'label': 'CLICKBAIT', 'score': 0.677740216255188}, {'label': 'NOT', 'score': 0.9991211295127869}, {'label': 'NOT', 'score': 0.9992026686668396}, {'label': 'CLICKBAIT', 'score': 0.9995693564414978}, {'label': 'CLICKBAIT', 'score': 0.9990352392196655}, {'label': 'CLICKBAIT', 'score': 0.9996945858001709}, {'label': 'NOT', 'score': 0.9838736653327942}, {'label': 'NOT', 'score': 0.999300479888916}, {'label': 'CLICKBAIT', 'score': 0.685846209526062}, {'label': 'NOT', 'score': 0.9994619488716125}, {'label': 'NOT', 'score': 0.9743479490280151}, {'label': 'NOT', 'score': 0.9954319000244141}, {'label': 'NOT', 'score': 0.9995056390762329}, {'label': 'NOT', 'score': 0.9983239769935608}, {'label': 'CLICKBAIT', 'score': 0.9997068047523499}, {'label': 'CLICKBAIT', 'score': 0.9997606873512268}, {'label': 'CLICKBAIT', 'score': 0.9995021820068359}, {'label': 'CLICKBAIT', 'score': 0.9996071457862854}, {'label': 'CLICKBAIT', 'score': 0.9995274543762207}, {'label': 'NOT', 'score': 0.9986880421638489}, {'label': 'NOT', 'score': 0.9990528225898743}, {'label': 'CLICKBAIT', 'score': 0.9710437655448914}, {'label': 'CLICKBAIT', 'score': 0.9995895028114319}, {'label': 'NOT', 'score': 0.9993502497673035}, {'label': 'CLICKBAIT', 'score': 0.9995561242103577}, {'label': 'NOT', 'score': 0.9973633885383606}, {'label': 'CLICKBAIT', 'score': 0.9997472167015076}, {'label': 'CLICKBAIT', 'score': 0.9997069239616394}, {'label': 'NOT', 'score': 0.9993358254432678}, {'label': 'NOT', 'score': 0.9993010759353638}, {'label': 'CLICKBAIT', 'score': 0.9997346997261047}, {'label': 'CLICKBAIT', 'score': 0.9997573494911194}, {'label': 'NOT', 'score': 0.9990572333335876}, {'label': 'CLICKBAIT', 'score': 0.9996128678321838}, {'label': 'NOT', 'score': 0.9994434714317322}, {'label': 'NOT', 'score': 0.9992496371269226}, {'label': 'CLICKBAIT', 'score': 0.9994392991065979}, {'label': 'NOT', 'score': 0.9915436506271362}, {'label': 'NOT', 'score': 0.9993025064468384}, {'label': 'NOT', 'score': 0.9987645149230957}, {'label': 'CLICKBAIT', 'score': 0.9996480941772461}, {'label': 'NOT', 'score': 0.9991156458854675}, {'label': 'NOT', 'score': 0.9982360601425171}, {'label': 'CLICKBAIT', 'score': 0.9997177720069885}, {'label': 'NOT', 'score': 0.9993454813957214}, {'label': 'NOT', 'score': 0.9994019269943237}, {'label': 'NOT', 'score': 0.9749746918678284}, {'label': 'NOT', 'score': 0.9989722967147827}, {'label': 'CLICKBAIT', 'score': 0.9994814991950989}, {'label': 'CLICKBAIT', 'score': 0.9996932744979858}, {'label': 'CLICKBAIT', 'score': 0.9997661709785461}, {'label': 'CLICKBAIT', 'score': 0.9981088638305664}, {'label': 'CLICKBAIT', 'score': 0.9991040825843811}, {'label': 'NOT', 'score': 0.9993528723716736}, {'label': 'CLICKBAIT', 'score': 0.9992677569389343}, {'label': 'NOT', 'score': 0.999377429485321}, {'label': 'CLICKBAIT', 'score': 0.9993202686309814}, {'label': 'CLICKBAIT', 'score': 0.9997360110282898}, {'label': 'NOT', 'score': 0.9987362027168274}, {'label': 'CLICKBAIT', 'score': 0.9993855953216553}, {'label': 'CLICKBAIT', 'score': 0.9996077418327332}, {'label': 'NOT', 'score': 0.9993658661842346}, {'label': 'CLICKBAIT', 'score': 0.999439537525177}, {'label': 'NOT', 'score': 0.9994210004806519}, {'label': 'CLICKBAIT', 'score': 0.9994416832923889}, {'label': 'CLICKBAIT', 'score': 0.9996411800384521}, {'label': 'NOT', 'score': 0.9983686804771423}, {'label': 'CLICKBAIT', 'score': 0.9995573163032532}, {'label': 'NOT', 'score': 0.9991577863693237}, {'label': 'CLICKBAIT', 'score': 0.9996819496154785}, {'label': 'CLICKBAIT', 'score': 0.9982101917266846}, {'label': 'NOT', 'score': 0.9994691014289856}, {'label': 'NOT', 'score': 0.9994274377822876}, {'label': 'NOT', 'score': 0.9925022125244141}, {'label': 'NOT', 'score': 0.9875098466873169}, {'label': 'NOT', 'score': 0.9991027116775513}, {'label': 'NOT', 'score': 0.9991695880889893}, {'label': 'NOT', 'score': 0.9976645708084106}, {'label': 'NOT', 'score': 0.998380184173584}, {'label': 'NOT', 'score': 0.9992961883544922}, {'label': 'CLICKBAIT', 'score': 0.9997186064720154}, {'label': 'NOT', 'score': 0.9985872507095337}, {'label': 'NOT', 'score': 0.9993606209754944}, {'label': 'NOT', 'score': 0.9992262125015259}, {'label': 'NOT', 'score': 0.999355137348175}, {'label': 'CLICKBAIT', 'score': 0.9997594952583313}, {'label': 'CLICKBAIT', 'score': 0.9986806511878967}, {'label': 'NOT', 'score': 0.999234676361084}, {'label': 'CLICKBAIT', 'score': 0.999556839466095}, {'label': 'NOT', 'score': 0.9990590214729309}, {'label': 'NOT', 'score': 0.9994237422943115}, {'label': 'NOT', 'score': 0.9994944334030151}, {'label': 'CLICKBAIT', 'score': 0.9997474551200867}, {'label': 'NOT', 'score': 0.9991222023963928}, {'label': 'CLICKBAIT', 'score': 0.9996089339256287}, {'label': 'NOT', 'score': 0.9991432428359985}, {'label': 'NOT', 'score': 0.9981282353401184}, {'label': 'NOT', 'score': 0.9993693232536316}, {'label': 'NOT', 'score': 0.9990467429161072}, {'label': 'NOT', 'score': 0.9993127584457397}, {'label': 'NOT', 'score': 0.9992427825927734}, {'label': 'CLICKBAIT', 'score': 0.9992352724075317}, {'label': 'NOT', 'score': 0.9985823631286621}, {'label': 'CLICKBAIT', 'score': 0.9995788931846619}, {'label': 'NOT', 'score': 0.9994633793830872}, {'label': 'NOT', 'score': 0.99949049949646}, {'label': 'CLICKBAIT', 'score': 0.9997391104698181}, {'label': 'CLICKBAIT', 'score': 0.9996529817581177}, {'label': 'NOT', 'score': 0.9993051290512085}, {'label': 'NOT', 'score': 0.9534600377082825}, {'label': 'NOT', 'score': 0.9993554949760437}, {'label': 'CLICKBAIT', 'score': 0.9997404217720032}, {'label': 'CLICKBAIT', 'score': 0.999636173248291}, {'label': 'CLICKBAIT', 'score': 0.9997501969337463}, {'label': 'NOT', 'score': 0.9991433620452881}, {'label': 'NOT', 'score': 0.9993908405303955}, {'label': 'CLICKBAIT', 'score': 0.9996373653411865}, {'label': 'CLICKBAIT', 'score': 0.9991931319236755}, {'label': 'CLICKBAIT', 'score': 0.9996554851531982}, {'label': 'CLICKBAIT', 'score': 0.9976685643196106}, {'label': 'NOT', 'score': 0.978223979473114}, {'label': 'NOT', 'score': 0.9994819760322571}, {'label': 'NOT', 'score': 0.9982506632804871}, {'label': 'NOT', 'score': 0.9991723299026489}, {'label': 'CLICKBAIT', 'score': 0.999523401260376}, {'label': 'NOT', 'score': 0.9977949857711792}, {'label': 'NOT', 'score': 0.9962143301963806}, {'label': 'CLICKBAIT', 'score': 0.9863321781158447}, {'label': 'NOT', 'score': 0.9993477463722229}, {'label': 'NOT', 'score': 0.9993219375610352}, {'label': 'NOT', 'score': 0.9990345239639282}, {'label': 'CLICKBAIT', 'score': 0.9997087121009827}, {'label': 'NOT', 'score': 0.9992547631263733}, {'label': 'NOT', 'score': 0.9994670748710632}, {'label': 'NOT', 'score': 0.9994682669639587}, {'label': 'CLICKBAIT', 'score': 0.999679446220398}, {'label': 'CLICKBAIT', 'score': 0.9995101690292358}, {'label': 'CLICKBAIT', 'score': 0.9997499585151672}, {'label': 'CLICKBAIT', 'score': 0.9997528195381165}, {'label': 'CLICKBAIT', 'score': 0.9996867179870605}, {'label': 'CLICKBAIT', 'score': 0.9979411959648132}, {'label': 'CLICKBAIT', 'score': 0.9997523427009583}, {'label': 'NOT', 'score': 0.9778702259063721}, {'label': 'CLICKBAIT', 'score': 0.999708354473114}, {'label': 'CLICKBAIT', 'score': 0.6310265064239502}, {'label': 'CLICKBAIT', 'score': 0.9995145797729492}, {'label': 'CLICKBAIT', 'score': 0.9984598159790039}, {'label': 'CLICKBAIT', 'score': 0.9996143579483032}, {'label': 'CLICKBAIT', 'score': 0.9996896982192993}, {'label': 'CLICKBAIT', 'score': 0.999570906162262}, {'label': 'CLICKBAIT', 'score': 0.9997125267982483}, {'label': 'CLICKBAIT', 'score': 0.9990426898002625}, {'label': 'NOT', 'score': 0.9990990161895752}, {'label': 'NOT', 'score': 0.9992051720619202}, {'label': 'CLICKBAIT', 'score': 0.999672532081604}, {'label': 'CLICKBAIT', 'score': 0.9993343949317932}, {'label': 'CLICKBAIT', 'score': 0.9983252882957458}, {'label': 'NOT', 'score': 0.9992353916168213}, {'label': 'NOT', 'score': 0.99894779920578}, {'label': 'NOT', 'score': 0.9992386102676392}, {'label': 'NOT', 'score': 0.9993568062782288}, {'label': 'CLICKBAIT', 'score': 0.630911111831665}, {'label': 'NOT', 'score': 0.9994695782661438}, {'label': 'CLICKBAIT', 'score': 0.9996660947799683}, {'label': 'CLICKBAIT', 'score': 0.9996371269226074}, {'label': 'NOT', 'score': 0.9990531802177429}, {'label': 'NOT', 'score': 0.9985255599021912}, {'label': 'NOT', 'score': 0.9989873766899109}, {'label': 'NOT', 'score': 0.9993882179260254}, {'label': 'NOT', 'score': 0.9993736147880554}, {'label': 'NOT', 'score': 0.9994186162948608}, {'label': 'CLICKBAIT', 'score': 0.9994350075721741}, {'label': 'NOT', 'score': 0.9980440139770508}, {'label': 'CLICKBAIT', 'score': 0.9996613264083862}, {'label': 'NOT', 'score': 0.9994930028915405}, {'label': 'CLICKBAIT', 'score': 0.9995829463005066}, {'label': 'CLICKBAIT', 'score': 0.9995124340057373}, {'label': 'NOT', 'score': 0.9989945292472839}, {'label': 'CLICKBAIT', 'score': 0.9997299313545227}, {'label': 'CLICKBAIT', 'score': 0.9989104270935059}, {'label': 'NOT', 'score': 0.9994269609451294}, {'label': 'CLICKBAIT', 'score': 0.9997220635414124}, {'label': 'CLICKBAIT', 'score': 0.9996535778045654}, {'label': 'CLICKBAIT', 'score': 0.9633868336677551}, {'label': 'CLICKBAIT', 'score': 0.9995585083961487}, {'label': 'CLICKBAIT', 'score': 0.9995606541633606}, {'label': 'CLICKBAIT', 'score': 0.9996353387832642}, {'label': 'NOT', 'score': 0.999382734298706}, {'label': 'NOT', 'score': 0.9989752769470215}, {'label': 'NOT', 'score': 0.9985471367835999}, {'label': 'NOT', 'score': 0.9930554032325745}, {'label': 'CLICKBAIT', 'score': 0.9997225403785706}, {'label': 'CLICKBAIT', 'score': 0.9997232556343079}, {'label': 'NOT', 'score': 0.9994632601737976}, {'label': 'CLICKBAIT', 'score': 0.9996243715286255}, {'label': 'CLICKBAIT', 'score': 0.9997438788414001}, {'label': 'NOT', 'score': 0.7591120004653931}, {'label': 'CLICKBAIT', 'score': 0.9997320771217346}, {'label': 'CLICKBAIT', 'score': 0.9996187686920166}, {'label': 'CLICKBAIT', 'score': 0.999729573726654}, {'label': 'CLICKBAIT', 'score': 0.9997103810310364}, {'label': 'CLICKBAIT', 'score': 0.9997478127479553}, {'label': 'NOT', 'score': 0.9993485808372498}, {'label': 'CLICKBAIT', 'score': 0.9997485280036926}, {'label': 'NOT', 'score': 0.6047978401184082}, {'label': 'NOT', 'score': 0.9985653758049011}, {'label': 'NOT', 'score': 0.9994279742240906}, {'label': 'CLICKBAIT', 'score': 0.9993519186973572}, {'label': 'CLICKBAIT', 'score': 0.9994567036628723}, {'label': 'NOT', 'score': 0.9989873766899109}, {'label': 'NOT', 'score': 0.9993342757225037}, {'label': 'CLICKBAIT', 'score': 0.9996875524520874}, {'label': 'CLICKBAIT', 'score': 0.9985834360122681}, {'label': 'NOT', 'score': 0.9982099533081055}, {'label': 'CLICKBAIT', 'score': 0.9997125267982483}, {'label': 'NOT', 'score': 0.999360978603363}, {'label': 'NOT', 'score': 0.9976971745491028}, {'label': 'NOT', 'score': 0.9949648976325989}, {'label': 'CLICKBAIT', 'score': 0.9995030164718628}, {'label': 'NOT', 'score': 0.8467199802398682}, {'label': 'CLICKBAIT', 'score': 0.9996689558029175}, {'label': 'CLICKBAIT', 'score': 0.9995853304862976}, {'label': 'CLICKBAIT', 'score': 0.9996644258499146}, {'label': 'CLICKBAIT', 'score': 0.9993715882301331}, {'label': 'CLICKBAIT', 'score': 0.9997276663780212}, {'label': 'NOT', 'score': 0.9987432360649109}, {'label': 'CLICKBAIT', 'score': 0.9996702671051025}, {'label': 'CLICKBAIT', 'score': 0.9996795654296875}, {'label': 'NOT', 'score': 0.9994179010391235}, {'label': 'CLICKBAIT', 'score': 0.9996740818023682}, {'label': 'CLICKBAIT', 'score': 0.9993315935134888}, {'label': 'NOT', 'score': 0.9984928369522095}, {'label': 'CLICKBAIT', 'score': 0.998746395111084}, {'label': 'NOT', 'score': 0.9982183575630188}, {'label': 'NOT', 'score': 0.9994010925292969}, {'label': 'CLICKBAIT', 'score': 0.9997323155403137}, {'label': 'NOT', 'score': 0.9986298084259033}, {'label': 'CLICKBAIT', 'score': 0.9991088509559631}, {'label': 'NOT', 'score': 0.9992696642875671}, {'label': 'CLICKBAIT', 'score': 0.9995959401130676}, {'label': 'NOT', 'score': 0.974951446056366}, {'label': 'CLICKBAIT', 'score': 0.9991087317466736}, {'label': 'CLICKBAIT', 'score': 0.9995695948600769}, {'label': 'CLICKBAIT', 'score': 0.9997393488883972}, {'label': 'NOT', 'score': 0.9993780851364136}, {'label': 'NOT', 'score': 0.9959449172019958}, {'label': 'CLICKBAIT', 'score': 0.99436354637146}, {'label': 'CLICKBAIT', 'score': 0.9996013045310974}, {'label': 'CLICKBAIT', 'score': 0.9994233846664429}, {'label': 'NOT', 'score': 0.9986120462417603}, {'label': 'CLICKBAIT', 'score': 0.9954822063446045}, {'label': 'NOT', 'score': 0.9983691573143005}, {'label': 'CLICKBAIT', 'score': 0.9997057318687439}, {'label': 'NOT', 'score': 0.9989771842956543}, {'label': 'NOT', 'score': 0.9994668364524841}, {'label': 'NOT', 'score': 0.9989420771598816}, {'label': 'NOT', 'score': 0.9994515776634216}, {'label': 'CLICKBAIT', 'score': 0.9997419714927673}, {'label': 'CLICKBAIT', 'score': 0.9997349381446838}, {'label': 'CLICKBAIT', 'score': 0.9996196031570435}, {'label': 'NOT', 'score': 0.998507559299469}, {'label': 'CLICKBAIT', 'score': 0.9993467926979065}, {'label': 'CLICKBAIT', 'score': 0.9935845732688904}, {'label': 'CLICKBAIT', 'score': 0.9997420907020569}, {'label': 'NOT', 'score': 0.9804743528366089}, {'label': 'NOT', 'score': 0.9994138479232788}, {'label': 'NOT', 'score': 0.998928964138031}, {'label': 'NOT', 'score': 0.9945588707923889}, {'label': 'NOT', 'score': 0.9975951313972473}, {'label': 'NOT', 'score': 0.9994829893112183}, {'label': 'NOT', 'score': 0.9993053674697876}, {'label': 'CLICKBAIT', 'score': 0.9988006353378296}, {'label': 'NOT', 'score': 0.9993627667427063}, {'label': 'CLICKBAIT', 'score': 0.9997281432151794}, {'label': 'CLICKBAIT', 'score': 0.9996366500854492}, {'label': 'NOT', 'score': 0.9991453886032104}, {'label': 'CLICKBAIT', 'score': 0.9997114539146423}, {'label': 'NOT', 'score': 0.9991111159324646}, {'label': 'NOT', 'score': 0.9994482398033142}, {'label': 'NOT', 'score': 0.9992375373840332}, {'label': 'NOT', 'score': 0.9994630217552185}, {'label': 'NOT', 'score': 0.9986246824264526}, {'label': 'NOT', 'score': 0.9993532299995422}, {'label': 'NOT', 'score': 0.9986153841018677}, {'label': 'NOT', 'score': 0.999396562576294}, {'label': 'CLICKBAIT', 'score': 0.9997021555900574}, {'label': 'CLICKBAIT', 'score': 0.9997121691703796}, {'label': 'NOT', 'score': 0.9992733597755432}, {'label': 'CLICKBAIT', 'score': 0.9992426633834839}, {'label': 'NOT', 'score': 0.9993417859077454}, {'label': 'NOT', 'score': 0.999431312084198}, {'label': 'NOT', 'score': 0.9994170665740967}, {'label': 'NOT', 'score': 0.9965403079986572}, {'label': 'NOT', 'score': 0.9919633865356445}, {'label': 'NOT', 'score': 0.9988597631454468}, {'label': 'NOT', 'score': 0.999471127986908}, {'label': 'NOT', 'score': 0.9985939860343933}, {'label': 'CLICKBAIT', 'score': 0.9981213212013245}, {'label': 'NOT', 'score': 0.9991145730018616}, {'label': 'NOT', 'score': 0.9993866682052612}, {'label': 'NOT', 'score': 0.99922776222229}, {'label': 'NOT', 'score': 0.9989922642707825}, {'label': 'CLICKBAIT', 'score': 0.999583899974823}, {'label': 'CLICKBAIT', 'score': 0.9996973276138306}, {'label': 'CLICKBAIT', 'score': 0.9996528625488281}, {'label': 'NOT', 'score': 0.9994296431541443}, {'label': 'CLICKBAIT', 'score': 0.9895572066307068}, {'label': 'CLICKBAIT', 'score': 0.9997130036354065}, {'label': 'NOT', 'score': 0.9994421601295471}, {'label': 'NOT', 'score': 0.999363124370575}, {'label': 'CLICKBAIT', 'score': 0.9997193217277527}, {'label': 'NOT', 'score': 0.9978027939796448}, {'label': 'CLICKBAIT', 'score': 0.9997137188911438}, {'label': 'CLICKBAIT', 'score': 0.9993764758110046}, {'label': 'CLICKBAIT', 'score': 0.9997572302818298}, {'label': 'NOT', 'score': 0.9943324327468872}, {'label': 'NOT', 'score': 0.999139666557312}, {'label': 'CLICKBAIT', 'score': 0.9996026158332825}, {'label': 'NOT', 'score': 0.9992560744285583}, {'label': 'NOT', 'score': 0.9991969466209412}, {'label': 'CLICKBAIT', 'score': 0.9996943473815918}, {'label': 'CLICKBAIT', 'score': 0.9997314810752869}, {'label': 'NOT', 'score': 0.9992433786392212}, {'label': 'NOT', 'score': 0.9622171521186829}, {'label': 'NOT', 'score': 0.998008668422699}, {'label': 'CLICKBAIT', 'score': 0.9992738366127014}, {'label': 'NOT', 'score': 0.9228304624557495}, {'label': 'NOT', 'score': 0.9994454979896545}, {'label': 'NOT', 'score': 0.9982548356056213}, {'label': 'NOT', 'score': 0.999222993850708}, {'label': 'CLICKBAIT', 'score': 0.9997507929801941}, {'label': 'NOT', 'score': 0.5218949317932129}, {'label': 'CLICKBAIT', 'score': 0.9993054866790771}, {'label': 'NOT', 'score': 0.9993124008178711}, {'label': 'NOT', 'score': 0.7833570837974548}, {'label': 'NOT', 'score': 0.9984456896781921}, {'label': 'CLICKBAIT', 'score': 0.999722421169281}, {'label': 'NOT', 'score': 0.9994788765907288}, {'label': 'CLICKBAIT', 'score': 0.9997517466545105}, {'label': 'NOT', 'score': 0.9994262456893921}, {'label': 'CLICKBAIT', 'score': 0.9995638728141785}, {'label': 'CLICKBAIT', 'score': 0.9996296167373657}, {'label': 'CLICKBAIT', 'score': 0.9997416138648987}, {'label': 'NOT', 'score': 0.9708486199378967}, {'label': 'CLICKBAIT', 'score': 0.9992004036903381}, {'label': 'CLICKBAIT', 'score': 0.9996722936630249}, {'label': 'CLICKBAIT', 'score': 0.9996813535690308}, {'label': 'CLICKBAIT', 'score': 0.9996080994606018}, {'label': 'NOT', 'score': 0.9994968175888062}, {'label': 'NOT', 'score': 0.999388575553894}, {'label': 'NOT', 'score': 0.9809343218803406}, {'label': 'CLICKBAIT', 'score': 0.9995036125183105}, {'label': 'CLICKBAIT', 'score': 0.9996809959411621}, {'label': 'CLICKBAIT', 'score': 0.9997404217720032}, {'label': 'NOT', 'score': 0.9994414448738098}, {'label': 'NOT', 'score': 0.9988874793052673}, {'label': 'NOT', 'score': 0.9993259906768799}, {'label': 'NOT', 'score': 0.984447717666626}, {'label': 'NOT', 'score': 0.9979782700538635}, {'label': 'CLICKBAIT', 'score': 0.999713122844696}, {'label': 'NOT', 'score': 0.9992014765739441}, {'label': 'CLICKBAIT', 'score': 0.9997245669364929}, {'label': 'NOT', 'score': 0.9981040954589844}, {'label': 'NOT', 'score': 0.9626113176345825}, {'label': 'NOT', 'score': 0.9025890827178955}, {'label': 'CLICKBAIT', 'score': 0.9990839958190918}, {'label': 'CLICKBAIT', 'score': 0.9987467527389526}, {'label': 'NOT', 'score': 0.9978766441345215}, {'label': 'NOT', 'score': 0.9992515444755554}, {'label': 'NOT', 'score': 0.9985118508338928}, {'label': 'NOT', 'score': 0.9992088675498962}, {'label': 'CLICKBAIT', 'score': 0.999525785446167}, {'label': 'CLICKBAIT', 'score': 0.9996237754821777}, {'label': 'NOT', 'score': 0.9991562366485596}, {'label': 'NOT', 'score': 0.9987174272537231}, {'label': 'CLICKBAIT', 'score': 0.9981284737586975}, {'label': 'CLICKBAIT', 'score': 0.9996626377105713}, {'label': 'NOT', 'score': 0.9992647767066956}, {'label': 'CLICKBAIT', 'score': 0.9983274340629578}, {'label': 'NOT', 'score': 0.9993744492530823}, {'label': 'CLICKBAIT', 'score': 0.9989994168281555}, {'label': 'CLICKBAIT', 'score': 0.999334990978241}, {'label': 'CLICKBAIT', 'score': 0.9989874958992004}, {'label': 'NOT', 'score': 0.9990119934082031}, {'label': 'NOT', 'score': 0.9593241810798645}, {'label': 'NOT', 'score': 0.9977911710739136}, {'label': 'NOT', 'score': 0.9991163611412048}, {'label': 'NOT', 'score': 0.9951590895652771}, {'label': 'CLICKBAIT', 'score': 0.9996861219406128}, {'label': 'CLICKBAIT', 'score': 0.9996784925460815}, {'label': 'NOT', 'score': 0.999474823474884}, {'label': 'CLICKBAIT', 'score': 0.9997001886367798}, {'label': 'CLICKBAIT', 'score': 0.9996768236160278}, {'label': 'NOT', 'score': 0.9982982277870178}, {'label': 'CLICKBAIT', 'score': 0.999607503414154}, {'label': 'NOT', 'score': 0.9993075132369995}, {'label': 'CLICKBAIT', 'score': 0.999614953994751}, {'label': 'NOT', 'score': 0.9992645382881165}, {'label': 'NOT', 'score': 0.9994309544563293}, {'label': 'CLICKBAIT', 'score': 0.9997442364692688}, {'label': 'NOT', 'score': 0.9994179010391235}, {'label': 'CLICKBAIT', 'score': 0.9995307922363281}, {'label': 'CLICKBAIT', 'score': 0.9997119307518005}, {'label': 'NOT', 'score': 0.9994497895240784}, {'label': 'NOT', 'score': 0.9920074939727783}, {'label': 'CLICKBAIT', 'score': 0.9996770620346069}, {'label': 'NOT', 'score': 0.9972798824310303}, {'label': 'CLICKBAIT', 'score': 0.9996170997619629}, {'label': 'CLICKBAIT', 'score': 0.9995853304862976}, {'label': 'CLICKBAIT', 'score': 0.9997075200080872}, {'label': 'CLICKBAIT', 'score': 0.9997379183769226}, {'label': 'NOT', 'score': 0.5624358654022217}, {'label': 'NOT', 'score': 0.9981753826141357}, {'label': 'CLICKBAIT', 'score': 0.999677300453186}, {'label': 'CLICKBAIT', 'score': 0.9997624754905701}, {'label': 'CLICKBAIT', 'score': 0.9997368454933167}, {'label': 'NOT', 'score': 0.9992590546607971}, {'label': 'CLICKBAIT', 'score': 0.9996820688247681}, {'label': 'CLICKBAIT', 'score': 0.9997243285179138}, {'label': 'NOT', 'score': 0.9990978240966797}, {'label': 'NOT', 'score': 0.9987831711769104}, {'label': 'CLICKBAIT', 'score': 0.9997003078460693}, {'label': 'CLICKBAIT', 'score': 0.9996819496154785}, {'label': 'NOT', 'score': 0.9989866614341736}, {'label': 'NOT', 'score': 0.9994983673095703}, {'label': 'NOT', 'score': 0.9992102384567261}, {'label': 'CLICKBAIT', 'score': 0.9995250701904297}, {'label': 'NOT', 'score': 0.9994729161262512}, {'label': 'NOT', 'score': 0.9990962743759155}, {'label': 'NOT', 'score': 0.9909682869911194}, {'label': 'NOT', 'score': 0.9994159936904907}, {'label': 'NOT', 'score': 0.9994550347328186}, {'label': 'NOT', 'score': 0.996516227722168}, {'label': 'CLICKBAIT', 'score': 0.9995513558387756}, {'label': 'CLICKBAIT', 'score': 0.999687671661377}, {'label': 'CLICKBAIT', 'score': 0.9996974468231201}, {'label': 'CLICKBAIT', 'score': 0.9997285008430481}, {'label': 'CLICKBAIT', 'score': 0.9994809031486511}, {'label': 'CLICKBAIT', 'score': 0.9995562434196472}, {'label': 'NOT', 'score': 0.9994159936904907}, {'label': 'CLICKBAIT', 'score': 0.9338091015815735}, {'label': 'NOT', 'score': 0.9583525061607361}, {'label': 'CLICKBAIT', 'score': 0.9997125267982483}, {'label': 'CLICKBAIT', 'score': 0.9997386336326599}, {'label': 'CLICKBAIT', 'score': 0.9996141195297241}, {'label': 'NOT', 'score': 0.9991034865379333}, {'label': 'CLICKBAIT', 'score': 0.9997350573539734}, {'label': 'CLICKBAIT', 'score': 0.9997417330741882}, {'label': 'NOT', 'score': 0.9988032579421997}, {'label': 'CLICKBAIT', 'score': 0.9996744394302368}, {'label': 'NOT', 'score': 0.999327540397644}, {'label': 'CLICKBAIT', 'score': 0.9995991587638855}, {'label': 'CLICKBAIT', 'score': 0.6625819206237793}, {'label': 'NOT', 'score': 0.9592129588127136}, {'label': 'NOT', 'score': 0.9595313668251038}, {'label': 'NOT', 'score': 0.9993813037872314}, {'label': 'NOT', 'score': 0.9988763928413391}, {'label': 'CLICKBAIT', 'score': 0.9996331930160522}, {'label': 'CLICKBAIT', 'score': 0.9977922439575195}, {'label': 'CLICKBAIT', 'score': 0.9996423721313477}, {'label': 'NOT', 'score': 0.9994981288909912}, {'label': 'NOT', 'score': 0.9949972629547119}, {'label': 'NOT', 'score': 0.9983273148536682}, {'label': 'CLICKBAIT', 'score': 0.995473325252533}, {'label': 'CLICKBAIT', 'score': 0.9997515082359314}, {'label': 'NOT', 'score': 0.9935042262077332}, {'label': 'NOT', 'score': 0.9993948936462402}, {'label': 'CLICKBAIT', 'score': 0.9996936321258545}, {'label': 'CLICKBAIT', 'score': 0.9995480179786682}, {'label': 'NOT', 'score': 0.998649537563324}, {'label': 'NOT', 'score': 0.9993833303451538}, {'label': 'CLICKBAIT', 'score': 0.9997005462646484}, {'label': 'CLICKBAIT', 'score': 0.9997246861457825}, {'label': 'NOT', 'score': 0.9833927750587463}, {'label': 'NOT', 'score': 0.9982074499130249}, {'label': 'CLICKBAIT', 'score': 0.9996657371520996}, {'label': 'NOT', 'score': 0.9990741014480591}, {'label': 'NOT', 'score': 0.9971815347671509}, {'label': 'CLICKBAIT', 'score': 0.9995922446250916}, {'label': 'CLICKBAIT', 'score': 0.999679684638977}, {'label': 'CLICKBAIT', 'score': 0.9996040463447571}, {'label': 'CLICKBAIT', 'score': 0.99965500831604}, {'label': 'CLICKBAIT', 'score': 0.9944719076156616}, {'label': 'CLICKBAIT', 'score': 0.9991942048072815}, {'label': 'CLICKBAIT', 'score': 0.9996956586837769}, {'label': 'NOT', 'score': 0.9994627833366394}, {'label': 'NOT', 'score': 0.9994080066680908}, {'label': 'CLICKBAIT', 'score': 0.9997188448905945}, {'label': 'NOT', 'score': 0.9994338154792786}, {'label': 'CLICKBAIT', 'score': 0.9996151924133301}, {'label': 'NOT', 'score': 0.9994845390319824}, {'label': 'CLICKBAIT', 'score': 0.9996998310089111}, {'label': 'CLICKBAIT', 'score': 0.9760661125183105}, {'label': 'CLICKBAIT', 'score': 0.997432291507721}, {'label': 'NOT', 'score': 0.9958510398864746}, {'label': 'NOT', 'score': 0.9990806579589844}, {'label': 'CLICKBAIT', 'score': 0.955010712146759}, {'label': 'NOT', 'score': 0.9989946484565735}, {'label': 'CLICKBAIT', 'score': 0.9994663596153259}, {'label': 'CLICKBAIT', 'score': 0.9995443224906921}, {'label': 'NOT', 'score': 0.9988910555839539}, {'label': 'CLICKBAIT', 'score': 0.9996814727783203}, {'label': 'NOT', 'score': 0.9991505146026611}, {'label': 'NOT', 'score': 0.9972352385520935}, {'label': 'CLICKBAIT', 'score': 0.9997033476829529}, {'label': 'NOT', 'score': 0.9992519021034241}, {'label': 'NOT', 'score': 0.9994365572929382}, {'label': 'NOT', 'score': 0.9994725584983826}, {'label': 'CLICKBAIT', 'score': 0.9997339844703674}, {'label': 'NOT', 'score': 0.9979839324951172}, {'label': 'CLICKBAIT', 'score': 0.9996434450149536}, {'label': 'CLICKBAIT', 'score': 0.9996707439422607}, {'label': 'NOT', 'score': 0.995181143283844}, {'label': 'CLICKBAIT', 'score': 0.9996999502182007}, {'label': 'CLICKBAIT', 'score': 0.9987385869026184}, {'label': 'NOT', 'score': 0.9988481998443604}, {'label': 'CLICKBAIT', 'score': 0.999643087387085}, {'label': 'NOT', 'score': 0.9994463324546814}, {'label': 'NOT', 'score': 0.9979039430618286}, {'label': 'CLICKBAIT', 'score': 0.996311604976654}, {'label': 'NOT', 'score': 0.9981347322463989}, {'label': 'CLICKBAIT', 'score': 0.9994062185287476}, {'label': 'CLICKBAIT', 'score': 0.9996869564056396}, {'label': 'CLICKBAIT', 'score': 0.9992044568061829}, {'label': 'CLICKBAIT', 'score': 0.9997157454490662}, {'label': 'NOT', 'score': 0.9994994401931763}, {'label': 'CLICKBAIT', 'score': 0.9995823502540588}, {'label': 'NOT', 'score': 0.9981942772865295}, {'label': 'CLICKBAIT', 'score': 0.9996219873428345}, {'label': 'NOT', 'score': 0.9898752570152283}, {'label': 'CLICKBAIT', 'score': 0.9996685981750488}, {'label': 'NOT', 'score': 0.9987610578536987}, {'label': 'CLICKBAIT', 'score': 0.9996002316474915}, {'label': 'NOT', 'score': 0.8955634236335754}, {'label': 'CLICKBAIT', 'score': 0.9996813535690308}, {'label': 'NOT', 'score': 0.9994705319404602}, {'label': 'CLICKBAIT', 'score': 0.9916337728500366}, {'label': 'CLICKBAIT', 'score': 0.9996399879455566}, {'label': 'NOT', 'score': 0.9991098046302795}, {'label': 'NOT', 'score': 0.9990434050559998}, {'label': 'CLICKBAIT', 'score': 0.999147891998291}, {'label': 'NOT', 'score': 0.9991193413734436}, {'label': 'CLICKBAIT', 'score': 0.9821442365646362}, {'label': 'NOT', 'score': 0.9991461038589478}, {'label': 'NOT', 'score': 0.9992613196372986}, {'label': 'NOT', 'score': 0.9989538192749023}, {'label': 'CLICKBAIT', 'score': 0.9996036887168884}, {'label': 'CLICKBAIT', 'score': 0.9997337460517883}, {'label': 'CLICKBAIT', 'score': 0.9986594915390015}, {'label': 'CLICKBAIT', 'score': 0.9996979236602783}, {'label': 'NOT', 'score': 0.9993916749954224}, {'label': 'NOT', 'score': 0.998214840888977}, {'label': 'CLICKBAIT', 'score': 0.9995988011360168}, {'label': 'CLICKBAIT', 'score': 0.9986968636512756}, {'label': 'CLICKBAIT', 'score': 0.9996868371963501}, {'label': 'CLICKBAIT', 'score': 0.9993892908096313}, {'label': 'CLICKBAIT', 'score': 0.9992234706878662}, {'label': 'NOT', 'score': 0.9905001521110535}, {'label': 'CLICKBAIT', 'score': 0.9996774196624756}, {'label': 'CLICKBAIT', 'score': 0.999686598777771}, {'label': 'NOT', 'score': 0.9991999268531799}, {'label': 'CLICKBAIT', 'score': 0.9996001124382019}, {'label': 'NOT', 'score': 0.9992218017578125}, {'label': 'CLICKBAIT', 'score': 0.7163456678390503}, {'label': 'NOT', 'score': 0.9993911981582642}, {'label': 'CLICKBAIT', 'score': 0.9997220635414124}, {'label': 'NOT', 'score': 0.9992904663085938}, {'label': 'NOT', 'score': 0.9993027448654175}, {'label': 'CLICKBAIT', 'score': 0.999718964099884}, {'label': 'NOT', 'score': 0.9994920492172241}, {'label': 'NOT', 'score': 0.997490644454956}, {'label': 'CLICKBAIT', 'score': 0.9996544122695923}, {'label': 'CLICKBAIT', 'score': 0.9997519850730896}, {'label': 'CLICKBAIT', 'score': 0.9949022531509399}, {'label': 'CLICKBAIT', 'score': 0.9985894560813904}, {'label': 'CLICKBAIT', 'score': 0.9994909763336182}, {'label': 'CLICKBAIT', 'score': 0.9996523857116699}, {'label': 'CLICKBAIT', 'score': 0.9994812607765198}, {'label': 'CLICKBAIT', 'score': 0.999683141708374}, {'label': 'CLICKBAIT', 'score': 0.9992964267730713}, {'label': 'CLICKBAIT', 'score': 0.999561607837677}, {'label': 'NOT', 'score': 0.9994988441467285}, {'label': 'NOT', 'score': 0.9990220069885254}, {'label': 'CLICKBAIT', 'score': 0.9989425539970398}, {'label': 'NOT', 'score': 0.9985405206680298}, {'label': 'CLICKBAIT', 'score': 0.9997075200080872}, {'label': 'NOT', 'score': 0.999441921710968}, {'label': 'CLICKBAIT', 'score': 0.9996206760406494}, {'label': 'NOT', 'score': 0.999196469783783}, {'label': 'NOT', 'score': 0.9994645714759827}, {'label': 'CLICKBAIT', 'score': 0.9386304616928101}, {'label': 'CLICKBAIT', 'score': 0.9996387958526611}, {'label': 'CLICKBAIT', 'score': 0.9996203184127808}, {'label': 'NOT', 'score': 0.9991968274116516}, {'label': 'NOT', 'score': 0.9993801116943359}, {'label': 'NOT', 'score': 0.9653915762901306}, {'label': 'CLICKBAIT', 'score': 0.9994156360626221}, {'label': 'NOT', 'score': 0.9994829893112183}, {'label': 'NOT', 'score': 0.9993606209754944}, {'label': 'CLICKBAIT', 'score': 0.9997448325157166}, {'label': 'NOT', 'score': 0.999004065990448}, {'label': 'CLICKBAIT', 'score': 0.8029140830039978}, {'label': 'CLICKBAIT', 'score': 0.9996950626373291}, {'label': 'NOT', 'score': 0.9992988109588623}, {'label': 'NOT', 'score': 0.9993919134140015}, {'label': 'CLICKBAIT', 'score': 0.9996277093887329}, {'label': 'NOT', 'score': 0.9991251826286316}, {'label': 'NOT', 'score': 0.9992415904998779}, {'label': 'CLICKBAIT', 'score': 0.9996967315673828}, {'label': 'CLICKBAIT', 'score': 0.9987970590591431}, {'label': 'NOT', 'score': 0.9990285634994507}, {'label': 'NOT', 'score': 0.9989857077598572}, {'label': 'NOT', 'score': 0.9984385371208191}, {'label': 'CLICKBAIT', 'score': 0.959924578666687}, {'label': 'NOT', 'score': 0.9993240833282471}, {'label': 'NOT', 'score': 0.9990020394325256}, {'label': 'CLICKBAIT', 'score': 0.9997426867485046}, {'label': 'NOT', 'score': 0.9988501071929932}, {'label': 'NOT', 'score': 0.9995061159133911}, {'label': 'CLICKBAIT', 'score': 0.9788212776184082}, {'label': 'NOT', 'score': 0.9992532134056091}, {'label': 'CLICKBAIT', 'score': 0.9991604089736938}, {'label': 'CLICKBAIT', 'score': 0.9997474551200867}, {'label': 'CLICKBAIT', 'score': 0.9996834993362427}, {'label': 'NOT', 'score': 0.999221682548523}, {'label': 'NOT', 'score': 0.9983580708503723}, {'label': 'CLICKBAIT', 'score': 0.9992520213127136}, {'label': 'NOT', 'score': 0.9992675185203552}, {'label': 'NOT', 'score': 0.999384880065918}, {'label': 'CLICKBAIT', 'score': 0.9996732473373413}, {'label': 'NOT', 'score': 0.9994750618934631}, {'label': 'CLICKBAIT', 'score': 0.999582827091217}, {'label': 'CLICKBAIT', 'score': 0.9995710253715515}, {'label': 'CLICKBAIT', 'score': 0.9996846914291382}, {'label': 'NOT', 'score': 0.99893718957901}, {'label': 'CLICKBAIT', 'score': 0.9996988773345947}, {'label': 'CLICKBAIT', 'score': 0.9993370175361633}, {'label': 'CLICKBAIT', 'score': 0.9993922710418701}, {'label': 'CLICKBAIT', 'score': 0.9972598552703857}, {'label': 'NOT', 'score': 0.9993454813957214}, {'label': 'NOT', 'score': 0.9993869066238403}, {'label': 'NOT', 'score': 0.9970980882644653}, {'label': 'CLICKBAIT', 'score': 0.9997246861457825}, {'label': 'CLICKBAIT', 'score': 0.9996777772903442}, {'label': 'NOT', 'score': 0.9985754489898682}, {'label': 'CLICKBAIT', 'score': 0.9993941783905029}, {'label': 'NOT', 'score': 0.9956335425376892}, {'label': 'NOT', 'score': 0.99616938829422}, {'label': 'NOT', 'score': 0.9994075298309326}, {'label': 'CLICKBAIT', 'score': 0.9996777772903442}, {'label': 'CLICKBAIT', 'score': 0.9906468391418457}, {'label': 'CLICKBAIT', 'score': 0.9997313618659973}, {'label': 'NOT', 'score': 0.7209964394569397}, {'label': 'CLICKBAIT', 'score': 0.994394063949585}, {'label': 'CLICKBAIT', 'score': 0.9995429515838623}, {'label': 'CLICKBAIT', 'score': 0.9814069271087646}, {'label': 'CLICKBAIT', 'score': 0.9997593760490417}, {'label': 'NOT', 'score': 0.9990424513816833}, {'label': 'NOT', 'score': 0.9993834495544434}, {'label': 'CLICKBAIT', 'score': 0.9996077418327332}, {'label': 'NOT', 'score': 0.968880295753479}, {'label': 'NOT', 'score': 0.883151113986969}, {'label': 'NOT', 'score': 0.9978544116020203}, {'label': 'CLICKBAIT', 'score': 0.9996410608291626}, {'label': 'CLICKBAIT', 'score': 0.9995008707046509}, {'label': 'NOT', 'score': 0.9986751675605774}, {'label': 'CLICKBAIT', 'score': 0.9996246099472046}, {'label': 'NOT', 'score': 0.9993434548377991}, {'label': 'NOT', 'score': 0.9989914298057556}, {'label': 'NOT', 'score': 0.9232722520828247}, {'label': 'NOT', 'score': 0.9992576241493225}, {'label': 'CLICKBAIT', 'score': 0.9989916682243347}, {'label': 'NOT', 'score': 0.9816644191741943}, {'label': 'CLICKBAIT', 'score': 0.999495267868042}, {'label': 'NOT', 'score': 0.9993889331817627}, {'label': 'CLICKBAIT', 'score': 0.8451259136199951}, {'label': 'NOT', 'score': 0.9220301508903503}, {'label': 'CLICKBAIT', 'score': 0.9988160133361816}, {'label': 'CLICKBAIT', 'score': 0.9996877908706665}, {'label': 'CLICKBAIT', 'score': 0.9996523857116699}, {'label': 'CLICKBAIT', 'score': 0.9993062019348145}, {'label': 'NOT', 'score': 0.9987742304801941}, {'label': 'CLICKBAIT', 'score': 0.9997226595878601}, {'label': 'CLICKBAIT', 'score': 0.9996602535247803}, {'label': 'NOT', 'score': 0.9054969549179077}, {'label': 'CLICKBAIT', 'score': 0.9994663596153259}, {'label': 'NOT', 'score': 0.9961889386177063}, {'label': 'NOT', 'score': 0.9993158578872681}, {'label': 'CLICKBAIT', 'score': 0.9996755123138428}, {'label': 'NOT', 'score': 0.9993459582328796}, {'label': 'NOT', 'score': 0.9986168146133423}, {'label': 'NOT', 'score': 0.9993597865104675}, {'label': 'CLICKBAIT', 'score': 0.9996997117996216}, {'label': 'NOT', 'score': 0.9993207454681396}, {'label': 'CLICKBAIT', 'score': 0.9995150566101074}, {'label': 'NOT', 'score': 0.9818118214607239}, {'label': 'NOT', 'score': 0.9994124174118042}, {'label': 'CLICKBAIT', 'score': 0.9997414946556091}, {'label': 'NOT', 'score': 0.9993584752082825}, {'label': 'NOT', 'score': 0.9992666840553284}, {'label': 'CLICKBAIT', 'score': 0.9996262788772583}, {'label': 'CLICKBAIT', 'score': 0.9937149882316589}, {'label': 'CLICKBAIT', 'score': 0.9996819496154785}, {'label': 'NOT', 'score': 0.9970040917396545}, {'label': 'NOT', 'score': 0.9994058609008789}, {'label': 'CLICKBAIT', 'score': 0.9989421963691711}, {'label': 'CLICKBAIT', 'score': 0.997219443321228}, {'label': 'CLICKBAIT', 'score': 0.9996711015701294}, {'label': 'CLICKBAIT', 'score': 0.9996919631958008}, {'label': 'NOT', 'score': 0.9989427924156189}, {'label': 'CLICKBAIT', 'score': 0.9995443224906921}, {'label': 'CLICKBAIT', 'score': 0.9996684789657593}, {'label': 'CLICKBAIT', 'score': 0.9994699358940125}, {'label': 'NOT', 'score': 0.9987932443618774}, {'label': 'NOT', 'score': 0.999382734298706}, {'label': 'NOT', 'score': 0.9984723925590515}, {'label': 'NOT', 'score': 0.9994235038757324}, {'label': 'NOT', 'score': 0.9990083575248718}, {'label': 'NOT', 'score': 0.9983776807785034}, {'label': 'CLICKBAIT', 'score': 0.9997432827949524}, {'label': 'CLICKBAIT', 'score': 0.9996955394744873}, {'label': 'NOT', 'score': 0.9994761347770691}, {'label': 'NOT', 'score': 0.9977177381515503}, {'label': 'NOT', 'score': 0.9993564486503601}, {'label': 'NOT', 'score': 0.9987817406654358}, {'label': 'CLICKBAIT', 'score': 0.9990370273590088}, {'label': 'CLICKBAIT', 'score': 0.9995600581169128}, {'label': 'CLICKBAIT', 'score': 0.993310809135437}, {'label': 'NOT', 'score': 0.9994139671325684}, {'label': 'NOT', 'score': 0.9990443587303162}, {'label': 'CLICKBAIT', 'score': 0.9672713875770569}, {'label': 'NOT', 'score': 0.9993348717689514}, {'label': 'CLICKBAIT', 'score': 0.9996271133422852}, {'label': 'CLICKBAIT', 'score': 0.9996340274810791}, {'label': 'NOT', 'score': 0.9991205334663391}, {'label': 'CLICKBAIT', 'score': 0.9996088147163391}, {'label': 'CLICKBAIT', 'score': 0.9997276663780212}, {'label': 'CLICKBAIT', 'score': 0.9969858527183533}, {'label': 'NOT', 'score': 0.9970118999481201}, {'label': 'CLICKBAIT', 'score': 0.9997512698173523}, {'label': 'NOT', 'score': 0.9994161128997803}, {'label': 'CLICKBAIT', 'score': 0.9319841861724854}, {'label': 'CLICKBAIT', 'score': 0.9995384216308594}, {'label': 'CLICKBAIT', 'score': 0.999752938747406}, {'label': 'NOT', 'score': 0.9993889331817627}, {'label': 'NOT', 'score': 0.9892963767051697}, {'label': 'NOT', 'score': 0.9992774128913879}, {'label': 'CLICKBAIT', 'score': 0.9996932744979858}, {'label': 'CLICKBAIT', 'score': 0.999698281288147}, {'label': 'CLICKBAIT', 'score': 0.9996844530105591}, {'label': 'NOT', 'score': 0.9991469383239746}, {'label': 'NOT', 'score': 0.9984394907951355}, {'label': 'NOT', 'score': 0.9988910555839539}, {'label': 'NOT', 'score': 0.9912914037704468}, {'label': 'NOT', 'score': 0.9994739890098572}, {'label': 'CLICKBAIT', 'score': 0.9991050362586975}, {'label': 'NOT', 'score': 0.99937504529953}, {'label': 'CLICKBAIT', 'score': 0.9996944665908813}, {'label': 'NOT', 'score': 0.9991762042045593}, {'label': 'NOT', 'score': 0.9991476535797119}, {'label': 'CLICKBAIT', 'score': 0.9997064471244812}, {'label': 'CLICKBAIT', 'score': 0.9997140765190125}, {'label': 'NOT', 'score': 0.9994282126426697}, {'label': 'CLICKBAIT', 'score': 0.9996848106384277}, {'label': 'CLICKBAIT', 'score': 0.9996050000190735}, {'label': 'CLICKBAIT', 'score': 0.9997250437736511}, {'label': 'CLICKBAIT', 'score': 0.9997466206550598}, {'label': 'CLICKBAIT', 'score': 0.9997597336769104}, {'label': 'NOT', 'score': 0.999481737613678}, {'label': 'NOT', 'score': 0.999387264251709}, {'label': 'CLICKBAIT', 'score': 0.9994937181472778}, {'label': 'CLICKBAIT', 'score': 0.9995036125183105}, {'label': 'CLICKBAIT', 'score': 0.9996761083602905}, {'label': 'NOT', 'score': 0.9994743466377258}, {'label': 'NOT', 'score': 0.9994065761566162}, {'label': 'CLICKBAIT', 'score': 0.9992647767066956}, {'label': 'CLICKBAIT', 'score': 0.9993565678596497}, {'label': 'NOT', 'score': 0.9955697655677795}, {'label': 'NOT', 'score': 0.9993951320648193}, {'label': 'CLICKBAIT', 'score': 0.9996078610420227}, {'label': 'CLICKBAIT', 'score': 0.9969853758811951}, {'label': 'CLICKBAIT', 'score': 0.9409058094024658}, {'label': 'NOT', 'score': 0.9975916147232056}, {'label': 'CLICKBAIT', 'score': 0.99943608045578}, {'label': 'NOT', 'score': 0.9992930889129639}, {'label': 'CLICKBAIT', 'score': 0.9983817338943481}, {'label': 'CLICKBAIT', 'score': 0.9997052550315857}, {'label': 'CLICKBAIT', 'score': 0.9966058731079102}, {'label': 'NOT', 'score': 0.5468367338180542}, {'label': 'NOT', 'score': 0.9975683093070984}, {'label': 'CLICKBAIT', 'score': 0.9997479319572449}, {'label': 'NOT', 'score': 0.9991857409477234}, {'label': 'CLICKBAIT', 'score': 0.9400462508201599}, {'label': 'CLICKBAIT', 'score': 0.999723494052887}, {'label': 'CLICKBAIT', 'score': 0.9991990923881531}, {'label': 'CLICKBAIT', 'score': 0.9997190833091736}, {'label': 'CLICKBAIT', 'score': 0.9996953010559082}, {'label': 'CLICKBAIT', 'score': 0.9995265007019043}, {'label': 'CLICKBAIT', 'score': 0.9989282488822937}, {'label': 'NOT', 'score': 0.9992565512657166}, {'label': 'CLICKBAIT', 'score': 0.9996527433395386}, {'label': 'NOT', 'score': 0.9991017580032349}, {'label': 'CLICKBAIT', 'score': 0.9996832609176636}, {'label': 'NOT', 'score': 0.9993574023246765}, {'label': 'NOT', 'score': 0.9994506239891052}, {'label': 'NOT', 'score': 0.9986016154289246}, {'label': 'NOT', 'score': 0.9976730942726135}, {'label': 'CLICKBAIT', 'score': 0.9997350573539734}, {'label': 'CLICKBAIT', 'score': 0.9995905756950378}, {'label': 'NOT', 'score': 0.9994387030601501}, {'label': 'CLICKBAIT', 'score': 0.9997146725654602}, {'label': 'NOT', 'score': 0.9991266131401062}, {'label': 'CLICKBAIT', 'score': 0.9985925555229187}, {'label': 'CLICKBAIT', 'score': 0.9995279312133789}, {'label': 'NOT', 'score': 0.9991201758384705}, {'label': 'CLICKBAIT', 'score': 0.9997513890266418}, {'label': 'NOT', 'score': 0.9991439580917358}, {'label': 'NOT', 'score': 0.996450662612915}, {'label': 'NOT', 'score': 0.999489426612854}, {'label': 'NOT', 'score': 0.9858577251434326}, {'label': 'NOT', 'score': 0.9993626475334167}, {'label': 'NOT', 'score': 0.9987949132919312}, {'label': 'NOT', 'score': 0.9994531273841858}, {'label': 'NOT', 'score': 0.9847162961959839}, {'label': 'NOT', 'score': 0.9670463800430298}, {'label': 'NOT', 'score': 0.9949552416801453}, {'label': 'NOT', 'score': 0.999396562576294}, {'label': 'NOT', 'score': 0.9994736313819885}, {'label': 'CLICKBAIT', 'score': 0.9997382760047913}, {'label': 'NOT', 'score': 0.997825562953949}, {'label': 'NOT', 'score': 0.9968306422233582}, {'label': 'CLICKBAIT', 'score': 0.9955986738204956}, {'label': 'NOT', 'score': 0.9993828535079956}, {'label': 'NOT', 'score': 0.9980517625808716}, {'label': 'NOT', 'score': 0.9994599223136902}, {'label': 'NOT', 'score': 0.9991307854652405}, {'label': 'NOT', 'score': 0.999207079410553}, {'label': 'NOT', 'score': 0.9965640902519226}, {'label': 'NOT', 'score': 0.9992838501930237}, {'label': 'NOT', 'score': 0.9991428852081299}, {'label': 'CLICKBAIT', 'score': 0.9993782043457031}, {'label': 'CLICKBAIT', 'score': 0.9995879530906677}, {'label': 'NOT', 'score': 0.9995162487030029}, {'label': 'NOT', 'score': 0.9994696974754333}, {'label': 'NOT', 'score': 0.9987849593162537}, {'label': 'NOT', 'score': 0.9992008805274963}, {'label': 'NOT', 'score': 0.9993808269500732}, {'label': 'CLICKBAIT', 'score': 0.9997028708457947}, {'label': 'CLICKBAIT', 'score': 0.9975817203521729}, {'label': 'NOT', 'score': 0.9991254210472107}, {'label': 'NOT', 'score': 0.9857119917869568}, {'label': 'NOT', 'score': 0.9295605421066284}, {'label': 'CLICKBAIT', 'score': 0.9996985197067261}, {'label': 'CLICKBAIT', 'score': 0.9997523427009583}, {'label': 'CLICKBAIT', 'score': 0.9874947667121887}, {'label': 'NOT', 'score': 0.998994767665863}, {'label': 'NOT', 'score': 0.9990276098251343}, {'label': 'CLICKBAIT', 'score': 0.9997455477714539}, {'label': 'NOT', 'score': 0.9992745518684387}, {'label': 'NOT', 'score': 0.9993127584457397}, {'label': 'CLICKBAIT', 'score': 0.9997300505638123}, {'label': 'CLICKBAIT', 'score': 0.999738872051239}, {'label': 'NOT', 'score': 0.999357283115387}, {'label': 'CLICKBAIT', 'score': 0.9995749592781067}, {'label': 'NOT', 'score': 0.9991080164909363}, {'label': 'NOT', 'score': 0.9992856383323669}, {'label': 'NOT', 'score': 0.9983331561088562}, {'label': 'CLICKBAIT', 'score': 0.9995068311691284}, {'label': 'CLICKBAIT', 'score': 0.9987809062004089}, {'label': 'CLICKBAIT', 'score': 0.9990054965019226}, {'label': 'NOT', 'score': 0.9989597797393799}, {'label': 'NOT', 'score': 0.9994091987609863}, {'label': 'CLICKBAIT', 'score': 0.9997288584709167}, {'label': 'CLICKBAIT', 'score': 0.9997326731681824}, {'label': 'CLICKBAIT', 'score': 0.9997233748435974}, {'label': 'CLICKBAIT', 'score': 0.9996480941772461}, {'label': 'CLICKBAIT', 'score': 0.9996024966239929}, {'label': 'CLICKBAIT', 'score': 0.6329484581947327}, {'label': 'CLICKBAIT', 'score': 0.9997151494026184}, {'label': 'NOT', 'score': 0.9991397857666016}, {'label': 'CLICKBAIT', 'score': 0.9993575215339661}, {'label': 'NOT', 'score': 0.983171820640564}, {'label': 'NOT', 'score': 0.999402642250061}, {'label': 'NOT', 'score': 0.9994937181472778}, {'label': 'NOT', 'score': 0.9994900226593018}, {'label': 'CLICKBAIT', 'score': 0.9851736426353455}, {'label': 'NOT', 'score': 0.9994609951972961}, {'label': 'NOT', 'score': 0.9993476271629333}, {'label': 'NOT', 'score': 0.999038577079773}, {'label': 'CLICKBAIT', 'score': 0.9996100068092346}, {'label': 'NOT', 'score': 0.9990298748016357}, {'label': 'NOT', 'score': 0.9994187355041504}, {'label': 'CLICKBAIT', 'score': 0.9997296929359436}, {'label': 'CLICKBAIT', 'score': 0.9997226595878601}, {'label': 'NOT', 'score': 0.9995065927505493}, {'label': 'CLICKBAIT', 'score': 0.9997251629829407}, {'label': 'NOT', 'score': 0.9994876384735107}, {'label': 'NOT', 'score': 0.9983471632003784}, {'label': 'CLICKBAIT', 'score': 0.9997112154960632}, {'label': 'NOT', 'score': 0.9968196153640747}, {'label': 'CLICKBAIT', 'score': 0.9997269511222839}, {'label': 'NOT', 'score': 0.9993133544921875}, {'label': 'NOT', 'score': 0.9987096786499023}, {'label': 'NOT', 'score': 0.9982141256332397}, {'label': 'NOT', 'score': 0.999384880065918}, {'label': 'CLICKBAIT', 'score': 0.999687910079956}, {'label': 'CLICKBAIT', 'score': 0.9991797804832458}, {'label': 'CLICKBAIT', 'score': 0.9996993541717529}, {'label': 'CLICKBAIT', 'score': 0.9996064305305481}, {'label': 'CLICKBAIT', 'score': 0.9997338652610779}, {'label': 'CLICKBAIT', 'score': 0.9997184872627258}, {'label': 'NOT', 'score': 0.9994090795516968}, {'label': 'NOT', 'score': 0.9994082450866699}, {'label': 'CLICKBAIT', 'score': 0.9997566342353821}, {'label': 'CLICKBAIT', 'score': 0.9997352957725525}, {'label': 'CLICKBAIT', 'score': 0.9997147917747498}, {'label': 'CLICKBAIT', 'score': 0.9996657371520996}, {'label': 'NOT', 'score': 0.9993327260017395}, {'label': 'CLICKBAIT', 'score': 0.5746203064918518}, {'label': 'CLICKBAIT', 'score': 0.999725878238678}, {'label': 'CLICKBAIT', 'score': 0.9997188448905945}, {'label': 'CLICKBAIT', 'score': 0.9997132420539856}, {'label': 'NOT', 'score': 0.9991742968559265}, {'label': 'CLICKBAIT', 'score': 0.9997290968894958}, {'label': 'NOT', 'score': 0.9986905455589294}, {'label': 'NOT', 'score': 0.9905259609222412}, {'label': 'CLICKBAIT', 'score': 0.9704561233520508}, {'label': 'CLICKBAIT', 'score': 0.9988512992858887}, {'label': 'CLICKBAIT', 'score': 0.5377787351608276}, {'label': 'CLICKBAIT', 'score': 0.9997112154960632}, {'label': 'NOT', 'score': 0.9644737839698792}, {'label': 'CLICKBAIT', 'score': 0.9997263550758362}, {'label': 'NOT', 'score': 0.9993996620178223}, {'label': 'CLICKBAIT', 'score': 0.9997209906578064}, {'label': 'CLICKBAIT', 'score': 0.9997336268424988}, {'label': 'CLICKBAIT', 'score': 0.9996920824050903}, {'label': 'CLICKBAIT', 'score': 0.9994648098945618}, {'label': 'NOT', 'score': 0.9990894794464111}, {'label': 'NOT', 'score': 0.9959495067596436}, {'label': 'CLICKBAIT', 'score': 0.9988610744476318}, {'label': 'NOT', 'score': 0.9971510767936707}, {'label': 'CLICKBAIT', 'score': 0.9996999502182007}, {'label': 'CLICKBAIT', 'score': 0.9989468455314636}, {'label': 'CLICKBAIT', 'score': 0.999299168586731}, {'label': 'NOT', 'score': 0.9990079998970032}, {'label': 'NOT', 'score': 0.9990206956863403}, {'label': 'NOT', 'score': 0.9987573623657227}, {'label': 'NOT', 'score': 0.9981856942176819}, {'label': 'CLICKBAIT', 'score': 0.9997465014457703}, {'label': 'NOT', 'score': 0.9993671774864197}, {'label': 'NOT', 'score': 0.999383807182312}, {'label': 'NOT', 'score': 0.9984222650527954}, {'label': 'CLICKBAIT', 'score': 0.9997041821479797}, {'label': 'CLICKBAIT', 'score': 0.9990742206573486}, {'label': 'NOT', 'score': 0.9986458420753479}, {'label': 'NOT', 'score': 0.9993196725845337}, {'label': 'NOT', 'score': 0.9994392991065979}, {'label': 'NOT', 'score': 0.9993531107902527}, {'label': 'NOT', 'score': 0.999474823474884}, {'label': 'NOT', 'score': 0.9987301230430603}, {'label': 'CLICKBAIT', 'score': 0.9997050166130066}, {'label': 'NOT', 'score': 0.9989252686500549}, {'label': 'CLICKBAIT', 'score': 0.9995903372764587}, {'label': 'CLICKBAIT', 'score': 0.9990181922912598}, {'label': 'NOT', 'score': 0.9993677735328674}, {'label': 'CLICKBAIT', 'score': 0.9993240833282471}, {'label': 'NOT', 'score': 0.9988935589790344}, {'label': 'CLICKBAIT', 'score': 0.9995352029800415}, {'label': 'NOT', 'score': 0.9994788765907288}, {'label': 'CLICKBAIT', 'score': 0.9992085099220276}, {'label': 'CLICKBAIT', 'score': 0.9984500408172607}, {'label': 'NOT', 'score': 0.9976969361305237}, {'label': 'CLICKBAIT', 'score': 0.999738872051239}, {'label': 'NOT', 'score': 0.9990689158439636}, {'label': 'CLICKBAIT', 'score': 0.9996044039726257}, {'label': 'NOT', 'score': 0.9984404444694519}, {'label': 'CLICKBAIT', 'score': 0.9996156692504883}, {'label': 'NOT', 'score': 0.9990654587745667}, {'label': 'NOT', 'score': 0.9992825388908386}, {'label': 'CLICKBAIT', 'score': 0.9978755712509155}, {'label': 'NOT', 'score': 0.9994263648986816}, {'label': 'CLICKBAIT', 'score': 0.9997329115867615}, {'label': 'CLICKBAIT', 'score': 0.9988113641738892}, {'label': 'CLICKBAIT', 'score': 0.9996901750564575}, {'label': 'NOT', 'score': 0.998177170753479}, {'label': 'CLICKBAIT', 'score': 0.9992241859436035}, {'label': 'NOT', 'score': 0.9983828067779541}, {'label': 'NOT', 'score': 0.996322751045227}, {'label': 'CLICKBAIT', 'score': 0.9997223019599915}, {'label': 'NOT', 'score': 0.9837409257888794}, {'label': 'CLICKBAIT', 'score': 0.9996904134750366}, {'label': 'CLICKBAIT', 'score': 0.9997598528862}, {'label': 'NOT', 'score': 0.999427080154419}, {'label': 'CLICKBAIT', 'score': 0.9997453093528748}, {'label': 'CLICKBAIT', 'score': 0.9996585845947266}, {'label': 'CLICKBAIT', 'score': 0.9997078776359558}, {'label': 'NOT', 'score': 0.99897301197052}, {'label': 'CLICKBAIT', 'score': 0.9994340538978577}, {'label': 'CLICKBAIT', 'score': 0.9995341300964355}, {'label': 'NOT', 'score': 0.9990431666374207}, {'label': 'CLICKBAIT', 'score': 0.9997307658195496}, {'label': 'NOT', 'score': 0.9990999698638916}, {'label': 'NOT', 'score': 0.9991794228553772}, {'label': 'NOT', 'score': 0.9993664622306824}, {'label': 'NOT', 'score': 0.9122315645217896}, {'label': 'CLICKBAIT', 'score': 0.9997095465660095}, {'label': 'NOT', 'score': 0.9994356036186218}, {'label': 'CLICKBAIT', 'score': 0.9997021555900574}, {'label': 'CLICKBAIT', 'score': 0.9996826648712158}, {'label': 'NOT', 'score': 0.9994383454322815}, {'label': 'CLICKBAIT', 'score': 0.9997541308403015}, {'label': 'CLICKBAIT', 'score': 0.9922769069671631}, {'label': 'CLICKBAIT', 'score': 0.999721348285675}, {'label': 'CLICKBAIT', 'score': 0.9990002512931824}, {'label': 'CLICKBAIT', 'score': 0.9997298121452332}, {'label': 'CLICKBAIT', 'score': 0.9991170763969421}, {'label': 'NOT', 'score': 0.999445378780365}, {'label': 'NOT', 'score': 0.9983135461807251}, {'label': 'CLICKBAIT', 'score': 0.9996086955070496}, {'label': 'NOT', 'score': 0.9994760155677795}, {'label': 'CLICKBAIT', 'score': 0.9996142387390137}, {'label': 'NOT', 'score': 0.9919962286949158}, {'label': 'NOT', 'score': 0.9991782307624817}, {'label': 'CLICKBAIT', 'score': 0.999630331993103}, {'label': 'CLICKBAIT', 'score': 0.9997484087944031}, {'label': 'NOT', 'score': 0.9977157115936279}, {'label': 'NOT', 'score': 0.9948103427886963}, {'label': 'CLICKBAIT', 'score': 0.9982933402061462}, {'label': 'NOT', 'score': 0.9981579184532166}, {'label': 'CLICKBAIT', 'score': 0.9996570348739624}, {'label': 'CLICKBAIT', 'score': 0.9995267391204834}, {'label': 'CLICKBAIT', 'score': 0.9991900324821472}, {'label': 'CLICKBAIT', 'score': 0.999679446220398}, {'label': 'CLICKBAIT', 'score': 0.9997403025627136}, {'label': 'CLICKBAIT', 'score': 0.9469855427742004}, {'label': 'CLICKBAIT', 'score': 0.9997217059135437}, {'label': 'CLICKBAIT', 'score': 0.9997574687004089}, {'label': 'CLICKBAIT', 'score': 0.9997145533561707}, {'label': 'CLICKBAIT', 'score': 0.9991074204444885}, {'label': 'CLICKBAIT', 'score': 0.9977157115936279}, {'label': 'NOT', 'score': 0.9827106595039368}, {'label': 'CLICKBAIT', 'score': 0.999742329120636}, {'label': 'NOT', 'score': 0.999386191368103}, {'label': 'NOT', 'score': 0.998681366443634}, {'label': 'CLICKBAIT', 'score': 0.9995297193527222}, {'label': 'CLICKBAIT', 'score': 0.9996933937072754}, {'label': 'CLICKBAIT', 'score': 0.9997093081474304}, {'label': 'NOT', 'score': 0.9990947246551514}, {'label': 'NOT', 'score': 0.9915226697921753}, {'label': 'NOT', 'score': 0.9994903802871704}, {'label': 'CLICKBAIT', 'score': 0.9994837045669556}, {'label': 'NOT', 'score': 0.7883080840110779}, {'label': 'CLICKBAIT', 'score': 0.9996976852416992}, {'label': 'NOT', 'score': 0.9993656277656555}, {'label': 'NOT', 'score': 0.9992071986198425}, {'label': 'CLICKBAIT', 'score': 0.9997038245201111}, {'label': 'NOT', 'score': 0.9993876218795776}, {'label': 'NOT', 'score': 0.9992924928665161}, {'label': 'CLICKBAIT', 'score': 0.9995213747024536}, {'label': 'NOT', 'score': 0.9993707537651062}, {'label': 'CLICKBAIT', 'score': 0.99310302734375}, {'label': 'NOT', 'score': 0.9982373714447021}, {'label': 'CLICKBAIT', 'score': 0.998819887638092}, {'label': 'NOT', 'score': 0.9987671375274658}, {'label': 'CLICKBAIT', 'score': 0.9994288086891174}, {'label': 'CLICKBAIT', 'score': 0.9724862575531006}, {'label': 'NOT', 'score': 0.9993483424186707}, {'label': 'CLICKBAIT', 'score': 0.9906672835350037}, {'label': 'NOT', 'score': 0.9994162321090698}, {'label': 'NOT', 'score': 0.9989142417907715}, {'label': 'CLICKBAIT', 'score': 0.9995998740196228}, {'label': 'NOT', 'score': 0.9991104006767273}, {'label': 'NOT', 'score': 0.9994644522666931}, {'label': 'NOT', 'score': 0.9992558360099792}, {'label': 'CLICKBAIT', 'score': 0.946912944316864}, {'label': 'CLICKBAIT', 'score': 0.996241569519043}, {'label': 'CLICKBAIT', 'score': 0.9996845722198486}, {'label': 'NOT', 'score': 0.999346911907196}, {'label': 'NOT', 'score': 0.9983953833580017}, {'label': 'NOT', 'score': 0.9988813996315002}, {'label': 'NOT', 'score': 0.9975312948226929}, {'label': 'NOT', 'score': 0.9994027614593506}, {'label': 'CLICKBAIT', 'score': 0.9987515211105347}, {'label': 'CLICKBAIT', 'score': 0.9993453621864319}, {'label': 'NOT', 'score': 0.9994471669197083}, {'label': 'NOT', 'score': 0.9991878867149353}, {'label': 'CLICKBAIT', 'score': 0.9996910095214844}, {'label': 'NOT', 'score': 0.9993792772293091}, {'label': 'NOT', 'score': 0.9988839030265808}, {'label': 'NOT', 'score': 0.9992546439170837}, {'label': 'CLICKBAIT', 'score': 0.9996908903121948}, {'label': 'NOT', 'score': 0.9994848966598511}, {'label': 'NOT', 'score': 0.9992153644561768}, {'label': 'CLICKBAIT', 'score': 0.9994081258773804}, {'label': 'CLICKBAIT', 'score': 0.9996296167373657}, {'label': 'CLICKBAIT', 'score': 0.9996349811553955}, {'label': 'CLICKBAIT', 'score': 0.986846387386322}, {'label': 'CLICKBAIT', 'score': 0.9996516704559326}, {'label': 'CLICKBAIT', 'score': 0.9997046589851379}, {'label': 'CLICKBAIT', 'score': 0.9992806315422058}, {'label': 'NOT', 'score': 0.9994718432426453}, {'label': 'CLICKBAIT', 'score': 0.9996743202209473}, {'label': 'CLICKBAIT', 'score': 0.9237216114997864}, {'label': 'NOT', 'score': 0.997951090335846}, {'label': 'CLICKBAIT', 'score': 0.9994926452636719}, {'label': 'CLICKBAIT', 'score': 0.9996628761291504}, {'label': 'NOT', 'score': 0.9995087385177612}, {'label': 'CLICKBAIT', 'score': 0.9989801049232483}, {'label': 'CLICKBAIT', 'score': 0.9997217059135437}, {'label': 'NOT', 'score': 0.9986007809638977}, {'label': 'CLICKBAIT', 'score': 0.9997630715370178}, {'label': 'CLICKBAIT', 'score': 0.9997370839118958}, {'label': 'NOT', 'score': 0.9984452128410339}, {'label': 'CLICKBAIT', 'score': 0.9997566342353821}, {'label': 'CLICKBAIT', 'score': 0.9993834495544434}, {'label': 'CLICKBAIT', 'score': 0.9996700286865234}, {'label': 'CLICKBAIT', 'score': 0.9993680119514465}, {'label': 'CLICKBAIT', 'score': 0.9997164607048035}, {'label': 'NOT', 'score': 0.9983187913894653}, {'label': 'CLICKBAIT', 'score': 0.9997504353523254}, {'label': 'NOT', 'score': 0.9994286894798279}, {'label': 'CLICKBAIT', 'score': 0.9994933605194092}, {'label': 'CLICKBAIT', 'score': 0.9953427314758301}, {'label': 'CLICKBAIT', 'score': 0.9996157884597778}, {'label': 'CLICKBAIT', 'score': 0.9996867179870605}, {'label': 'NOT', 'score': 0.9994656443595886}, {'label': 'CLICKBAIT', 'score': 0.999745786190033}, {'label': 'CLICKBAIT', 'score': 0.9997193217277527}, {'label': 'CLICKBAIT', 'score': 0.9996034502983093}, {'label': 'NOT', 'score': 0.9991286396980286}, {'label': 'NOT', 'score': 0.9991546869277954}, {'label': 'NOT', 'score': 0.9993619322776794}, {'label': 'NOT', 'score': 0.9994301199913025}, {'label': 'NOT', 'score': 0.9993840456008911}, {'label': 'CLICKBAIT', 'score': 0.9996742010116577}, {'label': 'CLICKBAIT', 'score': 0.998356282711029}, {'label': 'NOT', 'score': 0.9993281364440918}, {'label': 'NOT', 'score': 0.9995071887969971}, {'label': 'NOT', 'score': 0.9983730316162109}, {'label': 'CLICKBAIT', 'score': 0.9994741082191467}, {'label': 'NOT', 'score': 0.9992502331733704}, {'label': 'NOT', 'score': 0.9993791580200195}, {'label': 'NOT', 'score': 0.9991699457168579}, {'label': 'NOT', 'score': 0.9953487515449524}, {'label': 'CLICKBAIT', 'score': 0.9994550347328186}, {'label': 'NOT', 'score': 0.9994180202484131}, {'label': 'CLICKBAIT', 'score': 0.9995935559272766}, {'label': 'NOT', 'score': 0.9990295171737671}, {'label': 'CLICKBAIT', 'score': 0.9997115731239319}, {'label': 'NOT', 'score': 0.9993539452552795}, {'label': 'NOT', 'score': 0.9993743300437927}, {'label': 'NOT', 'score': 0.9987737536430359}, {'label': 'NOT', 'score': 0.9992121458053589}, {'label': 'CLICKBAIT', 'score': 0.9997598528862}, {'label': 'CLICKBAIT', 'score': 0.9994243383407593}, {'label': 'CLICKBAIT', 'score': 0.9953110814094543}, {'label': 'NOT', 'score': 0.9965218305587769}, {'label': 'NOT', 'score': 0.9701936841011047}, {'label': 'CLICKBAIT', 'score': 0.999731719493866}, {'label': 'CLICKBAIT', 'score': 0.9996663331985474}, {'label': 'CLICKBAIT', 'score': 0.999601423740387}, {'label': 'NOT', 'score': 0.9994056224822998}, {'label': 'CLICKBAIT', 'score': 0.9997411370277405}, {'label': 'CLICKBAIT', 'score': 0.9997591376304626}, {'label': 'CLICKBAIT', 'score': 0.9992639422416687}, {'label': 'CLICKBAIT', 'score': 0.9997084736824036}, {'label': 'NOT', 'score': 0.999422550201416}, {'label': 'NOT', 'score': 0.9979395270347595}, {'label': 'NOT', 'score': 0.887952983379364}, {'label': 'NOT', 'score': 0.9994180202484131}, {'label': 'CLICKBAIT', 'score': 0.9970418810844421}, {'label': 'NOT', 'score': 0.999154806137085}, {'label': 'NOT', 'score': 0.9993687272071838}, {'label': 'CLICKBAIT', 'score': 0.999420166015625}, {'label': 'NOT', 'score': 0.9989748001098633}, {'label': 'NOT', 'score': 0.9903382658958435}, {'label': 'CLICKBAIT', 'score': 0.9997345805168152}, {'label': 'CLICKBAIT', 'score': 0.9997212290763855}, {'label': 'NOT', 'score': 0.9981866478919983}, {'label': 'NOT', 'score': 0.998084545135498}, {'label': 'NOT', 'score': 0.9994475245475769}, {'label': 'NOT', 'score': 0.998975396156311}, {'label': 'CLICKBAIT', 'score': 0.9996987581253052}, {'label': 'NOT', 'score': 0.9980712532997131}, {'label': 'CLICKBAIT', 'score': 0.9976060390472412}, {'label': 'CLICKBAIT', 'score': 0.9850319623947144}, {'label': 'NOT', 'score': 0.9994303584098816}, {'label': 'NOT', 'score': 0.9971036314964294}, {'label': 'CLICKBAIT', 'score': 0.9996209144592285}, {'label': 'NOT', 'score': 0.9991217255592346}, {'label': 'CLICKBAIT', 'score': 0.9997280240058899}, {'label': 'NOT', 'score': 0.9988068342208862}, {'label': 'NOT', 'score': 0.9993473887443542}, {'label': 'CLICKBAIT', 'score': 0.9996787309646606}, {'label': 'CLICKBAIT', 'score': 0.9962384700775146}, {'label': 'NOT', 'score': 0.9994550347328186}, {'label': 'CLICKBAIT', 'score': 0.9996552467346191}, {'label': 'NOT', 'score': 0.9993482232093811}, {'label': 'NOT', 'score': 0.9994080066680908}, {'label': 'NOT', 'score': 0.9994683861732483}, {'label': 'CLICKBAIT', 'score': 0.999703586101532}, {'label': 'NOT', 'score': 0.9994019269943237}, {'label': 'CLICKBAIT', 'score': 0.9997275471687317}, {'label': 'NOT', 'score': 0.9973192811012268}, {'label': 'NOT', 'score': 0.9992281198501587}, {'label': 'CLICKBAIT', 'score': 0.9997302889823914}, {'label': 'CLICKBAIT', 'score': 0.9996178150177002}, {'label': 'CLICKBAIT', 'score': 0.9996939897537231}, {'label': 'NOT', 'score': 0.9981454610824585}, {'label': 'NOT', 'score': 0.9990978240966797}, {'label': 'NOT', 'score': 0.9994127750396729}, {'label': 'CLICKBAIT', 'score': 0.9997149109840393}, {'label': 'NOT', 'score': 0.996985137462616}, {'label': 'NOT', 'score': 0.997019350528717}, {'label': 'CLICKBAIT', 'score': 0.9997368454933167}, {'label': 'CLICKBAIT', 'score': 0.9989892840385437}, {'label': 'NOT', 'score': 0.999267041683197}, {'label': 'CLICKBAIT', 'score': 0.9997280240058899}, {'label': 'CLICKBAIT', 'score': 0.6573163270950317}, {'label': 'CLICKBAIT', 'score': 0.9996998310089111}, {'label': 'CLICKBAIT', 'score': 0.9996623992919922}, {'label': 'NOT', 'score': 0.9986294507980347}, {'label': 'CLICKBAIT', 'score': 0.9997089505195618}, {'label': 'NOT', 'score': 0.9991334080696106}, {'label': 'NOT', 'score': 0.998236894607544}, {'label': 'CLICKBAIT', 'score': 0.9995222091674805}, {'label': 'CLICKBAIT', 'score': 0.99974125623703}, {'label': 'CLICKBAIT', 'score': 0.9993095397949219}, {'label': 'NOT', 'score': 0.9992873072624207}, {'label': 'CLICKBAIT', 'score': 0.999728262424469}, {'label': 'NOT', 'score': 0.9994369149208069}, {'label': 'NOT', 'score': 0.9993212223052979}, {'label': 'CLICKBAIT', 'score': 0.9997443556785583}, {'label': 'CLICKBAIT', 'score': 0.9996757507324219}, {'label': 'CLICKBAIT', 'score': 0.9986118078231812}, {'label': 'CLICKBAIT', 'score': 0.9978787899017334}, {'label': 'NOT', 'score': 0.9989635944366455}, {'label': 'NOT', 'score': 0.9993863105773926}, {'label': 'NOT', 'score': 0.9993295669555664}, {'label': 'CLICKBAIT', 'score': 0.9997367262840271}, {'label': 'CLICKBAIT', 'score': 0.9996689558029175}, {'label': 'CLICKBAIT', 'score': 0.9996185302734375}, {'label': 'CLICKBAIT', 'score': 0.9993757605552673}, {'label': 'NOT', 'score': 0.9993971586227417}, {'label': 'NOT', 'score': 0.9993027448654175}, {'label': 'NOT', 'score': 0.9991342425346375}, {'label': 'NOT', 'score': 0.5134474039077759}, {'label': 'CLICKBAIT', 'score': 0.9996832609176636}, {'label': 'CLICKBAIT', 'score': 0.9995259046554565}, {'label': 'CLICKBAIT', 'score': 0.999401330947876}, {'label': 'CLICKBAIT', 'score': 0.9995998740196228}, {'label': 'NOT', 'score': 0.9920645356178284}, {'label': 'CLICKBAIT', 'score': 0.9990946054458618}, {'label': 'CLICKBAIT', 'score': 0.9994779229164124}, {'label': 'NOT', 'score': 0.9993559718132019}, {'label': 'CLICKBAIT', 'score': 0.9997453093528748}, {'label': 'NOT', 'score': 0.9992825388908386}, {'label': 'CLICKBAIT', 'score': 0.9961113333702087}, {'label': 'NOT', 'score': 0.9763635396957397}, {'label': 'NOT', 'score': 0.9992274045944214}, {'label': 'CLICKBAIT', 'score': 0.9996682405471802}, {'label': 'CLICKBAIT', 'score': 0.9997206330299377}, {'label': 'NOT', 'score': 0.9990087151527405}, {'label': 'NOT', 'score': 0.9994720816612244}, {'label': 'NOT', 'score': 0.9990119934082031}, {'label': 'NOT', 'score': 0.9978135824203491}, {'label': 'NOT', 'score': 0.9983819723129272}, {'label': 'CLICKBAIT', 'score': 0.9996073842048645}, {'label': 'NOT', 'score': 0.9994269609451294}, {'label': 'CLICKBAIT', 'score': 0.9997079968452454}, {'label': 'NOT', 'score': 0.9978927969932556}, {'label': 'CLICKBAIT', 'score': 0.9424330592155457}, {'label': 'NOT', 'score': 0.9983100891113281}, {'label': 'NOT', 'score': 0.9991546869277954}, {'label': 'NOT', 'score': 0.9989996552467346}, {'label': 'NOT', 'score': 0.9982547163963318}, {'label': 'NOT', 'score': 0.9994679093360901}, {'label': 'CLICKBAIT', 'score': 0.9984152317047119}, {'label': 'CLICKBAIT', 'score': 0.9995953440666199}, {'label': 'NOT', 'score': 0.9992067217826843}, {'label': 'CLICKBAIT', 'score': 0.9996129870414734}, {'label': 'NOT', 'score': 0.999359667301178}, {'label': 'NOT', 'score': 0.9993638396263123}, {'label': 'CLICKBAIT', 'score': 0.9928239583969116}, {'label': 'CLICKBAIT', 'score': 0.9996353387832642}, {'label': 'NOT', 'score': 0.9992814660072327}, {'label': 'NOT', 'score': 0.9980993866920471}, {'label': 'NOT', 'score': 0.9994345307350159}, {'label': 'NOT', 'score': 0.9929426908493042}, {'label': 'CLICKBAIT', 'score': 0.9997001886367798}, {'label': 'CLICKBAIT', 'score': 0.9997184872627258}, {'label': 'CLICKBAIT', 'score': 0.99973064661026}, {'label': 'NOT', 'score': 0.9887101054191589}, {'label': 'CLICKBAIT', 'score': 0.9997327923774719}, {'label': 'NOT', 'score': 0.999402642250061}, {'label': 'NOT', 'score': 0.9994040727615356}, {'label': 'NOT', 'score': 0.9979662895202637}, {'label': 'NOT', 'score': 0.9989174604415894}, {'label': 'NOT', 'score': 0.9994933605194092}, {'label': 'NOT', 'score': 0.9991915822029114}, {'label': 'CLICKBAIT', 'score': 0.9997193217277527}, {'label': 'CLICKBAIT', 'score': 0.9997151494026184}, {'label': 'NOT', 'score': 0.9990645051002502}, {'label': 'NOT', 'score': 0.9994751811027527}, {'label': 'NOT', 'score': 0.9618114829063416}, {'label': 'NOT', 'score': 0.9992778897285461}, {'label': 'CLICKBAIT', 'score': 0.9996917247772217}, {'label': 'NOT', 'score': 0.9990259408950806}, {'label': 'CLICKBAIT', 'score': 0.9997475743293762}, {'label': 'CLICKBAIT', 'score': 0.9997377991676331}, {'label': 'CLICKBAIT', 'score': 0.9934792518615723}, {'label': 'NOT', 'score': 0.9991036057472229}, {'label': 'CLICKBAIT', 'score': 0.9997345805168152}, {'label': 'NOT', 'score': 0.9994745850563049}, {'label': 'CLICKBAIT', 'score': 0.9993138313293457}, {'label': 'CLICKBAIT', 'score': 0.999718964099884}, {'label': 'CLICKBAIT', 'score': 0.9967775940895081}, {'label': 'CLICKBAIT', 'score': 0.9996603727340698}, {'label': 'CLICKBAIT', 'score': 0.9997352957725525}, {'label': 'CLICKBAIT', 'score': 0.9996423721313477}, {'label': 'NOT', 'score': 0.9992508292198181}, {'label': 'CLICKBAIT', 'score': 0.9996700286865234}, {'label': 'CLICKBAIT', 'score': 0.9997290968894958}, {'label': 'NOT', 'score': 0.9980266690254211}, {'label': 'NOT', 'score': 0.9993106126785278}, {'label': 'NOT', 'score': 0.9993422627449036}, {'label': 'NOT', 'score': 0.9789400696754456}, {'label': 'NOT', 'score': 0.9989504218101501}, {'label': 'NOT', 'score': 0.9973871111869812}, {'label': 'CLICKBAIT', 'score': 0.9997034668922424}, {'label': 'CLICKBAIT', 'score': 0.9997009038925171}, {'label': 'CLICKBAIT', 'score': 0.999748170375824}, {'label': 'NOT', 'score': 0.9993891716003418}, {'label': 'CLICKBAIT', 'score': 0.9996676445007324}, {'label': 'NOT', 'score': 0.9994450211524963}, {'label': 'NOT', 'score': 0.9994090795516968}, {'label': 'NOT', 'score': 0.9995043277740479}, {'label': 'CLICKBAIT', 'score': 0.9997285008430481}, {'label': 'NOT', 'score': 0.999383807182312}, {'label': 'CLICKBAIT', 'score': 0.9996867179870605}, {'label': 'CLICKBAIT', 'score': 0.9987635612487793}, {'label': 'CLICKBAIT', 'score': 0.9995771050453186}, {'label': 'CLICKBAIT', 'score': 0.9996795654296875}, {'label': 'CLICKBAIT', 'score': 0.9994519352912903}, {'label': 'NOT', 'score': 0.9994020462036133}, {'label': 'CLICKBAIT', 'score': 0.9993078708648682}, {'label': 'NOT', 'score': 0.9960643649101257}, {'label': 'NOT', 'score': 0.9990531802177429}, {'label': 'CLICKBAIT', 'score': 0.9996792078018188}, {'label': 'CLICKBAIT', 'score': 0.999582827091217}, {'label': 'CLICKBAIT', 'score': 0.9995567202568054}, {'label': 'NOT', 'score': 0.9993557333946228}, {'label': 'NOT', 'score': 0.9994219541549683}, {'label': 'NOT', 'score': 0.9987850785255432}, {'label': 'CLICKBAIT', 'score': 0.9995980858802795}, {'label': 'CLICKBAIT', 'score': 0.9996064305305481}, {'label': 'NOT', 'score': 0.9993323683738708}, {'label': 'CLICKBAIT', 'score': 0.9996960163116455}, {'label': 'CLICKBAIT', 'score': 0.9996554851531982}, {'label': 'NOT', 'score': 0.9987391829490662}, {'label': 'CLICKBAIT', 'score': 0.9996329545974731}, {'label': 'NOT', 'score': 0.9987043142318726}, {'label': 'NOT', 'score': 0.9993483424186707}, {'label': 'CLICKBAIT', 'score': 0.9996832609176636}, {'label': 'CLICKBAIT', 'score': 0.9992737174034119}, {'label': 'CLICKBAIT', 'score': 0.9996654987335205}, {'label': 'CLICKBAIT', 'score': 0.9996531009674072}, {'label': 'CLICKBAIT', 'score': 0.9997468590736389}, {'label': 'CLICKBAIT', 'score': 0.9993559718132019}, {'label': 'NOT', 'score': 0.9994139671325684}, {'label': 'NOT', 'score': 0.9992102384567261}, {'label': 'NOT', 'score': 0.9863595366477966}, {'label': 'NOT', 'score': 0.946615993976593}, {'label': 'NOT', 'score': 0.9987290501594543}, {'label': 'NOT', 'score': 0.9989851117134094}, {'label': 'CLICKBAIT', 'score': 0.9993320107460022}, {'label': 'NOT', 'score': 0.9988380074501038}, {'label': 'CLICKBAIT', 'score': 0.9996973276138306}, {'label': 'NOT', 'score': 0.9992651343345642}, {'label': 'NOT', 'score': 0.9979408383369446}, {'label': 'NOT', 'score': 0.9992793202400208}, {'label': 'NOT', 'score': 0.9993415474891663}, {'label': 'NOT', 'score': 0.9978888630867004}, {'label': 'CLICKBAIT', 'score': 0.999686598777771}, {'label': 'CLICKBAIT', 'score': 0.9994601607322693}, {'label': 'NOT', 'score': 0.9992479681968689}, {'label': 'CLICKBAIT', 'score': 0.9997193217277527}, {'label': 'CLICKBAIT', 'score': 0.9996880292892456}, {'label': 'CLICKBAIT', 'score': 0.9996782541275024}, {'label': 'NOT', 'score': 0.9994069337844849}, {'label': 'CLICKBAIT', 'score': 0.9996811151504517}, {'label': 'NOT', 'score': 0.9970832467079163}, {'label': 'CLICKBAIT', 'score': 0.9996321201324463}, {'label': 'NOT', 'score': 0.998581051826477}, {'label': 'NOT', 'score': 0.9993879795074463}, {'label': 'CLICKBAIT', 'score': 0.9990878105163574}, {'label': 'NOT', 'score': 0.9988774657249451}, {'label': 'CLICKBAIT', 'score': 0.9971625208854675}, {'label': 'CLICKBAIT', 'score': 0.9996765851974487}, {'label': 'CLICKBAIT', 'score': 0.9995984435081482}, {'label': 'NOT', 'score': 0.999294638633728}, {'label': 'CLICKBAIT', 'score': 0.9997598528862}, {'label': 'NOT', 'score': 0.9975653886795044}, {'label': 'CLICKBAIT', 'score': 0.9995614886283875}, {'label': 'CLICKBAIT', 'score': 0.9995145797729492}, {'label': 'CLICKBAIT', 'score': 0.9996531009674072}, {'label': 'CLICKBAIT', 'score': 0.9994788765907288}, {'label': 'NOT', 'score': 0.9992125034332275}, {'label': 'NOT', 'score': 0.9993091821670532}, {'label': 'NOT', 'score': 0.999237060546875}, {'label': 'NOT', 'score': 0.9991359114646912}, {'label': 'NOT', 'score': 0.9994041919708252}, {'label': 'CLICKBAIT', 'score': 0.9986322522163391}, {'label': 'NOT', 'score': 0.5978926420211792}, {'label': 'CLICKBAIT', 'score': 0.9997076392173767}, {'label': 'CLICKBAIT', 'score': 0.9996476173400879}, {'label': 'NOT', 'score': 0.9994609951972961}, {'label': 'NOT', 'score': 0.9991475343704224}, {'label': 'CLICKBAIT', 'score': 0.9921138286590576}, {'label': 'CLICKBAIT', 'score': 0.9995444416999817}, {'label': 'CLICKBAIT', 'score': 0.9997109770774841}, {'label': 'NOT', 'score': 0.9994844198226929}, {'label': 'CLICKBAIT', 'score': 0.9991098046302795}, {'label': 'NOT', 'score': 0.9992421865463257}, {'label': 'NOT', 'score': 0.9993738532066345}, {'label': 'CLICKBAIT', 'score': 0.9996567964553833}, {'label': 'NOT', 'score': 0.9992592930793762}, {'label': 'CLICKBAIT', 'score': 0.9996954202651978}, {'label': 'NOT', 'score': 0.9991132616996765}, {'label': 'CLICKBAIT', 'score': 0.9997071623802185}, {'label': 'NOT', 'score': 0.9980229139328003}, {'label': 'NOT', 'score': 0.9991146922111511}, {'label': 'CLICKBAIT', 'score': 0.9993265867233276}, {'label': 'NOT', 'score': 0.9994196891784668}, {'label': 'CLICKBAIT', 'score': 0.9996587038040161}, {'label': 'CLICKBAIT', 'score': 0.9996695518493652}, {'label': 'CLICKBAIT', 'score': 0.9996734857559204}, {'label': 'NOT', 'score': 0.9992774128913879}, {'label': 'NOT', 'score': 0.9981017708778381}, {'label': 'CLICKBAIT', 'score': 0.9996784925460815}, {'label': 'NOT', 'score': 0.9994586110115051}, {'label': 'CLICKBAIT', 'score': 0.9996999502182007}, {'label': 'CLICKBAIT', 'score': 0.9766411185264587}, {'label': 'CLICKBAIT', 'score': 0.9463375806808472}, {'label': 'NOT', 'score': 0.9994864463806152}, {'label': 'NOT', 'score': 0.9992214441299438}, {'label': 'CLICKBAIT', 'score': 0.9997310042381287}, {'label': 'NOT', 'score': 0.9994235038757324}, {'label': 'CLICKBAIT', 'score': 0.9997155070304871}, {'label': 'NOT', 'score': 0.999390721321106}, {'label': 'NOT', 'score': 0.9988327622413635}, {'label': 'CLICKBAIT', 'score': 0.9996370077133179}, {'label': 'NOT', 'score': 0.9992187023162842}, {'label': 'CLICKBAIT', 'score': 0.9996134638786316}, {'label': 'CLICKBAIT', 'score': 0.9961609840393066}, {'label': 'NOT', 'score': 0.9992947578430176}, {'label': 'CLICKBAIT', 'score': 0.9997256398200989}, {'label': 'CLICKBAIT', 'score': 0.9995543360710144}, {'label': 'CLICKBAIT', 'score': 0.9993403553962708}, {'label': 'NOT', 'score': 0.9988446235656738}, {'label': 'CLICKBAIT', 'score': 0.9996057152748108}, {'label': 'NOT', 'score': 0.9988682270050049}, {'label': 'CLICKBAIT', 'score': 0.9997233748435974}, {'label': 'CLICKBAIT', 'score': 0.9996743202209473}, {'label': 'NOT', 'score': 0.9994093179702759}, {'label': 'CLICKBAIT', 'score': 0.9995570778846741}, {'label': 'CLICKBAIT', 'score': 0.999626874923706}, {'label': 'NOT', 'score': 0.9983505010604858}, {'label': 'NOT', 'score': 0.9938207268714905}, {'label': 'CLICKBAIT', 'score': 0.9996157884597778}, {'label': 'NOT', 'score': 0.9882601499557495}, {'label': 'CLICKBAIT', 'score': 0.9995433688163757}, {'label': 'NOT', 'score': 0.9993515610694885}, {'label': 'NOT', 'score': 0.9993416666984558}, {'label': 'NOT', 'score': 0.9988081455230713}, {'label': 'NOT', 'score': 0.9990750551223755}, {'label': 'CLICKBAIT', 'score': 0.9997497200965881}, {'label': 'NOT', 'score': 0.9986616373062134}, {'label': 'NOT', 'score': 0.9987731575965881}, {'label': 'CLICKBAIT', 'score': 0.9997255206108093}, {'label': 'CLICKBAIT', 'score': 0.9992324113845825}, {'label': 'NOT', 'score': 0.9981340765953064}, {'label': 'NOT', 'score': 0.9981979727745056}, {'label': 'CLICKBAIT', 'score': 0.9997313618659973}, {'label': 'NOT', 'score': 0.9978540539741516}, {'label': 'CLICKBAIT', 'score': 0.9997205138206482}, {'label': 'NOT', 'score': 0.9777187705039978}, {'label': 'NOT', 'score': 0.9994944334030151}, {'label': 'CLICKBAIT', 'score': 0.9995145797729492}, {'label': 'CLICKBAIT', 'score': 0.9996535778045654}, {'label': 'NOT', 'score': 0.9955880641937256}, {'label': 'NOT', 'score': 0.9987068176269531}, {'label': 'NOT', 'score': 0.997133731842041}, {'label': 'NOT', 'score': 0.9994416832923889}, {'label': 'NOT', 'score': 0.9976277947425842}, {'label': 'CLICKBAIT', 'score': 0.9996953010559082}, {'label': 'CLICKBAIT', 'score': 0.9996539354324341}, {'label': 'NOT', 'score': 0.9992535710334778}, {'label': 'CLICKBAIT', 'score': 0.9997403025627136}, {'label': 'CLICKBAIT', 'score': 0.9993693232536316}, {'label': 'NOT', 'score': 0.9991675615310669}, {'label': 'NOT', 'score': 0.9992778897285461}, {'label': 'CLICKBAIT', 'score': 0.9997164607048035}, {'label': 'NOT', 'score': 0.999415397644043}, {'label': 'CLICKBAIT', 'score': 0.999744713306427}, {'label': 'CLICKBAIT', 'score': 0.9996283054351807}, {'label': 'NOT', 'score': 0.9993855953216553}, {'label': 'CLICKBAIT', 'score': 0.9997280240058899}, {'label': 'CLICKBAIT', 'score': 0.9992958307266235}, {'label': 'NOT', 'score': 0.9722285866737366}, {'label': 'CLICKBAIT', 'score': 0.9996455907821655}, {'label': 'NOT', 'score': 0.975062370300293}, {'label': 'CLICKBAIT', 'score': 0.9995978474617004}, {'label': 'NOT', 'score': 0.9994433522224426}, {'label': 'CLICKBAIT', 'score': 0.9996935129165649}, {'label': 'CLICKBAIT', 'score': 0.9996819496154785}, {'label': 'CLICKBAIT', 'score': 0.9996596574783325}, {'label': 'CLICKBAIT', 'score': 0.999701201915741}, {'label': 'NOT', 'score': 0.999434769153595}, {'label': 'NOT', 'score': 0.9988958835601807}, {'label': 'CLICKBAIT', 'score': 0.9994016885757446}, {'label': 'CLICKBAIT', 'score': 0.9990906715393066}, {'label': 'CLICKBAIT', 'score': 0.9997455477714539}, {'label': 'CLICKBAIT', 'score': 0.9997395873069763}, {'label': 'NOT', 'score': 0.9994648098945618}, {'label': 'NOT', 'score': 0.9994971752166748}, {'label': 'NOT', 'score': 0.9986329674720764}, {'label': 'NOT', 'score': 0.9994344115257263}, {'label': 'CLICKBAIT', 'score': 0.9970678687095642}, {'label': 'CLICKBAIT', 'score': 0.999713122844696}, {'label': 'CLICKBAIT', 'score': 0.9996993541717529}, {'label': 'NOT', 'score': 0.9994658827781677}, {'label': 'NOT', 'score': 0.9993690848350525}, {'label': 'CLICKBAIT', 'score': 0.9997443556785583}, {'label': 'CLICKBAIT', 'score': 0.9981972575187683}, {'label': 'CLICKBAIT', 'score': 0.9997023940086365}, {'label': 'CLICKBAIT', 'score': 0.9996827840805054}, {'label': 'NOT', 'score': 0.9993500113487244}, {'label': 'NOT', 'score': 0.9994955062866211}, {'label': 'CLICKBAIT', 'score': 0.9993823766708374}, {'label': 'CLICKBAIT', 'score': 0.9995288848876953}, {'label': 'CLICKBAIT', 'score': 0.9992852807044983}, {'label': 'NOT', 'score': 0.9994240999221802}, {'label': 'NOT', 'score': 0.999061644077301}, {'label': 'NOT', 'score': 0.9990952014923096}, {'label': 'CLICKBAIT', 'score': 0.9997473359107971}, {'label': 'CLICKBAIT', 'score': 0.9994581341743469}, {'label': 'CLICKBAIT', 'score': 0.9997350573539734}, {'label': 'NOT', 'score': 0.9979584217071533}, {'label': 'CLICKBAIT', 'score': 0.9997240900993347}, {'label': 'NOT', 'score': 0.9994086027145386}, {'label': 'CLICKBAIT', 'score': 0.989284336566925}, {'label': 'CLICKBAIT', 'score': 0.999723494052887}, {'label': 'NOT', 'score': 0.9990633130073547}, {'label': 'CLICKBAIT', 'score': 0.9996718168258667}, {'label': 'NOT', 'score': 0.999445378780365}, {'label': 'CLICKBAIT', 'score': 0.9988184571266174}, {'label': 'CLICKBAIT', 'score': 0.9993461966514587}, {'label': 'CLICKBAIT', 'score': 0.9996770620346069}, {'label': 'CLICKBAIT', 'score': 0.9996782541275024}, {'label': 'NOT', 'score': 0.9985198378562927}, {'label': 'CLICKBAIT', 'score': 0.9976627826690674}, {'label': 'CLICKBAIT', 'score': 0.999677300453186}, {'label': 'NOT', 'score': 0.8858175277709961}, {'label': 'CLICKBAIT', 'score': 0.9996904134750366}, {'label': 'NOT', 'score': 0.9991593360900879}, {'label': 'CLICKBAIT', 'score': 0.9997456669807434}, {'label': 'NOT', 'score': 0.9990088939666748}, {'label': 'NOT', 'score': 0.9995031356811523}, {'label': 'CLICKBAIT', 'score': 0.9997009038925171}, {'label': 'NOT', 'score': 0.9994864463806152}, {'label': 'NOT', 'score': 0.9990239143371582}, {'label': 'CLICKBAIT', 'score': 0.9996715784072876}, {'label': 'CLICKBAIT', 'score': 0.9996623992919922}, {'label': 'NOT', 'score': 0.9946552515029907}, {'label': 'CLICKBAIT', 'score': 0.9996377229690552}, {'label': 'NOT', 'score': 0.9994276165962219}, {'label': 'CLICKBAIT', 'score': 0.999665379524231}, {'label': 'NOT', 'score': 0.9989894032478333}, {'label': 'NOT', 'score': 0.9989643096923828}, {'label': 'NOT', 'score': 0.9989297986030579}, {'label': 'NOT', 'score': 0.9994791150093079}, {'label': 'NOT', 'score': 0.9988318085670471}, {'label': 'NOT', 'score': 0.999140739440918}, {'label': 'NOT', 'score': 0.9993749260902405}, {'label': 'NOT', 'score': 0.9992876648902893}, {'label': 'CLICKBAIT', 'score': 0.9997645020484924}, {'label': 'CLICKBAIT', 'score': 0.9996089339256287}, {'label': 'NOT', 'score': 0.9949612617492676}, {'label': 'NOT', 'score': 0.9978991746902466}, {'label': 'CLICKBAIT', 'score': 0.9996511936187744}, {'label': 'NOT', 'score': 0.9985162615776062}, {'label': 'CLICKBAIT', 'score': 0.9996722936630249}, {'label': 'NOT', 'score': 0.9976890087127686}, {'label': 'NOT', 'score': 0.9990457892417908}, {'label': 'CLICKBAIT', 'score': 0.9996292591094971}, {'label': 'NOT', 'score': 0.9992897510528564}, {'label': 'CLICKBAIT', 'score': 0.9996788501739502}, {'label': 'CLICKBAIT', 'score': 0.9951666593551636}, {'label': 'NOT', 'score': 0.9962024092674255}, {'label': 'NOT', 'score': 0.9504640102386475}, {'label': 'NOT', 'score': 0.9993197917938232}, {'label': 'CLICKBAIT', 'score': 0.9996637105941772}, {'label': 'NOT', 'score': 0.9992590546607971}, {'label': 'CLICKBAIT', 'score': 0.9996447563171387}, {'label': 'CLICKBAIT', 'score': 0.9983171224594116}, {'label': 'NOT', 'score': 0.99949049949646}, {'label': 'NOT', 'score': 0.999432384967804}, {'label': 'CLICKBAIT', 'score': 0.9996052384376526}, {'label': 'NOT', 'score': 0.9964430928230286}, {'label': 'NOT', 'score': 0.9994827508926392}, {'label': 'CLICKBAIT', 'score': 0.9996907711029053}, {'label': 'NOT', 'score': 0.9993960857391357}, {'label': 'NOT', 'score': 0.9992087483406067}, {'label': 'NOT', 'score': 0.9994494318962097}, {'label': 'CLICKBAIT', 'score': 0.9996091723442078}, {'label': 'CLICKBAIT', 'score': 0.9997289776802063}, {'label': 'CLICKBAIT', 'score': 0.9996942281723022}, {'label': 'NOT', 'score': 0.998794674873352}, {'label': 'CLICKBAIT', 'score': 0.9996989965438843}, {'label': 'CLICKBAIT', 'score': 0.9993852376937866}, {'label': 'NOT', 'score': 0.9992732405662537}, {'label': 'CLICKBAIT', 'score': 0.9997239708900452}, {'label': 'NOT', 'score': 0.9756478071212769}, {'label': 'NOT', 'score': 0.9994063377380371}, {'label': 'CLICKBAIT', 'score': 0.9997403025627136}, {'label': 'CLICKBAIT', 'score': 0.9995865225791931}, {'label': 'CLICKBAIT', 'score': 0.9995433688163757}, {'label': 'CLICKBAIT', 'score': 0.9996546506881714}, {'label': 'NOT', 'score': 0.9994087219238281}, {'label': 'CLICKBAIT', 'score': 0.5160625576972961}, {'label': 'CLICKBAIT', 'score': 0.9997143149375916}, {'label': 'CLICKBAIT', 'score': 0.9996645450592041}, {'label': 'NOT', 'score': 0.999401330947876}, {'label': 'CLICKBAIT', 'score': 0.9996008276939392}, {'label': 'CLICKBAIT', 'score': 0.9997046589851379}, {'label': 'NOT', 'score': 0.9992486834526062}, {'label': 'NOT', 'score': 0.9991752505302429}, {'label': 'CLICKBAIT', 'score': 0.9996757507324219}, {'label': 'CLICKBAIT', 'score': 0.9988981485366821}, {'label': 'NOT', 'score': 0.9991093277931213}, {'label': 'NOT', 'score': 0.9986520409584045}, {'label': 'CLICKBAIT', 'score': 0.9997174143791199}, {'label': 'NOT', 'score': 0.9987205862998962}, {'label': 'NOT', 'score': 0.9981154203414917}, {'label': 'NOT', 'score': 0.9987635612487793}, {'label': 'NOT', 'score': 0.9990041851997375}, {'label': 'CLICKBAIT', 'score': 0.9996644258499146}, {'label': 'NOT', 'score': 0.9991809725761414}, {'label': 'NOT', 'score': 0.9992942810058594}, {'label': 'NOT', 'score': 0.9987576007843018}, {'label': 'CLICKBAIT', 'score': 0.9997352957725525}, {'label': 'NOT', 'score': 0.9993969202041626}, {'label': 'NOT', 'score': 0.999263346195221}, {'label': 'NOT', 'score': 0.9993557333946228}, {'label': 'NOT', 'score': 0.9993399977684021}, {'label': 'CLICKBAIT', 'score': 0.9997460246086121}, {'label': 'NOT', 'score': 0.9992659687995911}, {'label': 'CLICKBAIT', 'score': 0.9993071556091309}, {'label': 'NOT', 'score': 0.9992802739143372}, {'label': 'NOT', 'score': 0.9994074106216431}, {'label': 'CLICKBAIT', 'score': 0.9995546936988831}, {'label': 'CLICKBAIT', 'score': 0.9986997842788696}, {'label': 'NOT', 'score': 0.998714804649353}, {'label': 'CLICKBAIT', 'score': 0.9995911717414856}, {'label': 'NOT', 'score': 0.9988546371459961}, {'label': 'NOT', 'score': 0.9994230270385742}, {'label': 'NOT', 'score': 0.9990703463554382}, {'label': 'NOT', 'score': 0.9987427592277527}, {'label': 'CLICKBAIT', 'score': 0.9995923638343811}, {'label': 'CLICKBAIT', 'score': 0.999528169631958}, {'label': 'NOT', 'score': 0.9990952014923096}, {'label': 'CLICKBAIT', 'score': 0.999649167060852}, {'label': 'NOT', 'score': 0.995091438293457}, {'label': 'NOT', 'score': 0.9993531107902527}, {'label': 'NOT', 'score': 0.999131977558136}, {'label': 'CLICKBAIT', 'score': 0.9996533393859863}, {'label': 'CLICKBAIT', 'score': 0.9997044205665588}, {'label': 'CLICKBAIT', 'score': 0.9994874000549316}, {'label': 'CLICKBAIT', 'score': 0.9996562004089355}, {'label': 'CLICKBAIT', 'score': 0.999663233757019}, {'label': 'CLICKBAIT', 'score': 0.9996904134750366}, {'label': 'NOT', 'score': 0.9984511137008667}, {'label': 'CLICKBAIT', 'score': 0.9997199177742004}, {'label': 'NOT', 'score': 0.999087929725647}, {'label': 'NOT', 'score': 0.999467670917511}, {'label': 'NOT', 'score': 0.9990655779838562}, {'label': 'CLICKBAIT', 'score': 0.999750554561615}, {'label': 'NOT', 'score': 0.9989294409751892}, {'label': 'NOT', 'score': 0.9983135461807251}, {'label': 'CLICKBAIT', 'score': 0.9996352195739746}, {'label': 'NOT', 'score': 0.9973637461662292}, {'label': 'NOT', 'score': 0.9985345602035522}, {'label': 'CLICKBAIT', 'score': 0.9997053742408752}, {'label': 'CLICKBAIT', 'score': 0.9996275901794434}, {'label': 'NOT', 'score': 0.999240517616272}, {'label': 'CLICKBAIT', 'score': 0.9997664093971252}, {'label': 'CLICKBAIT', 'score': 0.9993637204170227}, {'label': 'NOT', 'score': 0.9751724600791931}, {'label': 'CLICKBAIT', 'score': 0.9996716976165771}, {'label': 'NOT', 'score': 0.999019980430603}, {'label': 'NOT', 'score': 0.997886598110199}, {'label': 'CLICKBAIT', 'score': 0.9996015429496765}, {'label': 'CLICKBAIT', 'score': 0.9997057318687439}, {'label': 'NOT', 'score': 0.9992175102233887}, {'label': 'CLICKBAIT', 'score': 0.9827964305877686}, {'label': 'CLICKBAIT', 'score': 0.999233603477478}, {'label': 'NOT', 'score': 0.9916929602622986}, {'label': 'CLICKBAIT', 'score': 0.9997137188911438}, {'label': 'NOT', 'score': 0.9991492033004761}, {'label': 'NOT', 'score': 0.9988252520561218}, {'label': 'NOT', 'score': 0.999466598033905}, {'label': 'CLICKBAIT', 'score': 0.9985392093658447}, {'label': 'CLICKBAIT', 'score': 0.9997233748435974}, {'label': 'NOT', 'score': 0.9989367127418518}, {'label': 'CLICKBAIT', 'score': 0.9995111227035522}, {'label': 'CLICKBAIT', 'score': 0.9996578693389893}, {'label': 'CLICKBAIT', 'score': 0.9997348189353943}, {'label': 'NOT', 'score': 0.9992380142211914}, {'label': 'CLICKBAIT', 'score': 0.9996904134750366}, {'label': 'CLICKBAIT', 'score': 0.9997454285621643}, {'label': 'CLICKBAIT', 'score': 0.999752938747406}, {'label': 'NOT', 'score': 0.9993034601211548}, {'label': 'NOT', 'score': 0.9966152310371399}, {'label': 'NOT', 'score': 0.9993318915367126}, {'label': 'CLICKBAIT', 'score': 0.9996551275253296}, {'label': 'NOT', 'score': 0.9978197813034058}, {'label': 'CLICKBAIT', 'score': 0.9996762275695801}, {'label': 'CLICKBAIT', 'score': 0.9996446371078491}, {'label': 'CLICKBAIT', 'score': 0.9996579885482788}, {'label': 'CLICKBAIT', 'score': 0.9996877908706665}, {'label': 'CLICKBAIT', 'score': 0.999669075012207}, {'label': 'CLICKBAIT', 'score': 0.9997549653053284}, {'label': 'CLICKBAIT', 'score': 0.9922006726264954}, {'label': 'CLICKBAIT', 'score': 0.9997182488441467}, {'label': 'CLICKBAIT', 'score': 0.9995344877243042}, {'label': 'NOT', 'score': 0.9985952973365784}, {'label': 'CLICKBAIT', 'score': 0.9996610879898071}, {'label': 'NOT', 'score': 0.9987748265266418}, {'label': 'CLICKBAIT', 'score': 0.9997040629386902}, {'label': 'CLICKBAIT', 'score': 0.9995429515838623}, {'label': 'CLICKBAIT', 'score': 0.9997109770774841}, {'label': 'NOT', 'score': 0.997485876083374}, {'label': 'NOT', 'score': 0.9983626008033752}, {'label': 'NOT', 'score': 0.9971561431884766}, {'label': 'CLICKBAIT', 'score': 0.9997506737709045}, {'label': 'NOT', 'score': 0.9992204904556274}, {'label': 'CLICKBAIT', 'score': 0.9996193647384644}, {'label': 'CLICKBAIT', 'score': 0.9996929168701172}, {'label': 'CLICKBAIT', 'score': 0.8128294348716736}, {'label': 'CLICKBAIT', 'score': 0.9997422099113464}, {'label': 'CLICKBAIT', 'score': 0.9996168613433838}, {'label': 'NOT', 'score': 0.9994128942489624}, {'label': 'CLICKBAIT', 'score': 0.9997236132621765}, {'label': 'CLICKBAIT', 'score': 0.9943602681159973}, {'label': 'CLICKBAIT', 'score': 0.9997249245643616}, {'label': 'CLICKBAIT', 'score': 0.9994439482688904}, {'label': 'NOT', 'score': 0.9993694424629211}, {'label': 'CLICKBAIT', 'score': 0.9997243285179138}, {'label': 'CLICKBAIT', 'score': 0.9995658993721008}, {'label': 'NOT', 'score': 0.9994441866874695}, {'label': 'NOT', 'score': 0.9983121156692505}, {'label': 'CLICKBAIT', 'score': 0.9994233846664429}, {'label': 'NOT', 'score': 0.9992825388908386}, {'label': 'NOT', 'score': 0.999122679233551}, {'label': 'NOT', 'score': 0.9989832043647766}, {'label': 'CLICKBAIT', 'score': 0.9991337656974792}, {'label': 'CLICKBAIT', 'score': 0.9985038042068481}, {'label': 'NOT', 'score': 0.9975711703300476}, {'label': 'CLICKBAIT', 'score': 0.9996622800827026}, {'label': 'NOT', 'score': 0.9992237091064453}, {'label': 'NOT', 'score': 0.9987252354621887}, {'label': 'CLICKBAIT', 'score': 0.9996034502983093}, {'label': 'NOT', 'score': 0.9980478286743164}, {'label': 'CLICKBAIT', 'score': 0.9997401833534241}, {'label': 'NOT', 'score': 0.9992874264717102}, {'label': 'CLICKBAIT', 'score': 0.9995730519294739}, {'label': 'NOT', 'score': 0.9986838698387146}, {'label': 'NOT', 'score': 0.999451220035553}, {'label': 'NOT', 'score': 0.9183169603347778}, {'label': 'NOT', 'score': 0.9992315769195557}, {'label': 'CLICKBAIT', 'score': 0.9996991157531738}, {'label': 'CLICKBAIT', 'score': 0.9996558427810669}, {'label': 'NOT', 'score': 0.9993671774864197}, {'label': 'NOT', 'score': 0.9993748068809509}, {'label': 'NOT', 'score': 0.99932861328125}, {'label': 'NOT', 'score': 0.7732695937156677}, {'label': 'NOT', 'score': 0.9994437098503113}, {'label': 'NOT', 'score': 0.9972004890441895}, {'label': 'NOT', 'score': 0.999097466468811}, {'label': 'NOT', 'score': 0.9991620779037476}, {'label': 'CLICKBAIT', 'score': 0.9692708849906921}, {'label': 'NOT', 'score': 0.999467670917511}, {'label': 'CLICKBAIT', 'score': 0.9992897510528564}, {'label': 'CLICKBAIT', 'score': 0.9997069239616394}, {'label': 'NOT', 'score': 0.99947589635849}, {'label': 'CLICKBAIT', 'score': 0.9994850158691406}, {'label': 'NOT', 'score': 0.9993096590042114}, {'label': 'CLICKBAIT', 'score': 0.9997476935386658}, {'label': 'CLICKBAIT', 'score': 0.9997608065605164}, {'label': 'CLICKBAIT', 'score': 0.9992724061012268}, {'label': 'CLICKBAIT', 'score': 0.9997467398643494}, {'label': 'CLICKBAIT', 'score': 0.9994764924049377}, {'label': 'NOT', 'score': 0.9993622899055481}, {'label': 'NOT', 'score': 0.9993777275085449}, {'label': 'CLICKBAIT', 'score': 0.9962165951728821}, {'label': 'NOT', 'score': 0.9962288737297058}, {'label': 'NOT', 'score': 0.9992007613182068}, {'label': 'NOT', 'score': 0.9993720650672913}, {'label': 'CLICKBAIT', 'score': 0.999703586101532}, {'label': 'NOT', 'score': 0.9995143413543701}, {'label': 'NOT', 'score': 0.999369204044342}, {'label': 'NOT', 'score': 0.9985197186470032}, {'label': 'CLICKBAIT', 'score': 0.9995904564857483}, {'label': 'NOT', 'score': 0.9993883371353149}, {'label': 'CLICKBAIT', 'score': 0.999474823474884}, {'label': 'NOT', 'score': 0.9994339346885681}, {'label': 'CLICKBAIT', 'score': 0.9995131492614746}, {'label': 'NOT', 'score': 0.99943608045578}, {'label': 'CLICKBAIT', 'score': 0.9993190765380859}, {'label': 'CLICKBAIT', 'score': 0.9997363686561584}, {'label': 'CLICKBAIT', 'score': 0.999489426612854}, {'label': 'NOT', 'score': 0.9971858859062195}, {'label': 'NOT', 'score': 0.9950245022773743}, {'label': 'CLICKBAIT', 'score': 0.9996812343597412}, {'label': 'CLICKBAIT', 'score': 0.9997199177742004}, {'label': 'CLICKBAIT', 'score': 0.999613344669342}, {'label': 'NOT', 'score': 0.9992042183876038}, {'label': 'CLICKBAIT', 'score': 0.9973588585853577}, {'label': 'NOT', 'score': 0.990672767162323}, {'label': 'NOT', 'score': 0.9994137287139893}, {'label': 'CLICKBAIT', 'score': 0.9997588992118835}, {'label': 'CLICKBAIT', 'score': 0.9994205236434937}, {'label': 'NOT', 'score': 0.9988670349121094}, {'label': 'CLICKBAIT', 'score': 0.9944337010383606}, {'label': 'NOT', 'score': 0.9987919926643372}, {'label': 'NOT', 'score': 0.9993671774864197}, {'label': 'NOT', 'score': 0.9986485838890076}, {'label': 'NOT', 'score': 0.9992782473564148}, {'label': 'NOT', 'score': 0.9991397857666016}, {'label': 'CLICKBAIT', 'score': 0.9997214674949646}, {'label': 'CLICKBAIT', 'score': 0.9985265731811523}, {'label': 'NOT', 'score': 0.9913903474807739}, {'label': 'CLICKBAIT', 'score': 0.9992665648460388}, {'label': 'CLICKBAIT', 'score': 0.848356306552887}, {'label': 'NOT', 'score': 0.9994223117828369}, {'label': 'CLICKBAIT', 'score': 0.9994741082191467}, {'label': 'NOT', 'score': 0.9949754476547241}, {'label': 'CLICKBAIT', 'score': 0.9996578693389893}, {'label': 'CLICKBAIT', 'score': 0.9997276663780212}, {'label': 'CLICKBAIT', 'score': 0.999725878238678}, {'label': 'CLICKBAIT', 'score': 0.9996534585952759}, {'label': 'NOT', 'score': 0.9994032382965088}, {'label': 'CLICKBAIT', 'score': 0.9997467398643494}, {'label': 'CLICKBAIT', 'score': 0.9996685981750488}, {'label': 'CLICKBAIT', 'score': 0.9996950626373291}, {'label': 'NOT', 'score': 0.9992089867591858}, {'label': 'NOT', 'score': 0.9990647435188293}, {'label': 'CLICKBAIT', 'score': 0.9996386766433716}, {'label': 'NOT', 'score': 0.9986467957496643}, {'label': 'CLICKBAIT', 'score': 0.999723494052887}, {'label': 'NOT', 'score': 0.999395489692688}, {'label': 'CLICKBAIT', 'score': 0.9997320771217346}, {'label': 'CLICKBAIT', 'score': 0.9996308088302612}, {'label': 'NOT', 'score': 0.9995055198669434}, {'label': 'CLICKBAIT', 'score': 0.999751627445221}, {'label': 'CLICKBAIT', 'score': 0.9997468590736389}, {'label': 'CLICKBAIT', 'score': 0.9996862411499023}, {'label': 'CLICKBAIT', 'score': 0.9996053576469421}, {'label': 'NOT', 'score': 0.9988052845001221}, {'label': 'NOT', 'score': 0.999371349811554}, {'label': 'NOT', 'score': 0.9973896145820618}, {'label': 'NOT', 'score': 0.9990506768226624}, {'label': 'NOT', 'score': 0.9993816614151001}, {'label': 'CLICKBAIT', 'score': 0.9994913339614868}, {'label': 'CLICKBAIT', 'score': 0.9997195601463318}, {'label': 'CLICKBAIT', 'score': 0.9994233846664429}, {'label': 'CLICKBAIT', 'score': 0.9995157718658447}, {'label': 'CLICKBAIT', 'score': 0.9995966553688049}, {'label': 'NOT', 'score': 0.9989752769470215}, {'label': 'CLICKBAIT', 'score': 0.9995790123939514}, {'label': 'CLICKBAIT', 'score': 0.9996145963668823}, {'label': 'CLICKBAIT', 'score': 0.999764621257782}, {'label': 'NOT', 'score': 0.9992227554321289}, {'label': 'NOT', 'score': 0.9993897676467896}, {'label': 'CLICKBAIT', 'score': 0.9996763467788696}, {'label': 'NOT', 'score': 0.9988141059875488}, {'label': 'NOT', 'score': 0.9993742108345032}, {'label': 'CLICKBAIT', 'score': 0.9862449765205383}, {'label': 'CLICKBAIT', 'score': 0.9996994733810425}, {'label': 'CLICKBAIT', 'score': 0.9997557997703552}, {'label': 'CLICKBAIT', 'score': 0.9997327923774719}, {'label': 'NOT', 'score': 0.999065101146698}, {'label': 'CLICKBAIT', 'score': 0.9997184872627258}, {'label': 'CLICKBAIT', 'score': 0.999708354473114}, {'label': 'NOT', 'score': 0.9994113445281982}, {'label': 'CLICKBAIT', 'score': 0.9997004270553589}, {'label': 'CLICKBAIT', 'score': 0.9996533393859863}, {'label': 'NOT', 'score': 0.9993560910224915}, {'label': 'NOT', 'score': 0.9992474317550659}, {'label': 'NOT', 'score': 0.999482274055481}, {'label': 'CLICKBAIT', 'score': 0.9996775388717651}, {'label': 'NOT', 'score': 0.9994170665740967}, {'label': 'NOT', 'score': 0.9989705085754395}, {'label': 'NOT', 'score': 0.9992712140083313}, {'label': 'CLICKBAIT', 'score': 0.9922319650650024}, {'label': 'CLICKBAIT', 'score': 0.9996992349624634}, {'label': 'CLICKBAIT', 'score': 0.999713122844696}, {'label': 'NOT', 'score': 0.99936443567276}, {'label': 'CLICKBAIT', 'score': 0.9995474219322205}, {'label': 'CLICKBAIT', 'score': 0.9994314312934875}, {'label': 'CLICKBAIT', 'score': 0.9937475919723511}, {'label': 'CLICKBAIT', 'score': 0.9996849298477173}, {'label': 'NOT', 'score': 0.9991042017936707}, {'label': 'CLICKBAIT', 'score': 0.9997389912605286}, {'label': 'CLICKBAIT', 'score': 0.9995052814483643}, {'label': 'CLICKBAIT', 'score': 0.9997522234916687}, {'label': 'NOT', 'score': 0.9990682005882263}, {'label': 'NOT', 'score': 0.9722608327865601}, {'label': 'CLICKBAIT', 'score': 0.9997156262397766}, {'label': 'CLICKBAIT', 'score': 0.9996367692947388}, {'label': 'CLICKBAIT', 'score': 0.9931026697158813}, {'label': 'CLICKBAIT', 'score': 0.9997177720069885}, {'label': 'CLICKBAIT', 'score': 0.999661922454834}, {'label': 'CLICKBAIT', 'score': 0.9989864230155945}, {'label': 'CLICKBAIT', 'score': 0.505063533782959}, {'label': 'NOT', 'score': 0.9994291663169861}, {'label': 'NOT', 'score': 0.999242901802063}, {'label': 'CLICKBAIT', 'score': 0.9997524619102478}, {'label': 'NOT', 'score': 0.9994596838951111}, {'label': 'CLICKBAIT', 'score': 0.9996753931045532}, {'label': 'CLICKBAIT', 'score': 0.9984592199325562}, {'label': 'NOT', 'score': 0.9993541836738586}, {'label': 'NOT', 'score': 0.9982491731643677}, {'label': 'CLICKBAIT', 'score': 0.9997034668922424}, {'label': 'NOT', 'score': 0.9968184232711792}, {'label': 'NOT', 'score': 0.9993495345115662}, {'label': 'NOT', 'score': 0.9990007281303406}, {'label': 'NOT', 'score': 0.9993025064468384}, {'label': 'NOT', 'score': 0.9957438111305237}, {'label': 'CLICKBAIT', 'score': 0.9992818236351013}, {'label': 'NOT', 'score': 0.998777449131012}, {'label': 'CLICKBAIT', 'score': 0.9997088313102722}, {'label': 'CLICKBAIT', 'score': 0.9996720552444458}, {'label': 'CLICKBAIT', 'score': 0.999146580696106}, {'label': 'CLICKBAIT', 'score': 0.9997195601463318}, {'label': 'NOT', 'score': 0.9994825124740601}, {'label': 'NOT', 'score': 0.9994344115257263}, {'label': 'NOT', 'score': 0.9993636012077332}, {'label': 'NOT', 'score': 0.9977363348007202}, {'label': 'CLICKBAIT', 'score': 0.9961112141609192}, {'label': 'NOT', 'score': 0.9822940230369568}, {'label': 'CLICKBAIT', 'score': 0.9969160556793213}, {'label': 'CLICKBAIT', 'score': 0.9994990825653076}, {'label': 'NOT', 'score': 0.9992585778236389}, {'label': 'NOT', 'score': 0.9991496801376343}, {'label': 'NOT', 'score': 0.9535938501358032}, {'label': 'NOT', 'score': 0.998971700668335}, {'label': 'NOT', 'score': 0.9964441657066345}, {'label': 'CLICKBAIT', 'score': 0.9997400641441345}, {'label': 'NOT', 'score': 0.998404324054718}, {'label': 'NOT', 'score': 0.9947346448898315}, {'label': 'CLICKBAIT', 'score': 0.9971839785575867}, {'label': 'NOT', 'score': 0.9892458319664001}, {'label': 'NOT', 'score': 0.607917845249176}, {'label': 'CLICKBAIT', 'score': 0.9995383024215698}, {'label': 'NOT', 'score': 0.999372661113739}, {'label': 'NOT', 'score': 0.9991403818130493}, {'label': 'CLICKBAIT', 'score': 0.9981644749641418}, {'label': 'NOT', 'score': 0.9987320303916931}, {'label': 'NOT', 'score': 0.9994173049926758}, {'label': 'CLICKBAIT', 'score': 0.9996132254600525}, {'label': 'CLICKBAIT', 'score': 0.9996789693832397}, {'label': 'NOT', 'score': 0.998736560344696}, {'label': 'NOT', 'score': 0.9929681420326233}, {'label': 'NOT', 'score': 0.9987137317657471}, {'label': 'NOT', 'score': 0.9992863535881042}, {'label': 'CLICKBAIT', 'score': 0.999711811542511}, {'label': 'NOT', 'score': 0.9992035031318665}, {'label': 'CLICKBAIT', 'score': 0.9997223019599915}, {'label': 'CLICKBAIT', 'score': 0.9994155168533325}, {'label': 'CLICKBAIT', 'score': 0.9996601343154907}, {'label': 'CLICKBAIT', 'score': 0.9996621608734131}, {'label': 'NOT', 'score': 0.999311089515686}, {'label': 'CLICKBAIT', 'score': 0.9994722008705139}, {'label': 'NOT', 'score': 0.9994914531707764}, {'label': 'NOT', 'score': 0.9984288811683655}, {'label': 'NOT', 'score': 0.9993739724159241}, {'label': 'CLICKBAIT', 'score': 0.9996500015258789}, {'label': 'CLICKBAIT', 'score': 0.9996777772903442}, {'label': 'CLICKBAIT', 'score': 0.9996452331542969}, {'label': 'CLICKBAIT', 'score': 0.999653697013855}, {'label': 'NOT', 'score': 0.9994344115257263}, {'label': 'CLICKBAIT', 'score': 0.9085384011268616}, {'label': 'CLICKBAIT', 'score': 0.9983478784561157}, {'label': 'NOT', 'score': 0.996709942817688}, {'label': 'CLICKBAIT', 'score': 0.999708354473114}, {'label': 'NOT', 'score': 0.9994063377380371}, {'label': 'NOT', 'score': 0.9993212223052979}, {'label': 'CLICKBAIT', 'score': 0.9968006610870361}, {'label': 'CLICKBAIT', 'score': 0.996538519859314}, {'label': 'CLICKBAIT', 'score': 0.9996364116668701}, {'label': 'CLICKBAIT', 'score': 0.9995150566101074}, {'label': 'CLICKBAIT', 'score': 0.9375243782997131}, {'label': 'CLICKBAIT', 'score': 0.9997054934501648}, {'label': 'NOT', 'score': 0.9994465708732605}, {'label': 'NOT', 'score': 0.99943608045578}, {'label': 'CLICKBAIT', 'score': 0.9996107220649719}, {'label': 'NOT', 'score': 0.7895005941390991}, {'label': 'NOT', 'score': 0.999010443687439}, {'label': 'NOT', 'score': 0.9994718432426453}, {'label': 'NOT', 'score': 0.9979913234710693}, {'label': 'CLICKBAIT', 'score': 0.9996088147163391}, {'label': 'CLICKBAIT', 'score': 0.9995633959770203}, {'label': 'CLICKBAIT', 'score': 0.9996925592422485}, {'label': 'NOT', 'score': 0.9987910389900208}, {'label': 'NOT', 'score': 0.9986346364021301}, {'label': 'NOT', 'score': 0.6733188629150391}, {'label': 'CLICKBAIT', 'score': 0.99968421459198}, {'label': 'CLICKBAIT', 'score': 0.9995521903038025}, {'label': 'NOT', 'score': 0.9988875985145569}, {'label': 'NOT', 'score': 0.9990602135658264}, {'label': 'CLICKBAIT', 'score': 0.9996985197067261}, {'label': 'NOT', 'score': 0.9993102550506592}, {'label': 'NOT', 'score': 0.9994484782218933}, {'label': 'NOT', 'score': 0.9914166331291199}, {'label': 'NOT', 'score': 0.9978975057601929}, {'label': 'CLICKBAIT', 'score': 0.9996448755264282}, {'label': 'NOT', 'score': 0.9994934797286987}, {'label': 'NOT', 'score': 0.9979865550994873}, {'label': 'NOT', 'score': 0.996942937374115}, {'label': 'CLICKBAIT', 'score': 0.9996870756149292}, {'label': 'CLICKBAIT', 'score': 0.999724805355072}, {'label': 'NOT', 'score': 0.9439255595207214}, {'label': 'NOT', 'score': 0.9995100498199463}, {'label': 'NOT', 'score': 0.9993665814399719}, {'label': 'CLICKBAIT', 'score': 0.9996433258056641}, {'label': 'NOT', 'score': 0.9994592070579529}, {'label': 'NOT', 'score': 0.9964653253555298}, {'label': 'NOT', 'score': 0.9990193843841553}, {'label': 'NOT', 'score': 0.9993695616722107}, {'label': 'NOT', 'score': 0.9990053772926331}, {'label': 'CLICKBAIT', 'score': 0.9996738433837891}, {'label': 'NOT', 'score': 0.9994202852249146}, {'label': 'CLICKBAIT', 'score': 0.9996656179428101}, {'label': 'NOT', 'score': 0.9981246590614319}, {'label': 'NOT', 'score': 0.9979374408721924}, {'label': 'NOT', 'score': 0.9989068508148193}, {'label': 'NOT', 'score': 0.9991656541824341}, {'label': 'CLICKBAIT', 'score': 0.9996896982192993}, {'label': 'NOT', 'score': 0.9994248151779175}, {'label': 'NOT', 'score': 0.9994845390319824}, {'label': 'NOT', 'score': 0.9970575571060181}, {'label': 'CLICKBAIT', 'score': 0.9345105886459351}, {'label': 'CLICKBAIT', 'score': 0.9996386766433716}, {'label': 'CLICKBAIT', 'score': 0.9995670914649963}, {'label': 'NOT', 'score': 0.9883389472961426}, {'label': 'NOT', 'score': 0.9989861845970154}, {'label': 'CLICKBAIT', 'score': 0.9997554421424866}, {'label': 'NOT', 'score': 0.995420515537262}, {'label': 'CLICKBAIT', 'score': 0.922887921333313}, {'label': 'CLICKBAIT', 'score': 0.9305129647254944}, {'label': 'CLICKBAIT', 'score': 0.9997130036354065}, {'label': 'NOT', 'score': 0.9968891739845276}, {'label': 'NOT', 'score': 0.9989110231399536}, {'label': 'NOT', 'score': 0.9994913339614868}, {'label': 'NOT', 'score': 0.9992296695709229}, {'label': 'CLICKBAIT', 'score': 0.9983975291252136}, {'label': 'NOT', 'score': 0.9991952776908875}, {'label': 'CLICKBAIT', 'score': 0.99678635597229}, {'label': 'CLICKBAIT', 'score': 0.9996429681777954}, {'label': 'CLICKBAIT', 'score': 0.9995593428611755}, {'label': 'NOT', 'score': 0.9992019534111023}, {'label': 'CLICKBAIT', 'score': 0.9678831100463867}, {'label': 'NOT', 'score': 0.9987515211105347}, {'label': 'CLICKBAIT', 'score': 0.9997240900993347}, {'label': 'CLICKBAIT', 'score': 0.9996360540390015}, {'label': 'NOT', 'score': 0.9994255304336548}, {'label': 'NOT', 'score': 0.9993725419044495}, {'label': 'CLICKBAIT', 'score': 0.9997450709342957}, {'label': 'CLICKBAIT', 'score': 0.9972602128982544}, {'label': 'CLICKBAIT', 'score': 0.9997474551200867}, {'label': 'NOT', 'score': 0.9993589520454407}, {'label': 'NOT', 'score': 0.9991784691810608}, {'label': 'NOT', 'score': 0.9994763731956482}, {'label': 'CLICKBAIT', 'score': 0.999595582485199}, {'label': 'NOT', 'score': 0.9989067316055298}, {'label': 'NOT', 'score': 0.9990686774253845}, {'label': 'NOT', 'score': 0.9953298568725586}, {'label': 'CLICKBAIT', 'score': 0.9995678067207336}, {'label': 'NOT', 'score': 0.9994148015975952}, {'label': 'CLICKBAIT', 'score': 0.9994427561759949}, {'label': 'NOT', 'score': 0.9994634985923767}, {'label': 'NOT', 'score': 0.9992572665214539}, {'label': 'NOT', 'score': 0.9975084066390991}, {'label': 'NOT', 'score': 0.9993318915367126}, {'label': 'NOT', 'score': 0.9674397110939026}, {'label': 'CLICKBAIT', 'score': 0.9997097849845886}, {'label': 'CLICKBAIT', 'score': 0.9996920824050903}, {'label': 'NOT', 'score': 0.98780757188797}, {'label': 'NOT', 'score': 0.9993976354598999}, {'label': 'NOT', 'score': 0.9994490742683411}, {'label': 'NOT', 'score': 0.9969498515129089}, {'label': 'CLICKBAIT', 'score': 0.9997326731681824}, {'label': 'CLICKBAIT', 'score': 0.9997245669364929}, {'label': 'NOT', 'score': 0.999213457107544}, {'label': 'NOT', 'score': 0.9992413520812988}, {'label': 'CLICKBAIT', 'score': 0.9996107220649719}, {'label': 'NOT', 'score': 0.9994120597839355}, {'label': 'CLICKBAIT', 'score': 0.9977555871009827}, {'label': 'CLICKBAIT', 'score': 0.9997296929359436}, {'label': 'NOT', 'score': 0.999100923538208}, {'label': 'NOT', 'score': 0.9994811415672302}, {'label': 'NOT', 'score': 0.9993909597396851}, {'label': 'NOT', 'score': 0.9988541603088379}, {'label': 'CLICKBAIT', 'score': 0.9989888072013855}, {'label': 'NOT', 'score': 0.9993133544921875}, {'label': 'NOT', 'score': 0.9994043111801147}, {'label': 'CLICKBAIT', 'score': 0.9996844530105591}, {'label': 'NOT', 'score': 0.9909975528717041}, {'label': 'NOT', 'score': 0.9992524981498718}, {'label': 'NOT', 'score': 0.9123569130897522}, {'label': 'NOT', 'score': 0.9955451488494873}, {'label': 'CLICKBAIT', 'score': 0.9985383749008179}, {'label': 'NOT', 'score': 0.9990922212600708}, {'label': 'CLICKBAIT', 'score': 0.9997434020042419}, {'label': 'CLICKBAIT', 'score': 0.9995410442352295}, {'label': 'CLICKBAIT', 'score': 0.9997252821922302}, {'label': 'NOT', 'score': 0.9995003938674927}, {'label': 'NOT', 'score': 0.999423623085022}, {'label': 'NOT', 'score': 0.9994426369667053}, {'label': 'NOT', 'score': 0.9974741339683533}, {'label': 'NOT', 'score': 0.9321829676628113}, {'label': 'CLICKBAIT', 'score': 0.9997072815895081}, {'label': 'CLICKBAIT', 'score': 0.9994843006134033}, {'label': 'CLICKBAIT', 'score': 0.9992357492446899}, {'label': 'CLICKBAIT', 'score': 0.9997684359550476}, {'label': 'CLICKBAIT', 'score': 0.9887135028839111}, {'label': 'NOT', 'score': 0.7881326675415039}, {'label': 'NOT', 'score': 0.9992320537567139}, {'label': 'NOT', 'score': 0.9993274211883545}, {'label': 'NOT', 'score': 0.9993699193000793}, {'label': 'CLICKBAIT', 'score': 0.9995744824409485}, {'label': 'CLICKBAIT', 'score': 0.999747097492218}, {'label': 'CLICKBAIT', 'score': 0.999698281288147}, {'label': 'CLICKBAIT', 'score': 0.9997424483299255}, {'label': 'CLICKBAIT', 'score': 0.999715268611908}, {'label': 'CLICKBAIT', 'score': 0.999607264995575}, {'label': 'NOT', 'score': 0.9988915324211121}, {'label': 'CLICKBAIT', 'score': 0.9995514750480652}, {'label': 'NOT', 'score': 0.9962316155433655}, {'label': 'NOT', 'score': 0.9966897964477539}, {'label': 'NOT', 'score': 0.9994781613349915}, {'label': 'CLICKBAIT', 'score': 0.9974060654640198}, {'label': 'CLICKBAIT', 'score': 0.9997257590293884}, {'label': 'CLICKBAIT', 'score': 0.9997064471244812}, {'label': 'CLICKBAIT', 'score': 0.9997264742851257}, {'label': 'CLICKBAIT', 'score': 0.9996731281280518}, {'label': 'NOT', 'score': 0.9993438124656677}, {'label': 'CLICKBAIT', 'score': 0.9997561573982239}, {'label': 'CLICKBAIT', 'score': 0.9997499585151672}, {'label': 'CLICKBAIT', 'score': 0.9995030164718628}, {'label': 'NOT', 'score': 0.9991949200630188}, {'label': 'NOT', 'score': 0.9991738200187683}, {'label': 'NOT', 'score': 0.9992470741271973}, {'label': 'NOT', 'score': 0.9992908239364624}, {'label': 'NOT', 'score': 0.9992530941963196}, {'label': 'CLICKBAIT', 'score': 0.9997116923332214}, {'label': 'CLICKBAIT', 'score': 0.9997057318687439}, {'label': 'NOT', 'score': 0.9992222785949707}, {'label': 'NOT', 'score': 0.9993485808372498}, {'label': 'NOT', 'score': 0.9966012239456177}, {'label': 'NOT', 'score': 0.9855809807777405}, {'label': 'NOT', 'score': 0.9267797470092773}, {'label': 'NOT', 'score': 0.9989175796508789}, {'label': 'CLICKBAIT', 'score': 0.9996774196624756}, {'label': 'CLICKBAIT', 'score': 0.9994206428527832}, {'label': 'CLICKBAIT', 'score': 0.9995020627975464}, {'label': 'NOT', 'score': 0.9993488192558289}, {'label': 'CLICKBAIT', 'score': 0.9993587136268616}, {'label': 'CLICKBAIT', 'score': 0.9990346431732178}, {'label': 'NOT', 'score': 0.9984219074249268}, {'label': 'NOT', 'score': 0.9993731379508972}, {'label': 'NOT', 'score': 0.9991401433944702}, {'label': 'CLICKBAIT', 'score': 0.9983299374580383}, {'label': 'NOT', 'score': 0.9993908405303955}, {'label': 'NOT', 'score': 0.9988774657249451}, {'label': 'CLICKBAIT', 'score': 0.9997096657752991}, {'label': 'NOT', 'score': 0.8252056241035461}, {'label': 'NOT', 'score': 0.9991497993469238}, {'label': 'NOT', 'score': 0.9993916749954224}, {'label': 'CLICKBAIT', 'score': 0.9995600581169128}, {'label': 'CLICKBAIT', 'score': 0.9986621141433716}, {'label': 'CLICKBAIT', 'score': 0.9990729093551636}, {'label': 'NOT', 'score': 0.9993937015533447}, {'label': 'NOT', 'score': 0.9994471669197083}, {'label': 'CLICKBAIT', 'score': 0.9997466206550598}, {'label': 'NOT', 'score': 0.9994540810585022}, {'label': 'CLICKBAIT', 'score': 0.9997541308403015}, {'label': 'CLICKBAIT', 'score': 0.9996898174285889}, {'label': 'CLICKBAIT', 'score': 0.9997032284736633}, {'label': 'NOT', 'score': 0.96580570936203}, {'label': 'NOT', 'score': 0.9992519021034241}, {'label': 'NOT', 'score': 0.9990158081054688}, {'label': 'NOT', 'score': 0.9993854761123657}, {'label': 'CLICKBAIT', 'score': 0.9997199177742004}, {'label': 'NOT', 'score': 0.9986812472343445}, {'label': 'CLICKBAIT', 'score': 0.9997647404670715}, {'label': 'NOT', 'score': 0.9990859031677246}, {'label': 'CLICKBAIT', 'score': 0.9994856119155884}, {'label': 'NOT', 'score': 0.9991593360900879}, {'label': 'CLICKBAIT', 'score': 0.9997480511665344}, {'label': 'NOT', 'score': 0.999488115310669}, {'label': 'NOT', 'score': 0.9985498785972595}, {'label': 'CLICKBAIT', 'score': 0.9996474981307983}, {'label': 'CLICKBAIT', 'score': 0.9996434450149536}, {'label': 'CLICKBAIT', 'score': 0.9997100234031677}, {'label': 'CLICKBAIT', 'score': 0.9996800422668457}, {'label': 'CLICKBAIT', 'score': 0.9997462630271912}, {'label': 'NOT', 'score': 0.9992153644561768}, {'label': 'NOT', 'score': 0.9968344569206238}, {'label': 'NOT', 'score': 0.994573175907135}, {'label': 'NOT', 'score': 0.9939836859703064}, {'label': 'CLICKBAIT', 'score': 0.9996925592422485}, {'label': 'NOT', 'score': 0.9973195195198059}, {'label': 'CLICKBAIT', 'score': 0.9996516704559326}, {'label': 'NOT', 'score': 0.9992254972457886}, {'label': 'NOT', 'score': 0.9978798627853394}, {'label': 'NOT', 'score': 0.9994714856147766}, {'label': 'NOT', 'score': 0.9994519352912903}, {'label': 'NOT', 'score': 0.9994163513183594}, {'label': 'NOT', 'score': 0.8995873332023621}, {'label': 'CLICKBAIT', 'score': 0.7890944480895996}, {'label': 'CLICKBAIT', 'score': 0.9995911717414856}, {'label': 'NOT', 'score': 0.9990962743759155}, {'label': 'CLICKBAIT', 'score': 0.9997475743293762}, {'label': 'CLICKBAIT', 'score': 0.996317982673645}, {'label': 'CLICKBAIT', 'score': 0.995840311050415}, {'label': 'CLICKBAIT', 'score': 0.9996806383132935}, {'label': 'CLICKBAIT', 'score': 0.999231219291687}, {'label': 'NOT', 'score': 0.9992619156837463}, {'label': 'CLICKBAIT', 'score': 0.9183840155601501}, {'label': 'NOT', 'score': 0.996738851070404}, {'label': 'NOT', 'score': 0.998770534992218}, {'label': 'CLICKBAIT', 'score': 0.9997325539588928}, {'label': 'NOT', 'score': 0.9954236149787903}, {'label': 'NOT', 'score': 0.8892058730125427}, {'label': 'NOT', 'score': 0.996229350566864}, {'label': 'CLICKBAIT', 'score': 0.9997488856315613}, {'label': 'NOT', 'score': 0.999072790145874}, {'label': 'CLICKBAIT', 'score': 0.9997021555900574}, {'label': 'NOT', 'score': 0.9988225102424622}, {'label': 'NOT', 'score': 0.9901261329650879}, {'label': 'NOT', 'score': 0.9993739724159241}, {'label': 'CLICKBAIT', 'score': 0.9996484518051147}, {'label': 'CLICKBAIT', 'score': 0.9995237588882446}, {'label': 'CLICKBAIT', 'score': 0.9981145858764648}, {'label': 'CLICKBAIT', 'score': 0.999757707118988}, {'label': 'CLICKBAIT', 'score': 0.9993165731430054}, {'label': 'CLICKBAIT', 'score': 0.9997349381446838}, {'label': 'NOT', 'score': 0.999293327331543}, {'label': 'NOT', 'score': 0.9991987347602844}, {'label': 'NOT', 'score': 0.9747742414474487}, {'label': 'NOT', 'score': 0.9991704225540161}, {'label': 'NOT', 'score': 0.999500036239624}, {'label': 'NOT', 'score': 0.9975283741950989}, {'label': 'NOT', 'score': 0.9993589520454407}, {'label': 'CLICKBAIT', 'score': 0.9997385144233704}, {'label': 'CLICKBAIT', 'score': 0.9997492432594299}, {'label': 'NOT', 'score': 0.999351441860199}, {'label': 'NOT', 'score': 0.9993461966514587}, {'label': 'CLICKBAIT', 'score': 0.9996280670166016}, {'label': 'CLICKBAIT', 'score': 0.9986433386802673}, {'label': 'CLICKBAIT', 'score': 0.9995943903923035}, {'label': 'NOT', 'score': 0.9993671774864197}, {'label': 'NOT', 'score': 0.9967679977416992}, {'label': 'CLICKBAIT', 'score': 0.9996127486228943}, {'label': 'NOT', 'score': 0.9810813069343567}, {'label': 'NOT', 'score': 0.992206871509552}, {'label': 'CLICKBAIT', 'score': 0.9994807839393616}, {'label': 'NOT', 'score': 0.9994049072265625}, {'label': 'CLICKBAIT', 'score': 0.999584972858429}, {'label': 'NOT', 'score': 0.9993784427642822}, {'label': 'NOT', 'score': 0.9989451766014099}, {'label': 'NOT', 'score': 0.998845100402832}, {'label': 'CLICKBAIT', 'score': 0.9994962215423584}, {'label': 'NOT', 'score': 0.9990220069885254}, {'label': 'NOT', 'score': 0.9993220567703247}, {'label': 'NOT', 'score': 0.9990218877792358}, {'label': 'CLICKBAIT', 'score': 0.9997386336326599}, {'label': 'NOT', 'score': 0.9993135929107666}, {'label': 'CLICKBAIT', 'score': 0.9997236132621765}, {'label': 'CLICKBAIT', 'score': 0.9997438788414001}, {'label': 'NOT', 'score': 0.9992737174034119}, {'label': 'CLICKBAIT', 'score': 0.9893087148666382}, {'label': 'NOT', 'score': 0.9994637370109558}, {'label': 'NOT', 'score': 0.9978918433189392}, {'label': 'NOT', 'score': 0.9994010925292969}, {'label': 'CLICKBAIT', 'score': 0.9996963739395142}, {'label': 'CLICKBAIT', 'score': 0.9996578693389893}, {'label': 'CLICKBAIT', 'score': 0.999600350856781}, {'label': 'NOT', 'score': 0.9982942938804626}, {'label': 'CLICKBAIT', 'score': 0.9997236132621765}, {'label': 'CLICKBAIT', 'score': 0.999396800994873}, {'label': 'CLICKBAIT', 'score': 0.9992151260375977}, {'label': 'NOT', 'score': 0.9994686245918274}, {'label': 'NOT', 'score': 0.999460756778717}, {'label': 'CLICKBAIT', 'score': 0.9995965361595154}, {'label': 'NOT', 'score': 0.9993847608566284}, {'label': 'CLICKBAIT', 'score': 0.9997038245201111}, {'label': 'CLICKBAIT', 'score': 0.9996421337127686}, {'label': 'NOT', 'score': 0.9994437098503113}, {'label': 'NOT', 'score': 0.9993883371353149}, {'label': 'CLICKBAIT', 'score': 0.9990041851997375}, {'label': 'NOT', 'score': 0.9980928301811218}, {'label': 'NOT', 'score': 0.9993162155151367}, {'label': 'NOT', 'score': 0.9990100860595703}, {'label': 'NOT', 'score': 0.9989333748817444}, {'label': 'CLICKBAIT', 'score': 0.9991632699966431}, {'label': 'CLICKBAIT', 'score': 0.9996399879455566}, {'label': 'CLICKBAIT', 'score': 0.9997374415397644}, {'label': 'CLICKBAIT', 'score': 0.9996950626373291}, {'label': 'CLICKBAIT', 'score': 0.9995406866073608}, {'label': 'CLICKBAIT', 'score': 0.9997183680534363}, {'label': 'CLICKBAIT', 'score': 0.999742329120636}, {'label': 'NOT', 'score': 0.9987296462059021}, {'label': 'CLICKBAIT', 'score': 0.9981682300567627}, {'label': 'NOT', 'score': 0.9991475343704224}, {'label': 'CLICKBAIT', 'score': 0.9996498823165894}, {'label': 'CLICKBAIT', 'score': 0.9997504353523254}, {'label': 'NOT', 'score': 0.9994969367980957}, {'label': 'NOT', 'score': 0.9994581341743469}, {'label': 'CLICKBAIT', 'score': 0.9996827840805054}, {'label': 'CLICKBAIT', 'score': 0.9996697902679443}, {'label': 'NOT', 'score': 0.998582124710083}, {'label': 'CLICKBAIT', 'score': 0.9997281432151794}, {'label': 'CLICKBAIT', 'score': 0.999645471572876}, {'label': 'NOT', 'score': 0.9990468621253967}, {'label': 'NOT', 'score': 0.9984254837036133}, {'label': 'NOT', 'score': 0.9975698590278625}, {'label': 'NOT', 'score': 0.998808741569519}, {'label': 'NOT', 'score': 0.9991355538368225}, {'label': 'NOT', 'score': 0.9993122816085815}, {'label': 'NOT', 'score': 0.999182403087616}, {'label': 'NOT', 'score': 0.9990059733390808}, {'label': 'NOT', 'score': 0.9990237951278687}, {'label': 'CLICKBAIT', 'score': 0.9996919631958008}, {'label': 'NOT', 'score': 0.9851818680763245}, {'label': 'CLICKBAIT', 'score': 0.9992386102676392}, {'label': 'NOT', 'score': 0.999066174030304}, {'label': 'NOT', 'score': 0.9993197917938232}, {'label': 'NOT', 'score': 0.9993628859519958}, {'label': 'CLICKBAIT', 'score': 0.9997066855430603}, {'label': 'CLICKBAIT', 'score': 0.9982401132583618}, {'label': 'CLICKBAIT', 'score': 0.9997393488883972}, {'label': 'CLICKBAIT', 'score': 0.9993988275527954}, {'label': 'CLICKBAIT', 'score': 0.9997429251670837}, {'label': 'CLICKBAIT', 'score': 0.9996726512908936}, {'label': 'NOT', 'score': 0.9994164705276489}, {'label': 'NOT', 'score': 0.9992326498031616}, {'label': 'NOT', 'score': 0.9967323541641235}, {'label': 'CLICKBAIT', 'score': 0.9997145533561707}, {'label': 'CLICKBAIT', 'score': 0.9996514320373535}, {'label': 'CLICKBAIT', 'score': 0.998174786567688}, {'label': 'NOT', 'score': 0.9981539845466614}, {'label': 'CLICKBAIT', 'score': 0.9996987581253052}, {'label': 'NOT', 'score': 0.9992055296897888}, {'label': 'CLICKBAIT', 'score': 0.9996957778930664}, {'label': 'CLICKBAIT', 'score': 0.9996976852416992}, {'label': 'CLICKBAIT', 'score': 0.9997366070747375}, {'label': 'CLICKBAIT', 'score': 0.9997342228889465}, {'label': 'NOT', 'score': 0.9963752627372742}, {'label': 'CLICKBAIT', 'score': 0.9996885061264038}, {'label': 'NOT', 'score': 0.9995071887969971}, {'label': 'NOT', 'score': 0.9994648098945618}, {'label': 'CLICKBAIT', 'score': 0.9997197985649109}, {'label': 'CLICKBAIT', 'score': 0.9996857643127441}, {'label': 'NOT', 'score': 0.99904865026474}, {'label': 'CLICKBAIT', 'score': 0.9997327923774719}, {'label': 'CLICKBAIT', 'score': 0.999738872051239}, {'label': 'NOT', 'score': 0.9994340538978577}, {'label': 'NOT', 'score': 0.9992709755897522}, {'label': 'NOT', 'score': 0.9992712140083313}, {'label': 'CLICKBAIT', 'score': 0.9997054934501648}, {'label': 'CLICKBAIT', 'score': 0.9485318660736084}, {'label': 'NOT', 'score': 0.9977273344993591}, {'label': 'NOT', 'score': 0.9986580610275269}, {'label': 'CLICKBAIT', 'score': 0.9997137188911438}, {'label': 'NOT', 'score': 0.9990054965019226}, {'label': 'CLICKBAIT', 'score': 0.9996398687362671}, {'label': 'CLICKBAIT', 'score': 0.9996871948242188}, {'label': 'CLICKBAIT', 'score': 0.9997195601463318}, {'label': 'NOT', 'score': 0.9334530830383301}, {'label': 'CLICKBAIT', 'score': 0.9996020197868347}, {'label': 'NOT', 'score': 0.9993318915367126}, {'label': 'NOT', 'score': 0.9992521405220032}, {'label': 'CLICKBAIT', 'score': 0.9996664524078369}, {'label': 'CLICKBAIT', 'score': 0.9926367998123169}, {'label': 'NOT', 'score': 0.9985515475273132}, {'label': 'NOT', 'score': 0.9993676543235779}, {'label': 'NOT', 'score': 0.9983073472976685}, {'label': 'CLICKBAIT', 'score': 0.9996219873428345}, {'label': 'CLICKBAIT', 'score': 0.9995286464691162}, {'label': 'CLICKBAIT', 'score': 0.9898597598075867}, {'label': 'CLICKBAIT', 'score': 0.99919193983078}, {'label': 'NOT', 'score': 0.9993894100189209}, {'label': 'NOT', 'score': 0.9994131326675415}, {'label': 'NOT', 'score': 0.9992297887802124}, {'label': 'CLICKBAIT', 'score': 0.9997358918190002}, {'label': 'CLICKBAIT', 'score': 0.9996768236160278}, {'label': 'NOT', 'score': 0.9994508624076843}, {'label': 'CLICKBAIT', 'score': 0.9993964433670044}, {'label': 'NOT', 'score': 0.9987350106239319}, {'label': 'NOT', 'score': 0.9988399147987366}, {'label': 'CLICKBAIT', 'score': 0.9990633130073547}, {'label': 'NOT', 'score': 0.8545407056808472}, {'label': 'NOT', 'score': 0.9990572333335876}, {'label': 'CLICKBAIT', 'score': 0.8678178787231445}, {'label': 'NOT', 'score': 0.9991936087608337}, {'label': 'CLICKBAIT', 'score': 0.9997242093086243}, {'label': 'NOT', 'score': 0.9969499707221985}, {'label': 'NOT', 'score': 0.9993627667427063}, {'label': 'NOT', 'score': 0.9994187355041504}, {'label': 'NOT', 'score': 0.9846780300140381}, {'label': 'NOT', 'score': 0.9885163307189941}, {'label': 'CLICKBAIT', 'score': 0.9997054934501648}, {'label': 'CLICKBAIT', 'score': 0.9976341724395752}, {'label': 'CLICKBAIT', 'score': 0.999601423740387}, {'label': 'NOT', 'score': 0.7379503846168518}, {'label': 'NOT', 'score': 0.9936202168464661}, {'label': 'CLICKBAIT', 'score': 0.9997453093528748}, {'label': 'NOT', 'score': 0.9957137107849121}, {'label': 'NOT', 'score': 0.9989798665046692}, {'label': 'NOT', 'score': 0.9993553757667542}, {'label': 'CLICKBAIT', 'score': 0.9996861219406128}, {'label': 'NOT', 'score': 0.999397873878479}, {'label': 'NOT', 'score': 0.9985997080802917}, {'label': 'NOT', 'score': 0.9993191957473755}, {'label': 'CLICKBAIT', 'score': 0.9996143579483032}, {'label': 'NOT', 'score': 0.9991845488548279}, {'label': 'NOT', 'score': 0.9994538426399231}, {'label': 'CLICKBAIT', 'score': 0.9996488094329834}, {'label': 'NOT', 'score': 0.9989593029022217}, {'label': 'NOT', 'score': 0.9939781427383423}, {'label': 'CLICKBAIT', 'score': 0.9997205138206482}, {'label': 'CLICKBAIT', 'score': 0.9978502988815308}, {'label': 'CLICKBAIT', 'score': 0.9996527433395386}, {'label': 'CLICKBAIT', 'score': 0.9995778203010559}, {'label': 'CLICKBAIT', 'score': 0.9996261596679688}, {'label': 'NOT', 'score': 0.9992828965187073}, {'label': 'CLICKBAIT', 'score': 0.9997355341911316}, {'label': 'NOT', 'score': 0.8227185606956482}, {'label': 'NOT', 'score': 0.9993873834609985}, {'label': 'NOT', 'score': 0.998746395111084}, {'label': 'NOT', 'score': 0.999420166015625}, {'label': 'CLICKBAIT', 'score': 0.999687910079956}, {'label': 'CLICKBAIT', 'score': 0.9997044205665588}, {'label': 'NOT', 'score': 0.9851711392402649}, {'label': 'NOT', 'score': 0.9992786049842834}, {'label': 'CLICKBAIT', 'score': 0.9997467398643494}, {'label': 'CLICKBAIT', 'score': 0.9995874762535095}, {'label': 'CLICKBAIT', 'score': 0.8426227569580078}, {'label': 'NOT', 'score': 0.999363362789154}, {'label': 'NOT', 'score': 0.9992628693580627}, {'label': 'NOT', 'score': 0.9993470311164856}, {'label': 'NOT', 'score': 0.9994949102401733}, {'label': 'CLICKBAIT', 'score': 0.9990354776382446}, {'label': 'NOT', 'score': 0.9987635612487793}, {'label': 'NOT', 'score': 0.9993970394134521}, {'label': 'NOT', 'score': 0.9993007183074951}, {'label': 'CLICKBAIT', 'score': 0.9995869994163513}, {'label': 'NOT', 'score': 0.9990317821502686}, {'label': 'CLICKBAIT', 'score': 0.9995197057723999}, {'label': 'CLICKBAIT', 'score': 0.9996528625488281}, {'label': 'CLICKBAIT', 'score': 0.9995254278182983}, {'label': 'NOT', 'score': 0.999117910861969}, {'label': 'NOT', 'score': 0.9967271089553833}, {'label': 'CLICKBAIT', 'score': 0.99906986951828}, {'label': 'NOT', 'score': 0.9993330836296082}, {'label': 'NOT', 'score': 0.9994556307792664}, {'label': 'CLICKBAIT', 'score': 0.999293327331543}, {'label': 'CLICKBAIT', 'score': 0.9997467398643494}, {'label': 'NOT', 'score': 0.9993699193000793}, {'label': 'CLICKBAIT', 'score': 0.9984540939331055}, {'label': 'NOT', 'score': 0.9992771744728088}, {'label': 'NOT', 'score': 0.999128520488739}, {'label': 'NOT', 'score': 0.9992241859436035}, {'label': 'NOT', 'score': 0.9993632435798645}, {'label': 'NOT', 'score': 0.9985696077346802}, {'label': 'NOT', 'score': 0.9985935091972351}, {'label': 'NOT', 'score': 0.9994669556617737}, {'label': 'NOT', 'score': 0.998281717300415}, {'label': 'CLICKBAIT', 'score': 0.9992146492004395}, {'label': 'CLICKBAIT', 'score': 0.9995763897895813}, {'label': 'CLICKBAIT', 'score': 0.9997044205665588}, {'label': 'NOT', 'score': 0.999407172203064}, {'label': 'NOT', 'score': 0.9994432330131531}, {'label': 'CLICKBAIT', 'score': 0.9997001886367798}, {'label': 'NOT', 'score': 0.9994683861732483}, {'label': 'CLICKBAIT', 'score': 0.681381344795227}, {'label': 'CLICKBAIT', 'score': 0.9997604489326477}, {'label': 'NOT', 'score': 0.9989218711853027}, {'label': 'NOT', 'score': 0.9992774128913879}, {'label': 'NOT', 'score': 0.9991310238838196}, {'label': 'NOT', 'score': 0.999284565448761}, {'label': 'NOT', 'score': 0.6832530498504639}, {'label': 'CLICKBAIT', 'score': 0.9997220635414124}, {'label': 'NOT', 'score': 0.9964144229888916}, {'label': 'CLICKBAIT', 'score': 0.9996403455734253}, {'label': 'CLICKBAIT', 'score': 0.9997506737709045}, {'label': 'CLICKBAIT', 'score': 0.9996258020401001}, {'label': 'NOT', 'score': 0.99944669008255}, {'label': 'CLICKBAIT', 'score': 0.9997023940086365}, {'label': 'CLICKBAIT', 'score': 0.9860057830810547}, {'label': 'CLICKBAIT', 'score': 0.9996505975723267}, {'label': 'NOT', 'score': 0.9994015693664551}, {'label': 'NOT', 'score': 0.8076878190040588}, {'label': 'CLICKBAIT', 'score': 0.9892538785934448}, {'label': 'CLICKBAIT', 'score': 0.9997280240058899}, {'label': 'CLICKBAIT', 'score': 0.9997276663780212}, {'label': 'CLICKBAIT', 'score': 0.9996622800827026}, {'label': 'CLICKBAIT', 'score': 0.9997404217720032}, {'label': 'CLICKBAIT', 'score': 0.9997361302375793}, {'label': 'NOT', 'score': 0.9990383386611938}, {'label': 'CLICKBAIT', 'score': 0.9996211528778076}, {'label': 'CLICKBAIT', 'score': 0.9996799230575562}, {'label': 'CLICKBAIT', 'score': 0.9993707537651062}, {'label': 'CLICKBAIT', 'score': 0.999702513217926}, {'label': 'NOT', 'score': 0.9994910955429077}, {'label': 'NOT', 'score': 0.9867187142372131}, {'label': 'NOT', 'score': 0.999466598033905}, {'label': 'CLICKBAIT', 'score': 0.9980473518371582}, {'label': 'NOT', 'score': 0.9993705153465271}, {'label': 'CLICKBAIT', 'score': 0.9946202039718628}, {'label': 'CLICKBAIT', 'score': 0.9997346997261047}, {'label': 'CLICKBAIT', 'score': 0.9992815852165222}, {'label': 'NOT', 'score': 0.9991636276245117}, {'label': 'NOT', 'score': 0.9994463324546814}, {'label': 'NOT', 'score': 0.9994903802871704}, {'label': 'NOT', 'score': 0.9974119067192078}, {'label': 'NOT', 'score': 0.998408854007721}, {'label': 'NOT', 'score': 0.9969965219497681}, {'label': 'NOT', 'score': 0.9990147352218628}, {'label': 'NOT', 'score': 0.9993454813957214}, {'label': 'CLICKBAIT', 'score': 0.9996969699859619}, {'label': 'CLICKBAIT', 'score': 0.9963167905807495}, {'label': 'NOT', 'score': 0.999279797077179}, {'label': 'NOT', 'score': 0.999016284942627}, {'label': 'CLICKBAIT', 'score': 0.9990789890289307}, {'label': 'CLICKBAIT', 'score': 0.9997009038925171}, {'label': 'CLICKBAIT', 'score': 0.9997568726539612}, {'label': 'CLICKBAIT', 'score': 0.9958107471466064}, {'label': 'NOT', 'score': 0.9992105960845947}, {'label': 'CLICKBAIT', 'score': 0.998769223690033}, {'label': 'CLICKBAIT', 'score': 0.9997428059577942}, {'label': 'CLICKBAIT', 'score': 0.9992998838424683}, {'label': 'NOT', 'score': 0.999476969242096}, {'label': 'NOT', 'score': 0.9983413219451904}, {'label': 'CLICKBAIT', 'score': 0.9996285438537598}, {'label': 'NOT', 'score': 0.9967946410179138}, {'label': 'NOT', 'score': 0.999110758304596}, {'label': 'NOT', 'score': 0.9993947744369507}, {'label': 'NOT', 'score': 0.9993591904640198}, {'label': 'CLICKBAIT', 'score': 0.9992889165878296}, {'label': 'NOT', 'score': 0.9991515874862671}, {'label': 'CLICKBAIT', 'score': 0.9997194409370422}, {'label': 'CLICKBAIT', 'score': 0.9996356964111328}, {'label': 'NOT', 'score': 0.9994437098503113}, {'label': 'CLICKBAIT', 'score': 0.9997536540031433}, {'label': 'CLICKBAIT', 'score': 0.999721109867096}, {'label': 'CLICKBAIT', 'score': 0.9997206330299377}, {'label': 'NOT', 'score': 0.9994246959686279}, {'label': 'CLICKBAIT', 'score': 0.999579131603241}, {'label': 'NOT', 'score': 0.9988736510276794}, {'label': 'NOT', 'score': 0.9994476437568665}, {'label': 'NOT', 'score': 0.99812251329422}, {'label': 'CLICKBAIT', 'score': 0.9996778964996338}, {'label': 'NOT', 'score': 0.9993910789489746}, {'label': 'NOT', 'score': 0.9994601607322693}, {'label': 'CLICKBAIT', 'score': 0.9995476603507996}, {'label': 'NOT', 'score': 0.9985514283180237}, {'label': 'CLICKBAIT', 'score': 0.9994966983795166}, {'label': 'CLICKBAIT', 'score': 0.9997377991676331}, {'label': 'CLICKBAIT', 'score': 0.9996296167373657}, {'label': 'CLICKBAIT', 'score': 0.999738872051239}, {'label': 'NOT', 'score': 0.999233603477478}, {'label': 'NOT', 'score': 0.9993971586227417}, {'label': 'CLICKBAIT', 'score': 0.9996623992919922}, {'label': 'CLICKBAIT', 'score': 0.9997292160987854}, {'label': 'CLICKBAIT', 'score': 0.9997426867485046}, {'label': 'NOT', 'score': 0.9994727969169617}, {'label': 'CLICKBAIT', 'score': 0.9996778964996338}, {'label': 'NOT', 'score': 0.999446451663971}, {'label': 'CLICKBAIT', 'score': 0.9995618462562561}, {'label': 'NOT', 'score': 0.9993719458580017}, {'label': 'CLICKBAIT', 'score': 0.9996927976608276}, {'label': 'CLICKBAIT', 'score': 0.9996415376663208}, {'label': 'NOT', 'score': 0.9991942048072815}, {'label': 'CLICKBAIT', 'score': 0.9997355341911316}, {'label': 'NOT', 'score': 0.9994145631790161}, {'label': 'NOT', 'score': 0.993739128112793}, {'label': 'NOT', 'score': 0.9989845156669617}, {'label': 'CLICKBAIT', 'score': 0.9997264742851257}, {'label': 'CLICKBAIT', 'score': 0.9996370077133179}, {'label': 'CLICKBAIT', 'score': 0.9997316002845764}, {'label': 'NOT', 'score': 0.998884379863739}, {'label': 'NOT', 'score': 0.9993935823440552}, {'label': 'NOT', 'score': 0.99912029504776}, {'label': 'CLICKBAIT', 'score': 0.999735414981842}, {'label': 'CLICKBAIT', 'score': 0.9997259974479675}, {'label': 'NOT', 'score': 0.9994113445281982}, {'label': 'NOT', 'score': 0.9980301260948181}, {'label': 'NOT', 'score': 0.9706685543060303}, {'label': 'CLICKBAIT', 'score': 0.9997678399085999}, {'label': 'NOT', 'score': 0.9994404911994934}, {'label': 'NOT', 'score': 0.9993632435798645}, {'label': 'CLICKBAIT', 'score': 0.9996455907821655}, {'label': 'CLICKBAIT', 'score': 0.9822816848754883}, {'label': 'NOT', 'score': 0.9991832375526428}, {'label': 'CLICKBAIT', 'score': 0.9993842840194702}, {'label': 'CLICKBAIT', 'score': 0.9996610879898071}, {'label': 'NOT', 'score': 0.9982762336730957}, {'label': 'CLICKBAIT', 'score': 0.9995775818824768}, {'label': 'CLICKBAIT', 'score': 0.9993962049484253}, {'label': 'NOT', 'score': 0.9993253946304321}, {'label': 'NOT', 'score': 0.999438464641571}, {'label': 'CLICKBAIT', 'score': 0.9908547401428223}, {'label': 'NOT', 'score': 0.9981143474578857}, {'label': 'CLICKBAIT', 'score': 0.9995474219322205}, {'label': 'NOT', 'score': 0.9989412426948547}, {'label': 'NOT', 'score': 0.9993564486503601}, {'label': 'CLICKBAIT', 'score': 0.9997132420539856}, {'label': 'NOT', 'score': 0.9993299245834351}, {'label': 'NOT', 'score': 0.9994673132896423}, {'label': 'NOT', 'score': 0.9993700385093689}, {'label': 'CLICKBAIT', 'score': 0.9997355341911316}, {'label': 'NOT', 'score': 0.9994729161262512}, {'label': 'NOT', 'score': 0.9994218349456787}, {'label': 'CLICKBAIT', 'score': 0.9997178912162781}, {'label': 'NOT', 'score': 0.9992679953575134}, {'label': 'CLICKBAIT', 'score': 0.9986020922660828}, {'label': 'NOT', 'score': 0.998939573764801}, {'label': 'NOT', 'score': 0.9966087341308594}, {'label': 'NOT', 'score': 0.9968547821044922}, {'label': 'CLICKBAIT', 'score': 0.9591009020805359}, {'label': 'NOT', 'score': 0.9991194605827332}, {'label': 'NOT', 'score': 0.9102133512496948}, {'label': 'NOT', 'score': 0.9992780089378357}, {'label': 'CLICKBAIT', 'score': 0.9032449126243591}, {'label': 'NOT', 'score': 0.9908340573310852}, {'label': 'NOT', 'score': 0.9990691542625427}, {'label': 'CLICKBAIT', 'score': 0.9996799230575562}, {'label': 'CLICKBAIT', 'score': 0.9996212720870972}, {'label': 'CLICKBAIT', 'score': 0.9997101426124573}, {'label': 'NOT', 'score': 0.9978487491607666}, {'label': 'NOT', 'score': 0.9993290901184082}, {'label': 'NOT', 'score': 0.9993447661399841}, {'label': 'NOT', 'score': 0.9986897110939026}, {'label': 'CLICKBAIT', 'score': 0.9995149374008179}, {'label': 'CLICKBAIT', 'score': 0.9423831105232239}, {'label': 'CLICKBAIT', 'score': 0.9992613196372986}, {'label': 'CLICKBAIT', 'score': 0.9986405968666077}, {'label': 'NOT', 'score': 0.9989641904830933}, {'label': 'CLICKBAIT', 'score': 0.9566676020622253}, {'label': 'CLICKBAIT', 'score': 0.9995809197425842}, {'label': 'CLICKBAIT', 'score': 0.9997418522834778}, {'label': 'NOT', 'score': 0.9989927411079407}, {'label': 'CLICKBAIT', 'score': 0.7870045304298401}, {'label': 'CLICKBAIT', 'score': 0.9996780157089233}, {'label': 'CLICKBAIT', 'score': 0.9996993541717529}, {'label': 'CLICKBAIT', 'score': 0.9997279047966003}, {'label': 'NOT', 'score': 0.9992947578430176}, {'label': 'NOT', 'score': 0.9993269443511963}, {'label': 'CLICKBAIT', 'score': 0.9997363686561584}, {'label': 'CLICKBAIT', 'score': 0.9997091889381409}, {'label': 'NOT', 'score': 0.9982911944389343}, {'label': 'NOT', 'score': 0.9991832375526428}, {'label': 'CLICKBAIT', 'score': 0.9995135068893433}, {'label': 'CLICKBAIT', 'score': 0.9967103004455566}, {'label': 'CLICKBAIT', 'score': 0.9919165968894958}, {'label': 'CLICKBAIT', 'score': 0.9996950626373291}, {'label': 'NOT', 'score': 0.9993281364440918}, {'label': 'NOT', 'score': 0.9989413619041443}, {'label': 'CLICKBAIT', 'score': 0.9996753931045532}, {'label': 'CLICKBAIT', 'score': 0.999703586101532}, {'label': 'CLICKBAIT', 'score': 0.9994224309921265}, {'label': 'CLICKBAIT', 'score': 0.9996082186698914}, {'label': 'NOT', 'score': 0.9994159936904907}, {'label': 'NOT', 'score': 0.999078631401062}, {'label': 'NOT', 'score': 0.9994617104530334}, {'label': 'CLICKBAIT', 'score': 0.9992863535881042}, {'label': 'CLICKBAIT', 'score': 0.9994493126869202}, {'label': 'NOT', 'score': 0.9989938139915466}, {'label': 'CLICKBAIT', 'score': 0.9991816878318787}, {'label': 'NOT', 'score': 0.9994491934776306}, {'label': 'NOT', 'score': 0.9993765950202942}, {'label': 'NOT', 'score': 0.9993906021118164}, {'label': 'CLICKBAIT', 'score': 0.9942820072174072}, {'label': 'CLICKBAIT', 'score': 0.9968173503875732}, {'label': 'CLICKBAIT', 'score': 0.9996229410171509}, {'label': 'NOT', 'score': 0.9993404746055603}, {'label': 'NOT', 'score': 0.9965251088142395}, {'label': 'NOT', 'score': 0.9993815422058105}, {'label': 'NOT', 'score': 0.9970476031303406}, {'label': 'CLICKBAIT', 'score': 0.999667763710022}, {'label': 'CLICKBAIT', 'score': 0.9781883955001831}, {'label': 'CLICKBAIT', 'score': 0.9997584223747253}, {'label': 'NOT', 'score': 0.9974231719970703}, {'label': 'CLICKBAIT', 'score': 0.9997237324714661}, {'label': 'NOT', 'score': 0.9994120597839355}, {'label': 'CLICKBAIT', 'score': 0.999405026435852}, {'label': 'CLICKBAIT', 'score': 0.9995303153991699}, {'label': 'CLICKBAIT', 'score': 0.9996806383132935}, {'label': 'NOT', 'score': 0.9994207620620728}, {'label': 'NOT', 'score': 0.9957965612411499}, {'label': 'CLICKBAIT', 'score': 0.9997561573982239}, {'label': 'NOT', 'score': 0.9991176724433899}, {'label': 'NOT', 'score': 0.9988378882408142}, {'label': 'NOT', 'score': 0.9993815422058105}, {'label': 'NOT', 'score': 0.7595066428184509}, {'label': 'NOT', 'score': 0.9989703893661499}, {'label': 'NOT', 'score': 0.9991243481636047}, {'label': 'CLICKBAIT', 'score': 0.9997168183326721}, {'label': 'NOT', 'score': 0.9987130165100098}, {'label': 'NOT', 'score': 0.9982097148895264}, {'label': 'CLICKBAIT', 'score': 0.9991430044174194}, {'label': 'NOT', 'score': 0.9867954254150391}, {'label': 'CLICKBAIT', 'score': 0.9996806383132935}, {'label': 'NOT', 'score': 0.9988440275192261}, {'label': 'NOT', 'score': 0.9976441264152527}, {'label': 'NOT', 'score': 0.9990536570549011}, {'label': 'NOT', 'score': 0.9986236095428467}, {'label': 'CLICKBAIT', 'score': 0.9993717074394226}, {'label': 'NOT', 'score': 0.9994361996650696}, {'label': 'NOT', 'score': 0.9979873895645142}, {'label': 'CLICKBAIT', 'score': 0.9996989965438843}, {'label': 'NOT', 'score': 0.9991530179977417}, {'label': 'NOT', 'score': 0.9994465708732605}, {'label': 'NOT', 'score': 0.9992434978485107}, {'label': 'NOT', 'score': 0.9993502497673035}, {'label': 'CLICKBAIT', 'score': 0.9996017813682556}, {'label': 'NOT', 'score': 0.9992247819900513}, {'label': 'NOT', 'score': 0.9993995428085327}, {'label': 'CLICKBAIT', 'score': 0.9996446371078491}, {'label': 'CLICKBAIT', 'score': 0.9995768666267395}]\n",
            "[1, 1, 0, 0, 1, 1, 0, 1, 1, 0, 1, 1, 1, 1, 0, 1, 0, 0, 0, 0, 1, 0, 1, 1, 0, 1, 0, 1, 0, 1, 0, 1, 0, 1, 1, 1, 1, 1, 1, 1, 0, 0, 1, 0, 0, 1, 0, 0, 1, 1, 0, 0, 1, 0, 0, 0, 0, 1, 0, 1, 0, 1, 1, 1, 1, 0, 1, 0, 0, 1, 1, 0, 1, 1, 1, 0, 1, 0, 0, 1, 0, 0, 0, 0, 1, 1, 1, 1, 1, 0, 1, 0, 0, 1, 1, 1, 1, 0, 1, 0, 1, 0, 1, 1, 0, 0, 0, 0, 0, 1, 1, 0, 1, 0, 1, 1, 1, 0, 0, 1, 0, 0, 1, 1, 0, 1, 1, 1, 1, 1, 0, 0, 1, 1, 1, 1, 1, 1, 1, 1, 0, 1, 1, 1, 1, 1, 0, 0, 1, 1, 1, 0, 0, 0, 1, 1, 0, 1, 1, 0, 0, 1, 1, 0, 0, 1, 0, 1, 0, 0, 1, 0, 1, 0, 0, 1, 0, 0, 1, 0, 0, 0, 1, 0, 1, 1, 1, 0, 0, 1, 0, 0, 0, 1, 1, 0, 0, 0, 0, 1, 1, 1, 0, 0, 1, 1, 1, 1, 0, 1, 1, 1, 0, 1, 1, 1, 0, 0, 1, 1, 1, 1, 0, 1, 0, 0, 0, 1, 1, 0, 0, 1, 1, 1, 0, 0, 0, 0, 0, 1, 1, 0, 1, 0, 0, 0, 1, 0, 1, 1, 0, 0, 1, 0, 0, 1, 1, 1, 0, 0, 0, 1, 1, 0, 0, 0, 0, 1, 0, 1, 1, 0, 1, 0, 1, 0, 1, 0, 1, 0, 1, 1, 1, 1, 1, 0, 1, 1, 1, 0, 0, 0, 0, 0, 1, 0, 1, 1, 0, 1, 0, 1, 0, 0, 0, 1, 1, 0, 0, 0, 1, 1, 0, 1, 1, 0, 0, 0, 1, 1, 0, 0, 0, 1, 1, 0, 0, 0, 0, 0, 0, 0, 1, 1, 1, 1, 1, 0, 0, 1, 0, 0, 1, 0, 1, 0, 0, 1, 1, 1, 1, 1, 1, 0, 0, 1, 0, 1, 1, 1, 1, 1, 0, 0, 1, 1, 1, 0, 1, 1, 0, 0, 0, 0, 0, 0, 1, 0, 1, 0, 1, 1, 0, 0, 1, 0, 0, 0, 0, 1, 1, 1, 0, 1, 1, 1, 0, 0, 1, 1, 1, 0, 0, 1, 0, 1, 0, 0, 0, 1, 1, 1, 1, 1, 1, 1, 0, 0, 0, 1, 0, 0, 0, 1, 0, 0, 1, 1, 1, 0, 0, 0, 1, 0, 1, 0, 0, 1, 1, 1, 0, 1, 0, 1, 1, 1, 0, 1, 1, 1, 1, 1, 1, 0, 0, 0, 1, 0, 1, 1, 0, 1, 1, 1, 1, 1, 0, 0, 0, 0, 1, 1, 0, 0, 0, 0, 1, 1, 0, 1, 0, 0, 1, 0, 1, 1, 1, 0, 1, 1, 0, 1, 1, 0, 0, 1, 0, 1, 1, 1, 0, 0, 0, 0, 1, 0, 1, 0, 0, 0, 0, 0, 0, 1, 0, 1, 1, 1, 0, 1, 0, 1, 0, 1, 1, 0, 1, 0, 1, 1, 0, 1, 1, 1, 0, 0, 0, 0, 1, 1, 0, 0, 0, 0, 1, 1, 1, 0, 1, 0, 1, 0, 0, 0, 0, 1, 0, 0, 1, 1, 1, 0, 0, 1, 0, 0, 1, 0, 0, 0, 1, 1, 1, 0, 1, 0, 0, 0, 0, 0, 0, 0, 1, 0, 1, 1, 1, 1, 0, 1, 1, 1, 0, 0, 1, 1, 0, 1, 1, 1, 1, 1, 0, 1, 0, 0, 1, 1, 0, 1, 0, 0, 0, 0, 0, 1, 1, 0, 1, 1, 1, 1, 0, 0, 0, 1, 1, 0, 1, 0, 0, 1, 1, 0, 1, 1, 1, 1, 1, 1, 0, 1, 0, 0, 1, 1, 0, 0, 0, 1, 1, 0, 1, 0, 1, 1, 1, 1, 1, 0, 0, 1, 1, 0, 0, 1, 1, 0, 0, 0, 1, 1, 0, 1, 1, 0, 1, 0, 0, 1, 0, 1, 1, 0, 0, 0, 1, 0, 1, 0, 0, 0, 1, 1, 1, 1, 1, 1, 0, 0, 0, 0, 1, 0, 1, 1, 0, 1, 1, 0, 0, 1, 0, 1, 1, 1, 0, 1, 0, 0, 0, 0, 0, 0, 0, 0, 1, 0, 1, 0, 0, 1, 1, 1, 1, 0, 0, 0, 1, 1, 0, 1, 0, 0, 1, 0, 0, 0, 0, 1, 1, 0, 0, 0, 0, 0, 1, 0, 1, 0, 0, 0, 0, 1, 0, 1, 1, 0, 1, 1, 1, 1, 0, 1, 1, 0, 0, 0, 1, 0, 1, 1, 0, 0, 0, 1, 1, 0, 0, 0, 1, 0, 1, 0, 1, 1, 1, 1, 0, 0, 0, 0, 0, 0, 0, 1, 0, 1, 1, 0, 0, 1, 1, 1, 0, 1, 1, 1, 1, 1, 0, 1, 0, 1, 0, 1, 0, 0, 1, 1, 1, 0, 0, 1, 0, 0, 0, 0, 0, 1, 1, 1, 1, 1, 0, 0, 1, 1, 0, 1, 0, 1, 1, 0, 0, 1, 1, 0, 1, 0, 0, 1, 0, 0, 0, 1, 0, 0, 1, 0, 0, 0, 0, 1, 1, 1, 1, 1, 0, 1, 0, 1, 1, 0, 1, 1, 0, 1, 0, 1, 1, 0, 1, 0, 1, 1, 0, 0, 0, 0, 0, 0, 0, 0, 0, 1, 0, 0, 0, 0, 1, 1, 0, 1, 0, 0, 0, 1, 0, 1, 0, 0, 0, 0, 0, 0, 1, 0, 1, 0, 0, 1, 1, 0, 0, 0, 1, 1, 1, 0, 0, 1, 1, 1, 1, 0, 0, 0, 0, 1, 0, 0, 1, 0, 0, 0, 1, 0, 0, 0, 1, 1, 1, 1, 1, 1, 1, 0, 1, 1, 1, 1, 1, 1, 1, 1, 1, 0, 0, 1, 1, 1, 0, 0, 0, 0, 1, 0, 1, 1, 0, 0, 0, 0, 0, 0, 1, 0, 1, 0, 1, 1, 0, 1, 1, 0, 1, 1, 1, 1, 1, 1, 0, 0, 0, 0, 1, 1, 0, 1, 1, 0, 1, 1, 1, 1, 1, 0, 1, 0, 0, 0, 1, 1, 0, 0, 1, 1, 0, 1, 0, 0, 0, 1, 0, 1, 1, 1, 1, 1, 0, 1, 1, 0, 1, 1, 0, 1, 0, 0, 1, 0, 1, 0, 1, 0, 1, 1, 1, 0, 0, 1, 1, 1, 0, 1, 0, 1, 0, 0, 0, 0, 1, 1, 1, 0, 1, 1, 1, 0, 0, 0, 0, 0, 0, 0, 1, 0, 1, 1, 0, 1, 0, 0, 0, 0, 0, 0, 0, 0, 1, 1, 0, 1, 0, 0, 0, 0, 0, 0, 0, 0, 1, 0, 0, 0, 0, 1, 1, 1, 0, 1, 1, 0, 0, 1, 0, 1, 1, 1, 0, 0, 1, 0, 0, 1, 1, 0, 0, 0, 1, 0, 0, 0, 0, 1, 0, 1, 0, 0, 0, 1, 0, 1, 0, 1, 1, 1, 0, 1, 1, 1, 1, 0, 0, 0, 1, 1, 1, 0, 0, 0, 0, 0, 1, 0, 1, 0, 0, 0, 1, 1, 0, 0, 0, 0, 1, 1, 0, 0, 1, 1, 0, 1, 0, 1, 1, 1, 0, 0, 0, 0, 0, 1, 1, 0, 1, 1, 0, 1, 0, 1, 0, 0, 1, 0, 1, 1, 0, 0, 1, 0, 1, 1, 1, 1, 0, 0, 1, 1, 1, 0, 1, 1, 0, 0, 1, 1, 0, 0, 0, 1, 0, 0, 0, 0, 0, 0, 1, 1, 1, 1, 1, 1, 0, 1, 0, 1, 1, 1, 0, 1, 1, 0, 1, 0, 1, 1, 0, 0, 0, 0, 1, 1, 1, 0, 0, 0, 1, 1, 0, 0, 1, 1, 0, 0, 1, 1, 0, 0, 1, 0, 0, 1, 1, 1, 1, 1, 1, 1, 0, 0, 1, 0, 1, 0, 1, 1, 1, 0, 0, 1, 0, 1, 1, 0, 1, 0, 0, 1, 0, 0, 0, 1, 0, 1, 1, 0, 1, 1, 0, 1, 0, 0, 1, 0, 1, 1, 1, 1, 0, 1, 0, 1, 0, 1, 0, 1, 0, 1, 0, 1, 1, 0, 0, 1, 0, 1, 0, 0, 0, 1, 1, 1, 1, 0, 0, 1, 1, 1, 1, 1, 0, 1, 1, 0, 1, 0, 1, 0, 1, 0, 0, 1, 0, 0, 1, 1, 1, 1, 1, 1, 1, 1, 1, 1, 0, 0, 1, 0, 1, 0, 1, 0, 0, 1, 1, 1, 0, 0, 0, 1, 0, 0, 1, 0, 1, 1, 0, 0, 1, 0, 0, 1, 1, 0, 0, 0, 1, 0, 0, 1, 0, 0, 1, 0, 1, 1, 1, 0, 0, 1, 0, 0, 1, 0, 1, 1, 1, 0, 1, 1, 1, 1, 0, 0, 0, 1, 1, 0, 1, 0, 0, 0, 1, 1, 1, 0, 1, 1, 1, 1, 0, 0, 1, 0, 0, 0, 1, 1, 0, 1, 0, 0, 0, 0, 1, 0, 1, 0, 1, 0, 1, 1, 1, 1, 0, 1, 1, 0, 1, 0, 0, 1, 0, 0, 0, 1, 0, 1, 0, 0, 1, 0, 0, 1, 1, 1, 0, 0, 1, 1, 1, 1, 0, 1, 1, 1, 0, 0, 0, 0, 0, 0, 1, 1, 0, 0, 0, 0, 1, 1, 1, 0, 0, 1, 0, 1, 1, 0, 1, 1, 1, 0, 1, 0, 1, 1, 1, 0, 0, 0, 1, 1, 1, 0, 0, 0, 0, 0, 1, 0, 1, 0, 0, 1, 1, 0, 1, 1, 1, 1, 1, 0, 0, 1, 1, 1, 0, 0, 1, 1, 0, 0, 1, 1, 1, 0, 1, 0, 1, 1, 1, 0, 0, 1, 0, 1, 1, 1, 1, 1, 1, 1, 0, 1, 0, 1, 0, 0, 0, 0, 1, 1, 0, 1, 0, 1, 1, 0, 1, 0, 0, 0, 0, 0, 0, 0, 0, 0, 0, 0, 0, 1, 0, 0, 1, 0, 0, 0, 0, 0, 0, 0, 0, 1, 1, 0, 0, 0, 0, 0, 1, 1, 0, 0, 0, 1, 1, 1, 0, 0, 1, 0, 0, 1, 1, 0, 1, 0, 0, 0, 1, 1, 1, 0, 0, 1, 1, 1, 1, 1, 1, 1, 0, 1, 0, 0, 0, 0, 1, 0, 0, 0, 1, 0, 0, 1, 1, 0, 1, 0, 0, 1, 0, 1, 0, 0, 0, 0, 1, 1, 1, 1, 1, 1, 0, 0, 1, 1, 1, 1, 0, 1, 1, 1, 1, 0, 1, 0, 0, 1, 1, 1, 1, 0, 1, 0, 1, 1, 1, 1, 0, 0, 1, 0, 1, 1, 1, 0, 0, 0, 0, 1, 0, 0, 0, 1, 1, 0, 0, 0, 0, 0, 0, 1, 0, 1, 1, 0, 1, 0, 1, 0, 1, 1, 0, 1, 0, 1, 0, 1, 0, 0, 1, 0, 1, 1, 1, 0, 1, 0, 0, 1, 0, 1, 1, 0, 1, 1, 1, 0, 1, 1, 0, 1, 0, 0, 0, 0, 1, 0, 1, 1, 0, 1, 1, 1, 1, 1, 1, 0, 0, 1, 0, 1, 0, 0, 1, 1, 0, 0, 1, 0, 1, 1, 1, 1, 1, 1, 1, 1, 1, 1, 1, 0, 1, 0, 0, 1, 1, 1, 0, 0, 0, 1, 0, 1, 0, 0, 1, 0, 0, 1, 0, 1, 0, 1, 0, 1, 1, 0, 1, 0, 0, 1, 0, 0, 0, 1, 1, 1, 0, 0, 0, 0, 0, 1, 1, 0, 0, 1, 0, 0, 0, 1, 0, 0, 1, 1, 1, 1, 1, 1, 1, 0, 1, 1, 0, 1, 1, 0, 1, 1, 0, 1, 1, 0, 1, 1, 1, 1, 1, 0, 1, 0, 1, 1, 1, 1, 0, 1, 1, 1, 0, 0, 0, 0, 0, 1, 1, 0, 0, 0, 1, 0, 0, 0, 0, 1, 0, 1, 0, 1, 0, 0, 0, 0, 1, 1, 1, 0, 0, 1, 1, 1, 0, 1, 1, 1, 1, 0, 0, 0, 0, 1, 0, 0, 1, 0, 0, 1, 1, 0, 0, 0, 0, 1, 0, 1, 1, 0, 0, 1, 0, 1, 0, 0, 1, 1, 0, 1, 0, 0, 0, 1, 0, 1, 0, 0, 1, 1, 1, 0, 0, 0, 1, 0, 0, 1, 1, 0, 1, 1, 1, 1, 0, 1, 0, 0, 1, 1, 1, 0, 1, 0, 0, 1, 1, 1, 1, 0, 0, 0, 1, 1, 1, 1, 0, 0, 0, 0, 1, 1, 1, 1, 0, 1, 1, 0, 1, 0, 1, 0, 0, 1, 1, 0, 0, 0, 0, 0, 1, 0, 1, 0, 1, 0, 0, 0, 0, 0, 1, 1, 0, 1, 0, 0, 1, 1, 0, 0, 0, 0, 1, 1, 1, 0, 1, 0, 0, 0, 0, 0, 0, 1, 1, 0, 0, 0, 0, 1, 0, 1, 1, 1, 0, 1, 0, 1, 1, 1, 1, 1, 1, 0, 1, 1, 0, 0, 0, 0, 0, 0, 1, 1, 1, 0, 1, 0, 0, 0, 1, 0, 1, 1, 1, 1, 1, 0, 1, 0, 0, 1, 1, 1, 0, 0, 0, 1, 1, 0, 1, 1, 0, 1, 0, 0, 1, 1, 1, 1, 1, 1, 0, 0, 0, 0, 0, 0, 1, 0, 1, 0, 0, 0, 0, 0, 1, 1, 0, 1, 1, 1, 0, 1, 0, 1, 0, 0, 1, 0, 1, 1, 1, 0, 1, 0, 1, 1, 1, 1, 0, 0, 0, 0, 0, 1, 0, 1, 1, 0, 0, 1, 1, 1, 0, 1, 0, 0, 1, 0, 1, 0, 1, 0, 0, 1, 0, 1, 1, 1, 0, 0, 1, 0, 1, 1, 1, 0, 0, 1, 0, 1, 0, 0, 1, 0, 1, 1, 0, 1, 1, 1, 0, 1, 0, 1, 1, 0, 1, 1, 0, 0, 1, 0, 1, 0, 0, 0, 0, 1, 0, 0, 1, 1, 0, 0, 1, 0, 1, 0, 0, 1, 1, 0, 0, 0, 0, 0, 1, 1, 0, 1, 1, 0, 0, 1, 0, 1, 1, 0, 1, 1, 0, 1, 0, 1, 0, 1, 1, 1, 1, 0, 0, 1, 1, 1, 1, 0, 0, 0, 0, 1, 1, 1, 0, 0, 1, 1, 1, 1, 0, 0, 1, 1, 1, 0, 0, 0, 1, 1, 1, 0, 1, 0, 1, 1, 0, 1, 0, 1, 1, 1, 1, 0, 1, 1, 0, 1, 0, 1, 0, 0, 1, 0, 0, 1, 1, 0, 1, 0, 1, 0, 0, 0, 0, 0, 0, 0, 0, 1, 1, 0, 0, 1, 0, 1, 0, 0, 1, 0, 1, 1, 0, 0, 0, 1, 0, 1, 1, 0, 0, 1, 0, 0, 1, 0, 0, 0, 1, 1, 1, 0, 1, 1, 0, 1, 0, 0, 1, 1, 1, 1, 0, 1, 1, 1, 0, 1, 1, 0, 0, 1, 1, 0, 0, 1, 0, 0, 0, 0, 1, 0, 0, 0, 1, 0, 0, 0, 0, 1, 0, 1, 0, 0, 1, 1, 0, 1, 0, 0, 0, 0, 1, 1, 0, 1, 0, 0, 0, 1, 1, 1, 1, 1, 1, 0, 1, 0, 0, 0, 1, 0, 0, 1, 0, 0, 1, 1, 0, 1, 1, 0, 1, 0, 0, 1, 1, 0, 1, 1, 0, 1, 0, 0, 0, 1, 1, 0, 1, 1, 1, 0, 1, 1, 1, 0, 0, 0, 1, 0, 1, 1, 1, 1, 1, 1, 1, 1, 1, 0, 1, 0, 1, 1, 1, 0, 0, 0, 1, 0, 1, 1, 1, 1, 1, 0, 1, 1, 1, 1, 0, 1, 1, 0, 0, 1, 0, 0, 0, 1, 1, 0, 1, 0, 0, 1, 0, 1, 0, 1, 0, 0, 0, 0, 1, 1, 0, 0, 0, 0, 0, 0, 0, 0, 1, 0, 1, 1, 0, 1, 0, 1, 1, 1, 1, 1, 0, 0, 1, 0, 0, 0, 1, 0, 0, 0, 1, 0, 1, 0, 1, 0, 1, 1, 1, 0, 0, 1, 1, 1, 0, 1, 0, 0, 1, 1, 0, 1, 0, 0, 0, 0, 0, 1, 1, 0, 1, 1, 0, 1, 0, 1, 1, 1, 1, 0, 1, 1, 1, 0, 0, 1, 0, 1, 0, 1, 1, 0, 1, 1, 1, 1, 0, 0, 0, 0, 0, 1, 1, 1, 1, 1, 0, 1, 1, 1, 0, 0, 1, 0, 0, 1, 1, 1, 1, 0, 1, 1, 0, 1, 1, 0, 0, 0, 1, 0, 0, 0, 1, 1, 1, 0, 1, 1, 1, 1, 0, 1, 1, 1, 0, 0, 1, 1, 1, 1, 1, 1, 1, 0, 0, 1, 0, 1, 1, 0, 0, 1, 0, 0, 0, 0, 0, 1, 0, 1, 1, 1, 1, 0, 0, 0, 0, 1, 0, 1, 1, 0, 0, 0, 0, 0, 1, 0, 0, 1, 0, 0, 1, 0, 0, 1, 0, 0, 1, 1, 0, 0, 0, 0, 1, 0, 1, 1, 1, 1, 0, 1, 0, 0, 0, 1, 1, 1, 1, 0, 1, 1, 0, 1, 0, 0, 1, 1, 1, 1, 1, 1, 0, 0, 1, 0, 0, 0, 0, 1, 1, 1, 0, 0, 0, 1, 1, 0, 0, 1, 0, 0, 0, 0, 1, 0, 0, 0, 1, 1, 0, 0, 0, 1, 0, 0, 0, 0, 0, 1, 0, 1, 0, 0, 0, 0, 1, 0, 0, 0, 1, 1, 1, 0, 0, 1, 0, 1, 1, 1, 0, 0, 0, 0, 1, 0, 1, 1, 1, 0, 1, 0, 1, 1, 0, 0, 1, 1, 1, 0, 0, 0, 1, 0, 0, 0, 1, 0, 1, 0, 0, 0, 0, 0, 1, 1, 0, 0, 0, 0, 1, 1, 0, 0, 1, 0, 1, 1, 0, 0, 0, 0, 1, 0, 0, 1, 0, 0, 0, 0, 1, 0, 1, 1, 1, 0, 0, 0, 0, 0, 1, 1, 1, 1, 1, 0, 0, 0, 0, 1, 1, 1, 1, 1, 1, 0, 1, 0, 0, 0, 1, 1, 1, 1, 1, 0, 1, 1, 1, 0, 0, 0, 0, 0, 1, 1, 0, 0, 0, 0, 0, 0, 1, 1, 1, 0, 1, 1, 0, 0, 0, 1, 0, 0, 1, 0, 0, 0, 1, 1, 1, 0, 0, 1, 0, 1, 1, 1, 0, 0, 0, 0, 1, 0, 1, 0, 1, 0, 1, 0, 0, 1, 1, 1, 1, 1, 0, 0, 0, 0, 1, 0, 1, 0, 0, 0, 0, 0, 0, 1, 1, 0, 1, 1, 1, 1, 1, 0, 1, 0, 0, 1, 0, 0, 0, 1, 0, 1, 0, 0, 0, 1, 1, 1, 1, 1, 1, 0, 0, 0, 0, 0, 0, 0, 1, 1, 0, 0, 1, 1, 1, 0, 0, 1, 0, 0, 1, 0, 1, 0, 0, 0, 1, 0, 0, 0, 1, 0, 1, 1, 0, 1, 0, 0, 0, 1, 1, 1, 0, 1, 1, 1, 0, 0, 1, 0, 1, 1, 0, 0, 1, 0, 0, 0, 0, 1, 1, 1, 1, 1, 1, 1, 0, 1, 0, 1, 1, 0, 0, 1, 1, 0, 1, 1, 0, 0, 0, 0, 0, 0, 0, 0, 0, 1, 0, 1, 0, 0, 0, 1, 1, 1, 1, 1, 1, 0, 0, 0, 1, 1, 1, 0, 1, 0, 1, 1, 1, 1, 0, 1, 0, 0, 1, 1, 0, 1, 1, 0, 0, 0, 1, 1, 0, 0, 1, 0, 1, 1, 1, 0, 1, 0, 0, 1, 1, 0, 0, 0, 1, 1, 1, 1, 0, 0, 0, 1, 1, 0, 1, 0, 0, 1, 0, 0, 1, 0, 1, 0, 0, 0, 0, 0, 1, 1, 1, 0, 0, 1, 0, 0, 0, 1, 0, 0, 0, 1, 0, 0, 1, 0, 0, 1, 1, 1, 1, 1, 0, 1, 0, 0, 0, 0, 1, 1, 0, 0, 1, 1, 1, 0, 0, 0, 0, 1, 0, 0, 0, 1, 0, 1, 1, 1, 0, 0, 1, 0, 0, 1, 1, 0, 1, 0, 0, 0, 0, 0, 0, 0, 0, 1, 1, 1, 0, 0, 1, 0, 1, 1, 0, 0, 0, 0, 0, 1, 0, 1, 1, 1, 0, 1, 1, 1, 0, 0, 1, 1, 1, 1, 1, 1, 0, 1, 1, 1, 1, 0, 0, 0, 1, 0, 1, 1, 1, 0, 0, 0, 0, 0, 0, 0, 0, 1, 1, 0, 0, 1, 1, 1, 1, 0, 1, 1, 1, 0, 0, 1, 0, 0, 0, 0, 1, 0, 1, 1, 0, 1, 1, 1, 0, 1, 0, 0, 0, 1, 0, 0, 1, 0, 1, 1, 1, 1, 0, 0, 1, 1, 1, 0, 1, 0, 1, 0, 1, 1, 0, 1, 0, 0, 0, 1, 1, 1, 0, 0, 0, 1, 1, 0, 0, 0, 1, 0, 0, 1, 1, 0, 1, 1, 0, 1, 1, 0, 0, 1, 0, 1, 0, 0, 1, 0, 0, 0, 1, 0, 0, 1, 0, 1, 0, 0, 0, 1, 0, 0, 0, 1, 0, 0, 1, 1, 1, 0, 0, 0, 0, 1, 1, 1, 1, 0, 1, 1, 1, 0, 1, 1, 1, 1, 0, 0, 1, 1, 0, 0, 1, 1, 1, 1, 0, 0, 1, 1, 1, 1, 0, 0, 0, 1, 1, 0, 1, 0, 0, 0, 1, 1, 1, 0, 0, 0, 0, 1, 1, 1, 0, 1, 0, 1, 1, 1, 0, 0, 1, 0, 0, 0, 0, 0, 0, 1, 0, 0, 1, 0, 1, 0, 0, 0, 0, 1, 0, 0, 1, 0, 0, 0, 0, 1, 0, 0, 1, 1]\n"
          ]
        }
      ]
    },
    {
      "cell_type": "code",
      "source": [
        "#referenced from https://towardsdatascience.com/practical-introduction-to-transformer-models-bert-4715ed0deede\n",
        "import matplotlib.pyplot as plt\n",
        "\n",
        "#create a confusion matrix and show it, comparing the test set's labels and the predicted labels\n",
        "cm = confusion_matrix(eval_dataset['label'], predicted_labels)\n",
        "sns.heatmap(cm, annot=True, fmt='d')\n",
        "plt.title('Confusion Matrix')\n",
        "plt.show()"
      ],
      "metadata": {
        "id": "X9SGVCRbaCjm",
        "outputId": "e50f1516-f41e-48bc-9310-a9e27678cde2",
        "colab": {
          "base_uri": "https://localhost:8080/",
          "height": 452
        }
      },
      "execution_count": 53,
      "outputs": [
        {
          "output_type": "display_data",
          "data": {
            "text/plain": [
              "<Figure size 640x480 with 2 Axes>"
            ],
            "image/png": "[encoded data removed]"
          },
          "metadata": {}
        }
      ]
    },
    {
      "cell_type": "markdown",
      "source": [
        "# Resources\n",
        "\n",
        "### If you would like to use this model without running the entire notebook, try the model at my [HuggingFace](https://huggingface.co/wesleyacheng/movie-review-sentiment-classifier-with-bert).\n",
        "\n",
        "### If you woud like to get this in GitHub, here's my [repo](https://github.com/wesleyacheng/movie-review-sentiment-classifier-with-bert)."
      ],
      "metadata": {
        "id": "77tIkhXi6Nbd"
      }
    }
  ]
}